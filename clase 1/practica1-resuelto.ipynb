{
  "nbformat": 4,
  "nbformat_minor": 0,
  "metadata": {
    "colab": {
      "provenance": []
    },
    "kernelspec": {
      "name": "python3",
      "display_name": "Python 3"
    },
    "language_info": {
      "name": "python"
    }
  },
  "cells": [
    {
      "cell_type": "code",
      "execution_count": null,
      "metadata": {
        "id": "pF5pca9-VNat"
      },
      "outputs": [],
      "source": []
    },
    {
      "cell_type": "markdown",
      "source": [],
      "metadata": {
        "id": "nd57opB2rVm4"
      }
    },
    {
      "cell_type": "code",
      "source": [
        "print(\"Hola Mundo\")"
      ],
      "metadata": {
        "colab": {
          "base_uri": "https://localhost:8080/"
        },
        "id": "qrr6VitdWGgs",
        "outputId": "c5bb961f-fa9d-4970-b888-4663e30cfd31"
      },
      "execution_count": null,
      "outputs": [
        {
          "output_type": "stream",
          "name": "stdout",
          "text": [
            "Hola Mundo\n"
          ]
        }
      ]
    },
    {
      "cell_type": "code",
      "source": [],
      "metadata": {
        "id": "yruuCAk5dGNn"
      },
      "execution_count": null,
      "outputs": []
    },
    {
      "cell_type": "code",
      "source": [],
      "metadata": {
        "id": "8HRHiKNhZTLX"
      },
      "execution_count": null,
      "outputs": []
    },
    {
      "cell_type": "code",
      "source": [],
      "metadata": {
        "id": "jvZ1mfDFdKhh"
      },
      "execution_count": null,
      "outputs": []
    },
    {
      "cell_type": "markdown",
      "source": [
        "Practica 1\n"
      ],
      "metadata": {
        "id": "KSa5DAA4c7ck"
      }
    },
    {
      "cell_type": "markdown",
      "source": [
        "Repaso Python"
      ],
      "metadata": {
        "id": "_4R0zDTFp5dc"
      }
    },
    {
      "cell_type": "markdown",
      "source": [
        "ejercicio 1\n"
      ],
      "metadata": {
        "id": "OIwmp9pDdG2y"
      }
    },
    {
      "cell_type": "code",
      "source": [
        "diccionarioPersona = {\"nombre\": \"Martin\", \"apellido\":\"Garcia\", \"apodo\": \"Tincho\", \"edad\":22}\n",
        "print(\"Edad alumno:\", diccionarioPersona[\"nombre\"])\n",
        "print(diccionarioPersona[\"apellido\"])\n",
        "print(diccionarioPersona[\"apodo\"])\n",
        "print(diccionarioPersona[\"edad\"])\n",
        "\n"
      ],
      "metadata": {
        "colab": {
          "base_uri": "https://localhost:8080/"
        },
        "id": "20SSVqvRbtUR",
        "outputId": "33aaa565-8e5e-4204-a79f-a816c507b21e"
      },
      "execution_count": null,
      "outputs": [
        {
          "output_type": "stream",
          "name": "stdout",
          "text": [
            "Edad alumno: Martin\n",
            "Garcia\n",
            "Tincho\n",
            "22\n"
          ]
        }
      ]
    },
    {
      "cell_type": "markdown",
      "source": [],
      "metadata": {
        "id": "Sgwcvzvzk3PB"
      }
    },
    {
      "cell_type": "markdown",
      "source": [
        "ejercicio 2\n"
      ],
      "metadata": {
        "id": "6nHv2h5cdfEp"
      }
    },
    {
      "cell_type": "code",
      "source": [
        "listaNotas = [10, 9, 7, 4.5]\n",
        "listaAlumnos = [\"Nicanor\", \"Nicolas\", \"Nelson\", \"Martin\"]\n",
        "for alu, nota in zip(listaAlumnos, listaNotas):\n",
        "  print(alu, \"==>\", nota)"
      ],
      "metadata": {
        "colab": {
          "base_uri": "https://localhost:8080/"
        },
        "id": "-XGa1wCtdg8d",
        "outputId": "5c7c1758-0389-4be7-f538-510294a13616"
      },
      "execution_count": null,
      "outputs": [
        {
          "output_type": "stream",
          "name": "stdout",
          "text": [
            "Nicanor ==> 10\n",
            "Nicolas ==> 9\n",
            "Nelson ==> 7\n",
            "Martin ==> 4.5\n"
          ]
        }
      ]
    },
    {
      "cell_type": "markdown",
      "source": [
        "ejercicio 3\n"
      ],
      "metadata": {
        "id": "0u7odDmMk1yE"
      }
    },
    {
      "cell_type": "code",
      "source": [
        "#creo un conjunto con elementos de la lista, de esta forma verifico los repetidos\n",
        "\n",
        "def eliminarRepetidos (lista):\n",
        "  listaDevolver= []\n",
        "  elementos = set() #creo conj vacio\n",
        "  for x in lista:\n",
        "    if x not in elementos:\n",
        "      listaDevolver.append(x)\n",
        "      elementos.add(x)\n",
        "\n",
        "  return listaDevolver\n",
        "\n",
        "  lista1 = [1,2,3,5,5,6]\n",
        "  print(lista1)\n",
        "  print(\"-----\")\n",
        "  print(eliminarRepetidos(lista1))\n",
        "\n",
        "\n"
      ],
      "metadata": {
        "id": "LA5PwN7Ak3hY"
      },
      "execution_count": null,
      "outputs": []
    },
    {
      "cell_type": "markdown",
      "source": [
        "ejercicio 5"
      ],
      "metadata": {
        "id": "2ADuoqfBrYIc"
      }
    },
    {
      "cell_type": "code",
      "source": [
        "#slices: son \"rodajas\"/\"subpartes\" de una lista\n",
        "lista1 = [1,2,3,4,5,6,7,8]\n",
        "listaDe2a5 = lista1[0:5]\n",
        "lista1Invertida = lista1[::-1]\n",
        "print(lista1)\n",
        "print(\"----\")\n",
        "print(listaDe2a5)\n",
        "print(\"----\")\n",
        "print(lista1Invertida)"
      ],
      "metadata": {
        "colab": {
          "base_uri": "https://localhost:8080/"
        },
        "id": "I4xvAm8wrfNe",
        "outputId": "cdfb50fc-ffb7-487e-8d49-f3aff9326de7"
      },
      "execution_count": null,
      "outputs": [
        {
          "output_type": "stream",
          "name": "stdout",
          "text": [
            "[1, 2, 3, 4, 5, 6, 7, 8]\n",
            "----\n",
            "[1, 2, 3, 4, 5]\n",
            "----\n",
            "[8, 7, 6, 5, 4, 3, 2, 1]\n"
          ]
        }
      ]
    },
    {
      "cell_type": "markdown",
      "source": [
        "Biblioteca Numpy\n"
      ],
      "metadata": {
        "id": "B_w3U81GgeH_"
      }
    },
    {
      "cell_type": "markdown",
      "source": [
        "ejercicio 4\n"
      ],
      "metadata": {
        "id": "RHWQCjLagnlz"
      }
    },
    {
      "cell_type": "code",
      "source": [
        "import numpy as np\n",
        "\n",
        "arreglo = np.array([1,2,3,4])\n",
        "matriz = np.array([(1,2), (2,1)])\n",
        "#tensor es como una matriz pero no bidimensional, mayor\n",
        "tensor = np.array([(1,2,3),(2,1,6), (3,1,9) , (1,3,9.5)])\n",
        "\n",
        "print(tensor)\n",
        "print(np.max(tensor))\n",
        "print(np.min(matriz))\n",
        "print(np.sum(arreglo))\n",
        "#se usan funciones de numpy (para max, min, suma) porque tienen en cuenta TODAS las dimensiones del arreglo"
      ],
      "metadata": {
        "id": "ZtA8xfrKsHN_",
        "colab": {
          "base_uri": "https://localhost:8080/"
        },
        "outputId": "5a335eec-9708-4a7d-b3fd-4276885c20ce"
      },
      "execution_count": null,
      "outputs": [
        {
          "output_type": "stream",
          "name": "stdout",
          "text": [
            "[[1.  2.  3. ]\n",
            " [2.  1.  6. ]\n",
            " [3.  1.  9. ]\n",
            " [1.  3.  9.5]]\n",
            "9.5\n",
            "1\n",
            "10\n"
          ]
        }
      ]
    },
    {
      "cell_type": "markdown",
      "source": [
        "Biblioteca Pandas\n"
      ],
      "metadata": {
        "id": "RfrTvQfRWiY_"
      }
    },
    {
      "cell_type": "markdown",
      "source": [
        "ejercicio 1\n"
      ],
      "metadata": {
        "id": "-jyTHAHzWmhg"
      }
    },
    {
      "cell_type": "code",
      "source": [
        "import pandas as pd\n",
        "#creo diccionario con todos los datos:\n",
        "datos = {\"Nombre\" : [\"Juan\" , \"Maria\", \"Pedro\", \"José\"] , \"Edad\" : [20, 26, 18, 22], \"País\" : [\"Argentina\", \"Peru\" , \"Brasil\" , \"Chile\"] }\n",
        "\n",
        "df = pd.DataFrame(datos)\n",
        "#imprimir tabla:\n",
        "print(df)\n",
        "print(\"------------\")\n",
        "#imprimir nombres de las columnas:\n",
        "print(df['Nombre'])\n",
        "print(df['Edad'])\n",
        "print(df['País'])\n",
        "\n",
        "print(\"------------\")\n",
        "#Agregar a la tabla a Pablo que tiene 30 años y es originario de Colombia. Agregarlo de 2 formas diferentes:\n",
        "filaPablo = [\"Pablo\", 30, \"Colombia\"]\n",
        "df.loc[len(df)] = filaPablo\n",
        "print(df)\n",
        "\n",
        "print(\"------------\")\n",
        "# Eliminar de la tabla la fila de Pedro:\n",
        "df = df.drop(index=2)\n",
        "print(df)\n",
        "\n",
        "print(\"------------\")\n",
        "# Modificar los atributos de países que dicen “Peru” (sin acento) y reemplazarlos por “Perú” (con acento):\n",
        "df.loc[1, \"País\"] = \"Perú\"\n",
        "print(df)"
      ],
      "metadata": {
        "id": "_cQki0YzV0cj",
        "colab": {
          "base_uri": "https://localhost:8080/"
        },
        "outputId": "ee78caba-4c42-4bb1-b142-acb89a0ba10f"
      },
      "execution_count": null,
      "outputs": [
        {
          "output_type": "stream",
          "name": "stdout",
          "text": [
            "  Nombre  Edad       País\n",
            "0   Juan    20  Argentina\n",
            "1  Maria    26       Peru\n",
            "2  Pedro    18     Brasil\n",
            "3   José    22      Chile\n",
            "------------\n",
            "0     Juan\n",
            "1    Maria\n",
            "2    Pedro\n",
            "3     José\n",
            "Name: Nombre, dtype: object\n",
            "0    20\n",
            "1    26\n",
            "2    18\n",
            "3    22\n",
            "Name: Edad, dtype: int64\n",
            "0    Argentina\n",
            "1         Peru\n",
            "2       Brasil\n",
            "3        Chile\n",
            "Name: País, dtype: object\n",
            "------------\n",
            "  Nombre  Edad       País\n",
            "0   Juan    20  Argentina\n",
            "1  Maria    26       Peru\n",
            "2  Pedro    18     Brasil\n",
            "3   José    22      Chile\n",
            "4  Pablo    30   Colombia\n",
            "------------\n",
            "  Nombre  Edad       País\n",
            "0   Juan    20  Argentina\n",
            "1  Maria    26       Peru\n",
            "3   José    22      Chile\n",
            "4  Pablo    30   Colombia\n",
            "------------\n",
            "  Nombre  Edad       País\n",
            "0   Juan    20  Argentina\n",
            "1  Maria    26       Perú\n",
            "3   José    22      Chile\n",
            "4  Pablo    30   Colombia\n"
          ]
        }
      ]
    },
    {
      "cell_type": "code",
      "source": [],
      "metadata": {
        "id": "EnB_t_ZKYFrR"
      },
      "execution_count": null,
      "outputs": []
    }
  ]
}