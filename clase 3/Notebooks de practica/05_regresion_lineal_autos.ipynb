{
 "cells": [
  {
   "cell_type": "markdown",
   "metadata": {
    "id": "vdWG2FEMDVST"
   },
   "source": [
    "# Neurona Lineal - Autos - Predicción\n",
    "---\n",
    "**Montar la carpeta de Google Drive y definir constantes para trabajar**"
   ]
  },
  {
   "cell_type": "code",
   "execution_count": 1,
   "metadata": {
    "colab": {
     "base_uri": "https://localhost:8080/"
    },
    "executionInfo": {
     "elapsed": 2557,
     "status": "ok",
     "timestamp": 1717094248585,
     "user": {
      "displayName": "Redes Neuronales",
      "userId": "11693180954775528178"
     },
     "user_tz": 180
    },
    "id": "HIP8SbdLIkDZ",
    "outputId": "ef9507a5-25dc-4c12-84af-10724ad84b05"
   },
   "outputs": [],
   "source": [
    "    # configuración para notebook con instalación LOCAL\n",
    "FUENTES_DIR = '..Fuentes/clase3/'         # carpeta donde se encuentran archivos .py auxiliares\n",
    "DATOS_DIR   = '../Datos/' # carpeta donde se encuentran los datasets\n",
    "\n",
    "# agrega ruta de busqueda donde tenemos archivos .py\n",
    "import sys\n",
    "sys.path.append(FUENTES_DIR)"
   ]
  },
  {
   "cell_type": "markdown",
   "metadata": {
    "id": "hj5GbHXwGP1j"
   },
   "source": [
    "**Carga del Dataset y selección de atributos numéricos**"
   ]
  },
  {
   "cell_type": "code",
   "execution_count": 4,
   "metadata": {
    "colab": {
     "base_uri": "https://localhost:8080/",
     "height": 441
    },
    "executionInfo": {
     "elapsed": 13,
     "status": "ok",
     "timestamp": 1717094248585,
     "user": {
      "displayName": "Redes Neuronales",
      "userId": "11693180954775528178"
     },
     "user_tz": 180
    },
    "id": "44viJuybOEYD",
    "outputId": "47c6e45d-0556-4319-c906-4a61f9ecb638"
   },
   "outputs": [
    {
     "ename": "ModuleNotFoundError",
     "evalue": "No module named 'ClassNeuronaLineal'",
     "output_type": "error",
     "traceback": [
      "\u001b[1;31m---------------------------------------------------------------------------\u001b[0m",
      "\u001b[1;31mModuleNotFoundError\u001b[0m                       Traceback (most recent call last)",
      "Cell \u001b[1;32mIn[4], line 7\u001b[0m\n\u001b[0;32m      5\u001b[0m \u001b[38;5;28;01mfrom\u001b[39;00m \u001b[38;5;21;01mmatplotlib\u001b[39;00m \u001b[38;5;28;01mimport\u001b[39;00m pyplot \u001b[38;5;28;01mas\u001b[39;00m plt\n\u001b[0;32m      6\u001b[0m \u001b[38;5;28;01mfrom\u001b[39;00m \u001b[38;5;21;01msklearn\u001b[39;00m\u001b[38;5;21;01m.\u001b[39;00m\u001b[38;5;21;01mpreprocessing\u001b[39;00m \u001b[38;5;28;01mimport\u001b[39;00m MinMaxScaler, StandardScaler\n\u001b[1;32m----> 7\u001b[0m \u001b[38;5;28;01mfrom\u001b[39;00m \u001b[38;5;21;01mClassNeuronaLineal\u001b[39;00m \u001b[38;5;28;01mimport\u001b[39;00m NeuronaLineal\n\u001b[0;32m      9\u001b[0m nombre_archivo \u001b[38;5;241m=\u001b[39m DATOS_DIR \u001b[38;5;241m+\u001b[39m \u001b[38;5;124m'\u001b[39m\u001b[38;5;124mautomobile-simple.csv\u001b[39m\u001b[38;5;124m'\u001b[39m\n\u001b[0;32m     11\u001b[0m \u001b[38;5;66;03m#-- detectando la codificación de caracteres usada ----\u001b[39;00m\n",
      "\u001b[1;31mModuleNotFoundError\u001b[0m: No module named 'ClassNeuronaLineal'"
     ]
    }
   ],
   "source": [
    "import os\n",
    "import pandas as pd\n",
    "import numpy as np\n",
    "import chardet\n",
    "from matplotlib import pyplot as plt\n",
    "from sklearn.preprocessing import MinMaxScaler, StandardScaler\n",
    "from ClassNeuronaLineal import NeuronaLineal\n",
    "\n",
    "nombre_archivo = DATOS_DIR + 'automobile-simple.csv'\n",
    "\n",
    "#-- detectando la codificación de caracteres usada ----\n",
    "with open(nombre_archivo, 'rb') as f:\n",
    "    result = chardet.detect(f.read())\n",
    "\n",
    "df= pd.read_csv(nombre_archivo, encoding=result['encoding'])\n",
    "\n",
    "print(result['encoding'])\n",
    "df"
   ]
  },
  {
   "cell_type": "markdown",
   "metadata": {
    "id": "Bl2l7jYvG5sP"
   },
   "source": [
    "**Asignar atributos sin valor o con valor nulo**"
   ]
  },
  {
   "cell_type": "code",
   "execution_count": null,
   "metadata": {
    "colab": {
     "base_uri": "https://localhost:8080/"
    },
    "executionInfo": {
     "elapsed": 11,
     "status": "ok",
     "timestamp": 1717094248586,
     "user": {
      "displayName": "Redes Neuronales",
      "userId": "11693180954775528178"
     },
     "user_tz": 180
    },
    "id": "wK3O7NmWGkwy",
    "outputId": "7ffc8a20-0e02-4818-ef1c-6ed0c089b57a"
   },
   "outputs": [],
   "source": [
    "# muestra cantidad de valores faltantes o nulos por atributo/característica\n",
    "print('Antes:\\n',df.isnull().sum(), '\\n')\n",
    "\n",
    "values = {'price': df['price'].mean()}\n",
    "\n",
    "# reemplaza valores nulos por los indicados en el diccionario values\n",
    "df = df.fillna(value=values)\n",
    "\n",
    "# comprobacion\n",
    "print('Despues:\\n', df.isnull().sum())"
   ]
  },
  {
   "cell_type": "markdown",
   "metadata": {
    "id": "V5Um9iFfH5i0"
   },
   "source": [
    "**Normalización de valores de atributo y valor a predecir**"
   ]
  },
  {
   "cell_type": "code",
   "execution_count": null,
   "metadata": {
    "colab": {
     "base_uri": "https://localhost:8080/"
    },
    "executionInfo": {
     "elapsed": 9,
     "status": "ok",
     "timestamp": 1717094248586,
     "user": {
      "displayName": "Redes Neuronales",
      "userId": "11693180954775528178"
     },
     "user_tz": 180
    },
    "id": "If9sz9OvGrXp",
    "outputId": "63681308-dee9-4427-de4a-699b91f2b3d1"
   },
   "outputs": [],
   "source": [
    "# Imprime matriz de correclacion\n",
    "corr = df[['engine-size', 'price']].corr()\n",
    "print(corr) #correlacion lineal entre engine.size y price\n",
    "\n",
    "# seleccion de atributos\n",
    "X = np.array(df['engine-size']).reshape((-1,1))\n",
    "T = np.array(df['price']).reshape((-1,1))\n",
    "\n",
    "# normalizacion de datos de entrada\n",
    "normalizarEntrada = 2\n",
    "\n",
    "if normalizarEntrada==0:\n",
    "    data_scaler = None\n",
    "elif normalizarEntrada==1: #normalizacion estandar\n",
    "    data_scaler , targer_scaler= MinMaxScaler(), MinMaxScaler()\n",
    "    X = data_scaler.fit_transform(X)  #fit calcula max y min para cada columna y lo aplica\n",
    "    T = targer_scaler.fit_transform(T)\n",
    "elif normalizarEntrada==2:\n",
    "    data_scaler, targer_scaler = StandardScaler(), StandardScaler()\n",
    "    X = data_scaler.fit_transform(X)\n",
    "    T = targer_scaler.fit_transform(T)"
   ]
  },
  {
   "cell_type": "markdown",
   "metadata": {
    "id": "Ufa1Z79_OMeG"
   },
   "source": [
    "**Construccion del modelo y entrenamiento**"
   ]
  },
  {
   "cell_type": "code",
   "execution_count": 8,
   "metadata": {
    "colab": {
     "base_uri": "https://localhost:8080/",
     "height": 985
    },
    "executionInfo": {
     "elapsed": 1359,
     "status": "ok",
     "timestamp": 1717094249938,
     "user": {
      "displayName": "Redes Neuronales",
      "userId": "11693180954775528178"
     },
     "user_tz": 180
    },
    "id": "2VfbQNbZIgu2",
    "outputId": "ddfedc4d-365f-4e5b-b06c-fed8ab2d12c6"
   },
   "outputs": [
    {
     "ename": "NameError",
     "evalue": "name 'NeuronaLineal' is not defined",
     "output_type": "error",
     "traceback": [
      "\u001b[1;31m---------------------------------------------------------------------------\u001b[0m",
      "\u001b[1;31mNameError\u001b[0m                                 Traceback (most recent call last)",
      "Cell \u001b[1;32mIn[8], line 2\u001b[0m\n\u001b[0;32m      1\u001b[0m \u001b[38;5;66;03m# entrena neurona lineal y grafica\u001b[39;00m\n\u001b[1;32m----> 2\u001b[0m modelo \u001b[38;5;241m=\u001b[39m NeuronaLineal(alpha\u001b[38;5;241m=\u001b[39m\u001b[38;5;241m0.02\u001b[39m, n_iter\u001b[38;5;241m=\u001b[39m\u001b[38;5;241m500\u001b[39m, cotaE\u001b[38;5;241m=\u001b[39m\u001b[38;5;241m0.0001\u001b[39m, draw\u001b[38;5;241m=\u001b[39m\u001b[38;5;241m1\u001b[39m, title\u001b[38;5;241m=\u001b[39m[\u001b[38;5;124m'\u001b[39m\u001b[38;5;124mTamaño motor\u001b[39m\u001b[38;5;124m'\u001b[39m, \u001b[38;5;124m'\u001b[39m\u001b[38;5;124mPrecio\u001b[39m\u001b[38;5;124m'\u001b[39m])\n\u001b[0;32m      3\u001b[0m \u001b[38;5;66;03m#cotaE --> cota de error --> si la el modulo del error esta por debajo de cotaE, deja de iterar\u001b[39;00m\n\u001b[0;32m      4\u001b[0m modelo\u001b[38;5;241m.\u001b[39mfit(X, T)\n",
      "\u001b[1;31mNameError\u001b[0m: name 'NeuronaLineal' is not defined"
     ]
    }
   ],
   "source": [
    "# entrena neurona lineal y grafica\n",
    "modelo = NeuronaLineal(alpha=0.02, n_iter=500, cotaE=0.0001, draw=1, title=['Tamaño motor', 'Precio'])\n",
    "#cotaE --> cota de error --> si la el modulo del error esta por debajo de cotaE, deja de iterar\n",
    "modelo.fit(X, T)\n",
    "\n",
    "# imprime errores de cada iteracion:\n",
    "print('Errores:')\n",
    "for i, err in enumerate(modelo.errors_):\n",
    "    print('%3d => %f' % (i, err[0]))\n"
   ]
  },
  {
   "cell_type": "markdown",
   "metadata": {
    "id": "PmFJhBqmIykD"
   },
   "source": [
    "**Prediccion de valores**"
   ]
  },
  {
   "cell_type": "code",
   "execution_count": 11,
   "metadata": {
    "colab": {
     "base_uri": "https://localhost:8080/",
     "height": 316
    },
    "executionInfo": {
     "elapsed": 10,
     "status": "ok",
     "timestamp": 1717094249938,
     "user": {
      "displayName": "Redes Neuronales",
      "userId": "11693180954775528178"
     },
     "user_tz": 180
    },
    "id": "YfCAbgoqIy1O",
    "outputId": "ceb0c21e-aab4-4786-b918-5db5cd552cf9"
   },
   "outputs": [
    {
     "ename": "NameError",
     "evalue": "name 'data_scaler' is not defined",
     "output_type": "error",
     "traceback": [
      "\u001b[1;31m---------------------------------------------------------------------------\u001b[0m",
      "\u001b[1;31mNameError\u001b[0m                                 Traceback (most recent call last)",
      "Cell \u001b[1;32mIn[11], line 6\u001b[0m\n\u001b[0;32m      2\u001b[0m tamaño_motor \u001b[38;5;241m=\u001b[39m \u001b[38;5;241m130\u001b[39m\n\u001b[0;32m      4\u001b[0m entrada \u001b[38;5;241m=\u001b[39m np\u001b[38;5;241m.\u001b[39marray([tamaño_motor])\u001b[38;5;241m.\u001b[39mreshape((\u001b[38;5;241m-\u001b[39m\u001b[38;5;241m1\u001b[39m,\u001b[38;5;241m1\u001b[39m))\n\u001b[1;32m----> 6\u001b[0m \u001b[38;5;28;01mif\u001b[39;00m data_scaler:\n\u001b[0;32m      7\u001b[0m   entrada \u001b[38;5;241m=\u001b[39m data_scaler\u001b[38;5;241m.\u001b[39mtransform(entrada)\n\u001b[0;32m      9\u001b[0m prediccion \u001b[38;5;241m=\u001b[39m modelo\u001b[38;5;241m.\u001b[39mpredict( entrada )\n",
      "\u001b[1;31mNameError\u001b[0m: name 'data_scaler' is not defined"
     ]
    }
   ],
   "source": [
    "# invierte normalización para predecir\n",
    "tamaño_motor = 130\n",
    "\n",
    "entrada = np.array([tamaño_motor]).reshape((-1,1))\n",
    "\n",
    "if data_scaler:\n",
    "  entrada = data_scaler.transform(entrada)\n",
    "\n",
    "prediccion = modelo.predict( entrada )\n",
    "\n",
    "if targer_scaler:\n",
    "  prediccion = targer_scaler.inverse_transform([prediccion]) #al dato de prediccion, le hago una transformacion inversa para que me de el dato real (precio)\n",
    "\n",
    "# para la siguiente prueba tamaño_motor debe coincidir con valores de engin-size en el data_frame\n",
    "\n",
    "autos_sel = df['engine-size']==tamaño_motor\n",
    "valor_prom = df[autos_sel]['price'].mean()\n",
    "valor_min = df[autos_sel]['price'].min()\n",
    "valor_max = df[autos_sel]['price'].max()\n",
    "\n",
    "print('Tamaño Motor:%.0f' % tamaño_motor)\n",
    "\n",
    "print('Prediccion Precio: %.2f'% prediccion)\n",
    "\n",
    "print('  Precio Promedio: %.2f'% valor_prom)\n",
    "print('    Precio Mínimo: %.2f'% valor_min)\n",
    "print('    Precio Máximo: %.2f'% valor_max)\n",
    "\n",
    "df[autos_sel]"
   ]
  },
  {
   "cell_type": "code",
   "execution_count": null,
   "metadata": {},
   "outputs": [],
   "source": []
  }
 ],
 "metadata": {
  "colab": {
   "provenance": [
    {
     "file_id": "1h9-ghQ8VXSPHLSG8Hkv8V3MqycXubDfN",
     "timestamp": 1667621061373
    },
    {
     "file_id": "1FV-Ydu5NBJ7DvGNfrlwMxfBHzXCqsO4A",
     "timestamp": 1667001788387
    }
   ]
  },
  "gpuClass": "standard",
  "kernelspec": {
   "display_name": "Python 3 (ipykernel)",
   "language": "python",
   "name": "python3"
  },
  "language_info": {
   "codemirror_mode": {
    "name": "ipython",
    "version": 3
   },
   "file_extension": ".py",
   "mimetype": "text/x-python",
   "name": "python",
   "nbconvert_exporter": "python",
   "pygments_lexer": "ipython3",
   "version": "3.12.4"
  }
 },
 "nbformat": 4,
 "nbformat_minor": 4
}
