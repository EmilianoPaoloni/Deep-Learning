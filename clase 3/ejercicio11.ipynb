{
 "cells": [
  {
   "cell_type": "markdown",
   "id": "c5e16829-72d1-4b2d-b135-e1060cd6d0a5",
   "metadata": {},
   "source": [
    "## EJERCICIO 11 - PRACTICA 3"
   ]
  },
  {
   "cell_type": "markdown",
   "id": "293a2a22-96e4-4a24-988c-1f5d6935612f",
   "metadata": {},
   "source": [
    "### Regresión Logística multiclase"
   ]
  },
  {
   "cell_type": "raw",
   "id": "da2ea34a-c06f-4967-8715-c3845aa7b75f",
   "metadata": {},
   "source": [
    "Se busca predecir si el tipo de fármaco que se debe administrar a un paciente afectado de rinitis alérgica \n",
    "es el habitual o no. Se dispone de información correspondiente a las historias clínicas de pacientes \n",
    "atendidos previamente.\n",
    "Archivo: \"Drug_train.csv\""
   ]
  },
  {
   "cell_type": "markdown",
   "id": "2cd2dad1-86bc-4593-a192-c1c46e3b5287",
   "metadata": {},
   "source": [
    "### Importo librerias"
   ]
  },
  {
   "cell_type": "code",
   "execution_count": 72,
   "id": "d6d659ed-5c2e-4bfb-9d19-6be3263fd482",
   "metadata": {},
   "outputs": [],
   "source": [
    "%matplotlib inline\n",
    "import pandas as pd\n",
    "import numpy as np\n",
    "from sklearn import preprocessing, metrics, model_selection\n",
    "\n",
    "import time\n",
    "#from matplotlib import pyplot as plt\n",
    "from matplotlib import pylab as plt\n",
    "from IPython import display\n",
    "\n",
    "from grafica import *\n",
    "from ClassRNMulticlase import RNMulticlase"
   ]
  },
  {
   "cell_type": "code",
   "execution_count": 74,
   "id": "88d5beb1-b06f-4cab-9f9e-24083741ef6c",
   "metadata": {},
   "outputs": [],
   "source": [
    "ColabNotebook = 'google.colab' in str(get_ipython())\n",
    "\n",
    "if ColabNotebook:\n",
    "    # monta G-drive en entorno COLAB\n",
    "    from google.colab import drive\n",
    "    drive.mount('/content/drive/')\n",
    "\n",
    "    # carpeta donde se encuentran archivos .py auxiliares\n",
    "    FUENTES_DIR = '/content/drive/MyDrive/Colab Notebooks/FUENTES/'\n",
    "    DATOS_DIR = '/content/drive/MyDrive/Colab Notebooks/DATOS/'      # carpeta donde se encuentran los datasets\n",
    "else:\n",
    "    # configuración para notebook con instalación LOCAL\n",
    "    FUENTES_DIR = '../Fuentes'         # carpeta donde se encuentran archivos .py auxiliares\n",
    "    DATOS_DIR   = '../Datos/' # carpeta donde se encuentran los datasets\n",
    "\n",
    "# agrega ruta de busqueda donde tenemos archivos .py\n",
    "import sys\n",
    "sys.path.append(FUENTES_DIR)"
   ]
  },
  {
   "cell_type": "markdown",
   "id": "9db5b1fa-1db5-4bfd-87d8-029b7d5054d8",
   "metadata": {},
   "source": [
    "### Leo dataframe"
   ]
  },
  {
   "cell_type": "code",
   "execution_count": 77,
   "id": "344205c8-2cf8-4f69-8ca7-a4a6cdfd120d",
   "metadata": {},
   "outputs": [
    {
     "ename": "TypeError",
     "evalue": "'module' object is not callable",
     "output_type": "error",
     "traceback": [
      "\u001b[1;31m---------------------------------------------------------------------------\u001b[0m",
      "\u001b[1;31mTypeError\u001b[0m                                 Traceback (most recent call last)",
      "Cell \u001b[1;32mIn[77], line 15\u001b[0m\n\u001b[0;32m     11\u001b[0m df \u001b[38;5;241m=\u001b[39m pd\u001b[38;5;241m.\u001b[39mread_csv(nombre_archivo, encoding\u001b[38;5;241m=\u001b[39mresult[\u001b[38;5;124m'\u001b[39m\u001b[38;5;124mencoding\u001b[39m\u001b[38;5;124m'\u001b[39m])\n\u001b[0;32m     13\u001b[0m \u001b[38;5;66;03m# visualiza el dataframe\u001b[39;00m\n\u001b[0;32m     14\u001b[0m \u001b[38;5;66;03m# print(df)\u001b[39;00m\n\u001b[1;32m---> 15\u001b[0m display(df)\n",
      "\u001b[1;31mTypeError\u001b[0m: 'module' object is not callable"
     ]
    }
   ],
   "source": [
    "\n",
    "import chardet           # para detectar la codificación de texto en archivos\n",
    "\n",
    "\n",
    "nombre_archivo = DATOS_DIR + 'Drug5.csv' # archivo drugs\n",
    "\n",
    "#-- detectando la codificación de caracteres usada ----\n",
    "with open(nombre_archivo, 'rb') as f:\n",
    "    result = chardet.detect(f.read())  # or readline if the file is large\n",
    "\n",
    "# recupera el archivo en un objeto dataframe de pandas utilizando la codificación detectada\n",
    "df = pd.read_csv(nombre_archivo, encoding=result['encoding'])\n",
    "\n",
    "# visualiza el dataframe\n",
    "# print(df)\n",
    "display(df)"
   ]
  },
  {
   "cell_type": "markdown",
   "id": "48fdaa9f-b647-41a3-bed0-8e2496bec2a1",
   "metadata": {},
   "source": [
    "### Numerizacion de atributos nominales (Sex, BP, Cholesterol)"
   ]
  },
  {
   "cell_type": "code",
   "execution_count": 80,
   "id": "bf556476-0d8f-4ac9-96c8-3d108df465bc",
   "metadata": {},
   "outputs": [
    {
     "name": "stdout",
     "output_type": "stream",
     "text": [
      "     Age  Sex  BP  Cholesterol        Na         K   Drug\n",
      "0     23    1   2            1  0.792535  0.031258  drugY\n",
      "1     47    0   0            1  0.739309  0.056468  drugC\n",
      "2     47    0   0            1  0.697269  0.068944  drugC\n",
      "3     28    1   1            1  0.563682  0.072289  drugX\n",
      "4     61    1   0            1  0.559294  0.030998  drugY\n",
      "..   ...  ...  ..          ...       ...       ...    ...\n",
      "195   56    1   0            1  0.848774  0.073380  drugC\n",
      "196   16    0   0            1  0.743021  0.061886  drugC\n",
      "197   52    0   1            1  0.549945  0.055581  drugX\n",
      "198   23    0   1            0  0.784520  0.055959  drugX\n",
      "199   40    1   0            0  0.683503  0.060226  drugX\n",
      "\n",
      "[200 rows x 7 columns]\n"
     ]
    },
    {
     "name": "stderr",
     "output_type": "stream",
     "text": [
      "C:\\Users\\W10\\AppData\\Local\\Temp\\ipykernel_1720\\295256908.py:5: FutureWarning: Downcasting behavior in `replace` is deprecated and will be removed in a future version. To retain the old behavior, explicitly call `result.infer_objects(copy=False)`. To opt-in to the future behavior, set `pd.set_option('future.no_silent_downcasting', True)`\n",
      "  df.replace(mapeo, inplace=True)\n"
     ]
    }
   ],
   "source": [
    "mapeo = {'Sex': {'F':1, 'M':0},\n",
    "          'BP':{'HIGH':2, 'NORMAL':1, 'LOW':0},\n",
    "          'Cholesterol':{'NORMAL':0, 'HIGH':1}}\n",
    "\n",
    "df.replace(mapeo, inplace=True)\n",
    "print(df)"
   ]
  },
  {
   "cell_type": "markdown",
   "id": "2dc2c666-2d7e-44be-abb9-83673ea04724",
   "metadata": {},
   "source": [
    "### Genero columnas binarias para cada tipo de droga"
   ]
  },
  {
   "cell_type": "code",
   "execution_count": 83,
   "id": "43a3b424-6720-4bbf-a166-5c6321d56217",
   "metadata": {},
   "outputs": [
    {
     "data": {
      "text/html": [
       "<div>\n",
       "<style scoped>\n",
       "    .dataframe tbody tr th:only-of-type {\n",
       "        vertical-align: middle;\n",
       "    }\n",
       "\n",
       "    .dataframe tbody tr th {\n",
       "        vertical-align: top;\n",
       "    }\n",
       "\n",
       "    .dataframe thead th {\n",
       "        text-align: right;\n",
       "    }\n",
       "</style>\n",
       "<table border=\"1\" class=\"dataframe\">\n",
       "  <thead>\n",
       "    <tr style=\"text-align: right;\">\n",
       "      <th></th>\n",
       "      <th>Drug_drugA</th>\n",
       "      <th>Drug_drugB</th>\n",
       "      <th>Drug_drugC</th>\n",
       "      <th>Drug_drugX</th>\n",
       "      <th>Drug_drugY</th>\n",
       "    </tr>\n",
       "  </thead>\n",
       "  <tbody>\n",
       "    <tr>\n",
       "      <th>0</th>\n",
       "      <td>0</td>\n",
       "      <td>0</td>\n",
       "      <td>0</td>\n",
       "      <td>0</td>\n",
       "      <td>1</td>\n",
       "    </tr>\n",
       "    <tr>\n",
       "      <th>1</th>\n",
       "      <td>0</td>\n",
       "      <td>0</td>\n",
       "      <td>1</td>\n",
       "      <td>0</td>\n",
       "      <td>0</td>\n",
       "    </tr>\n",
       "    <tr>\n",
       "      <th>2</th>\n",
       "      <td>0</td>\n",
       "      <td>0</td>\n",
       "      <td>1</td>\n",
       "      <td>0</td>\n",
       "      <td>0</td>\n",
       "    </tr>\n",
       "    <tr>\n",
       "      <th>3</th>\n",
       "      <td>0</td>\n",
       "      <td>0</td>\n",
       "      <td>0</td>\n",
       "      <td>1</td>\n",
       "      <td>0</td>\n",
       "    </tr>\n",
       "    <tr>\n",
       "      <th>4</th>\n",
       "      <td>0</td>\n",
       "      <td>0</td>\n",
       "      <td>0</td>\n",
       "      <td>0</td>\n",
       "      <td>1</td>\n",
       "    </tr>\n",
       "  </tbody>\n",
       "</table>\n",
       "</div>"
      ],
      "text/plain": [
       "   Drug_drugA  Drug_drugB  Drug_drugC  Drug_drugX  Drug_drugY\n",
       "0           0           0           0           0           1\n",
       "1           0           0           1           0           0\n",
       "2           0           0           1           0           0\n",
       "3           0           0           0           1           0\n",
       "4           0           0           0           0           1"
      ]
     },
     "execution_count": 83,
     "metadata": {},
     "output_type": "execute_result"
    }
   ],
   "source": [
    "#genero una columna binaria por cada tipo de Droga que haya\n",
    "\n",
    "df_one_hot = pd.get_dummies(df['Drug'], prefix='Drug').astype(int) #genera una nueva columna binaria por cada tipo de clase\n",
    "df_one_hot.head()"
   ]
  },
  {
   "cell_type": "code",
   "execution_count": 85,
   "id": "492e8bfb-22ad-4d6c-83c8-2ca42ce836eb",
   "metadata": {},
   "outputs": [
    {
     "data": {
      "text/html": [
       "<div>\n",
       "<style scoped>\n",
       "    .dataframe tbody tr th:only-of-type {\n",
       "        vertical-align: middle;\n",
       "    }\n",
       "\n",
       "    .dataframe tbody tr th {\n",
       "        vertical-align: top;\n",
       "    }\n",
       "\n",
       "    .dataframe thead th {\n",
       "        text-align: right;\n",
       "    }\n",
       "</style>\n",
       "<table border=\"1\" class=\"dataframe\">\n",
       "  <thead>\n",
       "    <tr style=\"text-align: right;\">\n",
       "      <th></th>\n",
       "      <th>Age</th>\n",
       "      <th>Sex</th>\n",
       "      <th>BP</th>\n",
       "      <th>Cholesterol</th>\n",
       "      <th>Na</th>\n",
       "      <th>K</th>\n",
       "      <th>Drug_drugA</th>\n",
       "      <th>Drug_drugB</th>\n",
       "      <th>Drug_drugC</th>\n",
       "      <th>Drug_drugX</th>\n",
       "      <th>Drug_drugY</th>\n",
       "    </tr>\n",
       "  </thead>\n",
       "  <tbody>\n",
       "    <tr>\n",
       "      <th>0</th>\n",
       "      <td>23</td>\n",
       "      <td>1</td>\n",
       "      <td>2</td>\n",
       "      <td>1</td>\n",
       "      <td>0.792535</td>\n",
       "      <td>0.031258</td>\n",
       "      <td>0</td>\n",
       "      <td>0</td>\n",
       "      <td>0</td>\n",
       "      <td>0</td>\n",
       "      <td>1</td>\n",
       "    </tr>\n",
       "    <tr>\n",
       "      <th>1</th>\n",
       "      <td>47</td>\n",
       "      <td>0</td>\n",
       "      <td>0</td>\n",
       "      <td>1</td>\n",
       "      <td>0.739309</td>\n",
       "      <td>0.056468</td>\n",
       "      <td>0</td>\n",
       "      <td>0</td>\n",
       "      <td>1</td>\n",
       "      <td>0</td>\n",
       "      <td>0</td>\n",
       "    </tr>\n",
       "    <tr>\n",
       "      <th>2</th>\n",
       "      <td>47</td>\n",
       "      <td>0</td>\n",
       "      <td>0</td>\n",
       "      <td>1</td>\n",
       "      <td>0.697269</td>\n",
       "      <td>0.068944</td>\n",
       "      <td>0</td>\n",
       "      <td>0</td>\n",
       "      <td>1</td>\n",
       "      <td>0</td>\n",
       "      <td>0</td>\n",
       "    </tr>\n",
       "    <tr>\n",
       "      <th>3</th>\n",
       "      <td>28</td>\n",
       "      <td>1</td>\n",
       "      <td>1</td>\n",
       "      <td>1</td>\n",
       "      <td>0.563682</td>\n",
       "      <td>0.072289</td>\n",
       "      <td>0</td>\n",
       "      <td>0</td>\n",
       "      <td>0</td>\n",
       "      <td>1</td>\n",
       "      <td>0</td>\n",
       "    </tr>\n",
       "    <tr>\n",
       "      <th>4</th>\n",
       "      <td>61</td>\n",
       "      <td>1</td>\n",
       "      <td>0</td>\n",
       "      <td>1</td>\n",
       "      <td>0.559294</td>\n",
       "      <td>0.030998</td>\n",
       "      <td>0</td>\n",
       "      <td>0</td>\n",
       "      <td>0</td>\n",
       "      <td>0</td>\n",
       "      <td>1</td>\n",
       "    </tr>\n",
       "  </tbody>\n",
       "</table>\n",
       "</div>"
      ],
      "text/plain": [
       "   Age  Sex  BP  Cholesterol        Na         K  Drug_drugA  Drug_drugB  \\\n",
       "0   23    1   2            1  0.792535  0.031258           0           0   \n",
       "1   47    0   0            1  0.739309  0.056468           0           0   \n",
       "2   47    0   0            1  0.697269  0.068944           0           0   \n",
       "3   28    1   1            1  0.563682  0.072289           0           0   \n",
       "4   61    1   0            1  0.559294  0.030998           0           0   \n",
       "\n",
       "   Drug_drugC  Drug_drugX  Drug_drugY  \n",
       "0           0           0           1  \n",
       "1           1           0           0  \n",
       "2           1           0           0  \n",
       "3           0           1           0  \n",
       "4           0           0           1  "
      ]
     },
     "execution_count": 85,
     "metadata": {},
     "output_type": "execute_result"
    }
   ],
   "source": [
    "#agrego las columnas binarias generadas al datframe, y elimino la columna \"Class\"\n",
    "df = pd.concat([df,df_one_hot], axis=1)\n",
    "df = df.drop('Drug', axis=1)\n",
    "df.head()"
   ]
  },
  {
   "cell_type": "markdown",
   "id": "ec91ab25-df94-4d64-b0c1-c5fb63c1af05",
   "metadata": {},
   "source": [
    "### Division en X y T (X= datos de entrada , T=valores a predecir)"
   ]
  },
  {
   "cell_type": "code",
   "execution_count": 88,
   "id": "a97bd6c0-a269-467d-b295-08b92834f3cb",
   "metadata": {},
   "outputs": [
    {
     "name": "stdout",
     "output_type": "stream",
     "text": [
      "Primeros ejemplos con sus valores de rta.esperados\n",
      "\n",
      "X\n",
      " [[2.30000e+01 1.00000e+00 2.00000e+00 1.00000e+00 7.92535e-01 3.12580e-02]\n",
      " [4.70000e+01 0.00000e+00 0.00000e+00 1.00000e+00 7.39309e-01 5.64680e-02]\n",
      " [4.70000e+01 0.00000e+00 0.00000e+00 1.00000e+00 6.97269e-01 6.89440e-02]\n",
      " [2.80000e+01 1.00000e+00 1.00000e+00 1.00000e+00 5.63682e-01 7.22890e-02]\n",
      " [6.10000e+01 1.00000e+00 0.00000e+00 1.00000e+00 5.59294e-01 3.09980e-02]]\n",
      "T\n",
      " [[0 0 0 0 1]\n",
      " [0 0 1 0 0]\n",
      " [0 0 1 0 0]\n",
      " [0 0 0 1 0]\n",
      " [0 0 0 0 1]]\n"
     ]
    }
   ],
   "source": [
    "X = np.array(df.iloc[:, :6]) # tomo las primeras 6 COLUMNAS del df\n",
    "T = df[['Drug_drugA', 'Drug_drugB', 'Drug_drugC', 'Drug_drugX', 'Drug_drugY']].values\n",
    "#nomClases = df['Drug'].value_counts()\n",
    "\n",
    "# creating instance of one-hot-encoder\n",
    "#enc = preprocessing.OneHotEncoder(handle_unknown='ignore')\n",
    "#T = enc.fit_transform(T.reshape(-1,1)).toarray() # transforma T en una matriz de una sola columna\n",
    "\n",
    "print(\"Primeros ejemplos con sus valores de rta.esperados\\n\")\n",
    "print(\"X\\n\", X[0:5,:])\n",
    "print(\"T\\n\", T[0:5,:])\n"
   ]
  },
  {
   "cell_type": "markdown",
   "id": "850ff7cc-07af-4407-ab5e-db08db37b5d0",
   "metadata": {},
   "source": [
    "### Entrenamiento y testeo"
   ]
  },
  {
   "cell_type": "markdown",
   "id": "b6961c88-795e-4a24-a4f3-d07914da913a",
   "metadata": {},
   "source": [
    "### Se utilizan 5 neuronas en la capa de salida, ya que T posee 5 columnas (5 drogas distintas)"
   ]
  },
  {
   "cell_type": "code",
   "execution_count": 92,
   "id": "6e0cb8c6-3b6c-4f92-8835-01ff5d08a979",
   "metadata": {},
   "outputs": [],
   "source": [
    "#--- CONJUNTOS DE ENTRENAMIENTO Y TESTEO ---\n",
    "X_train, X_test, T_train, T_test = model_selection.train_test_split(X, T, test_size=0.50) #, random_state=42)\n",
    "normalizador = preprocessing.StandardScaler()\n",
    "X_train = normalizador.fit_transform(X_train)\n",
    "X_test = normalizador.transform(X_test)\n"
   ]
  },
  {
   "cell_type": "code",
   "execution_count": 94,
   "id": "a1ebd145-97a8-4e7a-8d64-aa0b7c2a8366",
   "metadata": {},
   "outputs": [],
   "source": [
    "# Opciones para la función de activación: 'sigmoid', 'tanh' o 'softmax'\n",
    "# Opciones para la función de costo : 'ECM', 'EC_binaria', 'EC'\n",
    "# Combinaciones válidas: 'sigmoid'-'ECM', 'sigmoid'-'EC_binaria', 'tanh'-'ECM', 'softmax'-'EC'\n",
    "\n",
    "funcion = 'softmax'  \n",
    "funcionCOSTO = 'EC'\n",
    "\n",
    "if (funcion == 'tanh'):\n",
    "    T_train = 2*T_train-1\n",
    "    T_test  = 2*T_test-1\n",
    "\n",
    "rn = RNMulticlase(alpha=0.1, n_iter=800, cotaE=1e-06, FUN=funcion, COSTO=funcionCOSTO, random_state=None)\n",
    "resul = rn.fit(X_train, T_train)"
   ]
  },
  {
   "cell_type": "code",
   "execution_count": 95,
   "id": "d6d2166f-cb64-40ca-a244-2ed19ea28823",
   "metadata": {},
   "outputs": [
    {
     "name": "stdout",
     "output_type": "stream",
     "text": [
      "Pesos obtenidos\n",
      "\n",
      "[[-3.23217061e+00 -3.88833063e-01  1.03248030e+01  7.22826638e-03\n",
      "  -3.17226400e+00  4.23377032e+00]\n",
      " [ 4.74364701e+00  5.42281996e-01  8.52576079e+00 -3.49754071e-01\n",
      "  -1.39767940e+00  6.04465300e+00]\n",
      " [-4.81295967e-01  2.42628280e-01 -1.24331915e+01  3.29234701e+00\n",
      "  -2.92336285e+00  5.10218380e+00]\n",
      " [ 5.03475868e-01  8.08312976e-01 -4.15765407e+00 -2.50079689e+00\n",
      "  -2.66927802e+00  3.26765691e+00]\n",
      " [-1.04093797e+00 -1.59008382e+00 -2.69960121e+00 -1.97052875e+00\n",
      "   1.06106706e+01 -1.88030675e+01]]\n",
      "[[-2.98094986]\n",
      " [-4.49003027]\n",
      " [-7.10136804]\n",
      " [ 7.76225791]\n",
      " [ 6.45042934]]\n"
     ]
    }
   ],
   "source": [
    "print(\"Pesos obtenidos\\n\")\n",
    "print(rn.w_)\n",
    "print(rn.b_)"
   ]
  },
  {
   "cell_type": "code",
   "execution_count": 96,
   "id": "eaad3d61-0975-4cb2-b6ac-65682e0c107e",
   "metadata": {},
   "outputs": [
    {
     "data": {
      "image/png": "[encoded data removed]",
      "text/plain": [
       "<Figure size 640x480 with 1 Axes>"
      ]
     },
     "metadata": {},
     "output_type": "display_data"
    }
   ],
   "source": [
    "plt.plot(range(1, len(rn.errors_) + 1), rn.errors_, marker='o')\n",
    "plt.xlabel('Iteraciones')\n",
    "plt.ylabel(funcionCOSTO)\n",
    "plt.show()"
   ]
  },
  {
   "cell_type": "code",
   "execution_count": 100,
   "id": "96c05671-496b-4033-bf3a-2f35ce2c0817",
   "metadata": {},
   "outputs": [
    {
     "data": {
      "image/png": "[encoded data removed]",
      "text/plain": [
       "<Figure size 640x480 with 1 Axes>"
      ]
     },
     "metadata": {},
     "output_type": "display_data"
    }
   ],
   "source": [
    "plt.plot(range(1, len(rn.accuracy_) + 1), rn.accuracy_, marker='o')\n",
    "plt.xlabel('Iteraciones')\n",
    "plt.ylabel('accuracy')\n",
    "plt.show()"
   ]
  },
  {
   "cell_type": "code",
   "execution_count": 102,
   "id": "aabb26f8-52f1-4380-8a51-2467da351ef9",
   "metadata": {},
   "outputs": [
    {
     "name": "stdout",
     "output_type": "stream",
     "text": [
      "acc.Train = 1.00    acc.Test = 0.96\n"
     ]
    }
   ],
   "source": [
    "#-- accuracy en entrenamiento y testeo ---\n",
    "acc_Train = rn.accuracy(X_train, T_train)\n",
    "acc_Test = rn.accuracy(X_test, T_test)\n",
    "print(\"acc.Train = %.2f    acc.Test = %.2f\" % (acc_Train, acc_Test))"
   ]
  },
  {
   "cell_type": "markdown",
   "id": "177cdf06-fdfd-4c40-bf0e-9bfeea1b8680",
   "metadata": {},
   "source": [
    "### Invento datos del paciente"
   ]
  },
  {
   "cell_type": "code",
   "execution_count": 111,
   "id": "59a9998b-ae67-4fbb-9561-6262cb5e82e1",
   "metadata": {},
   "outputs": [],
   "source": [
    "\n",
    "# Datos del paciente con rinitis alergica:\n",
    "paciente = np.array([47, 0, 0, 1, 0.697269, 0.068944])\n",
    "\n",
    "# Normalizar los datos usando el normalizador que se usó en el entrenamiento\n",
    "paciente_normalizado = normalizador.transform([paciente])"
   ]
  },
  {
   "cell_type": "markdown",
   "id": "1db59976-6d1d-47a1-b481-99b49eb080e1",
   "metadata": {},
   "source": [
    "### Prediccion"
   ]
  },
  {
   "cell_type": "code",
   "execution_count": 114,
   "id": "0f3ee0f4-ea58-4fa3-b53f-ccb72b3f7043",
   "metadata": {},
   "outputs": [
    {
     "name": "stdout",
     "output_type": "stream",
     "text": [
      "El tipo de fármaco recomendado es: Drug_drugC\n"
     ]
    }
   ],
   "source": [
    "# Realizar la predicción con el modelo entrenado\n",
    "prediccion = rn.predict(paciente_normalizado)\n",
    "\n",
    "# Mapear la predicción a las etiquetas originales\n",
    "# Supongamos que tienes el mapeo de índices a nombres de fármacos\n",
    "etiquetas = ['Drug_drugA', 'Drug_drugB', 'Drug_drugC', 'Drug_drugX', 'Drug_drugY']\n",
    "tipo_farmaco = etiquetas[prediccion[0]]\n",
    "\n",
    "print(f'El tipo de fármaco recomendado es: {tipo_farmaco}')"
   ]
  },
  {
   "cell_type": "raw",
   "id": "a6976d58-858d-4038-965c-bd0f95e678bf",
   "metadata": {},
   "source": [
    "Prediccion correcta, se utilizo dato de la tabla."
   ]
  },
  {
   "cell_type": "code",
   "execution_count": null,
   "id": "c01ccc54-0d01-4723-b930-94733112c9e0",
   "metadata": {},
   "outputs": [],
   "source": []
  }
 ],
 "metadata": {
  "kernelspec": {
   "display_name": "Python 3 (ipykernel)",
   "language": "python",
   "name": "python3"
  },
  "language_info": {
   "codemirror_mode": {
    "name": "ipython",
    "version": 3
   },
   "file_extension": ".py",
   "mimetype": "text/x-python",
   "name": "python",
   "nbconvert_exporter": "python",
   "pygments_lexer": "ipython3",
   "version": "3.12.4"
  }
 },
 "nbformat": 4,
 "nbformat_minor": 5
}
