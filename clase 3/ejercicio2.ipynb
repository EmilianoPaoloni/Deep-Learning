{
 "cells": [
  {
   "cell_type": "markdown",
   "id": "1a9b5323-5fd0-4dad-95b0-85371334b8ac",
   "metadata": {},
   "source": [
    "# EJERCICIO 2 - PRACTICA 2"
   ]
  },
  {
   "attachments": {},
   "cell_type": "markdown",
   "id": "2cc483e1-3f3e-44de-a9ad-6cc755f208ad",
   "metadata": {},
   "source": [
    "## El precio de una vivienda está dado por dos factores:\n",
    "### j : la proximidad a centros comerciales, financieros, vías \n",
    "y demá\n",
    "### k :  la condición misma de la vivienda.\r",
    "1\r",
    "r:"
   ]
  },
  {
   "cell_type": "markdown",
   "id": "84d6860b-a507-4e41-bb2f-e080ba8fa938",
   "metadata": {},
   "source": [
    "### La relación entre estos factores y el precio de la vivienda en un barrio determinado está dada por:\n",
    "### 𝑃(𝑗, 𝑘) = 𝑘^2 − 2𝑗𝑘 + 2𝑗^2 + 18𝑗 − 20𝑘 + 201      (donde el precio está dado en miles de dólares)"
   ]
  },
  {
   "cell_type": "markdown",
   "id": "42c1e5ff-1d94-4fb1-834e-7bdf93ab3ea6",
   "metadata": {},
   "source": [
    "## Utilice la técnica de descenso de gradiente para determinar los valores de j y k que minimizan el precio de la vivienda.\n"
   ]
  },
  {
   "cell_type": "markdown",
   "id": "1bc7f86a-5c36-43df-8a88-2fb3ca55070d",
   "metadata": {},
   "source": [
    "### Derivadas Parciales\n",
    "\n",
    "Primero, calculo las derivadas parciales de $P$ con respecto a $j$ y $k$:\n",
    "\n",
    "###  ∂f/∂x = -2k + 4j + 18 \n",
    "###  ∂f/∂y = 2k - 2j - 20 "
   ]
  },
  {
   "cell_type": "code",
   "execution_count": 9,
   "id": "d73a6f2e-a2f5-4388-bfd2-16917c328ee2",
   "metadata": {},
   "outputs": [
    {
     "name": "stdout",
     "output_type": "stream",
     "text": [
      "   1   53.80000   30.80000  3976.84\n",
      "   2   36.64000   37.40000  1455.59\n",
      "   3   27.66400   39.24800   813.48\n",
      "   4   22.64800   38.93120   608.11\n",
      "   5   19.57504   37.67456   510.63\n",
      "   6   17.47994   36.05466   445.11\n",
      "   7   15.89889   34.33971   393.22\n",
      "   8   14.60728   32.65155   349.87\n",
      "   9   13.49468   31.04269   313.09\n",
      "  10   12.50534   29.53309   281.76\n",
      "  11   11.60982   28.12754   255.05\n",
      "  12   10.79140   26.82400   232.26\n",
      "  13   10.03964   25.61748   212.83\n",
      "  14    9.34728   24.50191   196.25\n",
      "  15    8.70875   23.47099   182.10\n",
      "  16    8.11945   22.51854   170.04\n",
      "  17    7.57538   21.63872   159.75\n",
      "  18    7.07297   20.82605   150.97\n",
      "  19    6.60899   20.07544   143.48\n",
      "  20    6.18048   19.38215   137.09\n",
      "  21    5.78472   18.74181   131.64\n",
      "  22    5.41919   18.15039   126.99\n",
      "  23    5.08160   17.60415   123.02\n",
      "  24    4.76979   17.09964   119.64\n",
      "  25    4.48180   16.63367   116.75\n",
      "  26    4.21582   16.20330   114.29\n",
      "  27    3.97015   15.80580   112.19\n",
      "  28    3.74325   15.43867   110.40\n",
      "  29    3.53368   15.09959   108.87\n",
      "  30    3.34013   14.78641   107.57\n",
      "  31    3.16136   14.49715   106.46\n",
      "  32    2.99624   14.22999   105.51\n",
      "  33    2.84375   13.98324   104.70\n",
      "  34    2.70290   13.75534   104.01\n",
      "  35    2.57281   13.54485   103.42\n",
      "  36    2.45265   13.35044   102.92\n",
      "  37    2.34168   13.17089   102.49\n",
      "  38    2.23919   13.00505   102.12\n",
      "  39    2.14452   12.85187   101.81\n",
      "  40    2.05709   12.71040   101.54\n",
      "  41    1.97633   12.57974   101.32\n",
      "  42    1.90175   12.45906   101.12\n",
      "  43    1.83286   12.34760   100.96\n",
      "  44    1.76924   12.24465   100.82\n",
      "  45    1.71047   12.14957   100.70\n",
      "  46    1.65620   12.06175   100.60\n",
      "  47    1.60607   11.98064   100.51\n",
      "  48    1.55977   11.90572   100.43\n",
      "  49    1.51701   11.83653   100.37\n",
      "Valores óptimos: j =  1.51701, k = 11.83653\n",
      "Precio mínimo..: 100369 dólares\n"
     ]
    }
   ],
   "source": [
    "import numpy as np\n",
    "\n",
    "# función de precio\n",
    "def P(j, k):\n",
    "    return k**2 - 2*j*k + 2*j**2 + 18*j - 20*k + 201\n",
    "\n",
    "# derivadas parciales para el gradiente\n",
    "def dP_dj(j, k):\n",
    "    return -2*k + 4*j + 18\n",
    "\n",
    "def dP_dk(k, j):\n",
    "    return 2*k - 2*j - 20\n",
    "\n",
    "# Algoritmo y parámetros de descenso de gradiente\n",
    "alfa=0.1\n",
    "max_itera=100\n",
    "cota = 0.0673\n",
    "\n",
    "# j y k son valores inciales cualquiera dentro del dominio y z_new debe ser diferente para entrar al while\n",
    "(j, k, z, z_new) = (88, 14, P(1,1), P(1,1)+1)\n",
    "\n",
    "itera=0\n",
    "while itera < max_itera and (abs(z_new - z) > cota):\n",
    "    z = z_new\n",
    "\n",
    "    # Calcula los gradientes\n",
    "    grad_j = dP_dj(j, k)\n",
    "    grad_k = dP_dk(k, j)\n",
    "\n",
    "    # Actualiza los valores de j y k\n",
    "    j = j - alfa * grad_j\n",
    "    k = k - alfa * grad_k\n",
    "    z_new = P(j, k)\n",
    "\n",
    "    itera += 1\n",
    "\n",
    "    print(f\"{itera:>4} {j:>10.5f} {k:>10.5f} {P(j, k):>8.2f}\")\n",
    "\n",
    "print(f\"Valores óptimos: j = {j:8.5f}, k = {k:8.5f}\")\n",
    "print(f\"Precio mínimo..:{(1000*P(j, k)):7.0f} dólares\")"
   ]
  },
  {
   "cell_type": "raw",
   "id": "92628271-63ce-4ed6-a2b2-2d650049042d",
   "metadata": {},
   "source": [
    "cuestionario:\n",
    "\n",
    "Para --> Punto de inicio: (k=4, j=3)  ;   alfa = 0.05\n",
    "Valores óptimos: j =  0.22963, k =  9.75268\n",
    "Precio mínimo..: 100821 dólares\n",
    "31 iteraciones\n",
    "____________________________________________________\n",
    "\n",
    "Para --> Punto de inicio: (k=150,j=-7)  ;   alfa = 0.2  ------ mejor resultado: se llega al valor mas minimo en 31 iteraciones\n",
    "Valores óptimos: j =  1.35122, k = 11.56829\n",
    "Precio mínimo..: 100170 dólares\n",
    "31 iteraciones\n",
    "____________________________________________________\n",
    "\n",
    "Para ----> Punto de inicio: (k=14,j=88)  ;   alfa = 0.1\n",
    "Valores óptimos: j =  1.51701, k = 11.83653\n",
    "Precio mínimo..: 100369 dólares\n",
    "49 iteraciones"
   ]
  }
 ],
 "metadata": {
  "kernelspec": {
   "display_name": "Python 3 (ipykernel)",
   "language": "python",
   "name": "python3"
  },
  "language_info": {
   "codemirror_mode": {
    "name": "ipython",
    "version": 3
   },
   "file_extension": ".py",
   "mimetype": "text/x-python",
   "name": "python",
   "nbconvert_exporter": "python",
   "pygments_lexer": "ipython3",
   "version": "3.12.4"
  }
 },
 "nbformat": 4,
 "nbformat_minor": 5
}
