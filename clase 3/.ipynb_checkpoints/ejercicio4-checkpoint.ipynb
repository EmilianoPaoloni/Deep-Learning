{
 "cells": [
  {
   "cell_type": "markdown",
   "id": "6603615b-abfd-4db9-b7d8-b34ddc3e3c4f",
   "metadata": {},
   "source": [
    "## EJERCICIO 4 - PRACTICA 3"
   ]
  },
  {
   "cell_type": "raw",
   "id": "0218a520-4ed2-4459-bde3-d29700cea284",
   "metadata": {},
   "source": [
    "El archivo CCPP.csv contiene 9568 datos de una central de ciclo combinado recolectados entre 2006 y 2011. "
   ]
  },
  {
   "cell_type": "code",
   "execution_count": 2,
   "id": "b679f728-bc6a-4c88-90ba-9b76d0e79dde",
   "metadata": {},
   "outputs": [],
   "source": [
    "# configuración para notebook con instalación LOCAL\n",
    "FUENTES_DIR = '../Fuentes' # carpeta donde se encuentran archivos .py auxiliares\n",
    "DATOS_DIR   = '../Datos/'  # carpeta donde se encuentran los datasets\n",
    "\n",
    "# agrega ruta de busqueda donde tenemos archivos .py\n",
    "import sys\n",
    "sys.path.append(FUENTES_DIR)"
   ]
  },
  {
   "cell_type": "code",
   "execution_count": 6,
   "id": "971c6436-f017-4846-a35c-b994209f2155",
   "metadata": {},
   "outputs": [
    {
     "name": "stdout",
     "output_type": "stream",
     "text": [
      "         AT      V       AP     RH      PE\n",
      "0     14.96  41.76  1024.07  73.17  463.26\n",
      "1     25.18  62.96  1020.04  59.08  444.37\n",
      "2      5.11  39.40  1012.16  92.14  488.56\n",
      "3     20.86  57.32  1010.24  76.64  446.48\n",
      "4     10.82  37.50  1009.23  96.62  473.90\n",
      "...     ...    ...      ...    ...     ...\n",
      "9563  16.65  49.69  1014.01  91.00  460.03\n",
      "9564  13.19  39.18  1023.67  66.78  469.62\n",
      "9565  31.32  74.33  1012.92  36.48  429.57\n",
      "9566  24.48  69.45  1013.86  62.39  435.74\n",
      "9567  21.60  62.52  1017.23  67.87  453.28\n",
      "\n",
      "[9568 rows x 5 columns]\n"
     ]
    }
   ],
   "source": [
    "import pandas as pd      # para trabajar con archivos de datos csv, excel, etc: https://pandas.pydata.org/docs/getting_started/tutorials.html\n",
    "import chardet           # para detectar la codificación de texto en archivos\n",
    "\n",
    "\n",
    "nombre_archivo = DATOS_DIR + 'CCPP.csv' # archivo de globos\n",
    "\n",
    "# recupera el archivo en un objeto dataframe de pandas utilizando la codificación detectada\n",
    "df = pd.read_csv(nombre_archivo)\n",
    "print(df)"
   ]
  },
  {
   "cell_type": "raw",
   "id": "fead9ba4-5902-49e5-a647-bc5e61d880b9",
   "metadata": {},
   "source": [
    "Se entrenaron 5 combinadores lineales con el objetivo de predecir el \n",
    "valor del atributo PE correspondiente a la cantidad de energía producida a partir del atributo AT (más \n",
    "detalles de este conjunto de datos aquí"
   ]
  },
  {
   "cell_type": "raw",
   "id": "7cf31294-3c43-4d93-9a76-1dab5f4d5fc1",
   "metadata": {
    "jp-MarkdownHeadingCollapsed": true
   },
   "source": [
    "W1 = -2.00 ; b1= 500\n",
    "W2 = -2.21 ; b2= 498\n",
    "W3 = -2.30 ; b3= 497 \n",
    "W4 = -2.22 ; b4=496.5\n",
    "W5 = -2.16 ; b5=496.911"
   ]
  },
  {
   "cell_type": "code",
   "execution_count": null,
   "id": "e1532cb2-681d-4b5b-a02a-9189141ec349",
   "metadata": {},
   "outputs": [],
   "source": [
    "Indique cuáles son los dos combinadores lineales con menor error cuadrático promedio a la hora de predecir el valor de PE en función de AT\n",
    "Recta de regresion --> Y = W * AT + b "
   ]
  },
  {
   "cell_type": "markdown",
   "id": "f6616556-d3db-49a2-b0c9-ed87d8a27123",
   "metadata": {},
   "source": [
    "### Calculo del Error Cuadratico Medio para cada combinacion lineal"
   ]
  },
  {
   "cell_type": "code",
   "execution_count": 23,
   "id": "bb833398-bae7-44e3-b4d4-7d36f7bf6ee9",
   "metadata": {},
   "outputs": [
    {
     "name": "stdout",
     "output_type": "stream",
     "text": [
      "ECM Combinador Lineal 1: 71.1625547554348\n",
      "ECM Combinador Lineal 2: 29.55712944886288\n",
      "ECM Combinador Lineal 3: 36.91941198244145\n",
      "ECM Combinador Lineal 4: 31.785616074548507\n",
      "ECM Combinador Lineal 5: 29.44848719225753\n"
     ]
    }
   ],
   "source": [
    "\n",
    "import numpy as np\n",
    "\n",
    "# defino pesos y bias:\n",
    "\n",
    "W1 = -2.00 ; b1= 500   # combinador lineal 1\n",
    "W2 = -2.21 ; b2= 498  # combinador lineal 2\n",
    "W3 = -2.30 ; b3= 497   # combinador lineal 3\n",
    "W4 = -2.22 ; b4=496.5  # combinador lineal 4\n",
    "W5 = -2.16 ; b5=496.91  # combinador lineal 5\n",
    "\n",
    "# Calcular las predicciones\n",
    "df['PE_predict_1'] = W1 * df['AT'] + b1  #  calcula las predicciones para todas las filas de la columna 'AT' del DataFrame de una \n",
    "df['PE_predict_2'] = W2 * df['AT'] + b2\n",
    "df['PE_predict_3'] = W3 * df['AT'] + b3\n",
    "df['PE_predict_4'] = W4 * df['AT'] + b4\n",
    "df['PE_predict_5'] = W5 * df['AT'] + b5\n",
    "\n",
    "# Calculo de ECM para cada combinador\n",
    "# (se calcula un ECM PROMEDIO entre todos los ECM calculados para todas las filas)\n",
    "ecm_1 = np.mean((df['PE'] - df['PE_predict_1'])**2)  # calcula el ECM para todas las filas de una\n",
    "ecm_2 = np.mean((df['PE'] - df['PE_predict_2'])**2)\n",
    "ecm_3 = np.mean((df['PE'] - df['PE_predict_3'])**2)\n",
    "ecm_4 = np.mean((df['PE'] - df['PE_predict_4'])**2)\n",
    "ecm_5 = np.mean((df['PE'] - df['PE_predict_5'])**2)\n",
    "\n",
    "#resultados\n",
    "print(\"ECM Combinador Lineal 1:\", ecm_1)\n",
    "print(\"ECM Combinador Lineal 2:\", ecm_2)\n",
    "print(\"ECM Combinador Lineal 3:\", ecm_3)\n",
    "print(\"ECM Combinador Lineal 4:\", ecm_4)\n",
    "print(\"ECM Combinador Lineal 5:\", ecm_5)\n",
    "\n",
    "\n",
    "\n",
    "\n",
    "\n"
   ]
  },
  {
   "cell_type": "markdown",
   "id": "e0c73580-20aa-45d4-97e0-41b0731e1d68",
   "metadata": {},
   "source": [
    "## Se observa que los combinadores lineales 2 y 3 son los que tienen un menor error cuadratico medio PROMEDIO para predecir PE a partir de AT"
   ]
  },
  {
   "cell_type": "code",
   "execution_count": null,
   "id": "b29c8e10-63a8-4498-9912-e91a3c7f9a45",
   "metadata": {},
   "outputs": [],
   "source": []
  }
 ],
 "metadata": {
  "kernelspec": {
   "display_name": "Python 3 (ipykernel)",
   "language": "python",
   "name": "python3"
  },
  "language_info": {
   "codemirror_mode": {
    "name": "ipython",
    "version": 3
   },
   "file_extension": ".py",
   "mimetype": "text/x-python",
   "name": "python",
   "nbconvert_exporter": "python",
   "pygments_lexer": "ipython3",
   "version": "3.12.4"
  }
 },
 "nbformat": 4,
 "nbformat_minor": 5
}
