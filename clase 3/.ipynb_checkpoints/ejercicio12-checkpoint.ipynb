{
 "cells": [
  {
   "cell_type": "markdown",
   "id": "9248b9ff-4cdb-42a8-998b-88c7b6296633",
   "metadata": {},
   "source": [
    "## EJERCICIO 12 - PRACTICA 3"
   ]
  },
  {
   "cell_type": "raw",
   "id": "9ddc68e7-9eca-43cb-9da5-a84c38ae3129",
   "metadata": {},
   "source": [
    "Utilice una red neuronal formada por una única capa de salida de 3 neuronas para clasificar las muestras de \n",
    "vino del archivo Vinos.csv"
   ]
  },
  {
   "cell_type": "markdown",
   "id": "48734459-c3a4-425b-8d59-2da8356ae57f",
   "metadata": {},
   "source": [
    "### Importo librerias"
   ]
  },
  {
   "cell_type": "code",
   "execution_count": 44,
   "id": "a9680c9c-5818-4d1f-aeb5-756e30f63eee",
   "metadata": {},
   "outputs": [],
   "source": [
    "%matplotlib inline\n",
    "import pandas as pd\n",
    "import numpy as np\n",
    "from sklearn import preprocessing, metrics, model_selection\n",
    "\n",
    "import time\n",
    "#from matplotlib import pyplot as plt\n",
    "from matplotlib import pylab as plt\n",
    "from IPython import display\n",
    "\n",
    "from grafica import *\n",
    "from ClassRNMulticlase import RNMulticlase"
   ]
  },
  {
   "cell_type": "code",
   "execution_count": 46,
   "id": "421222cb-faaf-45d0-a38c-0e70855751a9",
   "metadata": {},
   "outputs": [],
   "source": [
    "ColabNotebook = 'google.colab' in str(get_ipython())\n",
    "\n",
    "if ColabNotebook:\n",
    "    # monta G-drive en entorno COLAB\n",
    "    from google.colab import drive\n",
    "    drive.mount('/content/drive/')\n",
    "\n",
    "    # carpeta donde se encuentran archivos .py auxiliares\n",
    "    FUENTES_DIR = '/content/drive/MyDrive/Colab Notebooks/FUENTES/'\n",
    "    DATOS_DIR = '/content/drive/MyDrive/Colab Notebooks/DATOS/'      # carpeta donde se encuentran los datasets\n",
    "else:\n",
    "    # configuración para notebook con instalación LOCAL\n",
    "    FUENTES_DIR = '../Fuentes'         # carpeta donde se encuentran archivos .py auxiliares\n",
    "    DATOS_DIR   = '../Datos/' # carpeta donde se encuentran los datasets\n",
    "\n",
    "# agrega ruta de busqueda donde tenemos archivos .py\n",
    "import sys\n",
    "sys.path.append(FUENTES_DIR)"
   ]
  },
  {
   "cell_type": "markdown",
   "id": "a053a282-4626-4afb-ba84-8d4ace088bd7",
   "metadata": {},
   "source": [
    "### Leo dataframe"
   ]
  },
  {
   "cell_type": "code",
   "execution_count": 49,
   "id": "e77de68c-0f1d-4867-803d-4c9703c087e9",
   "metadata": {},
   "outputs": [
    {
     "data": {
      "text/html": [
       "<div>\n",
       "<style scoped>\n",
       "    .dataframe tbody tr th:only-of-type {\n",
       "        vertical-align: middle;\n",
       "    }\n",
       "\n",
       "    .dataframe tbody tr th {\n",
       "        vertical-align: top;\n",
       "    }\n",
       "\n",
       "    .dataframe thead th {\n",
       "        text-align: right;\n",
       "    }\n",
       "</style>\n",
       "<table border=\"1\" class=\"dataframe\">\n",
       "  <thead>\n",
       "    <tr style=\"text-align: right;\">\n",
       "      <th></th>\n",
       "      <th>Class</th>\n",
       "      <th>Alcohol</th>\n",
       "      <th>Malic acid</th>\n",
       "      <th>Ash</th>\n",
       "      <th>Alcalinity of ash</th>\n",
       "      <th>Magnesium</th>\n",
       "      <th>Total phenols</th>\n",
       "      <th>Flavanoids</th>\n",
       "      <th>Nonflavanoid phenols</th>\n",
       "      <th>Proanthocyanins</th>\n",
       "      <th>Color intensity</th>\n",
       "      <th>Hue</th>\n",
       "      <th>OD280/OD315</th>\n",
       "      <th>Proline</th>\n",
       "    </tr>\n",
       "  </thead>\n",
       "  <tbody>\n",
       "    <tr>\n",
       "      <th>0</th>\n",
       "      <td>1</td>\n",
       "      <td>14.23</td>\n",
       "      <td>1.71</td>\n",
       "      <td>2.43</td>\n",
       "      <td>15.6</td>\n",
       "      <td>127</td>\n",
       "      <td>2.80</td>\n",
       "      <td>3.06</td>\n",
       "      <td>0.28</td>\n",
       "      <td>2.29</td>\n",
       "      <td>5.64</td>\n",
       "      <td>1.04</td>\n",
       "      <td>3.92</td>\n",
       "      <td>1065</td>\n",
       "    </tr>\n",
       "    <tr>\n",
       "      <th>1</th>\n",
       "      <td>1</td>\n",
       "      <td>13.20</td>\n",
       "      <td>1.78</td>\n",
       "      <td>2.14</td>\n",
       "      <td>11.2</td>\n",
       "      <td>100</td>\n",
       "      <td>2.65</td>\n",
       "      <td>2.76</td>\n",
       "      <td>0.26</td>\n",
       "      <td>1.28</td>\n",
       "      <td>4.38</td>\n",
       "      <td>1.05</td>\n",
       "      <td>3.40</td>\n",
       "      <td>1050</td>\n",
       "    </tr>\n",
       "    <tr>\n",
       "      <th>2</th>\n",
       "      <td>1</td>\n",
       "      <td>13.16</td>\n",
       "      <td>2.36</td>\n",
       "      <td>2.67</td>\n",
       "      <td>18.6</td>\n",
       "      <td>101</td>\n",
       "      <td>2.80</td>\n",
       "      <td>3.24</td>\n",
       "      <td>0.30</td>\n",
       "      <td>2.81</td>\n",
       "      <td>5.68</td>\n",
       "      <td>1.03</td>\n",
       "      <td>3.17</td>\n",
       "      <td>1185</td>\n",
       "    </tr>\n",
       "    <tr>\n",
       "      <th>3</th>\n",
       "      <td>1</td>\n",
       "      <td>14.37</td>\n",
       "      <td>1.95</td>\n",
       "      <td>2.50</td>\n",
       "      <td>16.8</td>\n",
       "      <td>113</td>\n",
       "      <td>3.85</td>\n",
       "      <td>3.49</td>\n",
       "      <td>0.24</td>\n",
       "      <td>2.18</td>\n",
       "      <td>7.80</td>\n",
       "      <td>0.86</td>\n",
       "      <td>3.45</td>\n",
       "      <td>1480</td>\n",
       "    </tr>\n",
       "    <tr>\n",
       "      <th>4</th>\n",
       "      <td>1</td>\n",
       "      <td>13.24</td>\n",
       "      <td>2.59</td>\n",
       "      <td>2.87</td>\n",
       "      <td>21.0</td>\n",
       "      <td>118</td>\n",
       "      <td>2.80</td>\n",
       "      <td>2.69</td>\n",
       "      <td>0.39</td>\n",
       "      <td>1.82</td>\n",
       "      <td>4.32</td>\n",
       "      <td>1.04</td>\n",
       "      <td>2.93</td>\n",
       "      <td>735</td>\n",
       "    </tr>\n",
       "  </tbody>\n",
       "</table>\n",
       "</div>"
      ],
      "text/plain": [
       "   Class  Alcohol  Malic acid   Ash  Alcalinity of ash  Magnesium  \\\n",
       "0      1    14.23        1.71  2.43               15.6        127   \n",
       "1      1    13.20        1.78  2.14               11.2        100   \n",
       "2      1    13.16        2.36  2.67               18.6        101   \n",
       "3      1    14.37        1.95  2.50               16.8        113   \n",
       "4      1    13.24        2.59  2.87               21.0        118   \n",
       "\n",
       "   Total phenols  Flavanoids  Nonflavanoid phenols  Proanthocyanins  \\\n",
       "0           2.80        3.06                  0.28             2.29   \n",
       "1           2.65        2.76                  0.26             1.28   \n",
       "2           2.80        3.24                  0.30             2.81   \n",
       "3           3.85        3.49                  0.24             2.18   \n",
       "4           2.80        2.69                  0.39             1.82   \n",
       "\n",
       "   Color intensity   Hue  OD280/OD315  Proline  \n",
       "0             5.64  1.04         3.92     1065  \n",
       "1             4.38  1.05         3.40     1050  \n",
       "2             5.68  1.03         3.17     1185  \n",
       "3             7.80  0.86         3.45     1480  \n",
       "4             4.32  1.04         2.93      735  "
      ]
     },
     "execution_count": 49,
     "metadata": {},
     "output_type": "execute_result"
    }
   ],
   "source": [
    "import pandas as pd      # para trabajar con archivos de datos csv, excel, etc: https://pandas.pydata.org/docs/getting_started/tutorials.html\n",
    "import chardet           # para detectar la codificación de texto en archivos\n",
    "import numpy as np\n",
    "\n",
    "from sklearn import preprocessing\n",
    "from matplotlib import pyplot as plt\n",
    "import seaborn as sns\n",
    "\n",
    "# importa neurona lineal de Laura en la carpeta Colab definida con FUENTES_DIR\n",
    "from ClassNeuronaLineal import NeuronaLineal\n",
    "\n",
    "nombre_archivo = DATOS_DIR + 'Vinos.csv' # archivo de hojas\n",
    "\n",
    "#-- detectando la codificación de caracteres usada ----\n",
    "with open(nombre_archivo, 'rb') as f:\n",
    "    result = chardet.detect(f.read())  # or readline if the file is large\n",
    "\n",
    "# recupera el archivo en un objeto dataframe de pandas utilizando la codificación detectada\n",
    "df = pd.read_csv(nombre_archivo, delimiter=';' , nrows=None) # uso ';' por como esta organizado el dataframe\n",
    "\n",
    "df.head()\n",
    "\n"
   ]
  },
  {
   "cell_type": "code",
   "execution_count": 51,
   "id": "99d3d21e-842c-43c0-8090-1280a3ee511d",
   "metadata": {},
   "outputs": [
    {
     "data": {
      "text/plain": [
       "array([1, 2, 3], dtype=int64)"
      ]
     },
     "execution_count": 51,
     "metadata": {},
     "output_type": "execute_result"
    }
   ],
   "source": [
    "df['Class'].unique()"
   ]
  },
  {
   "cell_type": "markdown",
   "id": "bd1ce6a3-d266-4489-87a3-fa63af23f9f8",
   "metadata": {},
   "source": [
    "### Se observa que existen 3 clases de vinos distintos, por lo que la capa de salida tendra 3 neuronas"
   ]
  },
  {
   "cell_type": "markdown",
   "id": "75155e87-19db-47ce-929f-c52eac5f23e2",
   "metadata": {},
   "source": [
    "### Division de datos en X y T"
   ]
  },
  {
   "cell_type": "code",
   "execution_count": 55,
   "id": "39245b1b-1c98-4367-831c-3e5cb30922b1",
   "metadata": {},
   "outputs": [
    {
     "name": "stdout",
     "output_type": "stream",
     "text": [
      "Primeros ejemplos con sus valores de rta.esperados\n",
      "\n",
      "X\n",
      " [[1.423e+01 1.710e+00 2.430e+00 1.560e+01 1.270e+02 2.800e+00 3.060e+00\n",
      "  2.800e-01 2.290e+00 5.640e+00 1.040e+00 3.920e+00 1.065e+03]\n",
      " [1.320e+01 1.780e+00 2.140e+00 1.120e+01 1.000e+02 2.650e+00 2.760e+00\n",
      "  2.600e-01 1.280e+00 4.380e+00 1.050e+00 3.400e+00 1.050e+03]\n",
      " [1.316e+01 2.360e+00 2.670e+00 1.860e+01 1.010e+02 2.800e+00 3.240e+00\n",
      "  3.000e-01 2.810e+00 5.680e+00 1.030e+00 3.170e+00 1.185e+03]\n",
      " [1.437e+01 1.950e+00 2.500e+00 1.680e+01 1.130e+02 3.850e+00 3.490e+00\n",
      "  2.400e-01 2.180e+00 7.800e+00 8.600e-01 3.450e+00 1.480e+03]\n",
      " [1.324e+01 2.590e+00 2.870e+00 2.100e+01 1.180e+02 2.800e+00 2.690e+00\n",
      "  3.900e-01 1.820e+00 4.320e+00 1.040e+00 2.930e+00 7.350e+02]]\n",
      "T\n",
      " [[1. 0. 0.]\n",
      " [1. 0. 0.]\n",
      " [1. 0. 0.]\n",
      " [1. 0. 0.]\n",
      " [1. 0. 0.]]\n"
     ]
    }
   ],
   "source": [
    "X = np.array(df.iloc[:, 1:]) # selecciona todas las columnas menos la primera (datos de entrada)\n",
    "T = np.array(df['Class'])\n",
    "nomClases = df['Class'].value_counts()\n",
    "# creating instance of one-hot-encoder\n",
    "enc = preprocessing.OneHotEncoder(handle_unknown='ignore') # esto convierte 'Class' en 3 columnas binarias, una para cada Clase de vino\n",
    "T = enc.fit_transform(T.reshape(-1,1)).toarray()\n",
    "\n",
    "print(\"Primeros ejemplos con sus valores de rta.esperados\\n\")\n",
    "print(\"X\\n\", X[0:5,:])\n",
    "print(\"T\\n\", T[0:5,:])\n"
   ]
  },
  {
   "cell_type": "markdown",
   "id": "c37239af-cba1-4120-984f-ed00512e17e9",
   "metadata": {},
   "source": [
    "### Entrenamiento"
   ]
  },
  {
   "cell_type": "code",
   "execution_count": 60,
   "id": "d002bce5-b7ba-4dee-a560-89b9c0b00931",
   "metadata": {},
   "outputs": [],
   "source": [
    "#--- CONJUNTOS DE ENTRENAMIENTO Y TESTEO ---\n",
    "X_train, X_test, T_train, T_test = model_selection.train_test_split(X, T, test_size=0.50) #, random_state=42)\n",
    "normalizador = preprocessing.StandardScaler()\n",
    "X_train = normalizador.fit_transform(X_train)\n",
    "X_test = normalizador.transform(X_test)\n"
   ]
  },
  {
   "cell_type": "markdown",
   "id": "f3c99100-0f9b-4c11-83d8-215272ec8fe9",
   "metadata": {},
   "source": [
    "### Utilizar un máximo de 400 iteraciones y velocidades de aprendizaje 0.1, 0.2 y 0.3"
   ]
  },
  {
   "cell_type": "markdown",
   "id": "992b8530-5025-414f-be5a-7cbec399a2fa",
   "metadata": {},
   "source": [
    "### a) Función de activación ‘sigmoid’ y función de costo ‘ECM’ (error cuadrático medio)\r"
   ]
  },
  {
   "cell_type": "code",
   "execution_count": 62,
   "id": "9f5070d5-dca3-4816-8437-f0c9b9239717",
   "metadata": {},
   "outputs": [],
   "source": [
    "# Opciones para la función de activación: 'sigmoid', 'tanh' o 'softmax'\n",
    "# Opciones para la función de costo : 'ECM', 'EC_binaria', 'EC'\n",
    "# Combinaciones válidas: 'sigmoid'-'ECM', 'sigmoid'-'EC_binaria', 'tanh'-'ECM', 'softmax'-'EC'\n",
    "\n",
    "funcion = 'sigmoid'  \n",
    "funcionCOSTO = 'ECM'\n",
    "\n",
    "if (funcion == 'tanh'):\n",
    "    T_train = 2*T_train-1\n",
    "    T_test  = 2*T_test-1\n",
    "\n",
    "rn = RNMulticlase(alpha=0.1, n_iter=400, cotaE=1e-06, FUN=funcion, COSTO=funcionCOSTO, random_state=None)\n",
    "resul = rn.fit(X_train, T_train)"
   ]
  },
  {
   "cell_type": "code",
   "execution_count": 64,
   "id": "91d0a8a8-f39d-4112-a5d9-bb7c40528761",
   "metadata": {},
   "outputs": [
    {
     "name": "stdout",
     "output_type": "stream",
     "text": [
      "Pesos obtenidos\n",
      "\n",
      "[[ 1.81911577  0.88568451  0.8955782  -2.0249884  -0.38088161 -0.10664184\n",
      "   1.68680204 -0.4520909   0.33567182 -0.10004123 -0.05173258  0.96648888\n",
      "   2.25881604]\n",
      " [-1.38428028 -1.081942   -2.28335531  1.79995217  0.79284278  1.41540186\n",
      "  -0.69110879  0.3803375  -0.49042893 -3.30159111  0.40200361  1.41031492\n",
      "  -3.07792459]\n",
      " [ 0.495345    1.0089737   2.52309781  0.13704549 -0.31213476 -1.85395197\n",
      "  -0.95140868  0.59635861 -0.9446233   2.45231049 -1.2697516  -2.52517819\n",
      "   0.76728835]]\n",
      "[[-1.4206695 ]\n",
      " [-3.45868432]\n",
      " [-2.8585338 ]]\n"
     ]
    }
   ],
   "source": [
    "print(\"Pesos obtenidos\\n\")\n",
    "print(rn.w_)\n",
    "print(rn.b_)"
   ]
  },
  {
   "cell_type": "code",
   "execution_count": 66,
   "id": "75f9427f-6552-4aba-a0b8-f6a2c3254462",
   "metadata": {},
   "outputs": [
    {
     "data": {
      "image/png": "[encoded data removed]",
      "text/plain": [
       "<Figure size 640x480 with 1 Axes>"
      ]
     },
     "metadata": {},
     "output_type": "display_data"
    }
   ],
   "source": [
    "plt.plot(range(1, len(rn.errors_) + 1), rn.errors_, marker='o')\n",
    "plt.xlabel('Iteraciones')\n",
    "plt.ylabel(funcionCOSTO)\n",
    "plt.show()"
   ]
  },
  {
   "cell_type": "code",
   "execution_count": 68,
   "id": "20207ddf-5b59-4227-a7a9-5f6bbfaf384e",
   "metadata": {},
   "outputs": [
    {
     "data": {
      "image/png": "[encoded data removed]",
      "text/plain": [
       "<Figure size 640x480 with 1 Axes>"
      ]
     },
     "metadata": {},
     "output_type": "display_data"
    }
   ],
   "source": [
    "plt.plot(range(1, len(rn.accuracy_) + 1), rn.accuracy_, marker='o')\n",
    "plt.xlabel('Iteraciones')\n",
    "plt.ylabel('accuracy')\n",
    "plt.show()"
   ]
  },
  {
   "cell_type": "code",
   "execution_count": 70,
   "id": "b735bb17-a941-4eda-949b-3d8d8ee9428f",
   "metadata": {},
   "outputs": [
    {
     "name": "stdout",
     "output_type": "stream",
     "text": [
      "acc.Train = 0.99    acc.Test = 0.93\n"
     ]
    }
   ],
   "source": [
    "#-- accuracy en entrenamiento y testeo ---\n",
    "acc_Train = rn.accuracy(X_train, T_train)\n",
    "acc_Test = rn.accuracy(X_test, T_test)\n",
    "print(\"acc.Train = %.2f    acc.Test = %.2f\" % (acc_Train, acc_Test))"
   ]
  },
  {
   "cell_type": "code",
   "execution_count": null,
   "id": "0810613b-b0f8-4467-af06-777961037d5f",
   "metadata": {},
   "outputs": [],
   "source": []
  },
  {
   "cell_type": "markdown",
   "id": "6b8f894a-1983-45bd-b912-276fab22534f",
   "metadata": {},
   "source": [
    "### b) Función de activación ‘sigmoid’ y función de costo ‘EC_binaria’ (entropía cruzada binaria)\r"
   ]
  },
  {
   "cell_type": "code",
   "execution_count": 108,
   "id": "e0a35ebb-4b29-47ff-8363-e4214ef896fe",
   "metadata": {},
   "outputs": [],
   "source": [
    "# Opciones para la función de activación: 'sigmoid', 'tanh' o 'softmax'\n",
    "# Opciones para la función de costo : 'ECM', 'EC_binaria', 'EC'\n",
    "# Combinaciones válidas: 'sigmoid'-'ECM', 'sigmoid'-'EC_binaria', 'tanh'-'ECM', 'softmax'-'EC'\n",
    "\n",
    "funcion = 'sigmoid'  \n",
    "funcionCOSTO = 'EC_binaria'\n",
    "\n",
    "if (funcion == 'tanh'):\n",
    "    T_train = 2*T_train-1\n",
    "    T_test  = 2*T_test-1\n",
    "\n",
    "rn = RNMulticlase(alpha=0.1, n_iter=400, cotaE=1e-06, FUN=funcion, COSTO=funcionCOSTO, random_state=None)\n",
    "resul = rn.fit(X_train, T_train)"
   ]
  },
  {
   "cell_type": "code",
   "execution_count": 110,
   "id": "daae4d61-64e9-4adb-9e59-66d19b30ffc0",
   "metadata": {},
   "outputs": [
    {
     "name": "stdout",
     "output_type": "stream",
     "text": [
      "Pesos obtenidos\n",
      "\n",
      "[[ 2.52419603  1.39811901  1.30021424 -3.03754315 -0.4673097  -0.14518733\n",
      "   2.4707802  -0.72014999  0.40943537  0.08551723  0.10859711  1.4660223\n",
      "   3.14629299]\n",
      " [-2.1214327  -1.4143008  -3.25758288  2.39359391  1.0534967   2.13834328\n",
      "  -1.2100659   0.32529332 -0.76139803 -4.19908413  1.07357482  1.84068505\n",
      "  -4.53722646]\n",
      " [ 1.74546482  0.77683967  1.14922502  1.16051802 -0.12960674 -0.85170261\n",
      "  -2.98186824 -0.32071721  0.0308941   3.14360493 -2.57019952 -3.29842558\n",
      "   0.82673149]]\n",
      "[[-3.61241031]\n",
      " [-5.96383597]\n",
      " [-4.87062987]]\n"
     ]
    }
   ],
   "source": [
    "print(\"Pesos obtenidos\\n\")\n",
    "print(rn.w_)\n",
    "print(rn.b_)"
   ]
  },
  {
   "cell_type": "code",
   "execution_count": 112,
   "id": "408d03d9-7e4e-4f4f-9ef3-1989ff5994a8",
   "metadata": {},
   "outputs": [
    {
     "data": {
      "image/png": "[encoded data removed]",
      "text/plain": [
       "<Figure size 640x480 with 1 Axes>"
      ]
     },
     "metadata": {},
     "output_type": "display_data"
    }
   ],
   "source": [
    "plt.plot(range(1, len(rn.errors_) + 1), rn.errors_, marker='o')\n",
    "plt.xlabel('Iteraciones')\n",
    "plt.ylabel(funcionCOSTO)\n",
    "plt.show()"
   ]
  },
  {
   "cell_type": "code",
   "execution_count": 114,
   "id": "8b685fff-96fd-4516-979b-e5a38c10bd56",
   "metadata": {},
   "outputs": [
    {
     "data": {
      "image/png": "[encoded data removed]",
      "text/plain": [
       "<Figure size 640x480 with 1 Axes>"
      ]
     },
     "metadata": {},
     "output_type": "display_data"
    }
   ],
   "source": [
    "plt.plot(range(1, len(rn.accuracy_) + 1), rn.accuracy_, marker='o')\n",
    "plt.xlabel('Iteraciones')\n",
    "plt.ylabel('accuracy')\n",
    "plt.show()"
   ]
  },
  {
   "cell_type": "code",
   "execution_count": 116,
   "id": "2bbc5625-eab2-4ee8-93f8-38f0365a18c2",
   "metadata": {},
   "outputs": [
    {
     "name": "stdout",
     "output_type": "stream",
     "text": [
      "acc.Train = 0.98    acc.Test = 0.94\n"
     ]
    }
   ],
   "source": [
    "#-- accuracy en entrenamiento y testeo ---\n",
    "acc_Train = rn.accuracy(X_train, T_train)\n",
    "acc_Test = rn.accuracy(X_test, T_test)\n",
    "print(\"acc.Train = %.2f    acc.Test = %.2f\" % (acc_Train, acc_Test))"
   ]
  },
  {
   "cell_type": "raw",
   "id": "597d42bc-5d58-49b3-a2df-8676f3aebbc1",
   "metadata": {},
   "source": [
    "Resultados\n",
    "velocidad 0.1 --> acc.Train = 0.98    acc.Test = 0.94"
   ]
  },
  {
   "cell_type": "markdown",
   "id": "6b7ecd13-ffab-4966-a6e7-398b320d9b11",
   "metadata": {},
   "source": [
    "### c) Función de activación ‘tanh’ y función de costo ‘ECM’ (error cuadrático medio)\r",
    "\r"
   ]
  },
  {
   "cell_type": "raw",
   "id": "86a7a6f9-1750-4721-ba43-85bbe9de96c4",
   "metadata": {},
   "source": [
    "(ejecuto en codigos de arriba cambiando opciones)\n",
    "Resultados:\n",
    "velocidad 0.1 --> acc.Train = 0.99    acc.Test = 0.93\n"
   ]
  },
  {
   "cell_type": "markdown",
   "id": "129794c8-4cee-4cc6-b6d8-4a650c0d4639",
   "metadata": {},
   "source": [
    "### d) Capa ‘Softmax’ y función de costo ‘EC’ (entropía cruzada)\r",
    "\r"
   ]
  },
  {
   "cell_type": "raw",
   "id": "92fbea3c-2d00-4d9a-9358-b9ebc4c29a05",
   "metadata": {},
   "source": [
    "(ejecuto en codigos de arriba cambiando opciones)\n",
    "Resultados:\n",
    "velocidad 0.1 --> acc.Train = 0.35    acc.Test = 0.31\n"
   ]
  }
 ],
 "metadata": {
  "kernelspec": {
   "display_name": "Python 3 (ipykernel)",
   "language": "python",
   "name": "python3"
  },
  "language_info": {
   "codemirror_mode": {
    "name": "ipython",
    "version": 3
   },
   "file_extension": ".py",
   "mimetype": "text/x-python",
   "name": "python",
   "nbconvert_exporter": "python",
   "pygments_lexer": "ipython3",
   "version": "3.12.4"
  }
 },
 "nbformat": 4,
 "nbformat_minor": 5
}
