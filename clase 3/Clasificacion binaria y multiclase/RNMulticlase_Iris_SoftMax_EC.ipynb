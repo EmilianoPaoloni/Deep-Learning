{
 "cells": [
  {
   "cell_type": "code",
   "execution_count": 1,
   "id": "5d42897d",
   "metadata": {},
   "outputs": [],
   "source": [
    "import numpy as np\n",
    "import pandas as pd\n",
    "from sklearn import preprocessing, metrics, model_selection\n",
    "from matplotlib import pylab as plt\n",
    "from IPython import display\n",
    "\n",
    "from ClassRNMulticlase import RNMulticlase"
   ]
  },
  {
   "cell_type": "code",
   "execution_count": 2,
   "id": "1d83d9c4",
   "metadata": {},
   "outputs": [],
   "source": [
    "datos = pd.read_csv('../Datos/iris.csv')\n",
    "\n",
    "X = np.array(datos.iloc[:, :4])\n",
    "T = np.array(datos['class'])\n",
    "nomClases = datos['class'].value_counts()\n",
    "# creating instance of one-hot-encoder\n",
    "enc = preprocessing.OneHotEncoder(handle_unknown='ignore')\n",
    "T = enc.fit_transform(T.reshape(-1,1)).toarray()"
   ]
  },
  {
   "cell_type": "code",
   "execution_count": 3,
   "id": "283fe519",
   "metadata": {},
   "outputs": [],
   "source": [
    "#--- CONJUNTOS DE ENTRENAMIENTO Y TESTEO ---\n",
    "X_train, X_test, T_train, T_test = model_selection.train_test_split( \\\n",
    "                                         X, T, test_size=0.20) #, random_state=42)\n",
    "\n",
    "normalizarEntradas = True\n",
    "if normalizarEntradas:\n",
    "    normalizador = preprocessing.StandardScaler()\n",
    "    X_train = normalizador.fit_transform(X_train)\n",
    "    X_test = normalizador.transform(X_test)"
   ]
  },
  {
   "cell_type": "code",
   "execution_count": 12,
   "id": "bae7daee",
   "metadata": {},
   "outputs": [
    {
     "name": "stdout",
     "output_type": "stream",
     "text": [
      "accuracy =  0.6666666666666666\n",
      "Iteraciones =  400\n"
     ]
    }
   ],
   "source": [
    "rn = RNMulticlase(alpha=0.01, n_iter=400, cotaE=10e-09, FUN='logsig', COSTO='EC')\n",
    "resul=rn.fit(X,T)\n",
    "print(\"accuracy = \", rn.accuracy(X,T))\n",
    "print(\"Iteraciones = \", len(rn.errors_))"
   ]
  },
  {
   "cell_type": "code",
   "execution_count": 5,
   "id": "ce282ce8",
   "metadata": {},
   "outputs": [
    {
     "name": "stdout",
     "output_type": "stream",
     "text": [
      "\n"
     ]
    }
   ],
   "source": [
    "\"\"\"\n",
    "MAX_ITE = 400\n",
    "alfa = 0.05\n",
    "ite=0\n",
    "CotaError = 10e-9\n",
    "AVGError = 1\n",
    "AVGErrorAnt=0\n",
    "itera=[]\n",
    "\n",
    "EPS = np.finfo(float).eps\n",
    "\n",
    "while ((ite<MAX_ITE) and (abs(AVGErrorAnt-AVGError)>CotaError)):\n",
    "    AVGErrorAnt = AVGError\n",
    "    suma= 0.0\n",
    "    for e in range(nCantEjemplos):\n",
    "        # --- Calcular la respuesta de la capa SOFTMAX ---\n",
    "        netas = W @ X[e:e+1,:].T + b\n",
    "        y = np.exp(netas)/np.sum(np.exp(netas))\n",
    "                \n",
    "        deltaO = T[e:e+1, :].T-y\n",
    "        # for s in range(nOut):\n",
    "        #     W[s,:] = W[s,:] + alfa * deltaO[s] * X[e,:]\n",
    "        #     b[s] = b[s] + alfa * deltaO[s]\n",
    "        \n",
    "        W = W + alfa * deltaO @ X[e:e+1,:]\n",
    "        b = b + alfa * deltaO\n",
    "        \n",
    "        #-- acumular el error para promediar al final\n",
    "        suma = suma + np.sum(-T[e:e+1, :].T*np.log(y+EPS))\n",
    "\n",
    "    # --- aprox. del error cuadrático promedio --- \n",
    "    AVGError = np.sum(suma/nCantEjemplos)\n",
    "    \n",
    "    # --- calcular la tasa de aciertos para graficar después---\n",
    "    salidas = W @ X.T + b\n",
    "    y = np.exp(salidas)/np.sum(np.exp(salidas), axis=0)\n",
    "    y_pred = (y.T>0.5)*1\n",
    "    cantErrores = np.sum((np.sum(T!=y_pred,axis=1)>0)*1)\n",
    "    TasaAciertos = 1-cantErrores/nCantEjemplos\n",
    "    \n",
    "    itera.append([AVGError, TasaAciertos])\n",
    "    \n",
    "    ite = ite + 1\n",
    "print(\"% aciertos = \", TasaAciertos)    \n",
    "\"\"\"\n",
    "print(\"\")"
   ]
  },
  {
   "cell_type": "code",
   "execution_count": 13,
   "id": "f12219e8",
   "metadata": {},
   "outputs": [
    {
     "data": {
      "image/png": "[encoded data removed]",
      "text/plain": [
       "<Figure size 432x288 with 2 Axes>"
      ]
     },
     "metadata": {
      "needs_background": "light"
     },
     "output_type": "display_data"
    }
   ],
   "source": [
    "x = range(len(rn.errors_))    \n",
    "fig, (ax1, ax2)= plt.subplots(2)\n",
    "ax1.plot(x, rn.errors_)\n",
    "ax1.set_title('EC')\n",
    "ax2.plot(x, rn.accuracy_, 'tab:orange')\n",
    "ax2.set_title('accuracy')\n",
    "plt.suptitle('SoftMax + EC')\n",
    "fig.tight_layout()"
   ]
  },
  {
   "cell_type": "code",
   "execution_count": null,
   "id": "b8eabed8",
   "metadata": {},
   "outputs": [],
   "source": []
  }
 ],
 "metadata": {
  "kernelspec": {
   "display_name": "Python 3",
   "language": "python",
   "name": "python3"
  },
  "language_info": {
   "codemirror_mode": {
    "name": "ipython",
    "version": 3
   },
   "file_extension": ".py",
   "mimetype": "text/x-python",
   "name": "python",
   "nbconvert_exporter": "python",
   "pygments_lexer": "ipython3",
   "version": "3.8.8"
  }
 },
 "nbformat": 4,
 "nbformat_minor": 5
}
