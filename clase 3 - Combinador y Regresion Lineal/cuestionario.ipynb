{
 "cells": [
  {
   "cell_type": "markdown",
   "id": "f8640fe1-0a8b-4cc3-b6cd-8bf28108ac4e",
   "metadata": {},
   "source": [
    "## Cuestionario"
   ]
  },
  {
   "cell_type": "raw",
   "id": "b02c269a-6dac-49e2-b740-df8f3f59f81e",
   "metadata": {},
   "source": [
    "Se entrenó una neurona no lineal con función de transferencia sigmoide entre -1 y 1 (tanh) para clasificar los 16 ejemplos del archivo Frutas_train.csv. Los ejemplos de entrenamiento fueron normalizados utilizando sklearn.preprocessing.StandardScaler() con sus parámetros por defecto. \n",
    "\n",
    "Al finalizar el entrenamiento, se obtuvo una neurona no lineal con los siguientes pesos:\n",
    "\n",
    "W(diámetro) = 2.65, W(color) = -2.5 y b = 0.03.\n",
    "\n",
    "Cabe aclarar que la neurona obtenida clasifica correctamente los 16 ejemplos de entrenamiento si se considera a las salidas mayor que cero como 1 y a las menores o iguales a cero como -1.\n",
    "\n"
   ]
  },
  {
   "cell_type": "code",
   "execution_count": 1,
   "id": "df0f98ee-79d6-4393-af2f-98c6faa7dd0e",
   "metadata": {},
   "outputs": [],
   "source": [
    "ColabNotebook = 'google.colab' in str(get_ipython())\n",
    "\n",
    "if ColabNotebook:\n",
    "    # monta G-drive en entorno COLAB\n",
    "    from google.colab import drive\n",
    "    drive.mount('/content/drive/')\n",
    "\n",
    "    # carpeta donde se encuentran archivos .py auxiliares\n",
    "    FUENTES_DIR = '/content/drive/MyDrive/Colab Notebooks/FUENTES/'\n",
    "    DATOS_DIR = '/content/drive/MyDrive/Colab Notebooks/DATOS/'      # carpeta donde se encuentran los datasets\n",
    "else:\n",
    "    # configuración para notebook con instalación LOCAL\n",
    "    FUENTES_DIR = '../Fuentes'         # carpeta donde se encuentran archivos .py auxiliares\n",
    "    DATOS_DIR   = '../Datos/' # carpeta donde se encuentran los datasets\n",
    "\n",
    "# agrega ruta de busqueda donde tenemos archivos .py\n",
    "import sys\n",
    "sys.path.append(FUENTES_DIR)"
   ]
  },
  {
   "cell_type": "code",
   "execution_count": 3,
   "id": "f4b61c07-8620-4feb-8135-672503de2e25",
   "metadata": {},
   "outputs": [
    {
     "data": {
      "text/html": [
       "<div>\n",
       "<style scoped>\n",
       "    .dataframe tbody tr th:only-of-type {\n",
       "        vertical-align: middle;\n",
       "    }\n",
       "\n",
       "    .dataframe tbody tr th {\n",
       "        vertical-align: top;\n",
       "    }\n",
       "\n",
       "    .dataframe thead th {\n",
       "        text-align: right;\n",
       "    }\n",
       "</style>\n",
       "<table border=\"1\" class=\"dataframe\">\n",
       "  <thead>\n",
       "    <tr style=\"text-align: right;\">\n",
       "      <th></th>\n",
       "      <th>Diametro</th>\n",
       "      <th>Color</th>\n",
       "      <th>Clase</th>\n",
       "    </tr>\n",
       "  </thead>\n",
       "  <tbody>\n",
       "    <tr>\n",
       "      <th>0</th>\n",
       "      <td>10</td>\n",
       "      <td>200</td>\n",
       "      <td>Naranja</td>\n",
       "    </tr>\n",
       "    <tr>\n",
       "      <th>1</th>\n",
       "      <td>20</td>\n",
       "      <td>30</td>\n",
       "      <td>Melon</td>\n",
       "    </tr>\n",
       "    <tr>\n",
       "      <th>2</th>\n",
       "      <td>8</td>\n",
       "      <td>150</td>\n",
       "      <td>Naranja</td>\n",
       "    </tr>\n",
       "    <tr>\n",
       "      <th>3</th>\n",
       "      <td>26</td>\n",
       "      <td>30</td>\n",
       "      <td>Melon</td>\n",
       "    </tr>\n",
       "    <tr>\n",
       "      <th>4</th>\n",
       "      <td>7</td>\n",
       "      <td>170</td>\n",
       "      <td>Naranja</td>\n",
       "    </tr>\n",
       "  </tbody>\n",
       "</table>\n",
       "</div>"
      ],
      "text/plain": [
       "   Diametro  Color    Clase\n",
       "0        10    200  Naranja\n",
       "1        20     30    Melon\n",
       "2         8    150  Naranja\n",
       "3        26     30    Melon\n",
       "4         7    170  Naranja"
      ]
     },
     "execution_count": 3,
     "metadata": {},
     "output_type": "execute_result"
    }
   ],
   "source": [
    "import pandas as pd      # para trabajar con archivos de datos csv, excel, etc: https://pandas.pydata.org/docs/getting_started/tutorials.html\n",
    "import chardet           # para detectar la codificación de texto en archivos\n",
    "import numpy as np\n",
    "\n",
    "from sklearn import preprocessing\n",
    "from matplotlib import pyplot as plt\n",
    "import seaborn as sns\n",
    "\n",
    "# importa neurona lineal de Laura en la carpeta Colab definida con FUENTES_DIR\n",
    "from ClassNeuronaLineal import NeuronaLineal\n",
    "\n",
    "nombre_archivo = DATOS_DIR + 'Frutastrain.csv' # archivo de hojas\n",
    "\n",
    "#-- detectando la codificación de caracteres usada ----\n",
    "with open(nombre_archivo, 'rb') as f:\n",
    "    result = chardet.detect(f.read())  # or readline if the file is large\n",
    "\n",
    "# recupera el archivo en un objeto dataframe de pandas utilizando la codificación detectada\n",
    "df = pd.read_csv(nombre_archivo, delimiter=',' , nrows=None) # uso ';' por como esta organizado el dataframe\n",
    "\n",
    "df.head()\n",
    "\n"
   ]
  },
  {
   "cell_type": "code",
   "execution_count": 4,
   "id": "9f4fab52-94a6-4e5d-83f5-12e85b482078",
   "metadata": {},
   "outputs": [
    {
     "name": "stdout",
     "output_type": "stream",
     "text": [
      "   Diametro  Color    Clase\n",
      "0        10    200  Naranja\n",
      "1        20     30    Melon\n",
      "2         8    150  Naranja\n",
      "3        26     30    Melon\n",
      "4         7    170  Naranja\n",
      "    Diametro  Color    Clase\n",
      "11        23    190    Melon\n",
      "12        24    250  Naranja\n",
      "13        15     31    Melon\n",
      "14        15    250  Naranja\n",
      "15        19     31    Melon\n"
     ]
    }
   ],
   "source": [
    "#verifico las primeras y ultimas filas (solo para ver si se leyó bien el csv) --> tiene que haber 16 filas\n",
    "print(df.head())\n",
    "print(df.tail())"
   ]
  },
  {
   "cell_type": "code",
   "execution_count": 74,
   "id": "464ed5f5-9ce5-4735-97a9-afc79bfd33db",
   "metadata": {},
   "outputs": [
    {
     "name": "stdout",
     "output_type": "stream",
     "text": [
      "    Diametro     Color    Clase\n",
      "0  -1.504629  0.784611  Naranja\n",
      "1   0.239868 -1.402009    Melon\n",
      "2  -1.853529  0.141487  Naranja\n",
      "3   1.286567 -1.402009    Melon\n",
      "4  -2.027978  0.398737  Naranja\n",
      "5   0.937667 -1.376284    Melon\n",
      "6   0.239868  0.398737  Naranja\n",
      "7   0.414318  0.270112    Melon\n",
      "8   0.414318  0.527361  Naranja\n",
      "9   0.763218  0.270112    Melon\n",
      "10  0.588768  0.655986  Naranja\n",
      "11  0.763218  0.655986    Melon\n",
      "12  0.937667  1.427734  Naranja\n",
      "13 -0.632380 -1.389147    Melon\n",
      "14 -0.632380  1.427734  Naranja\n",
      "15  0.065419 -1.389147    Melon\n"
     ]
    }
   ],
   "source": [
    "#calculo media y desvio:\n",
    "MEDIACOLOR= df['Color'].mean()\n",
    "DESVCOLOR= df['Color'].std()\n",
    "MEDIAD= df['Diametro'].mean()\n",
    "DESVD= df['Diametro'].std()\n",
    "\n",
    "\n",
    "#Normalizo:\n",
    "import pandas as pd\n",
    "from sklearn.preprocessing import StandardScaler\n",
    "scaler = StandardScaler()\n",
    "\n",
    "# Seleccionamos solo las columnas numéricas\n",
    "columnas_numericas = df.select_dtypes(include=['float64', 'int64']).columns\n",
    "\n",
    "# Aplicamos el escalador a esas columnas\n",
    "df[columnas_numericas] = scaler.fit_transform(df[columnas_numericas])\n",
    "\n",
    "print(df)"
   ]
  },
  {
   "cell_type": "raw",
   "id": "33d41680-40e0-4dcd-94d6-e595fbb75448",
   "metadata": {},
   "source": [
    "Indique cuántos ejemplos de entrenamiento resultarían clasificados como “indefinido” si se considera a las salidas mayores o iguales que 0.8 como 1, a las menores o iguales que -0.8 como -1 y a las comprendidas en (-0.8, 0.8) como indefinidas."
   ]
  },
  {
   "cell_type": "markdown",
   "id": "63d571de-e1fe-441b-a1a0-1a5a62f2482e",
   "metadata": {},
   "source": [
    "#### Para analizar esto, primero armo la funcion tanh con los pesos: W(diámetro) = 2.65, W(color) = -2.5 y b = 0.03."
   ]
  },
  {
   "cell_type": "code",
   "execution_count": 21,
   "id": "b9f6a4cd-b6df-496c-b88e-d799109ef7ac",
   "metadata": {},
   "outputs": [],
   "source": [
    "import numpy as np\n",
    "\n",
    "# PESOS Y BIAS\n",
    "W_diametro = 2.65\n",
    "W_color = -2.5\n",
    "b = 0.03\n",
    "\n",
    "\n",
    "\n",
    "# Definir una función tanh\n",
    "def tanh_activation(diametro, color):\n",
    "\n",
    "    # Calcular la entrada neta (combinación lineal de las características)\n",
    "    x = ( W_diametro * diametro ) + ( W_color * color ) + b\n",
    "    \n",
    "    print('neta: ' , x)\n",
    "\n",
    "    # Aplicar la función de activación tanh\n",
    "    tanh_output = (2.0 / (1+np.exp(-2*x)) - 1)\n",
    "\n",
    "    return tanh_output "
   ]
  },
  {
   "cell_type": "markdown",
   "id": "446532f3-fb1b-4234-86ed-20ae56dab6e7",
   "metadata": {},
   "source": [
    "#### Evaluo las filas del df en tanh\n"
   ]
  },
  {
   "cell_type": "code",
   "execution_count": 24,
   "id": "b3fadec8-7834-4f64-ae12-3e6ed4ac2a5d",
   "metadata": {},
   "outputs": [
    {
     "name": "stdout",
     "output_type": "stream",
     "text": [
      "neta:  -5.9187934270357125\n",
      "Fila 0 -> Diámetro: -1.5046290911232887, Color: 0.7846105342235993 -> Predicción: -1.00\n",
      "\n",
      "neta:  4.170673743910691\n",
      "Fila 1 -> Diámetro: 0.2398684058312489, Color: -1.4020089873831527 -> Predicción: 1.00\n",
      "\n",
      "neta:  -5.235568628651947\n",
      "Fila 2 -> Diámetro: -1.853528590514196, Color: 0.14148714551573102 -> Predicción: -1.00\n",
      "\n",
      "neta:  6.944424764068406\n",
      "Fila 3 -> Diámetro: 1.2865669040039713, Color: -1.4020089873831527 -> Predicción: 1.00\n",
      "\n",
      "neta:  -6.340983854052767\n",
      "Fila 4 -> Diámetro: -2.02797834020965, Color: 0.3987365009988783 -> Predicción: -1.00\n",
      "\n",
      "neta:  5.955528751811715\n",
      "Fila 5 -> Diámetro: 0.937667404613064, Color: -1.376284051834838 -> Predicción: 1.00\n",
      "\n",
      "neta:  -0.33118997704438613\n",
      "Fila 6 -> Diámetro: 0.2398684058312489, Color: 0.3987365009988783 -> Predicción: -0.32\n",
      "\n",
      "neta:  0.45266355400250036\n",
      "Fila 7 -> Diámetro: 0.41431815552670265, Color: 0.27011182325730465 -> Predicción: 0.42\n",
      "\n",
      "neta:  -0.1904598347053679\n",
      "Fila 8 -> Diámetro: 0.41431815552670265, Color: 0.527361178740452 -> Predicción: -0.19\n",
      "\n",
      "neta:  1.3772472273884053\n",
      "Fila 9 -> Diámetro: 0.7632176549176102, Color: 0.27011182325730465 -> Predicción: 0.88\n",
      "\n",
      "neta:  -0.049729692366349526\n",
      "Fila 10 -> Diámetro: 0.5887679052221564, Color: 0.6559858564820256 -> Predicción: -0.05\n",
      "\n",
      "neta:  0.412562144326603\n",
      "Fila 11 -> Diámetro: 0.7632176549176102, Color: 0.6559858564820256 -> Predicción: 0.39\n",
      "\n",
      "neta:  -1.0545161851040488\n",
      "Fila 12 -> Diámetro: 0.937667404613064, Color: 1.4277339229314674 -> Predicción: -0.78\n",
      "\n",
      "neta:  1.8270583910105358\n",
      "Fila 13 -> Diámetro: -0.6323803426460198, Color: -1.3891465196089954 -> Predicción: 0.95\n",
      "\n",
      "neta:  -5.215142715340621\n",
      "Fila 14 -> Diámetro: -0.6323803426460198, Color: 1.4277339229314674 -> Predicción: -1.00\n",
      "\n",
      "neta:  3.676225737782345\n",
      "Fila 15 -> Diámetro: 0.06541865613579514, Color: -1.3891465196089954 -> Predicción: 1.00\n",
      "\n",
      "cantidad de predicciones indefinidas  6\n"
     ]
    }
   ],
   "source": [
    "cantIndefinidos = 0\n",
    "for i, row in df.iterrows():\n",
    "    diametro = row['Diametro']\n",
    "    color = row['Color']\n",
    "    prediccion = tanh_activation(diametro, color)\n",
    "    \n",
    "    if (-0.8 < prediccion < 0.8):\n",
    "      cantIndefinidos = cantIndefinidos + 1\n",
    "        \n",
    "    print(f\"Fila {i} -> Diámetro: {diametro}, Color: {color} -> Predicción: {prediccion:.2f}\")\n",
    "    print()\n",
    "print('cantidad de predicciones indefinidas ', cantIndefinidos)"
   ]
  },
  {
   "cell_type": "code",
   "execution_count": 46,
   "id": "ef7619e5-c8a8-4668-86a7-eb8e6939f5f8",
   "metadata": {},
   "outputs": [],
   "source": [
    "from ClassNeuronaGral import NeuronaGradiente\n",
    "modelo_sigmoid = NeuronaGradiente(alpha=0.01, n_iter=100, FUN='sigmoid', COSTO='EC_binaria')"
   ]
  },
  {
   "cell_type": "code",
   "execution_count": 102,
   "id": "5dbf78d9-2f26-4b38-8ea8-0258bd977150",
   "metadata": {},
   "outputs": [
    {
     "name": "stdout",
     "output_type": "stream",
     "text": [
      "neta:  -150.14492924919261\n",
      "salida -1.0\n"
     ]
    }
   ],
   "source": [
    "modelo_tanh = NeuronaGradiente(alpha=0.01, n_iter=100, FUN='tanh', COSTO='EC_binaria')\n",
    "\n",
    "# Asignar pesos y bias directamente desde fuera de la clase\n",
    "NeuronaGradiente.w_ = np.array([2.65, -2.5])  # Asignar pesos manualmente\n",
    "NeuronaGradiente.b_ = 0.03  # Asignar bias manualmente\n",
    "\n",
    "# Datos de entrada (una muestra con dos características)\n",
    "X1 = np.array([[(14 - MEDIAD)/DESVD, (140 - MEDIACOLOR)/DESVCOLOR]]) \n",
    "X2 = np.array([[(16 - MEDIAD)/DESVD, (79 - MEDIACOLOR)/DESVCOLOR]]) \n",
    "\n",
    "# calculos:\n",
    "# Calcular la entrada neta (combinación lineal de las características)\n",
    "n =  (2.65 * ((16 - MEDIAD)/DESVD )) + ( -2.5 * ((79 - MEDIACOLOR)/DESVCOLOR) ) + 0.03\n",
    "    \n",
    "print('neta: ' , n)\n",
    "\n",
    "# Aplicar la función de activación tanh\n",
    "tanh_output = (2.0 / (1+np.exp(-2*n)) - 1)\n",
    "print('salida' , tanh_output)\n",
    "\n",
    "\n",
    "# Predicción\n",
    "#prediccion = modelo_tanh.predict(X2)\n",
    "#print(prediccion)"
   ]
  },
  {
   "cell_type": "code",
   "execution_count": null,
   "id": "1981a973-1b37-4d40-8e22-4c044eac7398",
   "metadata": {},
   "outputs": [],
   "source": []
  }
 ],
 "metadata": {
  "kernelspec": {
   "display_name": "Python 3 (ipykernel)",
   "language": "python",
   "name": "python3"
  },
  "language_info": {
   "codemirror_mode": {
    "name": "ipython",
    "version": 3
   },
   "file_extension": ".py",
   "mimetype": "text/x-python",
   "name": "python",
   "nbconvert_exporter": "python",
   "pygments_lexer": "ipython3",
   "version": "3.12.4"
  }
 },
 "nbformat": 4,
 "nbformat_minor": 5
}
