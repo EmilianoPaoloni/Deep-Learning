{
 "cells": [
  {
   "cell_type": "markdown",
   "id": "a5082a34-a980-4a5d-8b06-e3364ddb934b",
   "metadata": {},
   "source": [
    "## EJERCICIO 5 - PRACTICA 3"
   ]
  },
  {
   "cell_type": "markdown",
   "id": "ae0d300f-e82f-4133-9038-d6adc96465c4",
   "metadata": {},
   "source": [
    "**Se quiere utilizar los datos del df de autos para predecir el precio del auto a traves del tamaño del motor**"
   ]
  },
  {
   "cell_type": "code",
   "execution_count": 36,
   "id": "41bf98c9-52a5-42d9-a825-2a610b8f79e5",
   "metadata": {},
   "outputs": [],
   "source": [
    "# configuración para notebook con instalación LOCAL\n",
    "FUENTES_DIR = '../Fuentes' # carpeta donde se encuentran archivos .py auxiliares\n",
    "DATOS_DIR   = '../Datos/'  # carpeta donde se encuentran los datasets\n",
    "\n",
    "# agrega ruta de busqueda donde tenemos archivos .py\n",
    "import sys\n",
    "sys.path.append(FUENTES_DIR)"
   ]
  },
  {
   "cell_type": "code",
   "execution_count": 38,
   "id": "b6b05ff9-3cd8-4595-9be9-82568c437528",
   "metadata": {},
   "outputs": [
    {
     "name": "stdout",
     "output_type": "stream",
     "text": [
      "            make fuel-type num-of-doors   body-style  curb-weight  \\\n",
      "0    alfa-romero       gas          two  convertible         2548   \n",
      "1    alfa-romero       gas          two  convertible         2548   \n",
      "2    alfa-romero       gas          two    hatchback         2823   \n",
      "3           audi       gas         four        sedan         2337   \n",
      "4           audi       gas         four        sedan         2824   \n",
      "..           ...       ...          ...          ...          ...   \n",
      "200        volvo       gas         four        sedan         2952   \n",
      "201        volvo       gas         four        sedan         3049   \n",
      "202        volvo       gas         four        sedan         3012   \n",
      "203        volvo    diesel         four        sedan         3217   \n",
      "204        volvo       gas         four        sedan         3062   \n",
      "\n",
      "     engine-size  horsepower  city-mpg  highway-mpg    price      volume  \\\n",
      "0            130       111.0        21           27  13495.0  528019.904   \n",
      "1            130       111.0        21           27  16500.0  528019.904   \n",
      "2            152       154.0        19           26  16500.0  587592.640   \n",
      "3            109       102.0        24           30  13950.0  634816.956   \n",
      "4            136       115.0        18           22  17450.0  636734.832   \n",
      "..           ...         ...       ...          ...      ...         ...   \n",
      "200          141       114.0        23           28  16845.0  721961.760   \n",
      "201          141       160.0        19           25  19045.0  720913.920   \n",
      "202          173       134.0        18           23  21485.0  721961.760   \n",
      "203          145       106.0        26           27  22470.0  721961.760   \n",
      "204          141       114.0        19           25  22625.0  721961.760   \n",
      "\n",
      "     eco-rating  \n",
      "0     33.297462  \n",
      "1     33.297462  \n",
      "2     30.898272  \n",
      "3     42.697819  \n",
      "4     27.997459  \n",
      "..          ...  \n",
      "200   38.354298  \n",
      "201   32.043335  \n",
      "202   29.806494  \n",
      "203   35.073342  \n",
      "204   31.997368  \n",
      "\n",
      "[205 rows x 12 columns]\n"
     ]
    }
   ],
   "source": [
    "import pandas as pd      # para trabajar con archivos de datos csv, excel, etc: https://pandas.pydata.org/docs/getting_started/tutorials.html\n",
    "import chardet           # para detectar la codificación de texto en archivos\n",
    "import os\n",
    "import numpy as np\n",
    "from matplotlib import pyplot as plt\n",
    "from sklearn.preprocessing import MinMaxScaler, StandardScaler\n",
    "from ClassNeuronaLineal import NeuronaLineal\n",
    "\n",
    "\n",
    "\n",
    "nombre_archivo = DATOS_DIR + 'automobile-simple.csv' # archivo de globos\n",
    "\n",
    "# recupera el archivo en un objeto dataframe de pandas utilizando la codificación detectada\n",
    "df = pd.read_csv(nombre_archivo)\n",
    "print(df)"
   ]
  },
  {
   "cell_type": "markdown",
   "id": "5261e4dd-9860-4a54-b82e-b3b653643c66",
   "metadata": {},
   "source": [
    " ## Antes de comenzar con el entrenamiento, complete los datos faltantes del atributo “price” utilizando el valor promedio."
   ]
  },
  {
   "cell_type": "code",
   "execution_count": 41,
   "id": "2f9bd316-6bb1-4118-afc1-2148424bed54",
   "metadata": {},
   "outputs": [
    {
     "data": {
      "text/plain": [
       "make            0\n",
       "fuel-type       0\n",
       "num-of-doors    2\n",
       "body-style      0\n",
       "curb-weight     0\n",
       "engine-size     0\n",
       "horsepower      2\n",
       "city-mpg        0\n",
       "highway-mpg     0\n",
       "price           4\n",
       "volume          0\n",
       "eco-rating      0\n",
       "dtype: int64"
      ]
     },
     "execution_count": 41,
     "metadata": {},
     "output_type": "execute_result"
    }
   ],
   "source": [
    "# veo cuantos datos faltantes hay y en que columnas\n",
    "df.isnull().sum()"
   ]
  },
  {
   "cell_type": "code",
   "execution_count": 43,
   "id": "b82f2674-07bd-48f8-8e80-f62aa482dea5",
   "metadata": {},
   "outputs": [
    {
     "name": "stdout",
     "output_type": "stream",
     "text": [
      "            make fuel-type  num-of-doors   body-style  curb-weight  \\\n",
      "0    alfa-romero       gas           2.0  convertible         2548   \n",
      "1    alfa-romero       gas           2.0  convertible         2548   \n",
      "2    alfa-romero       gas           2.0    hatchback         2823   \n",
      "3           audi       gas           4.0        sedan         2337   \n",
      "4           audi       gas           4.0        sedan         2824   \n",
      "..           ...       ...           ...          ...          ...   \n",
      "200        volvo       gas           4.0        sedan         2952   \n",
      "201        volvo       gas           4.0        sedan         3049   \n",
      "202        volvo       gas           4.0        sedan         3012   \n",
      "203        volvo    diesel           4.0        sedan         3217   \n",
      "204        volvo       gas           4.0        sedan         3062   \n",
      "\n",
      "     engine-size  horsepower  city-mpg  highway-mpg    price      volume  \\\n",
      "0            130       111.0        21           27  13495.0  528019.904   \n",
      "1            130       111.0        21           27  16500.0  528019.904   \n",
      "2            152       154.0        19           26  16500.0  587592.640   \n",
      "3            109       102.0        24           30  13950.0  634816.956   \n",
      "4            136       115.0        18           22  17450.0  636734.832   \n",
      "..           ...         ...       ...          ...      ...         ...   \n",
      "200          141       114.0        23           28  16845.0  721961.760   \n",
      "201          141       160.0        19           25  19045.0  720913.920   \n",
      "202          173       134.0        18           23  21485.0  721961.760   \n",
      "203          145       106.0        26           27  22470.0  721961.760   \n",
      "204          141       114.0        19           25  22625.0  721961.760   \n",
      "\n",
      "     eco-rating  \n",
      "0     33.297462  \n",
      "1     33.297462  \n",
      "2     30.898272  \n",
      "3     42.697819  \n",
      "4     27.997459  \n",
      "..          ...  \n",
      "200   38.354298  \n",
      "201   32.043335  \n",
      "202   29.806494  \n",
      "203   35.073342  \n",
      "204   31.997368  \n",
      "\n",
      "[205 rows x 12 columns]\n"
     ]
    },
    {
     "name": "stderr",
     "output_type": "stream",
     "text": [
      "C:\\Users\\W10\\AppData\\Local\\Temp\\ipykernel_10484\\3625252533.py:4: FutureWarning: Downcasting behavior in `replace` is deprecated and will be removed in a future version. To retain the old behavior, explicitly call `result.infer_objects(copy=False)`. To opt-in to the future behavior, set `pd.set_option('future.no_silent_downcasting', True)`\n",
      "  df.replace(mapeo, inplace=True)\n"
     ]
    }
   ],
   "source": [
    "# El atributo num-of-doors NO ES NUMERICO, hay que numerizarlo para poder calcularle el promedio:\n",
    "mapeo = {'num-of-doors': {'one':1, 'two':2, 'three':3, 'four':4, 'five':5, 'six':6}}\n",
    "\n",
    "df.replace(mapeo, inplace=True)\n",
    "print(df)"
   ]
  },
  {
   "cell_type": "code",
   "execution_count": 45,
   "id": "88c9c8e3-dbcb-445e-bb88-fb64b7512fa2",
   "metadata": {},
   "outputs": [
    {
     "data": {
      "text/plain": [
       "make            0\n",
       "fuel-type       0\n",
       "num-of-doors    0\n",
       "body-style      0\n",
       "curb-weight     0\n",
       "engine-size     0\n",
       "horsepower      0\n",
       "city-mpg        0\n",
       "highway-mpg     0\n",
       "price           0\n",
       "volume          0\n",
       "eco-rating      0\n",
       "dtype: int64"
      ]
     },
     "execution_count": 45,
     "metadata": {},
     "output_type": "execute_result"
    }
   ],
   "source": [
    "# para calcular los promedios de las columnas con datos faltantes, debo primero eliminar las filas con datos faltantes\n",
    "#creo un dataframe auxiliar:\n",
    "dfAUX = df\n",
    "\n",
    "# elimino las filas con datos faltantes\n",
    "dfAUX = dfAUX.dropna()\n",
    "\n",
    "#verifico que no tenga datos faltantes\n",
    "dfAUX.isnull().sum()\n"
   ]
  },
  {
   "cell_type": "code",
   "execution_count": 47,
   "id": "e61a6ee9-d9ee-4adf-9bf2-eaaba4b0c38c",
   "metadata": {},
   "outputs": [
    {
     "name": "stdout",
     "output_type": "stream",
     "text": [
      "promedio columna num of doors : 3.1370558375634516\n",
      "promedio columna horsepower : 103.60406091370558\n",
      "promedio columna price : 13279.644670050762\n"
     ]
    }
   ],
   "source": [
    "import numpy as np\n",
    "# calculo el valor promedio de las columnas con datos faltantes (utilizando el dfAUX):\n",
    "Average1 = np.mean(dfAUX['num-of-doors'])\n",
    "Average2 = np.mean(dfAUX['horsepower'])\n",
    "Average3 = np.mean(dfAUX['price'])\n",
    "\n",
    "print('promedio columna num of doors :' , Average1)\n",
    "print('promedio columna horsepower :' , Average2)\n",
    "print('promedio columna price :' , Average3)"
   ]
  },
  {
   "cell_type": "code",
   "execution_count": 49,
   "id": "2be87401-85a8-49f0-b364-4241bee0245e",
   "metadata": {},
   "outputs": [
    {
     "data": {
      "text/plain": [
       "make            0\n",
       "fuel-type       0\n",
       "num-of-doors    0\n",
       "body-style      0\n",
       "curb-weight     0\n",
       "engine-size     0\n",
       "horsepower      0\n",
       "city-mpg        0\n",
       "highway-mpg     0\n",
       "price           0\n",
       "volume          0\n",
       "eco-rating      0\n",
       "dtype: int64"
      ]
     },
     "execution_count": 49,
     "metadata": {},
     "output_type": "execute_result"
    }
   ],
   "source": [
    "# Reemplazo valores faltantes en el dataframe original\n",
    "\n",
    "df['num-of-doors'] = df['num-of-doors'].fillna(Average1)\n",
    "df['horsepower'] = df['horsepower'].fillna(Average2)\n",
    "df['price'] = df['price'].fillna(Average3)\n",
    "\n",
    "# verifico que ahora el dataframe original no tenga datos faltantes:\n",
    "df.isnull().sum()"
   ]
  },
  {
   "cell_type": "markdown",
   "id": "0f23cf2d-46b1-4b97-90ec-f4299d5443b7",
   "metadata": {},
   "source": [
    "## Entrenamiento del combinador lineal"
   ]
  },
  {
   "cell_type": "markdown",
   "id": "b45e0312-d811-4c44-9b95-2b5dfa7beb20",
   "metadata": {},
   "source": [
    "###  - Sin normalizar atributos"
   ]
  },
  {
   "cell_type": "markdown",
   "id": "bea7c091-f163-4e05-b128-c3c54da3be9e",
   "metadata": {},
   "source": [
    "### - Normalizando ambos atributos linealmente"
   ]
  },
  {
   "cell_type": "markdown",
   "id": "51f4c05c-51a2-4b35-a9ec-5e92705d8db1",
   "metadata": {},
   "source": [
    "###  - Normalizando ambos atributos utilizando media y desvío"
   ]
  },
  {
   "cell_type": "code",
   "execution_count": 76,
   "id": "36cf8577-8060-409b-8336-3db4ca863847",
   "metadata": {},
   "outputs": [
    {
     "name": "stdout",
     "output_type": "stream",
     "text": [
      "             engine-size     price\n",
      "engine-size     1.000000  0.861758\n",
      "price           0.861758  1.000000\n"
     ]
    }
   ],
   "source": [
    "# Imprime matriz de correclacion --> indica la correlacion lineal entre los atributos engine-size y precio\n",
    "corr = df[['engine-size', 'price']].corr()\n",
    "print(corr) #correlacion lineal entre engine.size y price\n",
    "\n",
    "# seleccion de atributos\n",
    "X = np.array(df['engine-size']).reshape((-1,1))\n",
    "T = np.array(df['price']).reshape((-1,1))\n",
    "\n",
    "# normalizacion de datos de entrada\n",
    "normalizarEntrada = 0\n",
    "\n",
    "if normalizarEntrada==0:\n",
    "    data_scaler = None\n",
    "elif normalizarEntrada==1: #normalizacion estandar (lineal)\n",
    "    data_scaler , targer_scaler= MinMaxScaler(), MinMaxScaler()\n",
    "    X = data_scaler.fit_transform(X)  #fit calcula max y min para cada columna y lo aplica\n",
    "    T = targer_scaler.fit_transform(T)\n",
    "elif normalizarEntrada==2:  #normalizacion con media y desvio\n",
    "    data_scaler, targer_scaler = StandardScaler(), StandardScaler()\n",
    "    X = data_scaler.fit_transform(X) # normaliza engine-size\n",
    "    T = targer_scaler.fit_transform(T) #normaliza price"
   ]
  },
  {
   "cell_type": "markdown",
   "id": "6dc1f2e6-a18b-42b2-bba0-b865cde70a8f",
   "metadata": {},
   "source": [
    "**Construccion del modelo y entrenamiento**"
   ]
  },
  {
   "cell_type": "code",
   "execution_count": 79,
   "id": "f475996a-f6ef-4dee-8eed-1a80a02a5921",
   "metadata": {},
   "outputs": [
    {
     "data": {
      "image/png": "[encoded data removed]",
      "text/plain": [
       "<Figure size 640x480 with 1 Axes>"
      ]
     },
     "metadata": {},
     "output_type": "display_data"
    },
    {
     "name": "stdout",
     "output_type": "stream",
     "text": [
      "Errores:\n",
      "  0 => nan\n"
     ]
    },
    {
     "data": {
      "image/png": "[encoded data removed]",
      "text/plain": [
       "<Figure size 640x480 with 1 Axes>"
      ]
     },
     "metadata": {},
     "output_type": "display_data"
    }
   ],
   "source": [
    "# entrena neurona lineal y grafica\n",
    "modelo = NeuronaLineal(alpha=0.02, n_iter=500, cotaE=0.0001, draw=1, title=['Tamaño motor', 'Precio'])\n",
    "#cotaE --> cota de error --> si la el modulo del error esta por debajo de cotaE, deja de iterar\n",
    "modelo.fit(X, T)\n",
    "\n",
    "# imprime errores de cada iteracion:\n",
    "print('Errores:')\n",
    "for i, err in enumerate(modelo.errors_):\n",
    "    print('%3d => %f' % (i, err[0]))\n"
   ]
  },
  {
   "cell_type": "markdown",
   "id": "3268edaa-320b-4701-87ef-09185586bd93",
   "metadata": {},
   "source": [
    "**Prediccion de valores**"
   ]
  },
  {
   "cell_type": "code",
   "execution_count": 74,
   "id": "7602e523-4298-4dc0-a61f-5ae9b4b1a6d3",
   "metadata": {},
   "outputs": [
    {
     "name": "stdout",
     "output_type": "stream",
     "text": [
      "Tamaño Motor:130\n",
      "Prediccion Precio: nan\n",
      "  Precio Promedio: 16841.25\n",
      "    Precio Mínimo: 13495.00\n",
      "    Precio Máximo: 18950.00\n"
     ]
    },
    {
     "name": "stderr",
     "output_type": "stream",
     "text": [
      "C:\\Users\\W10\\AppData\\Local\\Temp\\ipykernel_10484\\2744989062.py:23: DeprecationWarning: Conversion of an array with ndim > 0 to a scalar is deprecated, and will error in future. Ensure you extract a single element from your array before performing this operation. (Deprecated NumPy 1.25.)\n",
      "  print('Prediccion Precio: %.2f'% prediccion)\n"
     ]
    },
    {
     "data": {
      "text/html": [
       "<div>\n",
       "<style scoped>\n",
       "    .dataframe tbody tr th:only-of-type {\n",
       "        vertical-align: middle;\n",
       "    }\n",
       "\n",
       "    .dataframe tbody tr th {\n",
       "        vertical-align: top;\n",
       "    }\n",
       "\n",
       "    .dataframe thead th {\n",
       "        text-align: right;\n",
       "    }\n",
       "</style>\n",
       "<table border=\"1\" class=\"dataframe\">\n",
       "  <thead>\n",
       "    <tr style=\"text-align: right;\">\n",
       "      <th></th>\n",
       "      <th>make</th>\n",
       "      <th>fuel-type</th>\n",
       "      <th>num-of-doors</th>\n",
       "      <th>body-style</th>\n",
       "      <th>curb-weight</th>\n",
       "      <th>engine-size</th>\n",
       "      <th>horsepower</th>\n",
       "      <th>city-mpg</th>\n",
       "      <th>highway-mpg</th>\n",
       "      <th>price</th>\n",
       "      <th>volume</th>\n",
       "      <th>eco-rating</th>\n",
       "    </tr>\n",
       "  </thead>\n",
       "  <tbody>\n",
       "    <tr>\n",
       "      <th>0</th>\n",
       "      <td>alfa-romero</td>\n",
       "      <td>gas</td>\n",
       "      <td>2.0</td>\n",
       "      <td>convertible</td>\n",
       "      <td>2548</td>\n",
       "      <td>130</td>\n",
       "      <td>111.0</td>\n",
       "      <td>21</td>\n",
       "      <td>27</td>\n",
       "      <td>13495.0</td>\n",
       "      <td>528019.904</td>\n",
       "      <td>33.297462</td>\n",
       "    </tr>\n",
       "    <tr>\n",
       "      <th>1</th>\n",
       "      <td>alfa-romero</td>\n",
       "      <td>gas</td>\n",
       "      <td>2.0</td>\n",
       "      <td>convertible</td>\n",
       "      <td>2548</td>\n",
       "      <td>130</td>\n",
       "      <td>111.0</td>\n",
       "      <td>21</td>\n",
       "      <td>27</td>\n",
       "      <td>16500.0</td>\n",
       "      <td>528019.904</td>\n",
       "      <td>33.297462</td>\n",
       "    </tr>\n",
       "    <tr>\n",
       "      <th>198</th>\n",
       "      <td>volvo</td>\n",
       "      <td>gas</td>\n",
       "      <td>4.0</td>\n",
       "      <td>sedan</td>\n",
       "      <td>3045</td>\n",
       "      <td>130</td>\n",
       "      <td>162.0</td>\n",
       "      <td>17</td>\n",
       "      <td>22</td>\n",
       "      <td>18420.0</td>\n",
       "      <td>713029.632</td>\n",
       "      <td>27.780359</td>\n",
       "    </tr>\n",
       "    <tr>\n",
       "      <th>199</th>\n",
       "      <td>volvo</td>\n",
       "      <td>gas</td>\n",
       "      <td>4.0</td>\n",
       "      <td>wagon</td>\n",
       "      <td>3157</td>\n",
       "      <td>130</td>\n",
       "      <td>162.0</td>\n",
       "      <td>17</td>\n",
       "      <td>22</td>\n",
       "      <td>18950.0</td>\n",
       "      <td>729523.200</td>\n",
       "      <td>27.566173</td>\n",
       "    </tr>\n",
       "  </tbody>\n",
       "</table>\n",
       "</div>"
      ],
      "text/plain": [
       "            make fuel-type  num-of-doors   body-style  curb-weight  \\\n",
       "0    alfa-romero       gas           2.0  convertible         2548   \n",
       "1    alfa-romero       gas           2.0  convertible         2548   \n",
       "198        volvo       gas           4.0        sedan         3045   \n",
       "199        volvo       gas           4.0        wagon         3157   \n",
       "\n",
       "     engine-size  horsepower  city-mpg  highway-mpg    price      volume  \\\n",
       "0            130       111.0        21           27  13495.0  528019.904   \n",
       "1            130       111.0        21           27  16500.0  528019.904   \n",
       "198          130       162.0        17           22  18420.0  713029.632   \n",
       "199          130       162.0        17           22  18950.0  729523.200   \n",
       "\n",
       "     eco-rating  \n",
       "0     33.297462  \n",
       "1     33.297462  \n",
       "198   27.780359  \n",
       "199   27.566173  "
      ]
     },
     "execution_count": 74,
     "metadata": {},
     "output_type": "execute_result"
    }
   ],
   "source": [
    "# invierte normalización para predecir\n",
    "tamaño_motor = 130\n",
    "\n",
    "entrada = np.array([tamaño_motor]).reshape((-1,1))\n",
    "\n",
    "if data_scaler:\n",
    "  entrada = data_scaler.transform(entrada)\n",
    "\n",
    "prediccion = modelo.predict( entrada )\n",
    "\n",
    "if targer_scaler:\n",
    "  prediccion = targer_scaler.inverse_transform([prediccion]) #al dato de prediccion, le hago una transformacion inversa para que me de el dato real (precio)\n",
    "\n",
    "# para la siguiente prueba tamaño_motor debe coincidir con valores de engin-size en el data_frame\n",
    "\n",
    "autos_sel = df['engine-size']==tamaño_motor\n",
    "valor_prom = df[autos_sel]['price'].mean()\n",
    "valor_min = df[autos_sel]['price'].min()\n",
    "valor_max = df[autos_sel]['price'].max()\n",
    "\n",
    "print('Tamaño Motor:%.0f' % tamaño_motor)\n",
    "\n",
    "print('Prediccion Precio: %.2f'% prediccion)\n",
    "\n",
    "print('  Precio Promedio: %.2f'% valor_prom)\n",
    "print('    Precio Mínimo: %.2f'% valor_min)\n",
    "print('    Precio Máximo: %.2f'% valor_max)\n",
    "\n",
    "df[autos_sel]"
   ]
  },
  {
   "cell_type": "raw",
   "id": "49336425-1446-4dd7-bf14-93f39069dad6",
   "metadata": {},
   "source": [
    "Resultados con normalizacion con media y devio: \n",
    "Tamaño Motor:130\n",
    "Prediccion Precio: 13546.82\n",
    "Precio Promedio: 16841.25\n",
    "Precio Mínimo: 13495.00\n",
    "Precio Máximo: 18950.00 \n",
    "\n",
    "* realizo 4 iteraciones\n",
    "_______________________________________________\n",
    "\n",
    "Resultados con normalizacion lineal uniforme: \n",
    "Tamaño Motor:130\n",
    "Prediccion Precio: 13526.63\n",
    "  Precio Promedio: 16841.25\n",
    "    Precio Mínimo: 13495.00\n",
    "    Precio Máximo: 18950.00\n",
    "\n",
    "* realizo 50 iteraciones\n",
    "_______________________________________________\n",
    "\n",
    "Resultados sin normalizar: \n",
    "Prediccion Precio: nan\n",
    "Precio Promedio: 16841.25\n",
    "Precio Mínimo: 13495.00\n",
    "Precio Máximo: 18950.00\n",
    "\n",
    "*Errores:\n",
    "  0 => nan => da nan porque al no normalizar, el ECM \"explota\" (diferencias al cuadrado) y queda un nro muy grande que no se puede representar en float (por eso nan)\n"
   ]
  },
  {
   "cell_type": "markdown",
   "id": "63010eed-e953-4bca-ba4f-1bdb9e211a01",
   "metadata": {},
   "source": [
    "## La mejor prediccion se hace con la normalizacion con media y desvio porque la prediccion (con size 130) es la que mas se parece al precio promedio calculado (con size 130) "
   ]
  },
  {
   "cell_type": "code",
   "execution_count": null,
   "id": "1b49e775-d08c-4cd2-9af4-1926f4e2c3fd",
   "metadata": {},
   "outputs": [],
   "source": []
  }
 ],
 "metadata": {
  "kernelspec": {
   "display_name": "Python 3 (ipykernel)",
   "language": "python",
   "name": "python3"
  },
  "language_info": {
   "codemirror_mode": {
    "name": "ipython",
    "version": 3
   },
   "file_extension": ".py",
   "mimetype": "text/x-python",
   "name": "python",
   "nbconvert_exporter": "python",
   "pygments_lexer": "ipython3",
   "version": "3.12.4"
  }
 },
 "nbformat": 4,
 "nbformat_minor": 5
}
