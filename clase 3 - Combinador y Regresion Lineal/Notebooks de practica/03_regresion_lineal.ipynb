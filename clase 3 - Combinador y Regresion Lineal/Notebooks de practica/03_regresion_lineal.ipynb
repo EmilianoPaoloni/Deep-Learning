{
 "cells": [
  {
   "cell_type": "markdown",
   "metadata": {
    "id": "vdWG2FEMDVST"
   },
   "source": [
    "# Regresión lineal simple\n",
    "---"
   ]
  },
  {
   "cell_type": "markdown",
   "metadata": {
    "id": "Uo28j-NUANeL"
   },
   "source": [
    "**Montar la carpeta de Google Drive y definir constantes para trabajar**"
   ]
  },
  {
   "cell_type": "code",
   "execution_count": 11,
   "metadata": {
    "colab": {
     "base_uri": "https://localhost:8080/"
    },
    "executionInfo": {
     "elapsed": 2642,
     "status": "ok",
     "timestamp": 1717090502289,
     "user": {
      "displayName": "Redes Neuronales",
      "userId": "11693180954775528178"
     },
     "user_tz": 180
    },
    "id": "AxTXXFi-ALES",
    "outputId": "6d33d28e-adfb-4aa8-e095-dbe381918bbd"
   },
   "outputs": [],
   "source": [
    "ColabNotebook = 'google.colab' in str(get_ipython())\n",
    "\n",
    "if ColabNotebook:\n",
    "    # monta G-drive en entorno COLAB\n",
    "    from google.colab import drive\n",
    "    drive.mount('/content/drive/')\n",
    "\n",
    "    # carpeta donde se encuentran archivos .py auxiliares\n",
    "    FUENTES_DIR = '/content/drive/MyDrive/Colab Notebooks/FUENTES/'\n",
    "    DATOS_DIR = '/content/drive/MyDrive/Colab Notebooks/DATOS/'      # carpeta donde se encuentran los datasets\n",
    "else:\n",
    "    # configuración para notebook con instalación LOCAL\n",
    "    FUENTES_DIR = '../Fuentes' # carpeta donde se encuentran archivos .py auxiliares\n",
    "    DATOS_DIR   = '../Datos/'  # carpeta donde se encuentran los datasets\n",
    "\n",
    "# agrega ruta de busqueda donde tenemos archivos .py\n",
    "import sys\n",
    "sys.path.append(FUENTES_DIR)"
   ]
  },
  {
   "cell_type": "markdown",
   "metadata": {
    "id": "b2t-SR2qcsU-"
   },
   "source": [
    "#    Variantes del Descenso del Gradiente\n",
    "**Descenso del Gradiente por Lotes (Batch Gradient Descent):**\n",
    "\n",
    "* Calcula el gradiente utilizando todo el conjunto de datos en cada época.\n",
    "* Ajusta los pesos una vez por época en función del gradiente global promedio.\n",
    "* Adecuado para conjuntos de datos pequeños o medianos, pero costoso en conjuntos de datos grandes.\n",
    "\n",
    "**Descenso de Gradiente Estocástico (Stocastic Gradient Descent):**\n",
    "\n",
    "* Calcula el gradiente utilizando un solo ejemplo a la vez en cada iteración.\n",
    "* Ajusta los pesos después de cada ejemplo.\n",
    "* Converge más rápido, especialmente en conjuntos de datos grandes, pero con mayor variabilidad en la dirección del gradiente debido a la estocasticidad.\n",
    "\n",
    "**Descenso del Gradiente por Mini-lotes (Mini-Batch Gradient Descent):**\n",
    "\n",
    "* Calcula el gradiente utilizando un mini-lote (un pequeño subconjunto de ejemplos) en cada iteración.\n",
    "* Ajusta los pesos después de cada mini-lote.\n",
    "* Equilibra la eficiencia y la estabilidad del gradiente, utilizado comúnmente en prácticas de entrenamiento.\n",
    "\n",
    "\n",
    "---\n"
   ]
  },
  {
   "cell_type": "markdown",
   "metadata": {
    "id": "4YHuM9jH-b9I"
   },
   "source": [
    "#   Error Cuadrático Medio  (Mean Square Error)\n",
    "\n",
    "\n",
    "\n",
    "$$\n",
    "MSE = \\frac{1}{m} \\sum_{i=1}^{m} (y_i - \\hat{y}_i)^2 \\\\\n",
    "$$\n",
    "\n",
    "\n",
    "Donde:\n",
    "\n",
    "- $MSE$ es el Error Cuadrático Medio.\n",
    "- $m$ es el número de observaciones o ejemplos del conjunto de datos.\n",
    "- $y_i$ es el valor real (que intenta predecir el modelo) del ejemplo $i$.\n",
    "- $\\hat{y}_i$ es el valor predicho por el modelo para el ejemplo $i$.\n",
    "\n",
    "\n"
   ]
  },
  {
   "cell_type": "code",
   "execution_count": 15,
   "metadata": {
    "colab": {
     "base_uri": "https://localhost:8080/",
     "height": 524
    },
    "executionInfo": {
     "elapsed": 16,
     "status": "ok",
     "timestamp": 1717090502289,
     "user": {
      "displayName": "Redes Neuronales",
      "userId": "11693180954775528178"
     },
     "user_tz": 180
    },
    "id": "1bXcltrY4sWk",
    "outputId": "70d157a9-98be-4cc4-e908-491b59812efb"
   },
   "outputs": [
    {
     "name": "stdout",
     "output_type": "stream",
     "text": [
      "\n",
      "Correlación entre Entrenamiento y Tiempo: -0.959746386006859\n",
      "\n"
     ]
    },
    {
     "data": {
      "image/png": "[encoded data removed]",
      "text/plain": [
       "<Figure size 640x480 with 1 Axes>"
      ]
     },
     "metadata": {},
     "output_type": "display_data"
    }
   ],
   "source": [
    "import numpy as np\n",
    "import matplotlib.pyplot as plt\n",
    "\n",
    "# Datos\n",
    "X = np.array([2, 3, 4, 4, 5, 6, 6, 7, 7, 8, 10, 10]) # horas de entrenamiento semanal\n",
    "Y = np.array([30.5, 29.3, 26.7, 26.0, 25.5, 24.7, 23.5, 23.0, 22.5, 21.0, 21.0, 20.5]) # tiempo promedio del recorrido\n",
    "\n",
    "# Calculo del coeficiente de correlación\n",
    "correlacion = np.corrcoef(X, Y)[0, 1]\n",
    "print(f'\\nCorrelación entre Entrenamiento y Tiempo: {correlacion}\\n')\n",
    "\n",
    "# Diagrama de dispersión\n",
    "plt.scatter(X, Y)\n",
    "plt.xlabel('Entrenamiento')\n",
    "plt.ylabel('Tiempo Promedio (min)')\n",
    "plt.title('Horas de Entrenamiento vs Tiempo Promedio')\n",
    "plt.show()"
   ]
  },
  {
   "cell_type": "code",
   "execution_count": 17,
   "metadata": {
    "colab": {
     "base_uri": "https://localhost:8080/",
     "height": 956
    },
    "executionInfo": {
     "elapsed": 122890,
     "status": "ok",
     "timestamp": 1717090625168,
     "user": {
      "displayName": "Redes Neuronales",
      "userId": "11693180954775528178"
     },
     "user_tz": 180
    },
    "id": "31U4F4YICm74",
    "outputId": "35667997-71e6-41cd-c3ec-7eb431cb1b79"
   },
   "outputs": [
    {
     "ename": "ModuleNotFoundError",
     "evalue": "No module named 'ClassNeuronaLineal'",
     "output_type": "error",
     "traceback": [
      "\u001b[1;31m---------------------------------------------------------------------------\u001b[0m",
      "\u001b[1;31mModuleNotFoundError\u001b[0m                       Traceback (most recent call last)",
      "Cell \u001b[1;32mIn[17], line 1\u001b[0m\n\u001b[1;32m----> 1\u001b[0m \u001b[38;5;28;01mfrom\u001b[39;00m \u001b[38;5;21;01mClassNeuronaLineal\u001b[39;00m \u001b[38;5;28;01mimport\u001b[39;00m NeuronaLineal\n\u001b[0;32m      3\u001b[0m x_train \u001b[38;5;241m=\u001b[39m X\u001b[38;5;241m.\u001b[39mreshape(\u001b[38;5;241m-\u001b[39m\u001b[38;5;241m1\u001b[39m,\u001b[38;5;241m1\u001b[39m)    \u001b[38;5;66;03m# selecciona entradas y formatea a Nx1\u001b[39;00m\n\u001b[0;32m      4\u001b[0m y_train \u001b[38;5;241m=\u001b[39m Y\u001b[38;5;241m.\u001b[39mreshape(\u001b[38;5;241m-\u001b[39m\u001b[38;5;241m1\u001b[39m,\u001b[38;5;241m1\u001b[39m)    \u001b[38;5;66;03m# selecciona salidas y formatea a Nx1\u001b[39;00m\n",
      "\u001b[1;31mModuleNotFoundError\u001b[0m: No module named 'ClassNeuronaLineal'"
     ]
    }
   ],
   "source": [
    "from ClassNeuronaLineal import NeuronaLineal\n",
    "\n",
    "x_train = X.reshape(-1,1)    # selecciona entradas y formatea a Nx1\n",
    "y_train = Y.reshape(-1,1)    # selecciona salidas y formatea a Nx1\n",
    "print(x_train.shape)\n",
    "# entrena neurona lineal y grafica\n",
    "modelo = NeuronaLineal(alpha=0.01, n_iter=500, cotaE=0.001, draw=1, title=['Entrenamiento', 'Tiempo'])\n",
    "modelo = modelo.fit(x_train, y_train)\n",
    "\n",
    "# imprime pesos\n",
    "print('Pesos de la Neurona:')\n",
    "print('  w =', modelo.w_[0])\n",
    "print('  b =', modelo.b_[0])\n",
    "\n",
    "# grafica errores\n",
    "plt.plot(range(len(modelo.errors_)), [err[0] for err in modelo.errors_], marker='o', linestyle='-', color='b')\n",
    "plt.title('Errores por Iteración')\n",
    "plt.xlabel('Iteración')\n",
    "plt.ylabel('Error')\n",
    "plt.grid(True)\n",
    "plt.show()"
   ]
  },
  {
   "cell_type": "markdown",
   "metadata": {
    "id": "uFTFmxj3ijcy"
   },
   "source": [
    "### Predicción del tiempo para caso particular de horas entrenadas"
   ]
  },
  {
   "cell_type": "code",
   "execution_count": 20,
   "metadata": {
    "colab": {
     "base_uri": "https://localhost:8080/",
     "height": 507
    },
    "executionInfo": {
     "elapsed": 842,
     "status": "ok",
     "timestamp": 1717090725799,
     "user": {
      "displayName": "Redes Neuronales",
      "userId": "11693180954775528178"
     },
     "user_tz": 180
    },
    "id": "vO5Tt7Nrhhj6",
    "outputId": "2a61e25d-0223-4258-f8d9-2124480740c0"
   },
   "outputs": [
    {
     "ename": "NameError",
     "evalue": "name 'modelo' is not defined",
     "output_type": "error",
     "traceback": [
      "\u001b[1;31m---------------------------------------------------------------------------\u001b[0m",
      "\u001b[1;31mNameError\u001b[0m                                 Traceback (most recent call last)",
      "Cell \u001b[1;32mIn[20], line 2\u001b[0m\n\u001b[0;32m      1\u001b[0m horas \u001b[38;5;241m=\u001b[39m \u001b[38;5;241m9\u001b[39m \u001b[38;5;66;03m# horas semanales dedicadas\u001b[39;00m\n\u001b[1;32m----> 2\u001b[0m tiempo \u001b[38;5;241m=\u001b[39m modelo\u001b[38;5;241m.\u001b[39mpredict([horas]) \u001b[38;5;66;03m# prediccion del tiempo de recorrido en minutos\u001b[39;00m\n\u001b[0;32m      4\u001b[0m \u001b[38;5;28mprint\u001b[39m(\u001b[38;5;124m'\u001b[39m\u001b[38;5;124mQuien dedicó \u001b[39m\u001b[38;5;132;01m%d\u001b[39;00m\u001b[38;5;124m horas de entrenamiento tradará \u001b[39m\u001b[38;5;132;01m%d\u001b[39;00m\u001b[38;5;124m minutos en hacer el recorrido\u001b[39m\u001b[38;5;130;01m\\n\u001b[39;00m\u001b[38;5;124m'\u001b[39m \u001b[38;5;241m%\u001b[39m (horas, tiempo[\u001b[38;5;241m0\u001b[39m]))\n\u001b[0;32m      6\u001b[0m \u001b[38;5;66;03m# Diagrama de dispersión\u001b[39;00m\n",
      "\u001b[1;31mNameError\u001b[0m: name 'modelo' is not defined"
     ]
    }
   ],
   "source": [
    "horas = 9 # horas semanales dedicadas\n",
    "tiempo = modelo.predict([horas]) # prediccion del tiempo de recorrido en minutos\n",
    "\n",
    "print('Quien dedicó %d horas de entrenamiento tradará %d minutos en hacer el recorrido\\n' % (horas, tiempo[0]))\n",
    "\n",
    "# Diagrama de dispersión\n",
    "plt.scatter(X, Y)\n",
    "plt.xlabel('Entrenamiento')\n",
    "plt.ylabel('Tiempo Promedio (min)')\n",
    "plt.title('Horas de Entrenamiento vs Tiempo Promedio')\n",
    "\n",
    "plt.scatter([horas], tiempo, marker='x', color='r', label='Predicción')\n",
    "\n",
    "plt.show()\n"
   ]
  },
  {
   "cell_type": "code",
   "execution_count": null,
   "metadata": {},
   "outputs": [],
   "source": []
  },
  {
   "cell_type": "code",
   "execution_count": null,
   "metadata": {},
   "outputs": [],
   "source": []
  }
 ],
 "metadata": {
  "colab": {
   "provenance": [
    {
     "file_id": "1FV-Ydu5NBJ7DvGNfrlwMxfBHzXCqsO4A",
     "timestamp": 1667001788387
    }
   ]
  },
  "gpuClass": "standard",
  "kernelspec": {
   "display_name": "Python 3 (ipykernel)",
   "language": "python",
   "name": "python3"
  },
  "language_info": {
   "codemirror_mode": {
    "name": "ipython",
    "version": 3
   },
   "file_extension": ".py",
   "mimetype": "text/x-python",
   "name": "python",
   "nbconvert_exporter": "python",
   "pygments_lexer": "ipython3",
   "version": "3.12.4"
  }
 },
 "nbformat": 4,
 "nbformat_minor": 4
}
