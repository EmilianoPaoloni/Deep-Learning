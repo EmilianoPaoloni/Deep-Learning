{
 "cells": [
  {
   "cell_type": "markdown",
   "id": "c084750f-cca1-4726-ad55-702652e6ab1b",
   "metadata": {},
   "source": [
    "## EJERCICIO 1 - PRACTICA 4"
   ]
  },
  {
   "cell_type": "raw",
   "id": "0af2e6e7-b4ae-4db8-856d-7798ca37c269",
   "metadata": {},
   "source": [
    "Se entrenó una red neuronal multiperceptrón para resolver un problema de clasificación y al medir su \n",
    "desempeño sobre el conjunto de datos de entrenamiento se obtuvo la siguiente matriz de confusión"
   ]
  },
  {
   "cell_type": "code",
   "execution_count": 3,
   "id": "3596ca5c-41da-4e28-99b8-d55a502e97aa",
   "metadata": {},
   "outputs": [
    {
     "data": {
      "image/png": "[encoded data removed]",
      "text/plain": [
       "<Figure size 640x480 with 1 Axes>"
      ]
     },
     "metadata": {},
     "output_type": "display_data"
    }
   ],
   "source": [
    "import numpy as np\n",
    "import matplotlib.pyplot as plt\n",
    "\n",
    "# Crear la matriz\n",
    "matriz = np.array([[17, 0, 1, 0, 1],\n",
    "                   [0, 12, 0, 0, 0],\n",
    "                   [0, 0, 12, 0, 0],\n",
    "                   [2, 0, 0, 38, 0],\n",
    "                   [0, 8, 0, 0, 61]])\n",
    "\n",
    "# Crear la gráfica de la matriz\n",
    "fig, ax = plt.subplots()\n",
    "cax = ax.matshow(matriz, cmap=\"coolwarm\")\n",
    "\n",
    "# Agregar los valores de la matriz en las celdas\n",
    "for (i, j), val in np.ndenumerate(matriz):\n",
    "    ax.text(j, i, f'{val}', ha='center', va='center', color='black')\n",
    "\n",
    "# Mostrar la gráfica\n",
    "plt.show()"
   ]
  },
  {
   "cell_type": "markdown",
   "id": "5d2795cd-39ab-4334-b823-0f78e0b46538",
   "metadata": {},
   "source": [
    "### Cuanto ejemplos se usaron en el entrenamiento"
   ]
  },
  {
   "cell_type": "code",
   "execution_count": 8,
   "id": "ec177726-e6bf-4fae-9303-49ff01dcc2e4",
   "metadata": {},
   "outputs": [
    {
     "name": "stdout",
     "output_type": "stream",
     "text": [
      "total de ejemplos usados 152\n"
     ]
    }
   ],
   "source": [
    "#El total de ejemplos de uso para el entrenamiento es la suma de todos los valores dentro de la matriz: \n",
    "total_ejemplos= 17 + 12 + 12 + 38 + 61 + 1 + 1 + 2 + 8\n",
    "print('total de ejemplos usados', total_ejemplos)"
   ]
  },
  {
   "cell_type": "markdown",
   "id": "78c9fc77-36ea-4b7d-bb44-669e78b863f5",
   "metadata": {},
   "source": [
    "### Cuántas clases puede reconocer este multiperceptrón."
   ]
  },
  {
   "cell_type": "raw",
   "id": "9d26b325-c0ff-4498-ade0-b6783e532d86",
   "metadata": {},
   "source": [
    "El total de clases corresponde a la cantidad de filas (o columnas): 5 clases"
   ]
  },
  {
   "cell_type": "markdown",
   "id": "fd82d9c4-53f5-467f-b454-d6cfb1991c2a",
   "metadata": {},
   "source": [
    "### Cuál es la precisión (accuracy) de la red sobre el conjunto de ejemplos completo."
   ]
  },
  {
   "cell_type": "code",
   "execution_count": 12,
   "id": "5a5fd58f-0c4c-4e16-b38f-3132171d0de9",
   "metadata": {},
   "outputs": [
    {
     "name": "stdout",
     "output_type": "stream",
     "text": [
      "accuracy:  0.9210526315789473\n"
     ]
    }
   ],
   "source": [
    "# accuracy: total de aciertos (valores de la diagonal) dividido el total de ejemplos:\n",
    "a= (17 + 12 + 12 + 38 + 61)/total_ejemplos\n",
    "print('accuracy: ', a)"
   ]
  },
  {
   "cell_type": "markdown",
   "id": "c3164e05-e043-4e31-ac30-1727e80bca2f",
   "metadata": {},
   "source": [
    "### Cuáles son los valores de precisión de la red al responder por cada uno de los valores de clase (precision)"
   ]
  },
  {
   "cell_type": "code",
   "execution_count": 28,
   "id": "01b321a7-04df-4c2f-aa46-b5bfb0e6a8f5",
   "metadata": {},
   "outputs": [
    {
     "name": "stdout",
     "output_type": "stream",
     "text": [
      "precision clase 1:  85.00%\n",
      "precision clase 2:  60.00% \n",
      "precision clase 3: 92.31% \n",
      "precision clase 4: 100.00% \n",
      "precision clase 5: 98.39% \n"
     ]
    }
   ],
   "source": [
    "# Precisione calcula como cuantos valores estan sobre la diagonal dividido la suma de valores de la columna\n",
    "p1= 17/20\n",
    "p2= 12/ 20\n",
    "p3= 12/13\n",
    "p4= 38/38\n",
    "p5= 61/62\n",
    "print(f'precision clase 1:  {p1 * 100:.2f}%')\n",
    "print(f'precision clase 2:  {p2 * 100:.2f}% ')\n",
    "print(f'precision clase 3: {p3 * 100:.2f}% ')\n",
    "print(f'precision clase 4: {p4 * 100:.2f}% ')\n",
    "print(f'precision clase 5: {p5 * 100:.2f}% ')\n"
   ]
  },
  {
   "cell_type": "markdown",
   "id": "90af4758-780a-4569-b629-3d1cb3a1538c",
   "metadata": {},
   "source": [
    "###  Cuáles son los valores de sensibilidad de la red al responder por cada uno de los valores de clase (recall)."
   ]
  },
  {
   "cell_type": "code",
   "execution_count": 31,
   "id": "b87bc7a4-2cff-4c9f-ae69-7afd43e2128c",
   "metadata": {},
   "outputs": [
    {
     "name": "stdout",
     "output_type": "stream",
     "text": [
      "recall clase 1:  89.47%\n",
      "recall clase 2:  100.00% \n",
      "recall clase 3: 100.00% \n",
      "recall clase 4: 95.00% \n",
      "recall clase 5: 88.41% \n"
     ]
    }
   ],
   "source": [
    "# Recall: Se calcula para cada clase como el numero de aciertos de esa clase (valor sobre la diagonal) sobre el total de acertados a esa clase.\n",
    "r1= 17/19\n",
    "r2= 12/ 12\n",
    "r3= 12/12\n",
    "r4= 38/40\n",
    "r5= 61/69\n",
    "print(f'recall clase 1:  {r1 * 100:.2f}%')\n",
    "print(f'recall clase 2:  {r2 * 100:.2f}% ')\n",
    "print(f'recall clase 3: {r3 * 100:.2f}% ')\n",
    "print(f'recall clase 4: {r4 * 100:.2f}% ')\n",
    "print(f'recall clase 5: {r5 * 100:.2f}% ')"
   ]
  },
  {
   "cell_type": "markdown",
   "id": "8c6d16ed-4d07-4b9a-beaa-6679b5817e68",
   "metadata": {},
   "source": [
    "###  Identificar clase con mejor F1-Score"
   ]
  },
  {
   "cell_type": "markdown",
   "id": "6dc97549-cbd8-4952-8d30-1ff1299d3750",
   "metadata": {},
   "source": [
    "####  clase con mejor F1-Score == clase que tenga el mejor equilibrio entre precisión y recall \n",
    "#### F1-score=(2×Precision+Recall)/ Precision×Recall\n",
    "​\n"
   ]
  },
  {
   "cell_type": "code",
   "execution_count": 42,
   "id": "2d0ad275-b775-4ef3-81af-f20e1fc72677",
   "metadata": {},
   "outputs": [],
   "source": [
    "def f1_score(precision, recall):\n",
    "    # Asegurarse de que ni la precisión ni el recall sean cero para evitar la división por cero\n",
    "    if precision + recall == 0:\n",
    "        return 0.0\n",
    "    # Fórmula para el F1-score\n",
    "    f1_score = 2 * (precision * recall) / (precision + recall)\n",
    "    return f1_score"
   ]
  },
  {
   "cell_type": "code",
   "execution_count": 48,
   "id": "cc1295b9-ae41-4edc-a328-d095f5a0d08e",
   "metadata": {},
   "outputs": [
    {
     "name": "stdout",
     "output_type": "stream",
     "text": [
      "F1_Score clase 1: 0.8717948717948718\n",
      "F1_Score clase 2: 0.7499999999999999\n",
      "F1_Score clase 3: 0.9600000000000001\n",
      "F1_Score clase 4: 0.8972222222222223\n",
      "F1_Score clase 5: 0.9312977099236642\n"
     ]
    }
   ],
   "source": [
    "print(f'F1_Score clase 1:',  f1_score(p1,r1))\n",
    "print(f'F1_Score clase 2:',  f1_score(p2,r2))\n",
    "print(f'F1_Score clase 3:',  f1_score(p3,r3))\n",
    "print(f'F1_Score clase 4:',  f1_score(p1,r4))\n",
    "print(f'F1_Score clase 5:',  f1_score(p5,r5))\n",
    "#el mayor f1-score es el de la clase 3"
   ]
  },
  {
   "cell_type": "code",
   "execution_count": null,
   "id": "5b0cf17c-fd39-4dc1-894a-6f3cabf0f691",
   "metadata": {},
   "outputs": [],
   "source": []
  }
 ],
 "metadata": {
  "kernelspec": {
   "display_name": "Python 3 (ipykernel)",
   "language": "python",
   "name": "python3"
  },
  "language_info": {
   "codemirror_mode": {
    "name": "ipython",
    "version": 3
   },
   "file_extension": ".py",
   "mimetype": "text/x-python",
   "name": "python",
   "nbconvert_exporter": "python",
   "pygments_lexer": "ipython3",
   "version": "3.12.4"
  }
 },
 "nbformat": 4,
 "nbformat_minor": 5
}
