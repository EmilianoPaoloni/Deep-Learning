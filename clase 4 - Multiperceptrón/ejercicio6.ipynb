{
 "cells": [
  {
   "cell_type": "markdown",
   "id": "a457ebb3-055d-49d5-946e-1122faca3a90",
   "metadata": {},
   "source": [
    "## EJERCICIO 6 - PRACTICA 4"
   ]
  },
  {
   "cell_type": "raw",
   "id": "16732c72-8db4-4e02-bcc9-2f76ba6fb288",
   "metadata": {},
   "source": [
    "Los archivos Segment_Train.csv y Segment_Test.csv contienen información referida a regiones de 3x3 \n",
    "pixeles pertenecientes a 7 imágenes distintas.\n",
    "Cada imagen corresponde a uno de los siguientes tipos de superficie: ladrillo, cielo, follaje, cemento, ventana, camino y pasto."
   ]
  },
  {
   "cell_type": "raw",
   "id": "b1377cbb-d213-4e60-a47b-cf026d140a2c",
   "metadata": {},
   "source": [
    "Cada región de 3x3 ha sido caracterizada por 19 atributos numéricos:\n",
    "1. region-centroid-col: la columna del pixel central de la región.\n",
    "2. region-centroid-row: la fila del pixel central de la región.\n",
    "3. region-pixel-count: el número de pixeles de la región = 9.\n",
    "4. short-line-density-5: el resultado de un algoritmo de extracción de líneas que cuenta la \n",
    "cantidad de líneas de bajo contraste que atraviesan la región.\n",
    "5. short-line-density-2: ídem anterior para líneas de alto contraste.\n",
    "6. vedge-mean: medida del contraste entre pixeles adyacentes. Este atributo contiene el valor \n",
    "promedio y el siguiente la desviación. Estas medidas sirven para detectar la presencia de un eje \n",
    "vertical.\n",
    "7. vegde-sd: (ver 6)\n",
    "8. hedge-mean: ídem 6 para eje horizontal. Contiene el valor medio y el siguiente la desviación. \n",
    "9. hedge-sd: (ver 8).\n",
    "10. intensity-mean: El promedio calculado sobre la región de la forma (R + G + B)/3\n",
    "11. rawred-mean: el promedio sobre la región de los valores R. \n",
    "12. rawblue-mean: el promedio sobre la región de los valores B.\n",
    "13. rawgreen-mean: el promedio sobre la región de los valores G.\n",
    "14. exred-mean: Medida de exceso de color rojo: (2R - (G + B))\n",
    "15. exblue-mean: Medida de exceso de color azul: (2B - (G + R))\n",
    "16. exgreen-mean: Medida de exceso de color verde: (2G - (R + B))\n",
    "17. value-mean: Transformación no lineal 3D de RGB.\n",
    "18. saturatoin-mean: (ver 17)\n",
    "19. hue-mean: ver 17)\n",
    "\n",
    "El atributo 20 corresponde al número de imagen de la cual fue extraída la región de 3x3. Sus valores son: 1 (ladrillo), 2 (cemento), 3(follaje), 4 (pasto), 5 (camino), 6 (cielo), 7 (ventana)"
   ]
  },
  {
   "cell_type": "markdown",
   "id": "24b2ea9e-d4c5-45c9-9e67-d96b1c9081fb",
   "metadata": {},
   "source": [
    "### Importo paquetes"
   ]
  },
  {
   "cell_type": "code",
   "execution_count": 59,
   "id": "39a6ef77-0108-4265-a3f5-a98b7ce203f6",
   "metadata": {},
   "outputs": [],
   "source": [
    "import pandas as pd      # para trabajar con archivos de datos csv, excel, etc: https://pandas.pydata.org/docs/getting_started/tutorials.html\n",
    "import chardet           # para detectar la codificación de texto en archivos\n",
    "import numpy as np\n",
    "\n",
    "from sklearn import preprocessing, model_selection\n",
    "from sklearn.neural_network import MLPClassifier\n",
    "from matplotlib import pyplot as plt"
   ]
  },
  {
   "cell_type": "markdown",
   "id": "8718212d-8e5b-4441-b179-c824df03db23",
   "metadata": {},
   "source": [
    "### Importo datasets"
   ]
  },
  {
   "cell_type": "markdown",
   "id": "3090c3e1-459a-4beb-858c-222cc74fd8c3",
   "metadata": {},
   "source": [
    "## *Se edito el dataset. Agrege al csv el titulo de la primer columna \"MATERIAL\" , porque faltaba"
   ]
  },
  {
   "cell_type": "code",
   "execution_count": null,
   "id": "852bfe5c-e08f-4a61-a429-8b3bdaa749b0",
   "metadata": {},
   "outputs": [],
   "source": [
    "# configuración para notebook con instalación LOCAL\n",
    "FUENTES_DIR = '../Fuentes' # carpeta donde se encuentran archivos .py auxiliares\n",
    "DATOS_DIR   = '../Datos/'  # carpeta donde se encuentran los datasets\n",
    "\n",
    "# agrega ruta de busqueda donde tenemos archivos .py\n",
    "import sys\n",
    "sys.path.append(FUENTES_DIR)"
   ]
  },
  {
   "cell_type": "markdown",
   "id": "fd84629c-3901-46f7-8448-972dac1b0ce8",
   "metadata": {},
   "source": [
    "### Datos de entrenamiento"
   ]
  },
  {
   "cell_type": "code",
   "execution_count": 63,
   "id": "e251e9e6-6fc8-43fc-bee3-b80a68961185",
   "metadata": {},
   "outputs": [
    {
     "name": "stdout",
     "output_type": "stream",
     "text": [
      "     MATERIAL  REGION-CENTROID-COL  REGION-CENTROID-ROW  REGION-PIXEL-COUNT  \\\n",
      "0       GRASS                110.0                189.0                   9   \n",
      "1       GRASS                 86.0                187.0                   9   \n",
      "2       GRASS                225.0                244.0                   9   \n",
      "3       GRASS                 47.0                232.0                   9   \n",
      "4       GRASS                 97.0                186.0                   9   \n",
      "...       ...                  ...                  ...                 ...   \n",
      "2095   CEMENT                 32.0                158.0                   9   \n",
      "2096   CEMENT                  8.0                162.0                   9   \n",
      "2097   CEMENT                128.0                161.0                   9   \n",
      "2098   CEMENT                150.0                158.0                   9   \n",
      "2099   CEMENT                124.0                162.0                   9   \n",
      "\n",
      "      SHORT-LINE-DENSITY-5  SHORT-LINE-DENSITY-2  VEDGE-MEAN  VEDGE-SD  \\\n",
      "0                 0.000000                   0.0    1.000000  0.666667   \n",
      "1                 0.000000                   0.0    1.111111  0.720082   \n",
      "2                 0.000000                   0.0    3.388889  2.195113   \n",
      "3                 0.000000                   0.0    1.277778  1.254621   \n",
      "4                 0.000000                   0.0    1.166667  0.691215   \n",
      "...                    ...                   ...         ...       ...   \n",
      "2095              0.000000                   0.0    0.944445  0.862963   \n",
      "2096              0.111111                   0.0    1.611111  2.062962   \n",
      "2097              0.000000                   0.0    0.555555  0.251852   \n",
      "2098              0.000000                   0.0    2.166667  1.633334   \n",
      "2099              0.111111                   0.0    1.388889  1.129630   \n",
      "\n",
      "      HEDGE-MEAN  HEDGE-SD  INTENSITY-MEAN  RAWRED-MEAN  RAWBLUE-MEAN  \\\n",
      "0       1.222222  1.186342       12.925926    10.888889      9.222222   \n",
      "1       1.444444  0.750309       13.740741    11.666667     10.333334   \n",
      "2       3.000000  1.520234       12.259259    10.333334      9.333334   \n",
      "3       1.000000  0.894427       12.703704    11.000000      9.000000   \n",
      "4       1.166667  1.005540       15.592592    13.888889     11.777778   \n",
      "...          ...       ...             ...          ...           ...   \n",
      "2095    0.833333  0.611111        7.962963     6.333334     11.888889   \n",
      "2096    0.333333  0.133333        8.370370     6.666666     12.000000   \n",
      "2097    0.777778  0.162963        7.148148     5.555555     10.888889   \n",
      "2098    1.388889  0.418518        8.444445     7.000000     12.222222   \n",
      "2099    2.000000  0.888889       10.037037     8.000000     14.555555   \n",
      "\n",
      "      RAWGREEN-MEAN  EXRED-MEAN  EXBLUE-MEAN  EXGREEN-MEAN  VALUE-MEAN  \\\n",
      "0         18.666668   -6.111111   -11.111111     17.222221   18.666668   \n",
      "1         19.222221   -6.222222   -10.222222     16.444445   19.222221   \n",
      "2         17.111110   -5.777778    -8.777778     14.555555   17.111110   \n",
      "3         18.111110   -5.111111   -11.111111     16.222221   18.111110   \n",
      "4         21.111110   -5.111111   -11.444445     16.555555   21.111110   \n",
      "...             ...         ...          ...           ...         ...   \n",
      "2095       5.666666   -4.888889    11.777778     -6.888889   11.888889   \n",
      "2096       6.444445   -5.111111    10.888889     -5.777778   12.000000   \n",
      "2097       5.000000   -4.777778    11.222222     -6.444445   10.888889   \n",
      "2098       6.111111   -4.333334    11.333333     -7.000000   12.222222   \n",
      "2099       7.555555   -6.111111    13.555555     -7.444445   14.555555   \n",
      "\n",
      "      SATURATION-MEAN  HUE-MEAN  \n",
      "0            0.508139  1.910864  \n",
      "1            0.463329  1.941465  \n",
      "2            0.480149  1.987902  \n",
      "3            0.500966  1.875362  \n",
      "4            0.442661  1.863654  \n",
      "...               ...       ...  \n",
      "2095         0.520578 -1.982834  \n",
      "2096         0.484805 -2.044946  \n",
      "2097         0.540918 -1.996307  \n",
      "2098         0.503086 -1.943449  \n",
      "2099         0.479931 -2.029312  \n",
      "\n",
      "[2100 rows x 20 columns]\n"
     ]
    }
   ],
   "source": [
    "\n",
    "nombre_archivo = DATOS_DIR + 'Segment_Train.csv' \n",
    "\n",
    "#-- detectando la codificación de caracteres usada ----\n",
    "with open(nombre_archivo, 'rb') as f:\n",
    "    result = chardet.detect(f.read())  # or readline if the file is large\n",
    "\n",
    "# recupera el archivo en un objeto dataframe de pandas utilizando la codificación detectada\n",
    "df_train = pd.read_csv(nombre_archivo, encoding=result['encoding'])\n",
    "print(df_train)"
   ]
  },
  {
   "cell_type": "markdown",
   "id": "e1cb047d-844d-41e9-9621-97891e2ed627",
   "metadata": {},
   "source": [
    "### Le asigno un nombre a la primer columna (no tiene)"
   ]
  },
  {
   "cell_type": "code",
   "execution_count": 65,
   "id": "8db45b8a-0fc5-4f93-afdb-64648054418d",
   "metadata": {},
   "outputs": [],
   "source": [
    "# Asignar un nombre temporal a la primera columna\n",
    "#df_train.columns = ['Material-Imagen'] + df_train.columns[1:].tolist()"
   ]
  },
  {
   "cell_type": "markdown",
   "id": "7d908d09-45ca-4502-a6b5-3e3f6a56edc9",
   "metadata": {},
   "source": [
    "### Inspeccion rapida de los datos: analizo cuantos ejemplos hay de cada tipo de Clase"
   ]
  },
  {
   "cell_type": "code",
   "execution_count": 67,
   "id": "92a3775c-887b-410e-9997-3fad7bc66568",
   "metadata": {},
   "outputs": [
    {
     "data": {
      "text/plain": [
       "<Axes: >"
      ]
     },
     "execution_count": 67,
     "metadata": {},
     "output_type": "execute_result"
    },
    {
     "data": {
      "image/png": "[encoded data removed]",
      "text/plain": [
       "<Figure size 640x480 with 1 Axes>"
      ]
     },
     "metadata": {},
     "output_type": "display_data"
    }
   ],
   "source": [
    "# Para hacer una inspección rápida de los datos\n",
    "#print(df.head())\n",
    "#print(df.describe())\n",
    "df_train.iloc[:,0].hist(bins=7)\n"
   ]
  },
  {
   "cell_type": "markdown",
   "id": "765edcb2-3712-46b2-ad9d-80c8eff1e4af",
   "metadata": {},
   "source": [
    "### Datos de testeo"
   ]
  },
  {
   "cell_type": "code",
   "execution_count": 69,
   "id": "97a775a3-bc60-47df-83bd-ca042a9af1f1",
   "metadata": {},
   "outputs": [
    {
     "name": "stdout",
     "output_type": "stream",
     "text": [
      "Index(['MATERIAL', 'REGION-CENTROID-COL', 'REGION-CENTROID-ROW',\n",
      "       'REGION-PIXEL-COUNT', 'SHORT-LINE-DENSITY-5', 'SHORT-LINE-DENSITY-2',\n",
      "       'VEDGE-MEAN', 'VEDGE-SD', 'HEDGE-MEAN', 'HEDGE-SD', 'INTENSITY-MEAN',\n",
      "       'RAWRED-MEAN', 'RAWBLUE-MEAN', 'RAWGREEN-MEAN', 'EXRED-MEAN',\n",
      "       'EXBLUE-MEAN', 'EXGREEN-MEAN', 'VALUE-MEAN', 'SATURATION-MEAN',\n",
      "       'HUE-MEAN'],\n",
      "      dtype='object')\n"
     ]
    }
   ],
   "source": [
    "\n",
    "nombre_archivo = DATOS_DIR + 'Segment_Test.csv' \n",
    "\n",
    "#-- detectando la codificación de caracteres usada ----\n",
    "with open(nombre_archivo, 'rb') as f:\n",
    "    result = chardet.detect(f.read())  # or readline if the file is large\n",
    "\n",
    "# recupera el archivo en un objeto dataframe de pandas utilizando la codificación detectada\n",
    "df_test = pd.read_csv(nombre_archivo, encoding=result['encoding'])\n",
    "print(df_test.columns)"
   ]
  },
  {
   "cell_type": "markdown",
   "id": "d3f1af49-51e8-471f-96c8-8d59737505ff",
   "metadata": {},
   "source": [
    "### Consigna"
   ]
  },
  {
   "cell_type": "raw",
   "id": "a3c1325c-a29b-43ed-99ac-be7e9318a0a4",
   "metadata": {},
   "source": [
    "Entrene una red neuronal multiperceptrón para que dada una región de 3x3, representada a través de \n",
    "los 19 atributos indicados anteriormente, sea capaz de identificar a cuál de las 7 imágenes corresponde. "
   ]
  },
  {
   "cell_type": "markdown",
   "id": "627dba7d-ad0a-4d49-8e32-a67fc2cfb037",
   "metadata": {},
   "source": [
    "### Entrenamiento (utilizo df_train)"
   ]
  },
  {
   "cell_type": "code",
   "execution_count": 72,
   "id": "30f00c11-3396-4668-a49a-55090fa71c47",
   "metadata": {},
   "outputs": [
    {
     "name": "stdout",
     "output_type": "stream",
     "text": [
      "0        GRASS\n",
      "1        GRASS\n",
      "2        GRASS\n",
      "3        GRASS\n",
      "4        GRASS\n",
      "         ...  \n",
      "2095    CEMENT\n",
      "2096    CEMENT\n",
      "2097    CEMENT\n",
      "2098    CEMENT\n",
      "2099    CEMENT\n",
      "Name: MATERIAL, Length: 2100, dtype: object\n",
      "Las clases del dataset son : ['BRICKFACE' 'CEMENT' 'FOLIAGE' 'GRASS' 'PATH' 'SKY' 'WINDOW']\n",
      "[[0 0 0 ... 0 0 0]\n",
      " [0 0 0 ... 0 0 0]\n",
      " [0 0 0 ... 0 0 0]\n",
      " ...\n",
      " [0 1 0 ... 0 0 0]\n",
      " [0 1 0 ... 0 0 0]\n",
      " [0 1 0 ... 0 0 0]]\n"
     ]
    }
   ],
   "source": [
    "# %% separa atributos y clases\n",
    "X_train = np.array(df_train.iloc[:,1:])  # recupera todas las columnas salvo la primera \n",
    "Y_train = np.array(df_train.iloc[:,0])    # recupera solo la primer columna (valor a predecir)\n",
    "print(df_train['MATERIAL'])\n",
    "\n",
    "# Binarizador para convertir el nombre de la clase en one hot encoding\n",
    "binarizer = preprocessing.LabelBinarizer()\n",
    "\n",
    "# Binariza cada clase como una combinación de un 1 y 0s\n",
    "Y_train_binarizado = binarizer.fit_transform(Y_train)\n",
    "# Y_raw==pd.get_dummies(df[' Balance']).to_numpy() # forma alternativa para codificar\n",
    "\n",
    "print('Las clases del dataset son :', binarizer.classes_)\n",
    "print(Y_train_binarizado)\n",
    "# Escala los atributos de los ejemplo\n",
    "scaler = preprocessing.StandardScaler()\n",
    "#scaler = preprocessing.MinMaxScaler()\n",
    "X_train  = scaler.fit_transform( X_train )\n",
    "\n",
    "################################################### En este caso no dividio el df en train y test porque tengo 2 dfs\n",
    "# %% Separa ejemplos para enternamiento y testeo:\n",
    "#TEST_SIZE = 0.30 # proporcion entre testeo entre entrenamiento y testeo (utiliza 30% de los datos para testeo y el otro 70% de los datos para entrenamiento)\n",
    "# X_test e Y_test --> datos de testeo (x atributos, y valores a predecir) --> 30% del dataset\n",
    "# X_train e Y_train --> datos de entrenamiento --> 70% del dataset\n",
    "\n",
    "#X_train, X_test, Y_train, Y_test = model_selection.train_test_split(X_raw, Y_raw, test_size=TEST_SIZE)#, random_state=42)\n",
    "\n",
    "#print('\\nDatos de Entrenamiento: %d   Datos de Testeo: %d' % (len(Y_train), len(Y_test) ))\n"
   ]
  },
  {
   "cell_type": "code",
   "execution_count": 80,
   "id": "c3756d6a-b046-4d34-a657-f2e110fcecb1",
   "metadata": {},
   "outputs": [
    {
     "name": "stderr",
     "output_type": "stream",
     "text": [
      "C:\\Users\\W10\\anaconda3\\Lib\\site-packages\\sklearn\\neural_network\\_multilayer_perceptron.py:691: ConvergenceWarning: Stochastic Optimizer: Maximum iterations (100) reached and the optimization hasn't converged yet.\n",
      "  warnings.warn(\n"
     ]
    },
    {
     "ename": "AxisError",
     "evalue": "axis 1 is out of bounds for array of dimension 1",
     "output_type": "error",
     "traceback": [
      "\u001b[1;31m---------------------------------------------------------------------------\u001b[0m",
      "\u001b[1;31mAxisError\u001b[0m                                 Traceback (most recent call last)",
      "Cell \u001b[1;32mIn[80], line 22\u001b[0m\n\u001b[0;32m     19\u001b[0m score \u001b[38;5;241m=\u001b[39m modelo\u001b[38;5;241m.\u001b[39mscore(X_train, Y_train)\n\u001b[0;32m     21\u001b[0m \u001b[38;5;66;03m# \"invierte\" la transformacion binaria para obtener los nombres de las clases\u001b[39;00m\n\u001b[1;32m---> 22\u001b[0m Y_it \u001b[38;5;241m=\u001b[39m binarizer\u001b[38;5;241m.\u001b[39minverse_transform(Y_train)\n\u001b[0;32m     23\u001b[0m Y_pred_it \u001b[38;5;241m=\u001b[39m binarizer\u001b[38;5;241m.\u001b[39minverse_transform(Y_pred)\n\u001b[0;32m     25\u001b[0m \u001b[38;5;66;03m# calculo manual del accuracy\u001b[39;00m\n",
      "File \u001b[1;32m~\\anaconda3\\Lib\\site-packages\\sklearn\\preprocessing\\_label.py:403\u001b[0m, in \u001b[0;36mLabelBinarizer.inverse_transform\u001b[1;34m(self, Y, threshold)\u001b[0m\n\u001b[0;32m    400\u001b[0m     threshold \u001b[38;5;241m=\u001b[39m (\u001b[38;5;28mself\u001b[39m\u001b[38;5;241m.\u001b[39mpos_label \u001b[38;5;241m+\u001b[39m \u001b[38;5;28mself\u001b[39m\u001b[38;5;241m.\u001b[39mneg_label) \u001b[38;5;241m/\u001b[39m \u001b[38;5;241m2.0\u001b[39m\n\u001b[0;32m    402\u001b[0m \u001b[38;5;28;01mif\u001b[39;00m \u001b[38;5;28mself\u001b[39m\u001b[38;5;241m.\u001b[39my_type_ \u001b[38;5;241m==\u001b[39m \u001b[38;5;124m\"\u001b[39m\u001b[38;5;124mmulticlass\u001b[39m\u001b[38;5;124m\"\u001b[39m:\n\u001b[1;32m--> 403\u001b[0m     y_inv \u001b[38;5;241m=\u001b[39m _inverse_binarize_multiclass(Y, \u001b[38;5;28mself\u001b[39m\u001b[38;5;241m.\u001b[39mclasses_)\n\u001b[0;32m    404\u001b[0m \u001b[38;5;28;01melse\u001b[39;00m:\n\u001b[0;32m    405\u001b[0m     y_inv \u001b[38;5;241m=\u001b[39m _inverse_binarize_thresholding(\n\u001b[0;32m    406\u001b[0m         Y, \u001b[38;5;28mself\u001b[39m\u001b[38;5;241m.\u001b[39my_type_, \u001b[38;5;28mself\u001b[39m\u001b[38;5;241m.\u001b[39mclasses_, threshold\n\u001b[0;32m    407\u001b[0m     )\n",
      "File \u001b[1;32m~\\anaconda3\\Lib\\site-packages\\sklearn\\preprocessing\\_label.py:641\u001b[0m, in \u001b[0;36m_inverse_binarize_multiclass\u001b[1;34m(y, classes)\u001b[0m\n\u001b[0;32m    639\u001b[0m     \u001b[38;5;28;01mreturn\u001b[39;00m classes[y_i_argmax]\n\u001b[0;32m    640\u001b[0m \u001b[38;5;28;01melse\u001b[39;00m:\n\u001b[1;32m--> 641\u001b[0m     \u001b[38;5;28;01mreturn\u001b[39;00m classes\u001b[38;5;241m.\u001b[39mtake(y\u001b[38;5;241m.\u001b[39margmax(axis\u001b[38;5;241m=\u001b[39m\u001b[38;5;241m1\u001b[39m), mode\u001b[38;5;241m=\u001b[39m\u001b[38;5;124m\"\u001b[39m\u001b[38;5;124mclip\u001b[39m\u001b[38;5;124m\"\u001b[39m)\n",
      "\u001b[1;31mAxisError\u001b[0m: axis 1 is out of bounds for array of dimension 1"
     ]
    }
   ],
   "source": [
    "FunH = 'tanh'   # identity logistic tanh relu\n",
    "ocultas = (8)\n",
    "\n",
    "alfa = 0.005\n",
    "CotaError = 1.0e-5\n",
    "MAX_ITE = 100\n",
    "\n",
    "modelo = MLPClassifier(max_iter=MAX_ITE, hidden_layer_sizes=ocultas, alpha=alfa,\n",
    "                       solver='sgd', activation=FunH, tol=CotaError,\n",
    "                       verbose=False)\n",
    "\n",
    "modelo.out_activation_ = 'softmax'\n",
    "\n",
    "modelo.fit(X_train, Y_train)\n",
    "\n",
    "#  ########### Medición del entrenamiento ######################\n",
    "# entrenamiento con X_train e Y_train (80% del dataset)\n",
    "Y_pred = modelo.predict(X_train)\n",
    "score = modelo.score(X_train, Y_train)\n",
    "\n",
    "# \"invierte\" la transformacion binaria para obtener los nombres de las clases\n",
    "Y_it = binarizer.inverse_transform(Y_train)\n",
    "Y_pred_it = binarizer.inverse_transform(Y_pred)\n",
    "\n",
    "# calculo manual del accuracy\n",
    "print('Efectividad: %6.2f%%' % (100*(Y_pred_it == Y_it).sum()/len(Y_it)) )\n",
    "print('      Score: %6.2f%%' % (score) )\n"
   ]
  },
  {
   "cell_type": "markdown",
   "id": "911c4ae2-757a-4d0d-92d1-2813039e5bde",
   "metadata": {},
   "source": [
    "### Testeo (utilizo df_test)"
   ]
  },
  {
   "cell_type": "code",
   "execution_count": null,
   "id": "81f5edf5-213b-4648-b559-b83a7ba6ccf0",
   "metadata": {},
   "outputs": [],
   "source": [
    "# %% separa atributos y clases\n",
    "X_test = np.array(df_test.iloc[:,1:])  # recupera todas las columnas salvo la primera \n",
    "Y_test = np.array(df_test.iloc[:,0])    # recupera solo la primer columna (valor a predecir)\n",
    "\n",
    "#  ########### Medición del testeo ######################\n",
    "Y_pred = modelo.predict(X_test)\n",
    "score = modelo.score(X_test, Y_test)\n",
    "\n",
    "# \"invierte\" la transformacion binaria para obtener los nombres de las clases ---> no es necesario pq no binarice el df_test\n",
    "Y_it = binarizer.inverse_transform(Y_test)\n",
    "Y_pred_it = binarizer.inverse_transform(Y_pred)\n",
    "\n",
    "# calculo manual del accuracy\n",
    "print('Efectividad: %6.2f%%' % (100*(Y_pred_it == Y_it).sum()/len(Y_it)) )\n",
    "print('      Score: %6.2f%%' % (score) )"
   ]
  },
  {
   "cell_type": "code",
   "execution_count": null,
   "id": "9074765d-0253-41df-8b3d-b6a6fb7874a9",
   "metadata": {},
   "outputs": [],
   "source": []
  }
 ],
 "metadata": {
  "kernelspec": {
   "display_name": "Python 3 (ipykernel)",
   "language": "python",
   "name": "python3"
  },
  "language_info": {
   "codemirror_mode": {
    "name": "ipython",
    "version": 3
   },
   "file_extension": ".py",
   "mimetype": "text/x-python",
   "name": "python",
   "nbconvert_exporter": "python",
   "pygments_lexer": "ipython3",
   "version": "3.12.4"
  }
 },
 "nbformat": 4,
 "nbformat_minor": 5
}
