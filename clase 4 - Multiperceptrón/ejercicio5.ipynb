{
 "cells": [
  {
   "cell_type": "markdown",
   "id": "9fb87741-30db-4e31-97b7-45b8ed6403a9",
   "metadata": {},
   "source": [
    "## EJERCICIO 5 - PRACTICA 4"
   ]
  },
  {
   "cell_type": "raw",
   "id": "94cd3a72-a84c-4031-8842-d35f6050ac69",
   "metadata": {},
   "source": [
    "El archivo ZOO.csv contiene información de 101 animales caracterizados por los siguientes atributos \n",
    "1. Nombre del animal\n",
    "2. Tiene Pelo\n",
    "3. Plumas\n",
    "4. Huevos\n",
    "5. Leche\n",
    "6. Vuela\n",
    "7. Acuático\n",
    "8. Depredador\n",
    "9. Dentado\n",
    "10. Vertebrado \n",
    "11. Branquias\n",
    "12. Venenoso\n",
    "13. Aletas\n",
    "14. Patas\n",
    "15. Cola\n",
    "16. Domestico\n",
    "17. Tamaño gato\n",
    "18. Clase\n",
    "Salvo los atributos 1 y 18 que contienen texto y el 14 que contiene el número de patas del animal, el resto \n",
    "toma el valor 1 si el animal posee la característica y 0 si no. Hay 7 valores de clase posible (atributo 18): \n",
    "mamífero, ave, pez, invertebrado, insecto, reptil y anfibio.\n"
   ]
  },
  {
   "cell_type": "code",
   "execution_count": 2,
   "id": "b1fe475d-e2b4-48eb-a025-5f31c75faf2e",
   "metadata": {},
   "outputs": [],
   "source": [
    "# configuración para notebook con instalación LOCAL\n",
    "FUENTES_DIR = '../Fuentes' # carpeta donde se encuentran archivos .py auxiliares\n",
    "DATOS_DIR   = '../Datos/'  # carpeta donde se encuentran los datasets\n",
    "\n",
    "# agrega ruta de busqueda donde tenemos archivos .py\n",
    "import sys\n",
    "sys.path.append(FUENTES_DIR)"
   ]
  },
  {
   "cell_type": "markdown",
   "id": "e98ccfb7-5851-4077-9f3a-555d17d772bb",
   "metadata": {},
   "source": [
    "### Importo dataset"
   ]
  },
  {
   "cell_type": "code",
   "execution_count": 4,
   "id": "9ccb3553-ed78-4c5b-96a7-b523dbbb07ca",
   "metadata": {},
   "outputs": [
    {
     "name": "stdout",
     "output_type": "stream",
     "text": [
      "             animal  Tiene_Pelo  Tiene_Plumas  Nace_de_huevo  Toma_Leche  \\\n",
      "0    oso_hormiguero           1             0              0           1   \n",
      "1          antilope           1             0              0           1   \n",
      "2            robalo           0             0              1           0   \n",
      "3               oso           1             0              0           1   \n",
      "4            jabali           1             0              0           1   \n",
      "..              ...         ...           ...            ...         ...   \n",
      "96          canguro           1             0              0           1   \n",
      "97           avispa           1             0              1           0   \n",
      "98             lobo           1             0              0           1   \n",
      "99           gusano           0             0              1           0   \n",
      "100      troglodito           0             1              1           0   \n",
      "\n",
      "     Vuela  Acuatico  Depredador  Dentado  Vertebrado  Respira  Venenoso  \\\n",
      "0        0         0           1        1           1        1         0   \n",
      "1        0         0           0        1           1        1         0   \n",
      "2        0         1           1        1           1        0         0   \n",
      "3        0         0           1        1           1        1         0   \n",
      "4        0         0           1        1           1        1         0   \n",
      "..     ...       ...         ...      ...         ...      ...       ...   \n",
      "96       0         0           0        1           1        1         0   \n",
      "97       1         0           0        0           0        1         1   \n",
      "98       0         0           1        1           1        1         0   \n",
      "99       0         0           0        0           0        1         0   \n",
      "100      1         0           0        0           1        1         0   \n",
      "\n",
      "     Tiene_Aletas  Cant_Patas  Tiene_Cola  Domestico  Tamano_Gato  \\\n",
      "0               0           4           0          0            1   \n",
      "1               0           4           1          0            1   \n",
      "2               1           0           1          0            0   \n",
      "3               0           4           0          0            1   \n",
      "4               0           4           1          0            1   \n",
      "..            ...         ...         ...        ...          ...   \n",
      "96              0           2           1          0            1   \n",
      "97              0           6           0          0            0   \n",
      "98              0           4           1          0            1   \n",
      "99              0           0           0          0            0   \n",
      "100             0           2           1          0            0   \n",
      "\n",
      "            Clase  \n",
      "0        Mamifero  \n",
      "1        Mamifero  \n",
      "2             Pez  \n",
      "3        Mamifero  \n",
      "4        Mamifero  \n",
      "..            ...  \n",
      "96       Mamifero  \n",
      "97        Insecto  \n",
      "98       Mamifero  \n",
      "99   Invertebrado  \n",
      "100           Ave  \n",
      "\n",
      "[101 rows x 18 columns]\n"
     ]
    }
   ],
   "source": [
    "import pandas as pd      # para trabajar con archivos de datos csv, excel, etc: https://pandas.pydata.org/docs/getting_started/tutorials.html\n",
    "import chardet           # para detectar la codificación de texto en archivos\n",
    "import numpy as np\n",
    "\n",
    "from sklearn import preprocessing, model_selection\n",
    "from sklearn.neural_network import MLPClassifier\n",
    "from matplotlib import pyplot as plt\n",
    "\n",
    "nombre_archivo = DATOS_DIR + 'zoo.csv' \n",
    "\n",
    "#-- detectando la codificación de caracteres usada ----\n",
    "with open(nombre_archivo, 'rb') as f:\n",
    "    result = chardet.detect(f.read())  # or readline if the file is large\n",
    "\n",
    "# recupera el archivo en un objeto dataframe de pandas utilizando la codificación detectada\n",
    "df = pd.read_csv(nombre_archivo, encoding=result['encoding'])\n",
    "print(df)"
   ]
  },
  {
   "cell_type": "markdown",
   "id": "4aa78b8a-4f22-4f17-8d9b-cf9d4c24786a",
   "metadata": {},
   "source": [
    "### Inspeccion rapida de los datos: analizo cuantos ejemplos hay de cada tipo de Clase"
   ]
  },
  {
   "cell_type": "code",
   "execution_count": 6,
   "id": "461a887b-d9e4-4163-9076-3b46694b6b7f",
   "metadata": {},
   "outputs": [
    {
     "data": {
      "text/plain": [
       "<Axes: >"
      ]
     },
     "execution_count": 6,
     "metadata": {},
     "output_type": "execute_result"
    },
    {
     "data": {
      "image/png": "[encoded data removed]",
      "text/plain": [
       "<Figure size 640x480 with 1 Axes>"
      ]
     },
     "metadata": {},
     "output_type": "display_data"
    }
   ],
   "source": [
    "# Para hacer una inspección rápida de los datos\n",
    "#print(df.head())\n",
    "#print(df.describe())\n",
    "df['Clase'].hist(bins=3)"
   ]
  },
  {
   "cell_type": "markdown",
   "id": "3aafc69f-a7d1-42a2-a195-e22af84e0557",
   "metadata": {},
   "source": [
    "### Entrene un multiperceptrón que sea capaz de clasificar un animal en una de las 7 clases"
   ]
  },
  {
   "cell_type": "markdown",
   "id": "e91bd337-391a-4e5f-8aa3-8aa722b0b2fb",
   "metadata": {},
   "source": [
    "### Utilice el 70% de los ejemplos para entrenar y el 30% para realizar el testeo"
   ]
  },
  {
   "cell_type": "markdown",
   "id": "5f98e1e2-723a-436a-a3ad-7c4aba75a360",
   "metadata": {},
   "source": [
    "### Elimino la primer columna del df, ya que el nombre del animal no aporta datos:"
   ]
  },
  {
   "cell_type": "code",
   "execution_count": 10,
   "id": "41069493-fe11-4fd5-8f38-ab33e2225952",
   "metadata": {},
   "outputs": [
    {
     "name": "stdout",
     "output_type": "stream",
     "text": [
      "DataFrame modificado:\n",
      "     Tiene_Pelo  Tiene_Plumas  Nace_de_huevo  Toma_Leche  Vuela  Acuatico  \\\n",
      "0             1             0              0           1      0         0   \n",
      "1             1             0              0           1      0         0   \n",
      "2             0             0              1           0      0         1   \n",
      "3             1             0              0           1      0         0   \n",
      "4             1             0              0           1      0         0   \n",
      "..          ...           ...            ...         ...    ...       ...   \n",
      "96            1             0              0           1      0         0   \n",
      "97            1             0              1           0      1         0   \n",
      "98            1             0              0           1      0         0   \n",
      "99            0             0              1           0      0         0   \n",
      "100           0             1              1           0      1         0   \n",
      "\n",
      "     Depredador  Dentado  Vertebrado  Respira  Venenoso  Tiene_Aletas  \\\n",
      "0             1        1           1        1         0             0   \n",
      "1             0        1           1        1         0             0   \n",
      "2             1        1           1        0         0             1   \n",
      "3             1        1           1        1         0             0   \n",
      "4             1        1           1        1         0             0   \n",
      "..          ...      ...         ...      ...       ...           ...   \n",
      "96            0        1           1        1         0             0   \n",
      "97            0        0           0        1         1             0   \n",
      "98            1        1           1        1         0             0   \n",
      "99            0        0           0        1         0             0   \n",
      "100           0        0           1        1         0             0   \n",
      "\n",
      "     Cant_Patas  Tiene_Cola  Domestico  Tamano_Gato         Clase  \n",
      "0             4           0          0            1      Mamifero  \n",
      "1             4           1          0            1      Mamifero  \n",
      "2             0           1          0            0           Pez  \n",
      "3             4           0          0            1      Mamifero  \n",
      "4             4           1          0            1      Mamifero  \n",
      "..          ...         ...        ...          ...           ...  \n",
      "96            2           1          0            1      Mamifero  \n",
      "97            6           0          0            0       Insecto  \n",
      "98            4           1          0            1      Mamifero  \n",
      "99            0           0          0            0  Invertebrado  \n",
      "100           2           1          0            0           Ave  \n",
      "\n",
      "[101 rows x 17 columns]\n"
     ]
    }
   ],
   "source": [
    "# Eliminar la primera columna\n",
    "df = df.iloc[:, 1:]\n",
    "\n",
    "print(\"DataFrame modificado:\")\n",
    "print(df)"
   ]
  },
  {
   "cell_type": "markdown",
   "id": "d41b2517-f267-40c6-9948-daa95ed9c358",
   "metadata": {},
   "source": [
    "### Divido el data set: 70% para entrenamiento y 30% para testeo:"
   ]
  },
  {
   "cell_type": "code",
   "execution_count": 12,
   "id": "7cccb13c-ef19-4683-ba0c-171d3224be9d",
   "metadata": {},
   "outputs": [
    {
     "name": "stdout",
     "output_type": "stream",
     "text": [
      "Las clases del dataset son : ['Anfibio' 'Ave' 'Insecto' 'Invertebrado' 'Mamifero' 'Pez' 'Reptil']\n",
      "[[0 0 0 0 1 0 0]\n",
      " [0 0 0 0 1 0 0]\n",
      " [0 0 0 0 0 1 0]\n",
      " [0 0 0 0 1 0 0]\n",
      " [0 0 0 0 1 0 0]\n",
      " [0 0 0 0 1 0 0]\n",
      " [0 0 0 0 1 0 0]\n",
      " [0 0 0 0 0 1 0]\n",
      " [0 0 0 0 0 1 0]\n",
      " [0 0 0 0 1 0 0]\n",
      " [0 0 0 0 1 0 0]\n",
      " [0 1 0 0 0 0 0]\n",
      " [0 0 0 0 0 1 0]\n",
      " [0 0 0 1 0 0 0]\n",
      " [0 0 0 1 0 0 0]\n",
      " [0 0 0 1 0 0 0]\n",
      " [0 1 0 0 0 0 0]\n",
      " [0 0 0 0 1 0 0]\n",
      " [0 0 0 0 0 1 0]\n",
      " [0 0 0 0 1 0 0]\n",
      " [0 1 0 0 0 0 0]\n",
      " [0 1 0 0 0 0 0]\n",
      " [0 0 0 0 1 0 0]\n",
      " [0 1 0 0 0 0 0]\n",
      " [0 0 1 0 0 0 0]\n",
      " [1 0 0 0 0 0 0]\n",
      " [1 0 0 0 0 0 0]\n",
      " [0 0 0 0 1 0 0]\n",
      " [0 0 0 0 1 0 0]\n",
      " [0 0 0 0 1 0 0]\n",
      " [0 0 1 0 0 0 0]\n",
      " [0 0 0 0 1 0 0]\n",
      " [0 0 0 0 1 0 0]\n",
      " [0 1 0 0 0 0 0]\n",
      " [0 0 0 0 0 1 0]\n",
      " [0 0 0 0 1 0 0]\n",
      " [0 0 0 0 1 0 0]\n",
      " [0 1 0 0 0 0 0]\n",
      " [0 0 0 0 0 1 0]\n",
      " [0 0 1 0 0 0 0]\n",
      " [0 0 1 0 0 0 0]\n",
      " [0 1 0 0 0 0 0]\n",
      " [0 0 1 0 0 0 0]\n",
      " [0 1 0 0 0 0 0]\n",
      " [0 0 0 0 1 0 0]\n",
      " [0 0 0 0 1 0 0]\n",
      " [0 0 0 1 0 0 0]\n",
      " [0 0 0 0 1 0 0]\n",
      " [0 0 0 0 1 0 0]\n",
      " [0 0 0 0 1 0 0]\n",
      " [0 0 0 0 1 0 0]\n",
      " [0 0 1 0 0 0 0]\n",
      " [1 0 0 0 0 0 0]\n",
      " [0 0 0 1 0 0 0]\n",
      " [0 0 0 0 1 0 0]\n",
      " [0 0 0 0 1 0 0]\n",
      " [0 1 0 0 0 0 0]\n",
      " [0 1 0 0 0 0 0]\n",
      " [0 1 0 0 0 0 0]\n",
      " [0 1 0 0 0 0 0]\n",
      " [0 0 0 0 0 1 0]\n",
      " [0 0 0 0 0 1 0]\n",
      " [0 0 0 0 0 0 1]\n",
      " [0 0 0 0 1 0 0]\n",
      " [0 0 0 0 1 0 0]\n",
      " [0 0 0 0 1 0 0]\n",
      " [0 0 0 0 1 0 0]\n",
      " [0 0 0 0 1 0 0]\n",
      " [0 0 0 0 1 0 0]\n",
      " [0 0 0 0 1 0 0]\n",
      " [0 0 0 0 1 0 0]\n",
      " [0 1 0 0 0 0 0]\n",
      " [0 0 0 1 0 0 0]\n",
      " [0 0 0 0 0 1 0]\n",
      " [0 0 0 0 1 0 0]\n",
      " [0 0 0 0 1 0 0]\n",
      " [0 0 0 0 0 0 1]\n",
      " [0 0 0 1 0 0 0]\n",
      " [0 1 0 0 0 0 0]\n",
      " [0 1 0 0 0 0 0]\n",
      " [0 0 0 0 0 0 1]\n",
      " [0 0 0 1 0 0 0]\n",
      " [0 0 0 0 0 1 0]\n",
      " [0 1 0 0 0 0 0]\n",
      " [0 0 0 0 1 0 0]\n",
      " [0 0 0 1 0 0 0]\n",
      " [0 0 0 0 0 1 0]\n",
      " [0 1 0 0 0 0 0]\n",
      " [0 0 1 0 0 0 0]\n",
      " [1 0 0 0 0 0 0]\n",
      " [0 0 0 0 0 0 1]\n",
      " [0 0 0 0 0 0 1]\n",
      " [0 0 0 0 0 1 0]\n",
      " [0 0 0 0 1 0 0]\n",
      " [0 0 0 0 1 0 0]\n",
      " [0 1 0 0 0 0 0]\n",
      " [0 0 0 0 1 0 0]\n",
      " [0 0 1 0 0 0 0]\n",
      " [0 0 0 0 1 0 0]\n",
      " [0 0 0 1 0 0 0]\n",
      " [0 1 0 0 0 0 0]]\n",
      "\n",
      "Datos de Entrenamiento: 70   Datos de Testeo: 31\n"
     ]
    }
   ],
   "source": [
    "# %% separa atributos y clases\n",
    "X_raw = np.array(df.iloc[:, :-1])  # recupera todas las columnas salvo la ultima \n",
    "Y_raw = np.array(df.iloc[:,-1])    # recupera solo la ultima columna (valor a predecir)\n",
    "\n",
    "# Binarizador para convertir el nombre de la clase en one hot encoding\n",
    "binarizer = preprocessing.LabelBinarizer()\n",
    "\n",
    "# Binariza cada clase como una combinación de un 1 y 0s\n",
    "Y_raw = binarizer.fit_transform(Y_raw)\n",
    "# Y_raw==pd.get_dummies(df[' Balance']).to_numpy() # forma alternativa para codificar\n",
    "\n",
    "print('Las clases del dataset son :', binarizer.classes_)\n",
    "print(Y_raw)\n",
    "# Escala los atributos de los ejemplo\n",
    "scaler = preprocessing.StandardScaler()\n",
    "#scaler = preprocessing.MinMaxScaler()\n",
    "X_raw  = scaler.fit_transform( X_raw )\n",
    "\n",
    "# %% Separa ejemplos para enternamiento y testeo:\n",
    "TEST_SIZE = 0.30 # proporcion entre testeo entre entrenamiento y testeo (utiliza 30% de los datos para testeo y el otro 70% de los datos para entrenamiento)\n",
    "# X_test e Y_test --> datos de testeo (x atributos, y valores a predecir) --> 30% del dataset\n",
    "# X_train e Y_train --> datos de entrenamiento --> 70% del dataset\n",
    "\n",
    "X_train, X_test, Y_train, Y_test = model_selection.train_test_split(X_raw, Y_raw, test_size=TEST_SIZE)#, random_state=42)\n",
    "\n",
    "print('\\nDatos de Entrenamiento: %d   Datos de Testeo: %d' % (len(Y_train), len(Y_test) ))\n"
   ]
  },
  {
   "cell_type": "markdown",
   "id": "0dafe0c7-ecb4-4504-8642-45471b655a93",
   "metadata": {},
   "source": [
    "### Entrenamiento"
   ]
  },
  {
   "cell_type": "code",
   "execution_count": 14,
   "id": "33b6099a-52de-46e1-b89f-2b2083d22e70",
   "metadata": {},
   "outputs": [
    {
     "name": "stdout",
     "output_type": "stream",
     "text": [
      "Efectividad:  84.29%\n",
      "      Score:   0.80%\n"
     ]
    },
    {
     "name": "stderr",
     "output_type": "stream",
     "text": [
      "C:\\Users\\W10\\anaconda3\\Lib\\site-packages\\sklearn\\neural_network\\_multilayer_perceptron.py:691: ConvergenceWarning: Stochastic Optimizer: Maximum iterations (1000) reached and the optimization hasn't converged yet.\n",
      "  warnings.warn(\n"
     ]
    }
   ],
   "source": [
    "FunH = 'tanh'   # identity logistic tanh relu\n",
    "ocultas = (8)\n",
    "\n",
    "alfa = 0.005\n",
    "CotaError = 1.0e-5\n",
    "MAX_ITE = 1000\n",
    "\n",
    "modelo = MLPClassifier(max_iter=MAX_ITE, hidden_layer_sizes=ocultas, alpha=alfa,\n",
    "                       solver='sgd', activation=FunH, tol=CotaError,\n",
    "                       verbose=False)\n",
    "\n",
    "modelo.out_activation_ = 'softmax'\n",
    "\n",
    "modelo.fit(X_train, Y_train)\n",
    "\n",
    "#  ########### Medición del entrenamiento ######################\n",
    "# entrenamiento con X_train e Y_train (80% del dataset)\n",
    "Y_pred = modelo.predict(X_train)\n",
    "score = modelo.score(X_train, Y_train)\n",
    "\n",
    "# \"invierte\" la transformacion binaria para obtener los nombres de las clases\n",
    "Y_it = binarizer.inverse_transform(Y_train)\n",
    "Y_pred_it = binarizer.inverse_transform(Y_pred)\n",
    "\n",
    "# calculo manual del accuracy\n",
    "print('Efectividad: %6.2f%%' % (100*(Y_pred_it == Y_it).sum()/len(Y_it)) )\n",
    "print('      Score: %6.2f%%' % (score) )\n"
   ]
  },
  {
   "cell_type": "markdown",
   "id": "78e2c5bd-3f6b-4f76-b1c3-dbb57d0d218c",
   "metadata": {},
   "source": [
    "### Testeo"
   ]
  },
  {
   "cell_type": "code",
   "execution_count": 16,
   "id": "53c97615-0231-41b5-8168-0f8bf9b746d8",
   "metadata": {},
   "outputs": [
    {
     "name": "stdout",
     "output_type": "stream",
     "text": [
      "Efectividad:  80.65%\n",
      "      Score:   0.77%\n"
     ]
    }
   ],
   "source": [
    "#  ########### Medición del testeo ######################\n",
    "# utilizo el 30% de ejemplos del dataset reservado para testear --> estan en X_test e Y_test\n",
    "Y_pred = modelo.predict(X_test)\n",
    "score = modelo.score(X_test, Y_test)\n",
    "\n",
    "# \"invierte\" la transformacion binaria para obtener los nombres de las clases\n",
    "Y_it = binarizer.inverse_transform(Y_test)\n",
    "Y_pred_it = binarizer.inverse_transform(Y_pred)\n",
    "\n",
    "# calculo manual del accuracy\n",
    "print('Efectividad: %6.2f%%' % (100*(Y_pred_it == Y_it).sum()/len(Y_it)) )\n",
    "print('      Score: %6.2f%%' % (score) )"
   ]
  },
  {
   "cell_type": "markdown",
   "id": "b2232160-c048-4bc3-afc7-7c78718dfbe5",
   "metadata": {},
   "source": [
    "### Analizo métricas"
   ]
  },
  {
   "cell_type": "code",
   "execution_count": 18,
   "id": "98af4e83-1aca-4cf2-abd0-4e2b08e387a8",
   "metadata": {},
   "outputs": [
    {
     "name": "stdout",
     "output_type": "stream",
     "text": [
      "\n",
      " Matriz de Confusión:\n",
      "[[ 1  0  0  0  0  0  0]\n",
      " [ 0  7  0  0  0  0  0]\n",
      " [ 2  0  0  0  0  0  0]\n",
      " [ 2  0  0  1  0  0  0]\n",
      " [ 0  0  0  0 12  0  0]\n",
      " [ 0  0  0  0  0  4  0]\n",
      " [ 1  1  0  0  0  0  0]] \n",
      "\n",
      "Resultado de la clasificación:\n",
      "              precision    recall  f1-score   support\n",
      "\n",
      "     Anfibio       0.17      1.00      0.29         1\n",
      "         Ave       0.88      1.00      0.93         7\n",
      "     Insecto       0.00      0.00      0.00         2\n",
      "Invertebrado       1.00      0.33      0.50         3\n",
      "    Mamifero       1.00      1.00      1.00        12\n",
      "         Pez       1.00      1.00      1.00         4\n",
      "      Reptil       0.00      0.00      0.00         2\n",
      "\n",
      "    accuracy                           0.81        31\n",
      "   macro avg       0.58      0.62      0.53        31\n",
      "weighted avg       0.82      0.81      0.78        31\n",
      "\n"
     ]
    },
    {
     "name": "stderr",
     "output_type": "stream",
     "text": [
      "C:\\Users\\W10\\anaconda3\\Lib\\site-packages\\sklearn\\metrics\\_classification.py:1509: UndefinedMetricWarning: Precision is ill-defined and being set to 0.0 in labels with no predicted samples. Use `zero_division` parameter to control this behavior.\n",
      "  _warn_prf(average, modifier, f\"{metric.capitalize()} is\", len(result))\n",
      "C:\\Users\\W10\\anaconda3\\Lib\\site-packages\\sklearn\\metrics\\_classification.py:1509: UndefinedMetricWarning: Precision is ill-defined and being set to 0.0 in labels with no predicted samples. Use `zero_division` parameter to control this behavior.\n",
      "  _warn_prf(average, modifier, f\"{metric.capitalize()} is\", len(result))\n",
      "C:\\Users\\W10\\anaconda3\\Lib\\site-packages\\sklearn\\metrics\\_classification.py:1509: UndefinedMetricWarning: Precision is ill-defined and being set to 0.0 in labels with no predicted samples. Use `zero_division` parameter to control this behavior.\n",
      "  _warn_prf(average, modifier, f\"{metric.capitalize()} is\", len(result))\n"
     ]
    }
   ],
   "source": [
    "from sklearn.metrics import accuracy_score, precision_score, recall_score, f1_score, confusion_matrix\n",
    "from sklearn import metrics\n",
    "\n",
    "# Y_pred --> vector con predicciones hechas por la red\n",
    "# Y_test --> vector con valores reales\n",
    "\n",
    "#convierto las predicciones y las etiquetas verdaderas de formato one-hot a etiquetas numéricas (escalar) porque confusion_matrix no soporta o-h-encoding\n",
    "Y_test_labels = binarizer.inverse_transform(Y_test)\n",
    "Y_pred_labels = binarizer.inverse_transform(Y_pred)\n",
    "\n",
    "confusion = confusion_matrix(Y_test_labels, Y_pred_labels)\n",
    "print('\\n Matriz de Confusión:')\n",
    "print(confusion, '\\n')\n",
    "\n",
    "################################ calcula todas las métricas juntas #################################\n",
    "report = metrics.classification_report(Y_test_labels, Y_pred_labels)\n",
    "print('Resultado de la clasificación:\\n%s' % report)\n"
   ]
  },
  {
   "cell_type": "code",
   "execution_count": null,
   "id": "8c2006ff-5116-48fe-a780-f0a1b1b83d09",
   "metadata": {},
   "outputs": [],
   "source": []
  }
 ],
 "metadata": {
  "kernelspec": {
   "display_name": "Python 3 (ipykernel)",
   "language": "python",
   "name": "python3"
  },
  "language_info": {
   "codemirror_mode": {
    "name": "ipython",
    "version": 3
   },
   "file_extension": ".py",
   "mimetype": "text/x-python",
   "name": "python",
   "nbconvert_exporter": "python",
   "pygments_lexer": "ipython3",
   "version": "3.12.4"
  }
 },
 "nbformat": 4,
 "nbformat_minor": 5
}
