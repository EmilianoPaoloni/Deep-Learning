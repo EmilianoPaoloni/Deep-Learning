{
 "cells": [
  {
   "cell_type": "markdown",
   "id": "255f17ef-6e2b-422c-b23b-3eef1dd4c74a",
   "metadata": {},
   "source": [
    "## EJERCICIO 7 - PRACTICA 4"
   ]
  },
  {
   "cell_type": "markdown",
   "id": "724f7e12-437c-4e4f-9dc5-6bac0945c1a2",
   "metadata": {},
   "source": [
    "### Re-implementacion del ejercicio 4 (Balance.csv) utilizando un Multiperceptrón Tensorflow/Keras."
   ]
  },
  {
   "cell_type": "raw",
   "id": "93aed12b-dcf9-4d79-95ff-d6531c5bd90c",
   "metadata": {},
   "source": [
    "El archivo Balance.csv tiene información sobre un experimento psicológico realizado para evaluar el \n",
    "aprendizaje en los niños. Cada fila de la tabla tiene las características de una balanza, referidas a la longitud \n",
    "de los brazos izquierdo y derecho de la balanza y al peso que hay en cada brazo, y un atributo que indica si \n",
    "la balanza se inclina al lado izquierdo (L), derecho (R), o está balanceada (B)."
   ]
  },
  {
   "cell_type": "markdown",
   "id": "0f12e99f-7dfd-4a80-981c-33e8a75f91ff",
   "metadata": {},
   "source": [
    "### Importo librerias keras"
   ]
  },
  {
   "cell_type": "code",
   "execution_count": 16,
   "id": "378bb90d-4dcc-484c-a5bc-50ad2ad0682c",
   "metadata": {},
   "outputs": [
    {
     "ename": "ModuleNotFoundError",
     "evalue": "No module named 'tensorflow'",
     "output_type": "error",
     "traceback": [
      "\u001b[1;31m---------------------------------------------------------------------------\u001b[0m",
      "\u001b[1;31mModuleNotFoundError\u001b[0m                       Traceback (most recent call last)",
      "Cell \u001b[1;32mIn[16], line 1\u001b[0m\n\u001b[1;32m----> 1\u001b[0m \u001b[38;5;28;01mfrom\u001b[39;00m \u001b[38;5;21;01mtensorflow\u001b[39;00m\u001b[38;5;21;01m.\u001b[39;00m\u001b[38;5;21;01mkeras\u001b[39;00m\u001b[38;5;21;01m.\u001b[39;00m\u001b[38;5;21;01moptimizers\u001b[39;00m \u001b[38;5;28;01mimport\u001b[39;00m SGD\n\u001b[0;32m      2\u001b[0m \u001b[38;5;28;01mfrom\u001b[39;00m \u001b[38;5;21;01mtensorflow\u001b[39;00m\u001b[38;5;21;01m.\u001b[39;00m\u001b[38;5;21;01mkeras\u001b[39;00m\u001b[38;5;21;01m.\u001b[39;00m\u001b[38;5;21;01mmodels\u001b[39;00m \u001b[38;5;28;01mimport\u001b[39;00m Sequential\n\u001b[0;32m      3\u001b[0m \u001b[38;5;28;01mfrom\u001b[39;00m \u001b[38;5;21;01mtensorflow\u001b[39;00m\u001b[38;5;21;01m.\u001b[39;00m\u001b[38;5;21;01mkeras\u001b[39;00m\u001b[38;5;21;01m.\u001b[39;00m\u001b[38;5;21;01mlayers\u001b[39;00m \u001b[38;5;28;01mimport\u001b[39;00m Dense\n",
      "\u001b[1;31mModuleNotFoundError\u001b[0m: No module named 'tensorflow'"
     ]
    }
   ],
   "source": [
    "from tensorflow.keras.optimizers import SGD\n",
    "from tensorflow.keras.models import Sequential\n",
    "from tensorflow.keras.layers import Dense\n",
    "from tensorflow.keras.utils import to_categorical\n",
    "\n",
    "import numpy as np\n",
    "from sklearn import preprocessing, metrics, model_selection \n",
    "import pandas as pd"
   ]
  },
  {
   "cell_type": "code",
   "execution_count": 7,
   "id": "f7316abd-d8ae-47ec-bc84-afcf2f8e785e",
   "metadata": {},
   "outputs": [],
   "source": [
    "# configuración para notebook con instalación LOCAL\n",
    "FUENTES_DIR = '../Fuentes' # carpeta donde se encuentran archivos .py auxiliares\n",
    "DATOS_DIR   = '../Datos/'  # carpeta donde se encuentran los datasets\n",
    "\n",
    "# agrega ruta de busqueda donde tenemos archivos .py\n",
    "import sys\n",
    "sys.path.append(FUENTES_DIR)"
   ]
  },
  {
   "cell_type": "markdown",
   "id": "37ef81c5-5189-4337-96cb-167875a48c8e",
   "metadata": {},
   "source": [
    "### Importo dataset"
   ]
  },
  {
   "cell_type": "code",
   "execution_count": 10,
   "id": "04c0d4a4-9807-48a9-a35b-8ec68cbdeece",
   "metadata": {},
   "outputs": [
    {
     "name": "stdout",
     "output_type": "stream",
     "text": [
      "    Balance  LeftWeight  LeftDist  RightWeight  RightDist\n",
      "0         B           1         1            1          1\n",
      "1         R           1         1            1          2\n",
      "2         R           1         1            1          3\n",
      "3         R           1         1            1          4\n",
      "4         R           1         1            1          5\n",
      "..      ...         ...       ...          ...        ...\n",
      "620       L           5         5            5          1\n",
      "621       L           5         5            5          2\n",
      "622       L           5         5            5          3\n",
      "623       L           5         5            5          4\n",
      "624       B           5         5            5          5\n",
      "\n",
      "[625 rows x 5 columns]\n"
     ]
    }
   ],
   "source": [
    "import pandas as pd      # para trabajar con archivos de datos csv, excel, etc: https://pandas.pydata.org/docs/getting_started/tutorials.html\n",
    "import chardet           # para detectar la codificación de texto en archivos\n",
    "import numpy as np\n",
    "\n",
    "\n",
    "nombre_archivo = DATOS_DIR + 'Balance.csv' \n",
    "\n",
    "# recupera el archivo en un objeto dataframe de pandas utilizando la codificación detectada\n",
    "df = pd.read_csv(nombre_archivo, sep=',')\n",
    "print(df)"
   ]
  },
  {
   "cell_type": "markdown",
   "id": "8f419084-8532-4bea-b8fa-1185903a6d51",
   "metadata": {},
   "source": [
    "### Consigna"
   ]
  },
  {
   "cell_type": "raw",
   "id": "3f88c324-a68e-4e6f-9142-132d81cd3bb4",
   "metadata": {},
   "source": [
    "Utilice una parte de los ejemplos para entrenar un multiperceptrón que sea capaz que predecir si la balanza \n",
    "está inclinada a derecha, a izquierda o si está balanceada. Analice la precisión de la red sobre los ejemplos \n",
    "de entrenamiento y sobre los de testeo"
   ]
  },
  {
   "cell_type": "markdown",
   "id": "19f6bdf7-1141-42a5-bc0c-2e186658065a",
   "metadata": {},
   "source": [
    "### Separo datos del dataset"
   ]
  },
  {
   "cell_type": "code",
   "execution_count": 14,
   "id": "a2bf4233-29fd-4fb5-9d2f-a9d12e20daaf",
   "metadata": {},
   "outputs": [
    {
     "ename": "NameError",
     "evalue": "name 'preprocessing' is not defined",
     "output_type": "error",
     "traceback": [
      "\u001b[1;31m---------------------------------------------------------------------------\u001b[0m",
      "\u001b[1;31mNameError\u001b[0m                                 Traceback (most recent call last)",
      "Cell \u001b[1;32mIn[14], line 6\u001b[0m\n\u001b[0;32m      3\u001b[0m Y \u001b[38;5;241m=\u001b[39m np\u001b[38;5;241m.\u001b[39marray(df\u001b[38;5;241m.\u001b[39miloc[:,\u001b[38;5;241m0\u001b[39m])    \u001b[38;5;66;03m# recupera solo la primer columna (valor a predecir)\u001b[39;00m\n\u001b[0;32m      5\u001b[0m \u001b[38;5;66;03m# convertimos las etiquetas categóricas en numéricas\u001b[39;00m\n\u001b[1;32m----> 6\u001b[0m encoder \u001b[38;5;241m=\u001b[39m preprocessing\u001b[38;5;241m.\u001b[39mLabelEncoder()\n\u001b[0;32m      7\u001b[0m Y \u001b[38;5;241m=\u001b[39m encoder\u001b[38;5;241m.\u001b[39mfit_transform(Y)\n\u001b[0;32m      8\u001b[0m \u001b[38;5;28mprint\u001b[39m(Y[[\u001b[38;5;241m1\u001b[39m,\u001b[38;5;241m50\u001b[39m,\u001b[38;5;241m100\u001b[39m]])\n",
      "\u001b[1;31mNameError\u001b[0m: name 'preprocessing' is not defined"
     ]
    }
   ],
   "source": [
    "# %% separa atributos y clases\n",
    "X = np.array(df.iloc[:,1:])  # recupera todas las columnas salvo la primera \n",
    "Y = np.array(df.iloc[:,0])    # recupera solo la primer columna (valor a predecir)\n",
    "\n",
    "# convertimos las etiquetas categóricas en numéricas\n",
    "encoder = preprocessing.LabelEncoder()\n",
    "Y = encoder.fit_transform(Y)\n",
    "print(Y[[1,50,100]])"
   ]
  },
  {
   "cell_type": "code",
   "execution_count": null,
   "id": "6bb5e6a6-5177-4b30-8a92-27af8dd7cebd",
   "metadata": {},
   "outputs": [],
   "source": []
  }
 ],
 "metadata": {
  "kernelspec": {
   "display_name": "Python 3 (ipykernel)",
   "language": "python",
   "name": "python3"
  },
  "language_info": {
   "codemirror_mode": {
    "name": "ipython",
    "version": 3
   },
   "file_extension": ".py",
   "mimetype": "text/x-python",
   "name": "python",
   "nbconvert_exporter": "python",
   "pygments_lexer": "ipython3",
   "version": "3.12.4"
  }
 },
 "nbformat": 4,
 "nbformat_minor": 5
}
