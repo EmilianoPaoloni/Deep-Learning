{
 "cells": [
  {
   "cell_type": "markdown",
   "id": "401410a1-416a-4080-bd15-50b92be2ed1e",
   "metadata": {},
   "source": [
    "## EJERCICIO 2 - PRACTICA 4"
   ]
  },
  {
   "cell_type": "raw",
   "id": "0f9369e0-bf7c-424b-abe5-a986c17cb0c9",
   "metadata": {},
   "source": [
    "Se desea utilizar una red multiperceptrón para reconocer muestras de tres variedades diferentes de trigo: \n",
    "Kama, Rosa y Canadiense. Para entrenarla se utilizará una parte de los ejemplos del archivo\n",
    "SEMILLAS.CSV."
   ]
  },
  {
   "cell_type": "code",
   "execution_count": 20,
   "id": "f28cc2dd-107f-4d18-b3ed-513d61cfd278",
   "metadata": {},
   "outputs": [],
   "source": [
    "# configuración para notebook con instalación LOCAL\n",
    "FUENTES_DIR = '../Fuentes' # carpeta donde se encuentran archivos .py auxiliares\n",
    "DATOS_DIR   = '../Datos/'  # carpeta donde se encuentran los datasets\n",
    "\n",
    "# agrega ruta de busqueda donde tenemos archivos .py\n",
    "import sys\n",
    "sys.path.append(FUENTES_DIR)"
   ]
  },
  {
   "cell_type": "code",
   "execution_count": 35,
   "id": "b59d2e26-cc7c-4afe-ac4b-963f139cbe75",
   "metadata": {},
   "outputs": [
    {
     "name": "stdout",
     "output_type": "stream",
     "text": [
      "      Area  Perimetro  Compacidad  LongNucleo  AnchoNucleo  Asimetria  \\\n",
      "0    15.26      14.84      0.8710       5.763        3.312      2.221   \n",
      "1    14.88      14.57      0.8811       5.554        3.333      1.018   \n",
      "2    14.29      14.09      0.9050       5.291        3.337      2.699   \n",
      "3    13.84      13.94      0.8955       5.324        3.379      2.259   \n",
      "4    16.14      14.99      0.9034       5.658        3.562      1.355   \n",
      "..     ...        ...         ...         ...          ...        ...   \n",
      "205  12.19      13.20      0.8783       5.137        2.981      3.631   \n",
      "206  11.23      12.88      0.8511       5.140        2.795      4.325   \n",
      "207  13.20      13.66      0.8883       5.236        3.232      8.315   \n",
      "208  11.84      13.21      0.8521       5.175        2.836      3.598   \n",
      "209  12.30      13.34      0.8684       5.243        2.974      5.637   \n",
      "\n",
      "     LongSurco  Clase  \n",
      "0        5.220  Tipo1  \n",
      "1        4.956  Tipo1  \n",
      "2        4.825  Tipo1  \n",
      "3        4.805  Tipo1  \n",
      "4        5.175  Tipo1  \n",
      "..         ...    ...  \n",
      "205      4.870  Tipo3  \n",
      "206      5.003  Tipo3  \n",
      "207      5.056  Tipo3  \n",
      "208      5.044  Tipo3  \n",
      "209      5.063  Tipo3  \n",
      "\n",
      "[210 rows x 8 columns]\n"
     ]
    }
   ],
   "source": [
    "import pandas as pd      # para trabajar con archivos de datos csv, excel, etc: https://pandas.pydata.org/docs/getting_started/tutorials.html\n",
    "import chardet           # para detectar la codificación de texto en archivos\n",
    "\n",
    "\n",
    "nombre_archivo = DATOS_DIR + 'Semillas.csv' \n",
    "\n",
    "# recupera el archivo en un objeto dataframe de pandas utilizando la codificación detectada\n",
    "df = pd.read_csv(nombre_archivo)\n",
    "print(df)"
   ]
  },
  {
   "cell_type": "raw",
   "id": "766db451-67b7-4f49-a580-cdc84c373657",
   "metadata": {},
   "source": [
    "a) Con respecto a la arquitectura, indique:\n",
    "*Para contar neuornas de entrada NO SE TIENE EN CUENTA EL BIAS\n",
    "▪ La cantidad de neuronas de la capa de entrada: 7 neuronas, una por cada atributo (7) (no se tiene en cuenta el bias, el bias no es una neurona, no recibe datos de entrada)\n",
    "▪ La cantidad de neuronas de la capa de salida: 3 neuronas (una por cada tipo de semilla)\n",
    "\n",
    "▪ La cantidad de pesos (arcos) que tiene la red si se utiliza una única capa oculta formada por 4 neuronas: Se deben considerar los arcos que conectan la capa de entrada a la capa oculta, y los que conectan la capa oculta con la capa de salida.\n",
    "*Para contar arcos SI SE TIENE EN CUENTA EL BIAS\n",
    "--> numero de pesos de entrada a capa oculta: 7 (neuronas) * 5 (neuronas + bias) = 35 pesos (arcos)\n",
    "--> numero de pesos de la capa oculta a la capa de salida: ( 5 (neuronas + bias ) * 4 (neuronas + bias) = 20 pesos (arcos)\n",
    "\n",
    "TOTAL PESOS: 47 pesos\n",
    "\n",
    "Por que no se considera al bias como una neurona en el calculo de pesos entrada-c.oculta y si se hace en calculo de pesos c.oculta-salida"
   ]
  },
  {
   "cell_type": "code",
   "execution_count": 39,
   "id": "f636624c-3e0d-4a01-9b46-789768a881bf",
   "metadata": {},
   "outputs": [
    {
     "ename": "SyntaxError",
     "evalue": "unmatched ')' (2744646699.py, line 1)",
     "output_type": "error",
     "traceback": [
      "\u001b[1;36m  Cell \u001b[1;32mIn[39], line 1\u001b[1;36m\u001b[0m\n\u001b[1;33m    b) La arquitectura del multiperceptrón utilizado para predecir los 3 tipos de semillas está formada por\u001b[0m\n\u001b[1;37m     ^\u001b[0m\n\u001b[1;31mSyntaxError\u001b[0m\u001b[1;31m:\u001b[0m unmatched ')'\n"
     ]
    }
   ],
   "source": [
    "b) La arquitectura del multiperceptrón utilizado para predecir los 3 tipos de semillas está formada por \n",
    "3 capas: la capa de entrada, una única capa oculta de 4 neuronas y la capa de salida. Las funciones\n",
    "de activación para las capas oculta y de salida son “tanh” y “sigmoid” respectivamente. \n",
    "\n",
    "Indique cuáles de los siguientes factores inciden en la dirección de cambio (signo de la modificación) de los pesos de la red:\n",
    "▪ El error cometido en la predicción. Si (backpropagation)\n",
    "▪ El valor de la derivada de la función de activación. No?\n",
    "▪ Los valores anteriores de los pesos de la red. No\n",
    "\n",
    "??"
   ]
  },
  {
   "cell_type": "code",
   "execution_count": null,
   "id": "5eb24afa-7886-4dbf-93f5-56e6b0cb69ca",
   "metadata": {},
   "outputs": [],
   "source": [
    "c) Luego de ingresar una muestra de semilla a la red se obtiene como salida (0.78, 0, 0). Utilizando la \n",
    "arquitectura descripta en b), indique cuántos pesos de la red serán modificados sabiendo que la \n",
    "respuesta esperada es (1, 0, 0).\n",
    "\n",
    "Como solo se predijo mal 1 valor, se van a modificar los pesos de los arcos que llegaron a la neurona de salida cuya salida se predijo de forma erronea."
   ]
  },
  {
   "cell_type": "code",
   "execution_count": null,
   "id": "35335556-a407-486c-ab9b-9db1db6b79ea",
   "metadata": {},
   "outputs": [],
   "source": []
  }
 ],
 "metadata": {
  "kernelspec": {
   "display_name": "Python 3 (ipykernel)",
   "language": "python",
   "name": "python3"
  },
  "language_info": {
   "codemirror_mode": {
    "name": "ipython",
    "version": 3
   },
   "file_extension": ".py",
   "mimetype": "text/x-python",
   "name": "python",
   "nbconvert_exporter": "python",
   "pygments_lexer": "ipython3",
   "version": "3.12.4"
  }
 },
 "nbformat": 4,
 "nbformat_minor": 5
}
