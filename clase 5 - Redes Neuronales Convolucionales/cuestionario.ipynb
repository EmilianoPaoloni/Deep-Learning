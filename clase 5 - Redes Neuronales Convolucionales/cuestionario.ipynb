{
 "cells": [
  {
   "cell_type": "markdown",
   "id": "4655fe22-56af-4df4-9c3b-f033c578465d",
   "metadata": {},
   "source": [
    "## ejercicios de cuestionario 5"
   ]
  },
  {
   "cell_type": "raw",
   "id": "eb946d8d-e878-497d-9f0e-9fc3f41c0197",
   "metadata": {},
   "source": [
    "Pregunta 11: cuáles son los valores de stride que hacen que los filtros KERNEL1 y KERNEL2 produzcan el mismo mapa de características, es decir la misma salida, al ser utilizados para realizar la convolución con la matriz ENTRADA aplicando padding de 1 elemento (P=1 o sea agregando un borde de ceros alrededor de la matriz ENTRADA)."
   ]
  },
  {
   "cell_type": "code",
   "execution_count": 5,
   "id": "f64e3e08-4401-4492-b1e8-2f614d7086e4",
   "metadata": {},
   "outputs": [
    {
     "data": {
      "image/png": "[encoded data removed]",
      "text/plain": [
       "<Figure size 640x480 with 1 Axes>"
      ]
     },
     "metadata": {},
     "output_type": "display_data"
    }
   ],
   "source": [
    "import numpy as np\n",
    "import matplotlib.pyplot as plt\n",
    "\n",
    "ENTRADA = np.array([ \n",
    "\n",
    "          [1,0,0,0,0,0,1],\n",
    "\n",
    "          [0,1,0,0,0,1,0],\n",
    "\n",
    "          [0,0,1,0,1,0,0],\n",
    "\n",
    "          [0,0,0,1,0,0,0],\n",
    "\n",
    "          [0,0,1,0,1,0,0],\n",
    "\n",
    "          [0,1,0,0,0,1,0],\n",
    "\n",
    "          [1,0,0,0,0,0,1]])\n",
    "\n",
    "# Dimensiones de la imagen\n",
    "img_alto, img_ancho = ENTRADA.shape\n",
    " \n",
    "\n",
    "Kernel1 = np.array([ [ 0,-1, 0],\n",
    "                     [-1, 1,-1],\n",
    "                     [ 0,-1, 0]])\n",
    "\n",
    " \n",
    "\n",
    "Kernel2 = np.array([ [ 0, 0, 0],\n",
    "                     [ 0, 1, 0],\n",
    "                     [ 0, 0, 0]])\n",
    "\n",
    "# Mostrar la imagen\n",
    "plt.imshow(ENTRADA, cmap='gray')\n",
    "plt.title('Imagen desde Matriz ENTRADA')\n",
    "plt.show()"
   ]
  },
  {
   "cell_type": "markdown",
   "id": "a8623c09-992a-482c-8059-582c1571d04f",
   "metadata": {},
   "source": [
    "### Valores de filtros\n"
   ]
  },
  {
   "cell_type": "code",
   "execution_count": 100,
   "id": "032ecce1-01ba-40dc-a510-07b6443081f9",
   "metadata": {},
   "outputs": [],
   "source": [
    "#valores para el Kernel1\n",
    "K1 = Kernel1.shape[0]  #tamaño del kernel\n",
    "S1 = 1 # stride\n",
    "P1 = 'same' # 'same' agrega padding 1, 'valid' no agrega padding  \n",
    "\n",
    "#valores para el Kernel2\n",
    "K2 = Kernel2.shape[0]  #tamaño del kernel\n",
    "S2 = 1 # stride\n",
    "P2 = 'same' # 'same' agrega padding 1, 'valid' no agrega padding  "
   ]
  },
  {
   "cell_type": "markdown",
   "id": "9cbcea54-f2dc-4313-af75-d7a58b5ff7fc",
   "metadata": {},
   "source": [
    "### Definir modelos Sequiential con una capa convolucional"
   ]
  },
  {
   "cell_type": "code",
   "execution_count": 103,
   "id": "94dd0d87-a2b8-4a2c-b9ca-89e41c122470",
   "metadata": {},
   "outputs": [
    {
     "data": {
      "text/html": [
       "<pre style=\"white-space:pre;overflow-x:auto;line-height:normal;font-family:Menlo,'DejaVu Sans Mono',consolas,'Courier New',monospace\"><span style=\"font-weight: bold\">Model: \"sequential_14\"</span>\n",
       "</pre>\n"
      ],
      "text/plain": [
       "\u001b[1mModel: \"sequential_14\"\u001b[0m\n"
      ]
     },
     "metadata": {},
     "output_type": "display_data"
    },
    {
     "data": {
      "text/html": [
       "<pre style=\"white-space:pre;overflow-x:auto;line-height:normal;font-family:Menlo,'DejaVu Sans Mono',consolas,'Courier New',monospace\">┏━━━━━━━━━━━━━━━━━━━━━━━━━━━━━━━━━┳━━━━━━━━━━━━━━━━━━━━━━━━┳━━━━━━━━━━━━━━━┓\n",
       "┃<span style=\"font-weight: bold\"> Layer (type)                    </span>┃<span style=\"font-weight: bold\"> Output Shape           </span>┃<span style=\"font-weight: bold\">       Param # </span>┃\n",
       "┡━━━━━━━━━━━━━━━━━━━━━━━━━━━━━━━━━╇━━━━━━━━━━━━━━━━━━━━━━━━╇━━━━━━━━━━━━━━━┩\n",
       "│ conv2d_12 (<span style=\"color: #0087ff; text-decoration-color: #0087ff\">Conv2D</span>)              │ (<span style=\"color: #00d7ff; text-decoration-color: #00d7ff\">None</span>, <span style=\"color: #00af00; text-decoration-color: #00af00\">7</span>, <span style=\"color: #00af00; text-decoration-color: #00af00\">7</span>, <span style=\"color: #00af00; text-decoration-color: #00af00\">1</span>)        │             <span style=\"color: #00af00; text-decoration-color: #00af00\">9</span> │\n",
       "└─────────────────────────────────┴────────────────────────┴───────────────┘\n",
       "</pre>\n"
      ],
      "text/plain": [
       "┏━━━━━━━━━━━━━━━━━━━━━━━━━━━━━━━━━┳━━━━━━━━━━━━━━━━━━━━━━━━┳━━━━━━━━━━━━━━━┓\n",
       "┃\u001b[1m \u001b[0m\u001b[1mLayer (type)                   \u001b[0m\u001b[1m \u001b[0m┃\u001b[1m \u001b[0m\u001b[1mOutput Shape          \u001b[0m\u001b[1m \u001b[0m┃\u001b[1m \u001b[0m\u001b[1m      Param #\u001b[0m\u001b[1m \u001b[0m┃\n",
       "┡━━━━━━━━━━━━━━━━━━━━━━━━━━━━━━━━━╇━━━━━━━━━━━━━━━━━━━━━━━━╇━━━━━━━━━━━━━━━┩\n",
       "│ conv2d_12 (\u001b[38;5;33mConv2D\u001b[0m)              │ (\u001b[38;5;45mNone\u001b[0m, \u001b[38;5;34m7\u001b[0m, \u001b[38;5;34m7\u001b[0m, \u001b[38;5;34m1\u001b[0m)        │             \u001b[38;5;34m9\u001b[0m │\n",
       "└─────────────────────────────────┴────────────────────────┴───────────────┘\n"
      ]
     },
     "metadata": {},
     "output_type": "display_data"
    },
    {
     "data": {
      "text/html": [
       "<pre style=\"white-space:pre;overflow-x:auto;line-height:normal;font-family:Menlo,'DejaVu Sans Mono',consolas,'Courier New',monospace\"><span style=\"font-weight: bold\"> Total params: </span><span style=\"color: #00af00; text-decoration-color: #00af00\">9</span> (36.00 B)\n",
       "</pre>\n"
      ],
      "text/plain": [
       "\u001b[1m Total params: \u001b[0m\u001b[38;5;34m9\u001b[0m (36.00 B)\n"
      ]
     },
     "metadata": {},
     "output_type": "display_data"
    },
    {
     "data": {
      "text/html": [
       "<pre style=\"white-space:pre;overflow-x:auto;line-height:normal;font-family:Menlo,'DejaVu Sans Mono',consolas,'Courier New',monospace\"><span style=\"font-weight: bold\"> Trainable params: </span><span style=\"color: #00af00; text-decoration-color: #00af00\">9</span> (36.00 B)\n",
       "</pre>\n"
      ],
      "text/plain": [
       "\u001b[1m Trainable params: \u001b[0m\u001b[38;5;34m9\u001b[0m (36.00 B)\n"
      ]
     },
     "metadata": {},
     "output_type": "display_data"
    },
    {
     "data": {
      "text/html": [
       "<pre style=\"white-space:pre;overflow-x:auto;line-height:normal;font-family:Menlo,'DejaVu Sans Mono',consolas,'Courier New',monospace\"><span style=\"font-weight: bold\"> Non-trainable params: </span><span style=\"color: #00af00; text-decoration-color: #00af00\">0</span> (0.00 B)\n",
       "</pre>\n"
      ],
      "text/plain": [
       "\u001b[1m Non-trainable params: \u001b[0m\u001b[38;5;34m0\u001b[0m (0.00 B)\n"
      ]
     },
     "metadata": {},
     "output_type": "display_data"
    },
    {
     "data": {
      "text/html": [
       "<pre style=\"white-space:pre;overflow-x:auto;line-height:normal;font-family:Menlo,'DejaVu Sans Mono',consolas,'Courier New',monospace\"><span style=\"font-weight: bold\">Model: \"sequential_15\"</span>\n",
       "</pre>\n"
      ],
      "text/plain": [
       "\u001b[1mModel: \"sequential_15\"\u001b[0m\n"
      ]
     },
     "metadata": {},
     "output_type": "display_data"
    },
    {
     "data": {
      "text/html": [
       "<pre style=\"white-space:pre;overflow-x:auto;line-height:normal;font-family:Menlo,'DejaVu Sans Mono',consolas,'Courier New',monospace\">┏━━━━━━━━━━━━━━━━━━━━━━━━━━━━━━━━━┳━━━━━━━━━━━━━━━━━━━━━━━━┳━━━━━━━━━━━━━━━┓\n",
       "┃<span style=\"font-weight: bold\"> Layer (type)                    </span>┃<span style=\"font-weight: bold\"> Output Shape           </span>┃<span style=\"font-weight: bold\">       Param # </span>┃\n",
       "┡━━━━━━━━━━━━━━━━━━━━━━━━━━━━━━━━━╇━━━━━━━━━━━━━━━━━━━━━━━━╇━━━━━━━━━━━━━━━┩\n",
       "│ conv2d_13 (<span style=\"color: #0087ff; text-decoration-color: #0087ff\">Conv2D</span>)              │ (<span style=\"color: #00d7ff; text-decoration-color: #00d7ff\">None</span>, <span style=\"color: #00af00; text-decoration-color: #00af00\">7</span>, <span style=\"color: #00af00; text-decoration-color: #00af00\">7</span>, <span style=\"color: #00af00; text-decoration-color: #00af00\">1</span>)        │             <span style=\"color: #00af00; text-decoration-color: #00af00\">9</span> │\n",
       "└─────────────────────────────────┴────────────────────────┴───────────────┘\n",
       "</pre>\n"
      ],
      "text/plain": [
       "┏━━━━━━━━━━━━━━━━━━━━━━━━━━━━━━━━━┳━━━━━━━━━━━━━━━━━━━━━━━━┳━━━━━━━━━━━━━━━┓\n",
       "┃\u001b[1m \u001b[0m\u001b[1mLayer (type)                   \u001b[0m\u001b[1m \u001b[0m┃\u001b[1m \u001b[0m\u001b[1mOutput Shape          \u001b[0m\u001b[1m \u001b[0m┃\u001b[1m \u001b[0m\u001b[1m      Param #\u001b[0m\u001b[1m \u001b[0m┃\n",
       "┡━━━━━━━━━━━━━━━━━━━━━━━━━━━━━━━━━╇━━━━━━━━━━━━━━━━━━━━━━━━╇━━━━━━━━━━━━━━━┩\n",
       "│ conv2d_13 (\u001b[38;5;33mConv2D\u001b[0m)              │ (\u001b[38;5;45mNone\u001b[0m, \u001b[38;5;34m7\u001b[0m, \u001b[38;5;34m7\u001b[0m, \u001b[38;5;34m1\u001b[0m)        │             \u001b[38;5;34m9\u001b[0m │\n",
       "└─────────────────────────────────┴────────────────────────┴───────────────┘\n"
      ]
     },
     "metadata": {},
     "output_type": "display_data"
    },
    {
     "data": {
      "text/html": [
       "<pre style=\"white-space:pre;overflow-x:auto;line-height:normal;font-family:Menlo,'DejaVu Sans Mono',consolas,'Courier New',monospace\"><span style=\"font-weight: bold\"> Total params: </span><span style=\"color: #00af00; text-decoration-color: #00af00\">9</span> (36.00 B)\n",
       "</pre>\n"
      ],
      "text/plain": [
       "\u001b[1m Total params: \u001b[0m\u001b[38;5;34m9\u001b[0m (36.00 B)\n"
      ]
     },
     "metadata": {},
     "output_type": "display_data"
    },
    {
     "data": {
      "text/html": [
       "<pre style=\"white-space:pre;overflow-x:auto;line-height:normal;font-family:Menlo,'DejaVu Sans Mono',consolas,'Courier New',monospace\"><span style=\"font-weight: bold\"> Trainable params: </span><span style=\"color: #00af00; text-decoration-color: #00af00\">9</span> (36.00 B)\n",
       "</pre>\n"
      ],
      "text/plain": [
       "\u001b[1m Trainable params: \u001b[0m\u001b[38;5;34m9\u001b[0m (36.00 B)\n"
      ]
     },
     "metadata": {},
     "output_type": "display_data"
    },
    {
     "data": {
      "text/html": [
       "<pre style=\"white-space:pre;overflow-x:auto;line-height:normal;font-family:Menlo,'DejaVu Sans Mono',consolas,'Courier New',monospace\"><span style=\"font-weight: bold\"> Non-trainable params: </span><span style=\"color: #00af00; text-decoration-color: #00af00\">0</span> (0.00 B)\n",
       "</pre>\n"
      ],
      "text/plain": [
       "\u001b[1m Non-trainable params: \u001b[0m\u001b[38;5;34m0\u001b[0m (0.00 B)\n"
      ]
     },
     "metadata": {},
     "output_type": "display_data"
    }
   ],
   "source": [
    "from keras.models import Sequential\n",
    "from keras.layers import Conv2D\n",
    "\n",
    "# MODELO 1\n",
    "model1 = Sequential()\n",
    "# Añadir la capa convolucional al modelo\n",
    "# La capa tendrá 1 filtro (kernel) de tamaño 3x3, con padding P=1 y con stride de 1\n",
    "model1.add(Conv2D(1, (K1,K1), strides=(S1,S1), padding=P1, \n",
    "                 input_shape=(img_alto, img_ancho, 1), use_bias=False))\n",
    "model1.summary()\n",
    "\n",
    "#MODELO 2\n",
    "model2 = Sequential()\n",
    "# Añadir la capa convolucional al modelo\n",
    "# La capa tendrá 1 filtro (kernel) de tamaño 3x3, con padding P=1 y con stride de 1\n",
    "model2.add(Conv2D(1, (K2,K2), strides=(S2,S2), padding=P2, \n",
    "                 input_shape=(img_alto, img_ancho, 1), use_bias=False))\n",
    "model2.summary()\n"
   ]
  },
  {
   "cell_type": "markdown",
   "id": "7da5610c-7339-40a9-89a8-3017994771ab",
   "metadata": {},
   "source": [
    "### Asigno filtros Kernel1 y Kernel2 a cada capa convolucional de cada modelo"
   ]
  },
  {
   "cell_type": "code",
   "execution_count": 106,
   "id": "be2c02ce-6ff8-4285-a4de-814f7a6b625e",
   "metadata": {},
   "outputs": [
    {
     "name": "stdout",
     "output_type": "stream",
     "text": [
      "filtro_Conv.shape =  (3, 3, 1, 1)\n",
      "filtro_Conv.shape =  (3, 3, 1, 1)\n"
     ]
    }
   ],
   "source": [
    "filtro_Conv1 = Kernel1.reshape((K1,K1, 1, 1))\n",
    "print(\"filtro_Conv.shape = \", filtro_Conv1.shape)\n",
    "\n",
    "filtro_Conv2 = Kernel2.reshape((K2,K2, 1, 1))\n",
    "print(\"filtro_Conv.shape = \", filtro_Conv2.shape)\n",
    "\n",
    "# Configurar los pesos de la capa convolucional con el filtro personalizado\n",
    "model1.layers[0].set_weights([filtro_Conv1])\n",
    "model2.layers[0].set_weights([filtro_Conv2])"
   ]
  },
  {
   "cell_type": "markdown",
   "id": "aed95b71-2dfc-4054-af7b-0274e6051a48",
   "metadata": {},
   "source": [
    "### Aplicar filtros a la imagen"
   ]
  },
  {
   "cell_type": "code",
   "execution_count": 109,
   "id": "7b56720a-3936-462d-84a3-c3056bc6f66d",
   "metadata": {},
   "outputs": [
    {
     "name": "stdout",
     "output_type": "stream",
     "text": [
      "\u001b[1m1/1\u001b[0m \u001b[32m━━━━━━━━━━━━━━━━━━━━\u001b[0m\u001b[37m\u001b[0m \u001b[1m0s\u001b[0m 104ms/step\n"
     ]
    },
    {
     "data": {
      "image/png": "[encoded data removed]",
      "text/plain": [
       "<Figure size 300x300 with 1 Axes>"
      ]
     },
     "metadata": {},
     "output_type": "display_data"
    },
    {
     "name": "stdout",
     "output_type": "stream",
     "text": [
      "Matriz resultante:\n",
      "[[ 1. -2.  0.  0.  0. -2.  1.]\n",
      " [-2.  1. -2.  0. -2.  1. -2.]\n",
      " [ 0. -2.  1. -3.  1. -2.  0.]\n",
      " [ 0.  0. -3.  1. -3.  0.  0.]\n",
      " [ 0. -2.  1. -3.  1. -2.  0.]\n",
      " [-2.  1. -2.  0. -2.  1. -2.]\n",
      " [ 1. -2.  0.  0.  0. -2.  1.]]\n",
      "\u001b[1m1/1\u001b[0m \u001b[32m━━━━━━━━━━━━━━━━━━━━\u001b[0m\u001b[37m\u001b[0m \u001b[1m0s\u001b[0m 109ms/step\n"
     ]
    },
    {
     "data": {
      "image/png": "[encoded data removed]",
      "text/plain": [
       "<Figure size 300x300 with 1 Axes>"
      ]
     },
     "metadata": {},
     "output_type": "display_data"
    },
    {
     "name": "stdout",
     "output_type": "stream",
     "text": [
      "Matriz resultante:\n",
      "[[1. 0. 0. 0. 0. 0. 1.]\n",
      " [0. 1. 0. 0. 0. 1. 0.]\n",
      " [0. 0. 1. 0. 1. 0. 0.]\n",
      " [0. 0. 0. 1. 0. 0. 0.]\n",
      " [0. 0. 1. 0. 1. 0. 0.]\n",
      " [0. 1. 0. 0. 0. 1. 0.]\n",
      " [1. 0. 0. 0. 0. 0. 1.]]\n"
     ]
    }
   ],
   "source": [
    "\n",
    "#APLICO KERNEL 1--------------------------\n",
    "img_array1 = ENTRADA.reshape((1, img_alto, img_ancho, 1))  \n",
    "filtered_image1 = model1.predict(img_array1)\n",
    "\n",
    "# Visualizar la imagen resultante\n",
    "plt.figure(figsize=(3,3))\n",
    "plt.imshow(filtered_image1.squeeze(), cmap='gray')\n",
    "plt.title('Imagen Filtrada con Kernel1')\n",
    "plt.axis('off')\n",
    "plt.show()\n",
    "#imprimo matriz resultante\n",
    "print(\"Matriz resultante:\")\n",
    "print(filtered_image1.squeeze())\n",
    "\n",
    "#APLICO KERNEL 2--------------------------\n",
    "img_array2 = ENTRADA.reshape((1, img_alto, img_ancho, 1))  \n",
    "filtered_image2 = model2.predict(img_array2)\n",
    "\n",
    "# Visualizar la imagen resultante\n",
    "plt.figure(figsize=(3,3))\n",
    "plt.imshow(filtered_image2.squeeze(), cmap='gray')\n",
    "plt.title('Imagen Filtrada con Kernel2')\n",
    "plt.axis('off')\n",
    "plt.show()\n",
    "#imprimo matriz resultante\n",
    "print(\"Matriz resultante:\")\n",
    "print(filtered_image2.squeeze())"
   ]
  },
  {
   "cell_type": "markdown",
   "id": "2570905a-8e78-4169-a400-e384aa38e725",
   "metadata": {},
   "source": [
    "### con stride=2 y stride=3, las imagenes de salida para los distintos filtros es la misma"
   ]
  },
  {
   "cell_type": "markdown",
   "id": "8725f387-8227-4787-ac74-15bb35e33bea",
   "metadata": {},
   "source": [
    "#### ---------------------------------------------------------------"
   ]
  },
  {
   "cell_type": "raw",
   "id": "3bf60aa3-3393-409a-90ba-1de08b8727d8",
   "metadata": {},
   "source": [
    "Pregunta 14: La primera capa de un modelo Sequential() recibe una imagen color RGB de 32x32 pixels, es decir que su tamaño será (32,32, 3). La capa Conv2D  del modelo esta formada por 50 filtros con bias de 3x3. ¿Cuántos parámetros tiene esta capa?"
   ]
  },
  {
   "cell_type": "code",
   "execution_count": 122,
   "id": "22d4bfcf-e564-4349-987b-ad6fe5d81d8d",
   "metadata": {},
   "outputs": [
    {
     "data": {
      "text/html": [
       "<pre style=\"white-space:pre;overflow-x:auto;line-height:normal;font-family:Menlo,'DejaVu Sans Mono',consolas,'Courier New',monospace\"><span style=\"font-weight: bold\">Model: \"sequential_20\"</span>\n",
       "</pre>\n"
      ],
      "text/plain": [
       "\u001b[1mModel: \"sequential_20\"\u001b[0m\n"
      ]
     },
     "metadata": {},
     "output_type": "display_data"
    },
    {
     "data": {
      "text/html": [
       "<pre style=\"white-space:pre;overflow-x:auto;line-height:normal;font-family:Menlo,'DejaVu Sans Mono',consolas,'Courier New',monospace\">┏━━━━━━━━━━━━━━━━━━━━━━━━━━━━━━━━━┳━━━━━━━━━━━━━━━━━━━━━━━━┳━━━━━━━━━━━━━━━┓\n",
       "┃<span style=\"font-weight: bold\"> Layer (type)                    </span>┃<span style=\"font-weight: bold\"> Output Shape           </span>┃<span style=\"font-weight: bold\">       Param # </span>┃\n",
       "┡━━━━━━━━━━━━━━━━━━━━━━━━━━━━━━━━━╇━━━━━━━━━━━━━━━━━━━━━━━━╇━━━━━━━━━━━━━━━┩\n",
       "│ conv2d_14 (<span style=\"color: #0087ff; text-decoration-color: #0087ff\">Conv2D</span>)              │ (<span style=\"color: #00d7ff; text-decoration-color: #00d7ff\">None</span>, <span style=\"color: #00af00; text-decoration-color: #00af00\">30</span>, <span style=\"color: #00af00; text-decoration-color: #00af00\">30</span>, <span style=\"color: #00af00; text-decoration-color: #00af00\">50</span>)     │         <span style=\"color: #00af00; text-decoration-color: #00af00\">1,400</span> │\n",
       "└─────────────────────────────────┴────────────────────────┴───────────────┘\n",
       "</pre>\n"
      ],
      "text/plain": [
       "┏━━━━━━━━━━━━━━━━━━━━━━━━━━━━━━━━━┳━━━━━━━━━━━━━━━━━━━━━━━━┳━━━━━━━━━━━━━━━┓\n",
       "┃\u001b[1m \u001b[0m\u001b[1mLayer (type)                   \u001b[0m\u001b[1m \u001b[0m┃\u001b[1m \u001b[0m\u001b[1mOutput Shape          \u001b[0m\u001b[1m \u001b[0m┃\u001b[1m \u001b[0m\u001b[1m      Param #\u001b[0m\u001b[1m \u001b[0m┃\n",
       "┡━━━━━━━━━━━━━━━━━━━━━━━━━━━━━━━━━╇━━━━━━━━━━━━━━━━━━━━━━━━╇━━━━━━━━━━━━━━━┩\n",
       "│ conv2d_14 (\u001b[38;5;33mConv2D\u001b[0m)              │ (\u001b[38;5;45mNone\u001b[0m, \u001b[38;5;34m30\u001b[0m, \u001b[38;5;34m30\u001b[0m, \u001b[38;5;34m50\u001b[0m)     │         \u001b[38;5;34m1,400\u001b[0m │\n",
       "└─────────────────────────────────┴────────────────────────┴───────────────┘\n"
      ]
     },
     "metadata": {},
     "output_type": "display_data"
    },
    {
     "data": {
      "text/html": [
       "<pre style=\"white-space:pre;overflow-x:auto;line-height:normal;font-family:Menlo,'DejaVu Sans Mono',consolas,'Courier New',monospace\"><span style=\"font-weight: bold\"> Total params: </span><span style=\"color: #00af00; text-decoration-color: #00af00\">1,400</span> (5.47 KB)\n",
       "</pre>\n"
      ],
      "text/plain": [
       "\u001b[1m Total params: \u001b[0m\u001b[38;5;34m1,400\u001b[0m (5.47 KB)\n"
      ]
     },
     "metadata": {},
     "output_type": "display_data"
    },
    {
     "data": {
      "text/html": [
       "<pre style=\"white-space:pre;overflow-x:auto;line-height:normal;font-family:Menlo,'DejaVu Sans Mono',consolas,'Courier New',monospace\"><span style=\"font-weight: bold\"> Trainable params: </span><span style=\"color: #00af00; text-decoration-color: #00af00\">1,400</span> (5.47 KB)\n",
       "</pre>\n"
      ],
      "text/plain": [
       "\u001b[1m Trainable params: \u001b[0m\u001b[38;5;34m1,400\u001b[0m (5.47 KB)\n"
      ]
     },
     "metadata": {},
     "output_type": "display_data"
    },
    {
     "data": {
      "text/html": [
       "<pre style=\"white-space:pre;overflow-x:auto;line-height:normal;font-family:Menlo,'DejaVu Sans Mono',consolas,'Courier New',monospace\"><span style=\"font-weight: bold\"> Non-trainable params: </span><span style=\"color: #00af00; text-decoration-color: #00af00\">0</span> (0.00 B)\n",
       "</pre>\n"
      ],
      "text/plain": [
       "\u001b[1m Non-trainable params: \u001b[0m\u001b[38;5;34m0\u001b[0m (0.00 B)\n"
      ]
     },
     "metadata": {},
     "output_type": "display_data"
    }
   ],
   "source": [
    "from keras.models import Sequential\n",
    "from keras.layers import Conv2D, Input\n",
    "\n",
    "model=Sequential()\n",
    "model.add(Input(shape=(32,32,3)))  \n",
    "model.add(Conv2D(filters=50, kernel_size=3))\n",
    "\n",
    "\n",
    "model.summary()"
   ]
  },
  {
   "cell_type": "markdown",
   "id": "5e5d0df1-9b0d-4c3b-bc9d-5c806f605398",
   "metadata": {},
   "source": [
    "#### ---------------------------------------------------------------"
   ]
  },
  {
   "cell_type": "raw",
   "id": "5d7f45c9-3bcf-4587-8842-8b274d0b33df",
   "metadata": {},
   "source": [
    "Pregunta 15: Dada la primera capa de un modelo Sequential() recibe una imagen color RGB de 32x32 pixels, es decir que su tamaño será (32,32, 3). Si la capa Conv2D del modelo está formada por 50 filtros con bias de 3x3 y no tiene padding. ¿Qué forma tiene la salida de la capa?"
   ]
  },
  {
   "cell_type": "code",
   "execution_count": 135,
   "id": "5fc7e325-f9b4-4a76-962f-633e6eefc374",
   "metadata": {},
   "outputs": [
    {
     "data": {
      "text/plain": [
       "<bound method Model.summary of <Sequential name=sequential_23, built=True>>"
      ]
     },
     "execution_count": 135,
     "metadata": {},
     "output_type": "execute_result"
    }
   ],
   "source": [
    "from keras.models import Sequential\n",
    "from keras.layers import Conv2D, Input\n",
    "P= 'valid'\n",
    "\n",
    "model=Sequential()\n",
    "model.add(Input(shape=(32,32,3)))  \n",
    "model.add(Conv2D(filters=50, kernel_size=3, padding=P))\n",
    "\n",
    "model.summary"
   ]
  },
  {
   "cell_type": "code",
   "execution_count": null,
   "id": "c237c434-84c7-4bb2-9825-98813433ad20",
   "metadata": {},
   "outputs": [],
   "source": []
  }
 ],
 "metadata": {
  "kernelspec": {
   "display_name": "Python 3 (ipykernel)",
   "language": "python",
   "name": "python3"
  },
  "language_info": {
   "codemirror_mode": {
    "name": "ipython",
    "version": 3
   },
   "file_extension": ".py",
   "mimetype": "text/x-python",
   "name": "python",
   "nbconvert_exporter": "python",
   "pygments_lexer": "ipython3",
   "version": "3.12.4"
  }
 },
 "nbformat": 4,
 "nbformat_minor": 5
}
