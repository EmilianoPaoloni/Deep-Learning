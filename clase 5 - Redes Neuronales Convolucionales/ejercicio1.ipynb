{
  "cells": [
    {
      "cell_type": "markdown",
      "id": "cee3ce3a-62fb-4a32-a5ea-e6d13fcca094",
      "metadata": {
        "id": "cee3ce3a-62fb-4a32-a5ea-e6d13fcca094"
      },
      "source": [
        "## EJERCICIO 1 - PRACTICA"
      ]
    },
    {
      "cell_type": "markdown",
      "source": [
        "### Ejercicio hecho en Google Colab"
      ],
      "metadata": {
        "id": "GOEEFC64Z7WT"
      },
      "id": "GOEEFC64Z7WT"
    },
    {
      "cell_type": "markdown",
      "id": "acf4a1ae-7fa9-4803-8802-d8ef35bdea75",
      "metadata": {
        "id": "acf4a1ae-7fa9-4803-8802-d8ef35bdea75"
      },
      "source": [
        "#### La base de datos MNIST contiene imágenes de 28×28, en escala de grises, de números escritos a mano. Está conformada por 60.000 ejemplos de entrenamiento y 10.000 ejemplos de prueba."
      ]
    },
    {
      "cell_type": "code",
      "execution_count": null,
      "id": "0b223323-8933-4864-a688-2cfd628cd6ec",
      "metadata": {
        "id": "0b223323-8933-4864-a688-2cfd628cd6ec"
      },
      "outputs": [],
      "source": [
        "# Importo MNIST\n",
        "from tensorflow.keras.datasets import mnist\n",
        "(X_train, Y_train), (X_test, Y_test) = mnist.load_data()\n",
        "\n",
        "# import matplotlib\n",
        "import matplotlib.pyplot as plt\n"
      ]
    },
    {
      "cell_type": "code",
      "execution_count": null,
      "id": "b378f0c2-6c7b-43b4-af90-b15758138b2d",
      "metadata": {
        "scrolled": true,
        "id": "b378f0c2-6c7b-43b4-af90-b15758138b2d",
        "outputId": "010ce326-768c-4468-afbd-9d19e04b1c33"
      },
      "outputs": [
        {
          "data": {
            "text/plain": [
              "<matplotlib.image.AxesImage at 0x21f0025f808>"
            ]
          },
          "execution_count": 12,
          "metadata": {},
          "output_type": "execute_result"
        },
        {
          "data": {
            "image/png": "[encoded data removed]",
            "text/plain": [
              "<Figure size 640x480 with 1 Axes>"
            ]
          },
          "metadata": {},
          "output_type": "display_data"
        }
      ],
      "source": [
        "nImg = 947 # nro. de imagen a visualizar\n",
        "plt.imshow(X_train[nImg, :,:], cmap='gray')"
      ]
    },
    {
      "cell_type": "markdown",
      "id": "732b1fff",
      "metadata": {
        "id": "732b1fff"
      },
      "source": [
        "### Inciso a)"
      ]
    },
    {
      "cell_type": "raw",
      "id": "9007e089",
      "metadata": {
        "id": "9007e089"
      },
      "source": [
        "Con el conjunto de 60000 imágenes entrene una red neuronal convolucional para predecir el dígito\n",
        "presente en la imagen. Recuerde normalizar los valores de cada imagen. Salve el modelo para\n",
        "recuperarlo después"
      ]
    },
    {
      "cell_type": "markdown",
      "source": [
        "### Generacion del modelo"
      ],
      "metadata": {
        "id": "ciuSMrbEaI55"
      },
      "id": "ciuSMrbEaI55"
    },
    {
      "cell_type": "code",
      "source": [
        "# %% Construccion del modelo\n",
        "model = Sequential()\n",
        "\n",
        "'''model.add(Conv2D(16, kernel_size=(3,3), strides=(2,2), activation='relu', input_shape=[*IMG_SHAPE, 1] ))\n",
        "model.add(MaxPooling2D(pool_size=(2,2)))\n",
        "model.add(Conv2D(16, kernel_size=(3,3), strides=(2,2), activation='relu' ))\n",
        "model.add(MaxPooling2D(pool_size=(2,2)))\n",
        "model.add(Flatten())\n",
        "model.add(Dense(20, activation='relu'))\n",
        "model.add(Dense(TARGET_CNT, activation='softmax'))\n",
        "\n",
        "'''\n",
        "model.add(Conv2D(64, kernel_size=(3,3), strides=(2,2), activation='relu', input_shape=[*IMG_SHAPE, 1] ))\n",
        "model.add(MaxPooling2D(pool_size=(2,2)))\n",
        "model.add(Conv2D(64, kernel_size=(3,3), strides=(2,2), activation='relu' ))\n",
        "model.add(MaxPooling2D(pool_size=(2,2)))\n",
        "model.add(Flatten())\n",
        "model.add(Dense(100, activation='leaky_relu'))\n",
        "model.add(Dense(TARGET_CNT, activation='softmax'))\n",
        "\n",
        "\n",
        "model.compile(optimizer='adam', loss='categorical_crossentropy', metrics=['accuracy'] )\n",
        "\n",
        "model.summary()"
      ],
      "metadata": {
        "id": "D__BtvuOaIBw"
      },
      "id": "D__BtvuOaIBw",
      "execution_count": null,
      "outputs": []
    },
    {
      "cell_type": "markdown",
      "source": [
        "## Entrenamiento del modelo"
      ],
      "metadata": {
        "id": "avFT7c4saQxV"
      },
      "id": "avFT7c4saQxV"
    },
    {
      "cell_type": "code",
      "source": [
        "!pip install livelossplot --quiet\n",
        "\n",
        "LOTES  = 32\n",
        "EPOCAS = 25\n",
        "\n",
        "from livelossplot import PlotLossesKeras\n",
        "\n",
        "# %% Entrenamiento del modelo usando datos de entrenamiento y validacion\n",
        "H = model.fit(x=X_train, y=Y_train, batch_size=LOTES,\n",
        "              epochs=EPOCAS, validation_split=0.2, callbacks=[PlotLossesKeras()], verbose=0)\n",
        "\n",
        "\n",
        "fig, axs = plt.subplots(1,2, figsize=(20,6))\n",
        "plt.figure()\n",
        "axs[0].plot(H.history[\"loss\"], label=\"train_loss\")\n",
        "axs[0].plot(H.history[\"val_loss\"], label=\"val_loss\")\n",
        "\n",
        "axs[1].plot(H.history[\"accuracy\"], label=\"train_acc\")\n",
        "axs[1].plot(H.history[\"val_accuracy\"], label=\"val_acc\")\n",
        "\n",
        "\n",
        "print (X_train.shape)\n",
        "pred = model.predict(X_train)\n",
        "\n",
        "cm = metrics.confusion_matrix(np.argmax(Y_train, axis=1), np.argmax(pred, axis=1))\n",
        "plt.figure()\n",
        "sns.heatmap(cm, square=True,  annot=True, fmt='d')\n",
        "\n",
        "\n",
        "# %% evalua el modelo para entrenamiento y testeo\n",
        "pred = model.evaluate(X_train, Y_train, verbose=0)\n",
        "print(\"\\nEfectividad del modelo con datos de entrenamiento: %6.2f%%\" % (pred[1]*100))\n",
        "\n",
        "# evalua el modelo con los datos de validacion\n",
        "pred = model.evaluate(X_test, Y_test, verbose=0)\n",
        "print(\"Efectividad del modelo con datos de Prueba.......: %6.2f%%\" % (pred[1]*100))"
      ],
      "metadata": {
        "id": "ntHdtq8paQ8d"
      },
      "id": "ntHdtq8paQ8d",
      "execution_count": null,
      "outputs": []
    },
    {
      "cell_type": "markdown",
      "source": [
        "## Salvo el modelo"
      ],
      "metadata": {
        "id": "iFL8u3edaZgT"
      },
      "id": "iFL8u3edaZgT"
    },
    {
      "cell_type": "code",
      "source": [
        "WARNING:absl:You are saving your model as an HDF5 file via `model.save()` or `keras.saving.save_model(model)`. This file format is considered legacy. We recommend using instead the native Keras format, e.g. `model.save('my_model.keras')` or `keras.saving.save_model(model, 'my_model.keras')`."
      ],
      "metadata": {
        "colab": {
          "base_uri": "https://localhost:8080/",
          "height": 124
        },
        "id": "ToZJTwbfaa3T",
        "outputId": "2178eb6f-1312-460c-e988-a3452f3371ab"
      },
      "id": "ToZJTwbfaa3T",
      "execution_count": 1,
      "outputs": [
        {
          "output_type": "error",
          "ename": "SyntaxError",
          "evalue": "invalid syntax (<ipython-input-1-c26197ecfa36>, line 1)",
          "traceback": [
            "\u001b[0;36m  File \u001b[0;32m\"<ipython-input-1-c26197ecfa36>\"\u001b[0;36m, line \u001b[0;32m1\u001b[0m\n\u001b[0;31m    WARNING:absl:You are saving your model as an HDF5 file via `model.save()` or `keras.saving.save_model(model)`. This file format is considered legacy. We recommend using instead the native Keras format, e.g. `model.save('my_model.keras')` or `keras.saving.save_model(model, 'my_model.keras')`.\u001b[0m\n\u001b[0m                ^\u001b[0m\n\u001b[0;31mSyntaxError\u001b[0m\u001b[0;31m:\u001b[0m invalid syntax\n"
          ]
        }
      ]
    },
    {
      "cell_type": "markdown",
      "source": [
        "## Recupero el modelo"
      ],
      "metadata": {
        "id": "HAIUHh-TafjT"
      },
      "id": "HAIUHh-TafjT"
    },
    {
      "cell_type": "code",
      "source": [
        "from tensorflow.keras.models import load_model\n",
        "\n",
        "model = load_model('MNIST_conv_model.h5')"
      ],
      "metadata": {
        "id": "a-_K1LcLabcU"
      },
      "id": "a-_K1LcLabcU",
      "execution_count": null,
      "outputs": []
    },
    {
      "cell_type": "markdown",
      "source": [
        "## Inciso b)"
      ],
      "metadata": {
        "id": "chBNziX-aqw2"
      },
      "id": "chBNziX-aqw2"
    },
    {
      "cell_type": "markdown",
      "source": [
        "Levante el modelo guardado en el punto a) y utilice la clase DrawPanel del módulo utils.images de\n",
        "la carpeta fuentes para generar un dibujo escrito a mano de un dígito y predecir la clase a la que\n",
        "pertenece."
      ],
      "metadata": {
        "id": "AygYJ0AiauoK"
      },
      "id": "AygYJ0AiauoK"
    },
    {
      "cell_type": "code",
      "source": [
        "Levante el modelo guardado en el punto a) y utilice la clase DrawPanel del módulo utils.imagesimport numpy as np\n",
        "from ClassDrawPanel import DrawPanel\n",
        "from PIL import Image, ImageOps\n",
        "\n",
        "IMG_SHAPE=(28,28)\n",
        "\n",
        "dp = DrawPanel()\n",
        "image = dp.draw(size=IMG_SHAPE, line_width=2.0, scale = 5)\n",
        "\n",
        "# obtiene canal de dibujo y normaliza a [0, 1]\n",
        "gs_image = np.array(image)[:,:,3]/255\n",
        "\n",
        "# prepara formato para funcion de prediccion\n",
        "gs_image = gs_image.reshape(1,*IMG_SHAPE,1)\n",
        "\n",
        "# obtiene salida (sofmax)\n",
        "resp = model.predict(gs_image, verbose=0)\n",
        "\n",
        "# posición de la neurona de salida con mayor valor\n",
        "digito = np.argmax(resp)\n",
        "\n",
        "print(\"El trazo dibujado corresponde al dígito %d\" % digito)\n"
      ],
      "metadata": {
        "id": "M4FGAtm-ap-v"
      },
      "id": "M4FGAtm-ap-v",
      "execution_count": null,
      "outputs": []
    },
    {
      "cell_type": "code",
      "source": [],
      "metadata": {
        "id": "yxzSNwZiavzw"
      },
      "id": "yxzSNwZiavzw",
      "execution_count": null,
      "outputs": []
    }
  ],
  "metadata": {
    "kernelspec": {
      "display_name": "Python 3 (ipykernel)",
      "language": "python",
      "name": "python3"
    },
    "language_info": {
      "codemirror_mode": {
        "name": "ipython",
        "version": 3
      },
      "file_extension": ".py",
      "mimetype": "text/x-python",
      "name": "python",
      "nbconvert_exporter": "python",
      "pygments_lexer": "ipython3",
      "version": "3.7.16"
    },
    "colab": {
      "provenance": []
    }
  },
  "nbformat": 4,
  "nbformat_minor": 5
}