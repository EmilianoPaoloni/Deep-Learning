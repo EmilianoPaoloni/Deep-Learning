{
 "cells": [
  {
   "cell_type": "markdown",
   "id": "54cef302",
   "metadata": {},
   "source": [
    "## EJERCICIO 2 - PRACTICA 5"
   ]
  },
  {
   "cell_type": "code",
   "execution_count": 4,
   "id": "0e40dff1",
   "metadata": {},
   "outputs": [],
   "source": [
    "# Importo MNIST\n",
    "from tensorflow.keras.datasets import mnist \n",
    "(X_train, Y_train), (X_test, Y_test) = mnist.load_data()\n",
    "\n",
    "\n",
    "# Importar Sequential\n",
    "from tensorflow.keras.models import Sequential\n",
    "from tensorflow.keras.layers import Input, Conv2D, MaxPooling2D, Flatten, Dense\n",
    "\n",
    "\n",
    "# import matplotlib\n",
    "import matplotlib.pyplot as plt\n",
    "\n"
   ]
  },
  {
   "cell_type": "markdown",
   "id": "41aa5131",
   "metadata": {},
   "source": [
    "### Importo digitos escritos a manos "
   ]
  },
  {
   "cell_type": "code",
   "execution_count": 23,
   "id": "9eca84ab",
   "metadata": {},
   "outputs": [],
   "source": [
    "# Importo MNIST\n",
    "from tensorflow.keras.datasets import mnist\n",
    "(X_train, Y_train), (X_test, Y_test) = mnist.load_data()\n",
    "\n",
    "# import matplotlib\n",
    "import matplotlib.pyplot as plt\n"
   ]
  },
  {
   "cell_type": "code",
   "execution_count": 24,
   "id": "c1bdeea2",
   "metadata": {},
   "outputs": [
    {
     "data": {
      "text/plain": [
       "<matplotlib.image.AxesImage at 0x215c9de8408>"
      ]
     },
     "execution_count": 24,
     "metadata": {},
     "output_type": "execute_result"
    },
    {
     "data": {
      "image/png": "[encoded data removed]",
      "text/plain": [
       "<Figure size 640x480 with 1 Axes>"
      ]
     },
     "metadata": {},
     "output_type": "display_data"
    }
   ],
   "source": [
    "nImg = 947 # nro. de imagen a visualizar\n",
    "plt.imshow(X_train[nImg, :,:], cmap='gray')"
   ]
  },
  {
   "cell_type": "markdown",
   "id": "8c1bf714",
   "metadata": {},
   "source": [
    "### Se buscará resolver la clasificación de los dígitos de MNIST usando la siguiente configuración:"
   ]
  },
  {
   "cell_type": "code",
   "execution_count": 16,
   "id": "11e83a37",
   "metadata": {},
   "outputs": [
    {
     "name": "stdout",
     "output_type": "stream",
     "text": [
      "Model: \"sequential_2\"\n",
      "_________________________________________________________________\n",
      " Layer (type)                Output Shape              Param #   \n",
      "=================================================================\n",
      " conv2d_1 (Conv2D)           (None, 26, 26, 4)         40        \n",
      "                                                                 \n",
      " max_pooling2d_1 (MaxPooling  (None, 13, 13, 4)        0         \n",
      " 2D)                                                             \n",
      "                                                                 \n",
      " flatten_1 (Flatten)         (None, 676)               0         \n",
      "                                                                 \n",
      " dense_1 (Dense)             (None, 10)                6770      \n",
      "                                                                 \n",
      "=================================================================\n",
      "Total params: 6,810\n",
      "Trainable params: 6,810\n",
      "Non-trainable params: 0\n",
      "_________________________________________________________________\n"
     ]
    }
   ],
   "source": [
    "#Constantes\n",
    "#F es la cantidad de filtros o de mapas de características\n",
    "F=4\n",
    "#K es el tamaño del kernel o máscara:\n",
    "K=3\n",
    "#S es el valor del stride:\n",
    "S=1\n",
    "#FUN es la función de activación de la capa de convolución:\n",
    "FUN='relu'\n",
    "\n",
    "#Modelo\n",
    "model = Sequential() \n",
    "model.add(Input(shape=(28, 28, 1))) \n",
    "model.add(Conv2D(F, kernel_size=K, strides=(S,S), activation=FUN)) \n",
    "model.add(MaxPooling2D(pool_size=(2,2))) # -- opcional --\n",
    "model.add(Flatten())\n",
    "model.add(Dense(10,activation='softmax')) \n",
    "model.summary() "
   ]
  },
  {
   "cell_type": "markdown",
   "id": "5125a776",
   "metadata": {},
   "source": [
    "### Parada temprana"
   ]
  },
  {
   "cell_type": "code",
   "execution_count": 17,
   "id": "14271143",
   "metadata": {},
   "outputs": [],
   "source": [
    "from tensorflow.keras.callbacks import EarlyStopping \n",
    "es = EarlyStopping(monitor='val_accuracy', patience=5, min_delta=0.001)\n",
    "\n",
    "#Si el valor del accuracy sobre los datos de validación no mejora después de 5 épocas, el entrenamiento finaliza."
   ]
  },
  {
   "cell_type": "markdown",
   "id": "dc3174c2",
   "metadata": {},
   "source": [
    "### Entrenamiento"
   ]
  },
  {
   "cell_type": "code",
   "execution_count": 21,
   "id": "24f1b22d",
   "metadata": {},
   "outputs": [],
   "source": [
    "model.compile(optimizer='adam', \n",
    "              loss='categorical_crossentropy', \n",
    "              metrics=['accuracy'])\n"
   ]
  },
  {
   "cell_type": "code",
   "execution_count": 22,
   "id": "45920a1d",
   "metadata": {},
   "outputs": [
    {
     "name": "stdout",
     "output_type": "stream",
     "text": [
      "Epoch 1/4000\n"
     ]
    },
    {
     "ename": "ValueError",
     "evalue": "in user code:\n\n    File \"C:\\Users\\W10\\anaconda3\\envs\\p37env\\lib\\site-packages\\keras\\engine\\training.py\", line 1249, in train_function  *\n        return step_function(self, iterator)\n    File \"C:\\Users\\W10\\anaconda3\\envs\\p37env\\lib\\site-packages\\keras\\engine\\training.py\", line 1233, in step_function  **\n        outputs = model.distribute_strategy.run(run_step, args=(data,))\n    File \"C:\\Users\\W10\\anaconda3\\envs\\p37env\\lib\\site-packages\\keras\\engine\\training.py\", line 1222, in run_step  **\n        outputs = model.train_step(data)\n    File \"C:\\Users\\W10\\anaconda3\\envs\\p37env\\lib\\site-packages\\keras\\engine\\training.py\", line 1024, in train_step\n        loss = self.compute_loss(x, y, y_pred, sample_weight)\n    File \"C:\\Users\\W10\\anaconda3\\envs\\p37env\\lib\\site-packages\\keras\\engine\\training.py\", line 1083, in compute_loss\n        y, y_pred, sample_weight, regularization_losses=self.losses\n    File \"C:\\Users\\W10\\anaconda3\\envs\\p37env\\lib\\site-packages\\keras\\engine\\compile_utils.py\", line 265, in __call__\n        loss_value = loss_obj(y_t, y_p, sample_weight=sw)\n    File \"C:\\Users\\W10\\anaconda3\\envs\\p37env\\lib\\site-packages\\keras\\losses.py\", line 152, in __call__\n        losses = call_fn(y_true, y_pred)\n    File \"C:\\Users\\W10\\anaconda3\\envs\\p37env\\lib\\site-packages\\keras\\losses.py\", line 284, in call  **\n        return ag_fn(y_true, y_pred, **self._fn_kwargs)\n    File \"C:\\Users\\W10\\anaconda3\\envs\\p37env\\lib\\site-packages\\keras\\losses.py\", line 2005, in categorical_crossentropy\n        y_true, y_pred, from_logits=from_logits, axis=axis\n    File \"C:\\Users\\W10\\anaconda3\\envs\\p37env\\lib\\site-packages\\keras\\backend.py\", line 5532, in categorical_crossentropy\n        target.shape.assert_is_compatible_with(output.shape)\n\n    ValueError: Shapes (None, 1) and (None, 10) are incompatible\n",
     "output_type": "error",
     "traceback": [
      "\u001b[1;31m---------------------------------------------------------------------------\u001b[0m",
      "\u001b[1;31mValueError\u001b[0m                                Traceback (most recent call last)",
      "\u001b[1;32m~\\AppData\\Local\\Temp\\ipykernel_18484\\2419087160.py\u001b[0m in \u001b[0;36m<module>\u001b[1;34m\u001b[0m\n\u001b[0;32m      3\u001b[0m \u001b[1;33m\u001b[0m\u001b[0m\n\u001b[0;32m      4\u001b[0m H = model.fit(x = X_train, y = Y_train, batch_size = LOTES, \n\u001b[1;32m----> 5\u001b[1;33m validation_data = (X_test, Y_test), epochs=4000, callbacks=[es]) \n\u001b[0m",
      "\u001b[1;32m~\\anaconda3\\envs\\p37env\\lib\\site-packages\\keras\\utils\\traceback_utils.py\u001b[0m in \u001b[0;36merror_handler\u001b[1;34m(*args, **kwargs)\u001b[0m\n\u001b[0;32m     68\u001b[0m             \u001b[1;31m# To get the full stack trace, call:\u001b[0m\u001b[1;33m\u001b[0m\u001b[1;33m\u001b[0m\u001b[1;33m\u001b[0m\u001b[0m\n\u001b[0;32m     69\u001b[0m             \u001b[1;31m# `tf.debugging.disable_traceback_filtering()`\u001b[0m\u001b[1;33m\u001b[0m\u001b[1;33m\u001b[0m\u001b[1;33m\u001b[0m\u001b[0m\n\u001b[1;32m---> 70\u001b[1;33m             \u001b[1;32mraise\u001b[0m \u001b[0me\u001b[0m\u001b[1;33m.\u001b[0m\u001b[0mwith_traceback\u001b[0m\u001b[1;33m(\u001b[0m\u001b[0mfiltered_tb\u001b[0m\u001b[1;33m)\u001b[0m \u001b[1;32mfrom\u001b[0m \u001b[1;32mNone\u001b[0m\u001b[1;33m\u001b[0m\u001b[1;33m\u001b[0m\u001b[0m\n\u001b[0m\u001b[0;32m     71\u001b[0m         \u001b[1;32mfinally\u001b[0m\u001b[1;33m:\u001b[0m\u001b[1;33m\u001b[0m\u001b[1;33m\u001b[0m\u001b[0m\n\u001b[0;32m     72\u001b[0m             \u001b[1;32mdel\u001b[0m \u001b[0mfiltered_tb\u001b[0m\u001b[1;33m\u001b[0m\u001b[1;33m\u001b[0m\u001b[0m\n",
      "\u001b[1;32m~\\anaconda3\\envs\\p37env\\lib\\site-packages\\keras\\engine\\training.py\u001b[0m in \u001b[0;36mtf__train_function\u001b[1;34m(iterator)\u001b[0m\n\u001b[0;32m     13\u001b[0m                 \u001b[1;32mtry\u001b[0m\u001b[1;33m:\u001b[0m\u001b[1;33m\u001b[0m\u001b[1;33m\u001b[0m\u001b[0m\n\u001b[0;32m     14\u001b[0m                     \u001b[0mdo_return\u001b[0m \u001b[1;33m=\u001b[0m \u001b[1;32mTrue\u001b[0m\u001b[1;33m\u001b[0m\u001b[1;33m\u001b[0m\u001b[0m\n\u001b[1;32m---> 15\u001b[1;33m                     \u001b[0mretval_\u001b[0m \u001b[1;33m=\u001b[0m \u001b[0mag__\u001b[0m\u001b[1;33m.\u001b[0m\u001b[0mconverted_call\u001b[0m\u001b[1;33m(\u001b[0m\u001b[0mag__\u001b[0m\u001b[1;33m.\u001b[0m\u001b[0mld\u001b[0m\u001b[1;33m(\u001b[0m\u001b[0mstep_function\u001b[0m\u001b[1;33m)\u001b[0m\u001b[1;33m,\u001b[0m \u001b[1;33m(\u001b[0m\u001b[0mag__\u001b[0m\u001b[1;33m.\u001b[0m\u001b[0mld\u001b[0m\u001b[1;33m(\u001b[0m\u001b[0mself\u001b[0m\u001b[1;33m)\u001b[0m\u001b[1;33m,\u001b[0m \u001b[0mag__\u001b[0m\u001b[1;33m.\u001b[0m\u001b[0mld\u001b[0m\u001b[1;33m(\u001b[0m\u001b[0miterator\u001b[0m\u001b[1;33m)\u001b[0m\u001b[1;33m)\u001b[0m\u001b[1;33m,\u001b[0m \u001b[1;32mNone\u001b[0m\u001b[1;33m,\u001b[0m \u001b[0mfscope\u001b[0m\u001b[1;33m)\u001b[0m\u001b[1;33m\u001b[0m\u001b[1;33m\u001b[0m\u001b[0m\n\u001b[0m\u001b[0;32m     16\u001b[0m                 \u001b[1;32mexcept\u001b[0m\u001b[1;33m:\u001b[0m\u001b[1;33m\u001b[0m\u001b[1;33m\u001b[0m\u001b[0m\n\u001b[0;32m     17\u001b[0m                     \u001b[0mdo_return\u001b[0m \u001b[1;33m=\u001b[0m \u001b[1;32mFalse\u001b[0m\u001b[1;33m\u001b[0m\u001b[1;33m\u001b[0m\u001b[0m\n",
      "\u001b[1;31mValueError\u001b[0m: in user code:\n\n    File \"C:\\Users\\W10\\anaconda3\\envs\\p37env\\lib\\site-packages\\keras\\engine\\training.py\", line 1249, in train_function  *\n        return step_function(self, iterator)\n    File \"C:\\Users\\W10\\anaconda3\\envs\\p37env\\lib\\site-packages\\keras\\engine\\training.py\", line 1233, in step_function  **\n        outputs = model.distribute_strategy.run(run_step, args=(data,))\n    File \"C:\\Users\\W10\\anaconda3\\envs\\p37env\\lib\\site-packages\\keras\\engine\\training.py\", line 1222, in run_step  **\n        outputs = model.train_step(data)\n    File \"C:\\Users\\W10\\anaconda3\\envs\\p37env\\lib\\site-packages\\keras\\engine\\training.py\", line 1024, in train_step\n        loss = self.compute_loss(x, y, y_pred, sample_weight)\n    File \"C:\\Users\\W10\\anaconda3\\envs\\p37env\\lib\\site-packages\\keras\\engine\\training.py\", line 1083, in compute_loss\n        y, y_pred, sample_weight, regularization_losses=self.losses\n    File \"C:\\Users\\W10\\anaconda3\\envs\\p37env\\lib\\site-packages\\keras\\engine\\compile_utils.py\", line 265, in __call__\n        loss_value = loss_obj(y_t, y_p, sample_weight=sw)\n    File \"C:\\Users\\W10\\anaconda3\\envs\\p37env\\lib\\site-packages\\keras\\losses.py\", line 152, in __call__\n        losses = call_fn(y_true, y_pred)\n    File \"C:\\Users\\W10\\anaconda3\\envs\\p37env\\lib\\site-packages\\keras\\losses.py\", line 284, in call  **\n        return ag_fn(y_true, y_pred, **self._fn_kwargs)\n    File \"C:\\Users\\W10\\anaconda3\\envs\\p37env\\lib\\site-packages\\keras\\losses.py\", line 2005, in categorical_crossentropy\n        y_true, y_pred, from_logits=from_logits, axis=axis\n    File \"C:\\Users\\W10\\anaconda3\\envs\\p37env\\lib\\site-packages\\keras\\backend.py\", line 5532, in categorical_crossentropy\n        target.shape.assert_is_compatible_with(output.shape)\n\n    ValueError: Shapes (None, 1) and (None, 10) are incompatible\n"
     ]
    }
   ],
   "source": [
    "LOTES=64 #entiendo q este valor puede ir cambiando\n",
    "#El tamaño del lote indica cuántas muestras serán procesadas antes de que el modelo actualice los pesos.\n",
    "\n",
    "H = model.fit(x = X_train, y = Y_train, batch_size = LOTES, \n",
    "validation_data = (X_test, Y_test), epochs=4000, callbacks=[es]) \n"
   ]
  },
  {
   "cell_type": "markdown",
   "id": "b7bbeeef",
   "metadata": {},
   "source": [
    "### Tabla de resultados"
   ]
  },
  {
   "cell_type": "code",
   "execution_count": 8,
   "id": "152613d5",
   "metadata": {},
   "outputs": [
    {
     "name": "stdout",
     "output_type": "stream",
     "text": [
      "   Cant. de filtros Tamaño del kernel  Convolución con Stride  \\\n",
      "0                 8               3x3                       1   \n",
      "1                16               5x5                       1   \n",
      "2                32               7x7                       1   \n",
      "3                16               3x3                       1   \n",
      "4                64               7x7                       1   \n",
      "5                64               3x3                       2   \n",
      "\n",
      "  Función de activación Max Pooling con tamaño 2x2  Parámetros entrenables  \\\n",
      "0                  ReLU                         Sí                     0.0   \n",
      "1                  ReLU                         Sí                     0.0   \n",
      "2                  ReLU                         Sí                     0.0   \n",
      "3                  ReLU                         Sí                     0.0   \n",
      "4                  ReLU                         Sí                     0.0   \n",
      "5                  Tanh                         No                     0.0   \n",
      "\n",
      "   Épocas en Train  Accuracy en Train  Accuracy en Test  \n",
      "0              0.0                0.0               0.0  \n",
      "1              0.0                0.0               0.0  \n",
      "2              0.0                0.0               0.0  \n",
      "3              0.0                0.0               0.0  \n",
      "4              0.0                0.0               0.0  \n",
      "5              0.0                0.0               0.0  \n"
     ]
    }
   ],
   "source": [
    "import pandas as pd\n",
    "import numpy as np\n",
    "\n",
    "# Crear el DataFrame con los datos de la tabla\n",
    "data = {\n",
    "    'Cant. de filtros': [8, 16, 32, 16, 64, 64],\n",
    "    'Tamaño del kernel': ['3x3', '5x5', '7x7', '3x3', '7x7', '3x3'],\n",
    "    'Convolución con Stride': [1, 1, 1, 1, 1, 2],\n",
    "    'Función de activación': ['ReLU', 'ReLU', 'ReLU', 'ReLU', 'ReLU', 'Tanh'],\n",
    "    'Max Pooling con tamaño 2x2': ['Sí', 'Sí', 'Sí', 'Sí', 'Sí', 'No'],\n",
    "    'Parámetros entrenables': [0.0, 0.0, 0.0, 0.0, 0.0, 0.0],\n",
    "    'Épocas en Train': [0.0, 0.0, 0.0, 0.0, 0.0, 0.0],\n",
    "    'Accuracy en Train': [0.0, 0.0, 0.0, 0.0, 0.0, 0.0],\n",
    "    'Accuracy en Test': [0.0, 0.0, 0.0, 0.0, 0.0, 0.0]\n",
    "}\n",
    "\n",
    "df = pd.DataFrame(data)\n",
    "\n",
    "# Mostrar el DataFrame\n",
    "print(df)\n"
   ]
  },
  {
   "cell_type": "code",
   "execution_count": null,
   "id": "20b5f568",
   "metadata": {},
   "outputs": [],
   "source": []
  }
 ],
 "metadata": {
  "kernelspec": {
   "display_name": "Python 3 (ipykernel)",
   "language": "python",
   "name": "python3"
  },
  "language_info": {
   "codemirror_mode": {
    "name": "ipython",
    "version": 3
   },
   "file_extension": ".py",
   "mimetype": "text/x-python",
   "name": "python",
   "nbconvert_exporter": "python",
   "pygments_lexer": "ipython3",
   "version": "3.7.16"
  }
 },
 "nbformat": 4,
 "nbformat_minor": 5
}
