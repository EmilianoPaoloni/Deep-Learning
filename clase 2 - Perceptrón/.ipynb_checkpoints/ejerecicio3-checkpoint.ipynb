{
 "cells": [
  {
   "cell_type": "markdown",
   "id": "772d378a-6e6a-4111-a73d-6e081e91cd3d",
   "metadata": {},
   "source": [
    "# EJERCICIO 3 - PRACTICA 2\n"
   ]
  },
  {
   "cell_type": "markdown",
   "id": "b536eaf5-7307-4066-8c9c-af68c405a774",
   "metadata": {},
   "source": [
    "####   ● EDAD es un atributo numérico que indica la edad del \n",
    "paciente\n",
    "\n",
    "####   \r\n",
    "● RIESGO es el nivel de riesgo del pacient\n",
    "\n",
    "####   .\r\n",
    "● EXAMEN indica si debe realizarse un examen extra.\r"
   ]
  },
  {
   "cell_type": "code",
   "execution_count": 102,
   "id": "cb21424d-8ec3-48f8-b7f5-387dc6229b43",
   "metadata": {},
   "outputs": [
    {
     "name": "stdout",
     "output_type": "stream",
     "text": [
      "   edad riesgo examen\n",
      "0    55   ALTO     SI\n",
      "1    56  MEDIO     NO\n",
      "2    58  MEDIO     SI\n",
      "3    56   BAJO     NO\n",
      "4    59   BAJO     NO\n",
      "5    57  MEDIO     SI\n",
      "6    60   BAJO     SI\n",
      "7    53   ALTO     NO\n",
      "8    59  MEDIO     SI\n"
     ]
    }
   ],
   "source": [
    "import pandas as pd\n",
    "\n",
    "# Crear el diccionario con los datos\n",
    "data = {\n",
    "    'edad': [55, 56, 58, 56, 59, 57, 60, 53, 59],\n",
    "    'riesgo': ['ALTO', 'MEDIO', 'MEDIO', 'BAJO', 'BAJO', 'MEDIO', 'BAJO', 'ALTO', 'MEDIO'],\n",
    "    'examen': ['SI', 'NO', 'SI', 'NO', 'NO', 'SI', 'SI', 'NO', 'SI']\n",
    "}\n",
    "\n",
    "# Crear el DataFrame\n",
    "df = pd.DataFrame(data)\n",
    "\n",
    "# Mostrar el DataFrame\n",
    "print(df)"
   ]
  },
  {
   "cell_type": "code",
   "execution_count": 104,
   "id": "e2e5a0b9-534f-4a03-81c1-476adbddd9c3",
   "metadata": {},
   "outputs": [
    {
     "name": "stdout",
     "output_type": "stream",
     "text": [
      "   edad  riesgo examen\n",
      "0    55       3     SI\n",
      "1    56       2     NO\n",
      "2    58       2     SI\n",
      "3    56       1     NO\n",
      "4    59       1     NO\n",
      "5    57       2     SI\n",
      "6    60       1     SI\n",
      "7    53       3     NO\n",
      "8    59       2     SI\n"
     ]
    },
    {
     "name": "stderr",
     "output_type": "stream",
     "text": [
      "C:\\Users\\W10\\AppData\\Local\\Temp\\ipykernel_17712\\3079498243.py:6: FutureWarning: Downcasting behavior in `replace` is deprecated and will be removed in a future version. To retain the old behavior, explicitly call `result.infer_objects(copy=False)`. To opt-in to the future behavior, set `pd.set_option('future.no_silent_downcasting', True)`\n",
      "  df.replace(mapeo, inplace=True)\n"
     ]
    }
   ],
   "source": [
    "#Para obtener transformar el atributo nominal RIESGO en uno \n",
    "#numérico se lo numerizó de la siguiente forma: BAJO = 1, MEDIO = 2 y ALTO = 3\n",
    "\n",
    "mapeo = {'riesgo': {'ALTO':3, 'BAJO':1 , 'MEDIO':2}}\n",
    "\n",
    "df.replace(mapeo, inplace=True)\n",
    "print(df)"
   ]
  },
  {
   "cell_type": "code",
   "execution_count": 106,
   "id": "c092ecbd-fa9e-40ef-848f-bedd8524ec73",
   "metadata": {},
   "outputs": [
    {
     "name": "stdout",
     "output_type": "stream",
     "text": [
      "La correlación entre \"Edad\" y \"Riesgo\" es: -0.72\n"
     ]
    }
   ],
   "source": [
    "# calculo correlacion lineal entre edad y riesgo:\n",
    "\n",
    "correlation = df['edad'].corr(df['riesgo'])\n",
    "\n",
    "print(f'La correlación entre \"Edad\" y \"Riesgo\" es: {correlation:.2f}')"
   ]
  },
  {
   "cell_type": "markdown",
   "id": "faee36e9-b227-4697-8b0b-aa6c2ec5660f",
   "metadata": {},
   "source": [
    "### Interpretacion del resultado: El modulo del coeficiente es un valor cercano a |1|, lo que indica que la relacion lineal entre la edad y el riesgo es bastante fuerte. Al ser un valor negativo, indica que cuando la edad crece, el riesgo decrece y viceversa"
   ]
  },
  {
   "cell_type": "markdown",
   "id": "df4a840b-bc11-4506-adfe-4b786c3dd713",
   "metadata": {},
   "source": [
    "### Luego de numerizar el atributo RIESGO y de normalizar los atributos de manera lineal entre 0 y 1, los \n",
    "ejemplos fueron utilizados para entrenar un perceptrón capaz de predecir correctamente el atributo\r\n",
    "EXAMEN. Los pesos obtenidos fueron los siguientes\n",
    ":###  \r\n",
    "W(EDAD) = 0.0807 W(RIESGO) = 0.074 Sesgo o bias = -0.0742"
   ]
  },
  {
   "cell_type": "code",
   "execution_count": 110,
   "id": "99494b26-136e-4c34-bdf8-607cdb7fb844",
   "metadata": {},
   "outputs": [
    {
     "name": "stdout",
     "output_type": "stream",
     "text": [
      "       edad  riesgo  examen\n",
      "0  0.285714     1.0       1\n",
      "1  0.428571     0.5       0\n",
      "2  0.714286     0.5       1\n",
      "3  0.428571     0.0       0\n",
      "4  0.857143     0.0       0\n",
      "5  0.571429     0.5       1\n",
      "6  1.000000     0.0       1\n",
      "7  0.000000     1.0       0\n",
      "8  0.857143     0.5       1\n"
     ]
    }
   ],
   "source": [
    "# -- NORMALIZAR entre 0 y 1 RIESGO Y EDAD --\n",
    "miniedad = df['edad'].min()\n",
    "maxiedad = df['edad'].max()\n",
    "df['edad']= (df['edad']-miniedad)/(maxiedad-miniedad)\n",
    "\n",
    "#df[['edad', 'edadLineal']].describe()\n",
    "\n",
    "miniriesgo = df['riesgo'].min()\n",
    "maxiriesgo = df['riesgo'].max()\n",
    "df['riesgo']= (df['riesgo']-miniriesgo)/(maxiriesgo-miniriesgo)\n",
    "\n",
    "#df[['riesgo', 'riesgoLineal']].describe()\n",
    "\n",
    "# Convertir la columna 'examen?' a binario   ---> NUMERIZACION BINARIA\n",
    "df['examen'] = df['examen'].apply(lambda x: 1 if x == 'SI' else 0)\n",
    "\n",
    "\n",
    "\n",
    "print(df)"
   ]
  },
  {
   "cell_type": "code",
   "execution_count": 112,
   "id": "bdd56f2e-bda9-4f45-b69f-c893fbe1551d",
   "metadata": {},
   "outputs": [
    {
     "name": "stdout",
     "output_type": "stream",
     "text": [
      "Accuracy: 0.00%\n",
      " ---------------\n",
      "Número de predicciones correctas: 0 de 9\n",
      "       edad  riesgo  examen  Real  Predicción  Correcto\n",
      "0  0.285714     1.0       1     1           0     False\n",
      "1  0.428571     0.5       0     0           1     False\n",
      "2  0.714286     0.5       1     1           0     False\n",
      "3  0.428571     0.0       0     0           1     False\n",
      "4  0.857143     0.0       0     0           1     False\n",
      "5  0.571429     0.5       1     1           0     False\n",
      "6  1.000000     0.0       1     1           0     False\n",
      "7  0.000000     1.0       0     0           1     False\n",
      "8  0.857143     0.5       1     1           0     False\n"
     ]
    }
   ],
   "source": [
    "import numpy as np\n",
    "\n",
    "# Separar las características y la etiqueta\n",
    "X = df[['edad', 'riesgo']].values # X --> vector de atributos\n",
    "y = df['examen'].values           # Y --> atributo a predecir == examen\n",
    "\n",
    "# Definir los pesos y el sesgo --> uso datos proporcionados\n",
    "weights = np.array([-0.076,  -0.071])\n",
    "bias = 0.071\n",
    "\n",
    "# Función de activación\n",
    "def step_function(x):\n",
    "    return 1 if x >= 0 else 0\n",
    "\n",
    "# Predicción del perceptrón\n",
    "def predict(X, weights, bias):\n",
    "    linear_output = np.dot(X, weights) + bias\n",
    "    return step_function(linear_output)\n",
    "\n",
    "# Evaluar el perceptrón en todos los ejemplos\n",
    "predictions = np.array([predict(x, weights, bias) for x in X])\n",
    "\n",
    "# Comparar las predicciones con las etiquetas reales\n",
    "accuracy = np.mean(predictions == y)\n",
    "print(f'Accuracy: {accuracy * 100:.2f}%')\n",
    "print(' ---------------')\n",
    "\n",
    "# Mostrar resultados individuales\n",
    "results = pd.DataFrame({\n",
    "    'edad': df['edad'],\n",
    "    'riesgo': df['riesgo'],\n",
    "    'examen': df['examen'],\n",
    "    'Real': y,\n",
    "    'Predicción': predictions\n",
    "})\n",
    "\n",
    "# Añadir columna de aciertos\n",
    "results['Correcto'] = results['Real'] == results['Predicción']\n",
    "\n",
    "\n",
    "# Contar el número de aciertos\n",
    "num_correctos = results['Correcto'].sum()\n",
    "print(f'Número de predicciones correctas: {num_correctos} de {len(results)}')\n",
    "\n",
    "print(results)"
   ]
  },
  {
   "cell_type": "code",
   "execution_count": 114,
   "id": "89086cd6-8fe6-4801-8a57-b3236ff1f968",
   "metadata": {},
   "outputs": [
    {
     "name": "stdout",
     "output_type": "stream",
     "text": [
      "Para un paciente de 55 años con riesgo MEDIO, NO se recomienda realizar el examen.\n"
     ]
    }
   ],
   "source": [
    "#Según los pesos obtenidos por el perceptrón, la recomendación para un paciente de 55 años con riesgo MEDIO es que NO se realice el examen\n",
    "\n",
    "# Definir los datos del paciente\n",
    "edad = 55\n",
    "riesgo = 0.5  # Valor numerizado para \"MEDIO\"\n",
    "\n",
    "# Crear el vector de características\n",
    "X_nuevo = np.array([edad, riesgo])\n",
    "\n",
    "# Usar la función de predicción\n",
    "prediccion = predict(X_nuevo, weights, bias)\n",
    "\n",
    "# Imprimir la recomendación\n",
    "if prediccion == 1:\n",
    "    print(f\"Para un paciente de {edad} años con riesgo MEDIO, se recomienda realizar el examen.\")\n",
    "else:\n",
    "    print(f\"Para un paciente de {edad} años con riesgo MEDIO, NO se recomienda realizar el examen.\")"
   ]
  },
  {
   "cell_type": "markdown",
   "id": "f1b7f58f-0a5a-4ec0-809b-033da0afb5c3",
   "metadata": {},
   "source": [
    "### ¿Cuál será la respuesta del perceptrón para los siguientes valores?\n",
    "### (EDAD, RIESGO) = (50, BAJO), (51, MEDIO), (54, ALTO)"
   ]
  },
  {
   "cell_type": "code",
   "execution_count": 64,
   "id": "dd6b4e65-dcdf-42c1-8c88-270a8b87c79c",
   "metadata": {},
   "outputs": [
    {
     "name": "stdout",
     "output_type": "stream",
     "text": [
      "   edad riesgo\n",
      "0    50   BAJO\n",
      "1    51  MEDIO\n",
      "2    54   ALTO\n",
      "   edad  riesgo\n",
      "0    50     0.0\n",
      "1    51     0.5\n",
      "2    54     1.0\n",
      "   edad  riesgo  Predicción\n",
      "0    50     0.0           1\n",
      "1    51     0.5           1\n",
      "2    54     1.0           1\n"
     ]
    },
    {
     "name": "stderr",
     "output_type": "stream",
     "text": [
      "C:\\Users\\W10\\AppData\\Local\\Temp\\ipykernel_17712\\2106783940.py:7: FutureWarning: Downcasting behavior in `replace` is deprecated and will be removed in a future version. To retain the old behavior, explicitly call `result.infer_objects(copy=False)`. To opt-in to the future behavior, set `pd.set_option('future.no_silent_downcasting', True)`\n",
      "  df1.replace(mapeo, inplace=True)\n"
     ]
    }
   ],
   "source": [
    "datosNuevos = { 'edad': [50, 51, 54] ,  'riesgo': ['BAJO', 'MEDIO', 'ALTO'] }\n",
    "df1 = pd.DataFrame(datosNuevos)\n",
    "print(df1)\n",
    "\n",
    "#numérico se lo numerizó de la siguiente forma: BAJO = 1, MEDIO = 2 y ALTO = 3\n",
    "mapeo = {'riesgo': {'ALTO':3, 'BAJO':1 , 'MEDIO':2}}\n",
    "df1.replace(mapeo, inplace=True)\n",
    "\n",
    "#Normalizacion de columna riesgo:\n",
    "min = df1['riesgo'].min()\n",
    "max = df1['riesgo'].max()\n",
    "df1['riesgo']= (df1['riesgo']-min)/(max-min)\n",
    "\n",
    "print(df1)\n",
    "\n",
    "\n",
    "X = df1[['edad', 'riesgo']].values # X --> vector de atributos\n",
    "\n",
    "\n",
    "#y = df['examen'].values           # Y --> atributo a predecir == examen\n",
    "\n",
    "# Definir los pesos y el sesgo --> uso datos proporcionados\n",
    "weights = np.array([0.0807,  0.074])\n",
    "bias = -0.0742\n",
    "\n",
    "# Función de activación\n",
    "def step_function(x):\n",
    "    return 1 if x >= 0 else 0\n",
    "\n",
    "# Predicción del perceptrón\n",
    "def predict(X, weights, bias):\n",
    "    linear_output = np.dot(X, weights) + bias\n",
    "    return step_function(linear_output)\n",
    "\n",
    "# Evaluar el perceptrón en todos los ejemplos\n",
    "predictions = np.array([predict(x, weights, bias) for x in X])\n",
    "\n",
    "# Mostrar resultados individuales\n",
    "results = pd.DataFrame({\n",
    "    'edad': df1['edad'],\n",
    "    'riesgo': df1['riesgo'],\n",
    "    #'Real': y,\n",
    "    'Predicción': predictions\n",
    "})\n",
    "\n",
    "print(results)"
   ]
  },
  {
   "cell_type": "markdown",
   "id": "b451ffde-f0aa-49b0-9879-89f653cdc435",
   "metadata": {},
   "source": [
    "## se predijo en los 3 casos que si"
   ]
  },
  {
   "cell_type": "markdown",
   "id": "75813b4e-1c94-4368-b02c-7d5dabf4416b",
   "metadata": {},
   "source": [
    "# -------- Apartado del cuestionario"
   ]
  },
  {
   "cell_type": "code",
   "execution_count": 86,
   "id": "090d0923-7673-405c-9225-08df4546ae66",
   "metadata": {},
   "outputs": [],
   "source": [
    "# Con los datos del ejercicio 3 de la práctica 2, un tercero numerizó el atributo RIESGO utilizando una representación de entero único,  \n",
    "# normalizó los atributos de manera lineal entre 0 y 1 y utilizó los ejemplos de la tabla 1 para entrenar un perceptrón para predecir \n",
    "# el atributo EXAMEN. Los pesos obtenidos fueron los siguientes:\n",
    "\n",
    "#  W(EDAD) = -0.076      W(RIESGO) = -0.071     Sesgo o bias = 0.071\n"
   ]
  },
  {
   "cell_type": "code",
   "execution_count": 88,
   "id": "f289f2cc-9bca-4230-b08f-18933ca97a80",
   "metadata": {},
   "outputs": [],
   "source": [
    "\n",
    " # configuración para notebook con instalación LOCAL\n",
    "FUENTES_DIR  = '../Fuentes'     # carpeta donde se encuentran archivos .py auxiliares\n",
    "DATOS_DIR    = '../Datos/'      # carpeta donde se encuentran los datasets\n",
    "MODELOS_DIR  = '../Modelos/'    # carpeta donde se encuentran los modelos\n",
    "ARCHIVOs_DIR = '../Archivos/'   # carpeta recuperar o copiar archivos\n",
    "\n",
    "# agrega ruta de busqueda donde tenemos archivos .py\n",
    "import sys\n",
    "sys.path.append(FUENTES_DIR)\n"
   ]
  },
  {
   "cell_type": "code",
   "execution_count": 90,
   "id": "08a09344-4dea-4e7b-84de-c535c4bcb55f",
   "metadata": {},
   "outputs": [],
   "source": [
    "import pandas as pd\n",
    "import numpy as np\n",
    "from matplotlib import pylab as plt\n",
    "\n",
    "from sklearn import model_selection,preprocessing\n",
    "\n",
    "from ClassPerceptron import Perceptron"
   ]
  },
  {
   "cell_type": "markdown",
   "id": "dbe1931a-5914-490f-8df6-bf4f7d7b30c4",
   "metadata": {},
   "source": [
    "# Entrenamiento:"
   ]
  },
  {
   "cell_type": "code",
   "execution_count": 93,
   "id": "c7d8e793-496d-434d-ba23-795d2c942568",
   "metadata": {},
   "outputs": [],
   "source": [
    "#--- DATOS DE ENTRENAMIENTO ---\n",
    "X = np.array(df.iloc[:,:-1])   # X contiene todas las columnas menos la columna 'Clase' --> variables de entrada\n",
    "T = np.array((df['examen'] == 'Tipo2') * 1)  # T es la variable objetivo que se intenta predecir. se está transformando la columna Clase en un array \n",
    "                                           # binario donde 1 indica que el tipo de semilla es Tipo2 y 0 indica que es cualquier otro tipo. \n",
    "                                           # Esto se hace para poder predecir si la semilla es de Tipo2 o no.\n",
    "nColum = ['Otra', 'tipo2']\n",
    "\n",
    "#--- CONJUNTOS DE ENTRENAMIENTO Y TESTEO ---\n",
    "X_train, X_test, T_train, T_test = model_selection.train_test_split(     #Se dividen los datos en conjuntos de entrenamiento y testeo.\n",
    "        X, T, test_size=0.30, random_state=42)                           #El 30% de los datos se reserva para testear el modelo, mientras que el 70% restante se usa para entrenar.\n",
    "\n",
    "#normalizarEntrada = 1  # 1 si normaliza; 0 si no                   #se normalizan los datos\n",
    "#if normalizarEntrada:\n",
    "    #--- Normalización lineal entre 0 y 1 ---\n",
    " #   normalizador = preprocessing.MinMaxScaler()\n",
    "\n",
    "    # Normaliza utilizando la media y el desvio\n",
    "    # normalizador= preprocessing.StandardScaler()\n",
    "    \n",
    "   # X_train = normalizador.fit_transform(X_train)\n",
    "   # X_test  = normalizador.transform(X_test)"
   ]
  },
  {
   "cell_type": "code",
   "execution_count": 95,
   "id": "a0fd4963-6e9b-4148-b380-c7a520f1b15c",
   "metadata": {},
   "outputs": [
    {
     "data": {
      "image/png": "[encoded data removed]",
      "text/plain": [
       "<Figure size 640x480 with 1 Axes>"
      ]
     },
     "metadata": {},
     "output_type": "display_data"
    }
   ],
   "source": [
    "ppn = Perceptron(alpha=0.05, n_iter=200, random_state=None)\n",
    "# alpha=0.01 --> tasa de aprendizaje\n",
    "# n_iter=65 --> es cuántas veces el algoritmo pasa por todo el conjunto de entrenamiento para ajustar los pesos\n",
    "# random_state=None --> Esto controla la inicialización aleatoria del modelo. Si es None, la inicialización será diferente cada vez que corras el script.\n",
    "\n",
    "ppn.fit(X_train, T_train) #  Esta línea entrena el perceptrón utilizando los datos de entrenamiento (X_train) y las etiquetas (T_train).   \n",
    "                          # Durante este proceso, el perceptrón ajusta sus pesos para minimizar los errores en la predicción.\n",
    "\n",
    "plt.plot(range(1, len(ppn.errors_) + 1), ppn.errors_, marker='o')\n",
    "plt.xlabel('Iteraciones')\n",
    "plt.ylabel('Cantidad de actualizaciones')\n",
    "plt.show()\n",
    "\n",
    "# ppn.errors_: Durante el entrenamiento, el perceptrón guarda en esta lista la cantidad de errores de clasificación o actualizaciones de pesos que ocurrieron en cada iteración.\n",
    "# plt.plot(...): Esta línea genera un gráfico de la cantidad de errores en función del número de iteraciones.\n",
    "#Idealmente, deberías ver que la cantidad de errores disminuye a medida que el modelo aprende, lo que indicaría que el perceptrón está convergiendo hacia una solución óptima."
   ]
  },
  {
   "cell_type": "code",
   "execution_count": 100,
   "id": "53e5b21a-9b92-4fb1-a383-42b08d7ec4c2",
   "metadata": {},
   "outputs": [
    {
     "name": "stdout",
     "output_type": "stream",
     "text": [
      "Pesos:\n",
      "[-0.22752359 -0.44920872]\n",
      "bias:\n",
      "0.06073429300651004\n"
     ]
    }
   ],
   "source": [
    "print('Pesos:')\n",
    "print(ppn.w_)\n",
    "print('bias:')\n",
    "print(ppn.b_)"
   ]
  },
  {
   "cell_type": "code",
   "execution_count": null,
   "id": "a33db0e9-94d7-4a22-8d2d-04c1209928b5",
   "metadata": {},
   "outputs": [],
   "source": []
  }
 ],
 "metadata": {
  "kernelspec": {
   "display_name": "Python 3 (ipykernel)",
   "language": "python",
   "name": "python3"
  },
  "language_info": {
   "codemirror_mode": {
    "name": "ipython",
    "version": 3
   },
   "file_extension": ".py",
   "mimetype": "text/x-python",
   "name": "python",
   "nbconvert_exporter": "python",
   "pygments_lexer": "ipython3",
   "version": "3.12.4"
  }
 },
 "nbformat": 4,
 "nbformat_minor": 5
}
