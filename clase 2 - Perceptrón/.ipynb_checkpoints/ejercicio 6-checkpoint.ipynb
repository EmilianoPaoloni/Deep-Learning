{
 "cells": [
  {
   "cell_type": "markdown",
   "id": "e2d59589-03e0-4f9f-87b0-e4f56e2fc30c",
   "metadata": {},
   "source": [
    "# EJERCICIO 6 - PRACTICA 2"
   ]
  },
  {
   "cell_type": "markdown",
   "id": "4f6fb8a4-cd0b-4da8-8588-9ae07a5196ee",
   "metadata": {},
   "source": [
    "### El archivo Zoo.csv contiene información de 101 animales caracterizados por distintos atributos\n",
    "### Salvo los atributos animal, clase y patas, el \n",
    "resto toma el valor 1 si el animal posee la característica y 0 si no"
   ]
  },
  {
   "cell_type": "code",
   "execution_count": 2,
   "id": "4e21b530-6168-4d12-acf8-707417173682",
   "metadata": {},
   "outputs": [],
   "source": [
    "\n",
    " # configuración para notebook con instalación LOCAL\n",
    "FUENTES_DIR  = '../Fuentes'     # carpeta donde se encuentran archivos .py auxiliares\n",
    "DATOS_DIR    = '../Datos/'      # carpeta donde se encuentran los datasets\n",
    "MODELOS_DIR  = '../Modelos/'    # carpeta donde se encuentran los modelos\n",
    "ARCHIVOs_DIR = '../Archivos/'   # carpeta recuperar o copiar archivos\n",
    "\n",
    "# agrega ruta de busqueda donde tenemos archivos .py\n",
    "import sys\n",
    "sys.path.append(FUENTES_DIR)\n"
   ]
  },
  {
   "cell_type": "code",
   "execution_count": 4,
   "id": "8e63b88a-6c56-46ef-9085-4ecb4263dbd0",
   "metadata": {},
   "outputs": [],
   "source": [
    "import pandas as pd\n",
    "import numpy as np\n",
    "from matplotlib import pylab as plt\n",
    "\n",
    "from sklearn import model_selection,preprocessing\n",
    "\n",
    "from ClassPerceptron import Perceptron"
   ]
  },
  {
   "cell_type": "code",
   "execution_count": 5,
   "id": "f669850c-378c-491f-b9a8-f3ff0904257d",
   "metadata": {},
   "outputs": [
    {
     "data": {
      "text/html": [
       "<div>\n",
       "<style scoped>\n",
       "    .dataframe tbody tr th:only-of-type {\n",
       "        vertical-align: middle;\n",
       "    }\n",
       "\n",
       "    .dataframe tbody tr th {\n",
       "        vertical-align: top;\n",
       "    }\n",
       "\n",
       "    .dataframe thead th {\n",
       "        text-align: right;\n",
       "    }\n",
       "</style>\n",
       "<table border=\"1\" class=\"dataframe\">\n",
       "  <thead>\n",
       "    <tr style=\"text-align: right;\">\n",
       "      <th></th>\n",
       "      <th>animal</th>\n",
       "      <th>Tiene_Pelo</th>\n",
       "      <th>Tiene_Plumas</th>\n",
       "      <th>Nace_de_huevo</th>\n",
       "      <th>Toma_Leche</th>\n",
       "      <th>Vuela</th>\n",
       "      <th>Acuatico</th>\n",
       "      <th>Depredador</th>\n",
       "      <th>Dentado</th>\n",
       "      <th>Vertebrado</th>\n",
       "      <th>Respira</th>\n",
       "      <th>Venenoso</th>\n",
       "      <th>Tiene_Aletas</th>\n",
       "      <th>Cant_Patas</th>\n",
       "      <th>Tiene_Cola</th>\n",
       "      <th>Domestico</th>\n",
       "      <th>Tamano_Gato</th>\n",
       "      <th>Clase</th>\n",
       "    </tr>\n",
       "  </thead>\n",
       "  <tbody>\n",
       "    <tr>\n",
       "      <th>0</th>\n",
       "      <td>oso_hormiguero</td>\n",
       "      <td>1</td>\n",
       "      <td>0</td>\n",
       "      <td>0</td>\n",
       "      <td>1</td>\n",
       "      <td>0</td>\n",
       "      <td>0</td>\n",
       "      <td>1</td>\n",
       "      <td>1</td>\n",
       "      <td>1</td>\n",
       "      <td>1</td>\n",
       "      <td>0</td>\n",
       "      <td>0</td>\n",
       "      <td>4</td>\n",
       "      <td>0</td>\n",
       "      <td>0</td>\n",
       "      <td>1</td>\n",
       "      <td>Mamifero</td>\n",
       "    </tr>\n",
       "    <tr>\n",
       "      <th>1</th>\n",
       "      <td>antilope</td>\n",
       "      <td>1</td>\n",
       "      <td>0</td>\n",
       "      <td>0</td>\n",
       "      <td>1</td>\n",
       "      <td>0</td>\n",
       "      <td>0</td>\n",
       "      <td>0</td>\n",
       "      <td>1</td>\n",
       "      <td>1</td>\n",
       "      <td>1</td>\n",
       "      <td>0</td>\n",
       "      <td>0</td>\n",
       "      <td>4</td>\n",
       "      <td>1</td>\n",
       "      <td>0</td>\n",
       "      <td>1</td>\n",
       "      <td>Mamifero</td>\n",
       "    </tr>\n",
       "    <tr>\n",
       "      <th>2</th>\n",
       "      <td>robalo</td>\n",
       "      <td>0</td>\n",
       "      <td>0</td>\n",
       "      <td>1</td>\n",
       "      <td>0</td>\n",
       "      <td>0</td>\n",
       "      <td>1</td>\n",
       "      <td>1</td>\n",
       "      <td>1</td>\n",
       "      <td>1</td>\n",
       "      <td>0</td>\n",
       "      <td>0</td>\n",
       "      <td>1</td>\n",
       "      <td>0</td>\n",
       "      <td>1</td>\n",
       "      <td>0</td>\n",
       "      <td>0</td>\n",
       "      <td>Pez</td>\n",
       "    </tr>\n",
       "    <tr>\n",
       "      <th>3</th>\n",
       "      <td>oso</td>\n",
       "      <td>1</td>\n",
       "      <td>0</td>\n",
       "      <td>0</td>\n",
       "      <td>1</td>\n",
       "      <td>0</td>\n",
       "      <td>0</td>\n",
       "      <td>1</td>\n",
       "      <td>1</td>\n",
       "      <td>1</td>\n",
       "      <td>1</td>\n",
       "      <td>0</td>\n",
       "      <td>0</td>\n",
       "      <td>4</td>\n",
       "      <td>0</td>\n",
       "      <td>0</td>\n",
       "      <td>1</td>\n",
       "      <td>Mamifero</td>\n",
       "    </tr>\n",
       "    <tr>\n",
       "      <th>4</th>\n",
       "      <td>jabali</td>\n",
       "      <td>1</td>\n",
       "      <td>0</td>\n",
       "      <td>0</td>\n",
       "      <td>1</td>\n",
       "      <td>0</td>\n",
       "      <td>0</td>\n",
       "      <td>1</td>\n",
       "      <td>1</td>\n",
       "      <td>1</td>\n",
       "      <td>1</td>\n",
       "      <td>0</td>\n",
       "      <td>0</td>\n",
       "      <td>4</td>\n",
       "      <td>1</td>\n",
       "      <td>0</td>\n",
       "      <td>1</td>\n",
       "      <td>Mamifero</td>\n",
       "    </tr>\n",
       "    <tr>\n",
       "      <th>...</th>\n",
       "      <td>...</td>\n",
       "      <td>...</td>\n",
       "      <td>...</td>\n",
       "      <td>...</td>\n",
       "      <td>...</td>\n",
       "      <td>...</td>\n",
       "      <td>...</td>\n",
       "      <td>...</td>\n",
       "      <td>...</td>\n",
       "      <td>...</td>\n",
       "      <td>...</td>\n",
       "      <td>...</td>\n",
       "      <td>...</td>\n",
       "      <td>...</td>\n",
       "      <td>...</td>\n",
       "      <td>...</td>\n",
       "      <td>...</td>\n",
       "      <td>...</td>\n",
       "    </tr>\n",
       "    <tr>\n",
       "      <th>96</th>\n",
       "      <td>canguro</td>\n",
       "      <td>1</td>\n",
       "      <td>0</td>\n",
       "      <td>0</td>\n",
       "      <td>1</td>\n",
       "      <td>0</td>\n",
       "      <td>0</td>\n",
       "      <td>0</td>\n",
       "      <td>1</td>\n",
       "      <td>1</td>\n",
       "      <td>1</td>\n",
       "      <td>0</td>\n",
       "      <td>0</td>\n",
       "      <td>2</td>\n",
       "      <td>1</td>\n",
       "      <td>0</td>\n",
       "      <td>1</td>\n",
       "      <td>Mamifero</td>\n",
       "    </tr>\n",
       "    <tr>\n",
       "      <th>97</th>\n",
       "      <td>avispa</td>\n",
       "      <td>1</td>\n",
       "      <td>0</td>\n",
       "      <td>1</td>\n",
       "      <td>0</td>\n",
       "      <td>1</td>\n",
       "      <td>0</td>\n",
       "      <td>0</td>\n",
       "      <td>0</td>\n",
       "      <td>0</td>\n",
       "      <td>1</td>\n",
       "      <td>1</td>\n",
       "      <td>0</td>\n",
       "      <td>6</td>\n",
       "      <td>0</td>\n",
       "      <td>0</td>\n",
       "      <td>0</td>\n",
       "      <td>Insecto</td>\n",
       "    </tr>\n",
       "    <tr>\n",
       "      <th>98</th>\n",
       "      <td>lobo</td>\n",
       "      <td>1</td>\n",
       "      <td>0</td>\n",
       "      <td>0</td>\n",
       "      <td>1</td>\n",
       "      <td>0</td>\n",
       "      <td>0</td>\n",
       "      <td>1</td>\n",
       "      <td>1</td>\n",
       "      <td>1</td>\n",
       "      <td>1</td>\n",
       "      <td>0</td>\n",
       "      <td>0</td>\n",
       "      <td>4</td>\n",
       "      <td>1</td>\n",
       "      <td>0</td>\n",
       "      <td>1</td>\n",
       "      <td>Mamifero</td>\n",
       "    </tr>\n",
       "    <tr>\n",
       "      <th>99</th>\n",
       "      <td>gusano</td>\n",
       "      <td>0</td>\n",
       "      <td>0</td>\n",
       "      <td>1</td>\n",
       "      <td>0</td>\n",
       "      <td>0</td>\n",
       "      <td>0</td>\n",
       "      <td>0</td>\n",
       "      <td>0</td>\n",
       "      <td>0</td>\n",
       "      <td>1</td>\n",
       "      <td>0</td>\n",
       "      <td>0</td>\n",
       "      <td>0</td>\n",
       "      <td>0</td>\n",
       "      <td>0</td>\n",
       "      <td>0</td>\n",
       "      <td>Invertebrado</td>\n",
       "    </tr>\n",
       "    <tr>\n",
       "      <th>100</th>\n",
       "      <td>troglodito</td>\n",
       "      <td>0</td>\n",
       "      <td>1</td>\n",
       "      <td>1</td>\n",
       "      <td>0</td>\n",
       "      <td>1</td>\n",
       "      <td>0</td>\n",
       "      <td>0</td>\n",
       "      <td>0</td>\n",
       "      <td>1</td>\n",
       "      <td>1</td>\n",
       "      <td>0</td>\n",
       "      <td>0</td>\n",
       "      <td>2</td>\n",
       "      <td>1</td>\n",
       "      <td>0</td>\n",
       "      <td>0</td>\n",
       "      <td>Ave</td>\n",
       "    </tr>\n",
       "  </tbody>\n",
       "</table>\n",
       "<p>101 rows × 18 columns</p>\n",
       "</div>"
      ],
      "text/plain": [
       "             animal  Tiene_Pelo  Tiene_Plumas  Nace_de_huevo  Toma_Leche  \\\n",
       "0    oso_hormiguero           1             0              0           1   \n",
       "1          antilope           1             0              0           1   \n",
       "2            robalo           0             0              1           0   \n",
       "3               oso           1             0              0           1   \n",
       "4            jabali           1             0              0           1   \n",
       "..              ...         ...           ...            ...         ...   \n",
       "96          canguro           1             0              0           1   \n",
       "97           avispa           1             0              1           0   \n",
       "98             lobo           1             0              0           1   \n",
       "99           gusano           0             0              1           0   \n",
       "100      troglodito           0             1              1           0   \n",
       "\n",
       "     Vuela  Acuatico  Depredador  Dentado  Vertebrado  Respira  Venenoso  \\\n",
       "0        0         0           1        1           1        1         0   \n",
       "1        0         0           0        1           1        1         0   \n",
       "2        0         1           1        1           1        0         0   \n",
       "3        0         0           1        1           1        1         0   \n",
       "4        0         0           1        1           1        1         0   \n",
       "..     ...       ...         ...      ...         ...      ...       ...   \n",
       "96       0         0           0        1           1        1         0   \n",
       "97       1         0           0        0           0        1         1   \n",
       "98       0         0           1        1           1        1         0   \n",
       "99       0         0           0        0           0        1         0   \n",
       "100      1         0           0        0           1        1         0   \n",
       "\n",
       "     Tiene_Aletas  Cant_Patas  Tiene_Cola  Domestico  Tamano_Gato  \\\n",
       "0               0           4           0          0            1   \n",
       "1               0           4           1          0            1   \n",
       "2               1           0           1          0            0   \n",
       "3               0           4           0          0            1   \n",
       "4               0           4           1          0            1   \n",
       "..            ...         ...         ...        ...          ...   \n",
       "96              0           2           1          0            1   \n",
       "97              0           6           0          0            0   \n",
       "98              0           4           1          0            1   \n",
       "99              0           0           0          0            0   \n",
       "100             0           2           1          0            0   \n",
       "\n",
       "            Clase  \n",
       "0        Mamifero  \n",
       "1        Mamifero  \n",
       "2             Pez  \n",
       "3        Mamifero  \n",
       "4        Mamifero  \n",
       "..            ...  \n",
       "96       Mamifero  \n",
       "97        Insecto  \n",
       "98       Mamifero  \n",
       "99   Invertebrado  \n",
       "100           Ave  \n",
       "\n",
       "[101 rows x 18 columns]"
      ]
     },
     "metadata": {},
     "output_type": "display_data"
    }
   ],
   "source": [
    "\n",
    "import chardet           # para detectar la codificación de texto en archivos\n",
    "\n",
    "\n",
    "nombre_archivo = DATOS_DIR + 'Zoo.csv' # archivo Zoo\n",
    "\n",
    "#-- detectando la codificación de caracteres usada ----\n",
    "with open(nombre_archivo, 'rb') as f:\n",
    "    result = chardet.detect(f.read())  # or readline if the file is large\n",
    "\n",
    "# recupera el archivo en un objeto dataframe de pandas utilizando la codificación detectada\n",
    "df = pd.read_csv(nombre_archivo, encoding=result['encoding'])\n",
    "\n",
    "# visualiza el dataframe\n",
    "# print(df)\n",
    "display(df)"
   ]
  },
  {
   "cell_type": "markdown",
   "id": "dbf772f9-d8ee-43c1-858c-b85d5951e7b1",
   "metadata": {},
   "source": [
    "### inciso (a)"
   ]
  },
  {
   "cell_type": "code",
   "execution_count": 7,
   "id": "0f93c761-358a-462a-8d9b-358e74649493",
   "metadata": {},
   "outputs": [
    {
     "name": "stdout",
     "output_type": "stream",
     "text": [
      "Clase\n",
      "Mamifero        41\n",
      "Ave             20\n",
      "Pez             13\n",
      "Invertebrado    10\n",
      "Insecto          8\n",
      "Reptil           5\n",
      "Anfibio          4\n",
      "Name: count, dtype: int64\n"
     ]
    },
    {
     "data": {
      "image/png": "[encoded data removed]",
      "text/plain": [
       "<Figure size 640x480 with 1 Axes>"
      ]
     },
     "metadata": {},
     "output_type": "display_data"
    },
    {
     "data": {
      "image/png": "[encoded data removed]",
      "text/plain": [
       "<Figure size 640x480 with 1 Axes>"
      ]
     },
     "metadata": {},
     "output_type": "display_data"
    }
   ],
   "source": [
    "### Gráfico por Clase\n",
    "\n",
    "\n",
    "target = \"Clase\"\n",
    "barras = df[target].value_counts()\n",
    "print(barras)\n",
    "\n",
    "plt.figure()\n",
    "N = len(barras)\n",
    "plt.bar(np.arange( N ), barras)  # Gráfico de barras\n",
    "plt.title(target)      # Colocamos el título\n",
    "plt.ylabel('Frecuencia')\n",
    "# Colocamos las etiquetas del eje x\n",
    "plt.xticks(np.arange( N ), barras.index)\n",
    "plt.show()\n",
    "\n",
    "\n",
    "plt.pie(barras,labels=barras.index, autopct=\"%0.1f %%\")\n",
    "plt.title(target)\n",
    "plt.show()"
   ]
  },
  {
   "cell_type": "markdown",
   "id": "047378ec-eb35-4326-9d19-17b1a7f871e7",
   "metadata": {},
   "source": [
    "## Posibles problemas al entrenar perceptron: desbalanceo de clases\n",
    "### hay una clase que tiene muchos más ejemplos (como mamíferos) y otras clases con pocos ejemplos (como anfibios), el modelo puede aprender a predecir predominantemente la clase mayoritaria, ignorando o mal clasificando las clases minoritarias."
   ]
  },
  {
   "cell_type": "markdown",
   "id": "4fc5d723-f461-4798-beff-35703f93f2d1",
   "metadata": {},
   "source": [
    "### inciso (b)"
   ]
  },
  {
   "cell_type": "markdown",
   "id": "061a7df9-bdf7-423e-8e51-d27390e6f4fb",
   "metadata": {},
   "source": [
    "## Entrenamiento"
   ]
  },
  {
   "cell_type": "code",
   "execution_count": 14,
   "id": "58f00663-67e6-4209-b926-2d06edeaa1b0",
   "metadata": {},
   "outputs": [],
   "source": [
    "## ANTES de comenzar el entrenamiento, elimino la columna 'animal' (nombre del animal) porque no aporta no aporta información útil para entrenar \n",
    "## el perceptrón, ya que los nombres son datos categóricos que no tienen una relación directa con las características que el modelo debe aprender a clasificar.\n",
    "\n",
    "df_sin_nombres = df.drop(columns=['animal'])"
   ]
  },
  {
   "cell_type": "code",
   "execution_count": 16,
   "id": "2a72b645-ee76-47e2-b613-0cdbcaa1829c",
   "metadata": {},
   "outputs": [],
   "source": [
    "#--- DATOS DE ENTRENAMIENTO ---\n",
    "X = np.array(df_sin_nombres.iloc[:,:-1])   ## datos de entrada: todas las columnas menos 'Clase'\n",
    "T = np.array((df_sin_nombres['Clase'] == 'Mamifero') * 1)  \n",
    "                                         \n",
    "nColum = ['Otra', 'Mamifero']\n",
    "\n",
    "#--- CONJUNTOS DE ENTRENAMIENTO Y TESTEO ---\n",
    "X_train, X_test, T_train, T_test = model_selection.train_test_split(     #Se dividen los datos en conjuntos de entrenamiento y testeo.\n",
    "        X, T, test_size=0.30, random_state=42)                           #El 30% de los datos se reserva para testear el modelo, mientras que el 70% restante se usa para entrenar.\n",
    "\n",
    "normalizarEntrada = 1  # 1 si normaliza; 0 si no      \n",
    "if normalizarEntrada:\n",
    "    #--- Normalización lineal entre 0 y 1 ---\n",
    "    normalizador = preprocessing.MinMaxScaler()\n",
    "\n",
    "    # Normaliza utilizando la media y el desvio\n",
    "    # normalizador= preprocessing.StandardScaler()\n",
    "    \n",
    "    X_train = normalizador.fit_transform(X_train)\n",
    "    X_test  = normalizador.transform(X_test)"
   ]
  },
  {
   "cell_type": "code",
   "execution_count": 18,
   "id": "8978e200-951e-462d-b21e-ec17681bc590",
   "metadata": {},
   "outputs": [
    {
     "data": {
      "image/png": "[encoded data removed]",
      "text/plain": [
       "<Figure size 640x480 with 1 Axes>"
      ]
     },
     "metadata": {},
     "output_type": "display_data"
    }
   ],
   "source": [
    "ppn = Perceptron(alpha=0.05, n_iter=200, random_state=None)\n",
    "# alpha=0.01 --> tasa de aprendizaje\n",
    "# n_iter=65 --> es cuántas veces el algoritmo pasa por todo el conjunto de entrenamiento para ajustar los pesos\n",
    "# random_state=None --> Esto controla la inicialización aleatoria del modelo. Si es None, la inicialización será diferente cada vez que corras el script.\n",
    "\n",
    "ppn.fit(X_train, T_train) #  Esta línea entrena el perceptrón utilizando los datos de entrenamiento (X_train) y las etiquetas (T_train).   \n",
    "                          # Durante este proceso, el perceptrón ajusta sus pesos para minimizar los errores en la predicción.\n",
    "\n",
    "plt.plot(range(1, len(ppn.errors_) + 1), ppn.errors_, marker='o')\n",
    "plt.xlabel('Iteraciones')\n",
    "plt.ylabel('Cantidad de actualizaciones')\n",
    "plt.show()\n",
    "\n",
    "# ppn.errors_: Durante el entrenamiento, el perceptrón guarda en esta lista la cantidad de errores de clasificación o actualizaciones de pesos que ocurrieron en cada iteración.\n",
    "# plt.plot(...): Esta línea genera un gráfico de la cantidad de errores en función del número de iteraciones.\n",
    "#Idealmente, deberías ver que la cantidad de errores disminuye a medida que el modelo aprende, lo que indicaría que el perceptrón está convergiendo hacia una solución óptima."
   ]
  },
  {
   "cell_type": "code",
   "execution_count": 20,
   "id": "979cd54d-0741-4d10-b87d-ce0c5acd26d1",
   "metadata": {},
   "outputs": [
    {
     "name": "stdout",
     "output_type": "stream",
     "text": [
      "aciertos =  29\n",
      "% de aciertos = 93.55 %\n"
     ]
    }
   ],
   "source": [
    "Y_test = ppn.predict(X_test)\n",
    "\n",
    "aciertos = sum(Y_test == T_test)\n",
    "print(\"aciertos = \", aciertos)\n",
    "\n",
    "nAciertos = sum(Y_test == T_test)\n",
    "print(\"%% de aciertos = %.2f %%\" % (100*nAciertos/X_test.shape[0]))\n"
   ]
  },
  {
   "cell_type": "markdown",
   "id": "c452e721-ff26-4f5d-aa30-d4eb2c28ec1b",
   "metadata": {},
   "source": [
    "### conclusion: al segundo entrenamiento, me da una precision del 100%"
   ]
  },
  {
   "cell_type": "markdown",
   "id": "8ef8f574-265c-4da6-a78f-ab272405baa5",
   "metadata": {},
   "source": [
    "# Analizo los pesos finales"
   ]
  },
  {
   "cell_type": "code",
   "execution_count": 56,
   "id": "5aa37c74-e660-4197-b376-416b1783359b",
   "metadata": {},
   "outputs": [
    {
     "name": "stdout",
     "output_type": "stream",
     "text": [
      "Pesos finales:\n",
      "[ 0.45925853 -0.38223459 -0.29238912  0.37894834  0.11926641 -0.25950404\n",
      "  0.1277373   0.23471613  0.04275456 -0.1648146  -0.36752935  0.03614311\n",
      " -0.12659863  0.14371487 -0.40774239 -0.26635165]\n",
      "Sesgo (intercepto):\n",
      "-0.10217887216010584\n",
      "Importancia de las características:\n",
      "   Característica      Peso  Peso Absoluto\n",
      "0      Tiene_Pelo  0.459259       0.459259\n",
      "14      Domestico -0.407742       0.407742\n",
      "1    Tiene_Plumas -0.382235       0.382235\n",
      "3      Toma_Leche  0.378948       0.378948\n",
      "10       Venenoso -0.367529       0.367529\n",
      "2   Nace_de_huevo -0.292389       0.292389\n",
      "15    Tamano_Gato -0.266352       0.266352\n",
      "5        Acuatico -0.259504       0.259504\n",
      "7         Dentado  0.234716       0.234716\n",
      "9         Respira -0.164815       0.164815\n",
      "13     Tiene_Cola  0.143715       0.143715\n",
      "6      Depredador  0.127737       0.127737\n",
      "12     Cant_Patas -0.126599       0.126599\n",
      "4           Vuela  0.119266       0.119266\n",
      "8      Vertebrado  0.042755       0.042755\n",
      "11   Tiene_Aletas  0.036143       0.036143\n"
     ]
    }
   ],
   "source": [
    "# Mostrar los pesos del perceptrón\n",
    "print(\"Pesos finales:\")\n",
    "print(ppn.w_)\n",
    "\n",
    "# Mostrar el sesgo (intercepto) del perceptrón\n",
    "print(\"Sesgo (intercepto):\")\n",
    "print(ppn.b_)\n",
    "\n",
    "#  visualizar la importancia de cada característica:\n",
    "\n",
    "# Crear un DataFrame para las características y sus pesos\n",
    "\n",
    "weights_df = pd.DataFrame({\n",
    "    #'Característica': df.columns\n",
    "    'Característica': df_sin_nombres.columns[:-1],  # Todas las columnas menos la última (Clase)\n",
    "    'Peso': ppn.w_.flatten()  # Aplanar el array de pesos\n",
    "})\n",
    "\n",
    "# Ordenar las características por peso absoluto (más relevante primero)\n",
    "weights_df['Peso Absoluto'] = weights_df['Peso'].abs()\n",
    "weights_df = weights_df.sort_values(by='Peso Absoluto', ascending=False)\n",
    "\n",
    "print(\"Importancia de las características:\")\n",
    "print(weights_df)\n"
   ]
  },
  {
   "cell_type": "markdown",
   "id": "f63603ce-cd1e-44c1-b599-88669e6dc40b",
   "metadata": {},
   "source": [
    "### Los pesos más altos en valor absoluto indican características más importantes para la decisión del modelo\n",
    "### Para decidir si es un mamifero, la caracteristicas mas importantes son: Tiene_Pelo y Domestico"
   ]
  },
  {
   "cell_type": "markdown",
   "id": "998e7cea-83dd-4c01-885d-3d5a3c599f26",
   "metadata": {},
   "source": [
    "# Inciso (d) - Prediccion de aves"
   ]
  },
  {
   "cell_type": "code",
   "execution_count": 65,
   "id": "a5adf08a-6024-4b78-90a7-95f3a334c89e",
   "metadata": {},
   "outputs": [],
   "source": [
    "## ANTES de comenzar el entrenamiento, elimino la columna 'animal' (nombre del animal) porque no aporta no aporta información útil para entrenar \n",
    "## el perceptrón, ya que los nombres son datos categóricos que no tienen una relación directa con las características que el modelo debe aprender a clasificar.\n",
    "\n",
    "df_sin_nombres = df.drop(columns=['animal'])"
   ]
  },
  {
   "cell_type": "code",
   "execution_count": 67,
   "id": "08db97e1-776c-4e50-a634-dec6d731f796",
   "metadata": {},
   "outputs": [],
   "source": [
    "#--- DATOS DE ENTRENAMIENTO ---\n",
    "X = np.array(df_sin_nombres.iloc[:,:-1])   ## datos de entrada: todas las columnas menos 'Clase'\n",
    "T = np.array((df_sin_nombres['Clase'] == 'Ave') * 1)  \n",
    "                                         \n",
    "nColum = ['Otra', 'Ave']\n",
    "\n",
    "#--- CONJUNTOS DE ENTRENAMIENTO Y TESTEO ---\n",
    "X_train, X_test, T_train, T_test = model_selection.train_test_split(     #Se dividen los datos en conjuntos de entrenamiento y testeo.\n",
    "        X, T, test_size=0.30, random_state=42)                           #El 30% de los datos se reserva para testear el modelo, mientras que el 70% restante se usa para entrenar.\n",
    "\n",
    "normalizarEntrada = 1  # 1 si normaliza; 0 si no      \n",
    "if normalizarEntrada:\n",
    "    #--- Normalización lineal entre 0 y 1 ---\n",
    "    normalizador = preprocessing.MinMaxScaler()\n",
    "\n",
    "    # Normaliza utilizando la media y el desvio\n",
    "    # normalizador= preprocessing.StandardScaler()\n",
    "    \n",
    "    X_train = normalizador.fit_transform(X_train)\n",
    "    X_test  = normalizador.transform(X_test)"
   ]
  },
  {
   "cell_type": "code",
   "execution_count": 69,
   "id": "683ab9f3-e150-4246-a68a-05f0fc1bf638",
   "metadata": {},
   "outputs": [
    {
     "data": {
      "image/png": "[encoded data removed]",
      "text/plain": [
       "<Figure size 640x480 with 1 Axes>"
      ]
     },
     "metadata": {},
     "output_type": "display_data"
    }
   ],
   "source": [
    "ppn = Perceptron(alpha=0.01, n_iter=650, random_state=None)\n",
    "# alpha=0.01 --> tasa de aprendizaje\n",
    "# n_iter=65 --> es cuántas veces el algoritmo pasa por todo el conjunto de entrenamiento para ajustar los pesos\n",
    "# random_state=None --> Esto controla la inicialización aleatoria del modelo. Si es None, la inicialización será diferente cada vez que corras el script.\n",
    "\n",
    "ppn.fit(X_train, T_train) #  Esta línea entrena el perceptrón utilizando los datos de entrenamiento (X_train) y las etiquetas (T_train).   \n",
    "                          # Durante este proceso, el perceptrón ajusta sus pesos para minimizar los errores en la predicción.\n",
    "\n",
    "plt.plot(range(1, len(ppn.errors_) + 1), ppn.errors_, marker='o')\n",
    "plt.xlabel('Iteraciones')\n",
    "plt.ylabel('Cantidad de actualizaciones')\n",
    "plt.show()\n",
    "\n",
    "# ppn.errors_: Durante el entrenamiento, el perceptrón guarda en esta lista la cantidad de errores de clasificación o actualizaciones de pesos que ocurrieron en cada iteración.\n",
    "# plt.plot(...): Esta línea genera un gráfico de la cantidad de errores en función del número de iteraciones.\n",
    "#Idealmente, deberías ver que la cantidad de errores disminuye a medida que el modelo aprende, lo que indicaría que el perceptrón está convergiendo hacia una solución óptima."
   ]
  },
  {
   "cell_type": "code",
   "execution_count": 71,
   "id": "8f54b061-72f8-4707-a72c-776de1a6e81b",
   "metadata": {},
   "outputs": [
    {
     "name": "stdout",
     "output_type": "stream",
     "text": [
      "aciertos =  30\n",
      "% de aciertos = 96.77 %\n"
     ]
    }
   ],
   "source": [
    "Y_test = ppn.predict(X_test)\n",
    "\n",
    "aciertos = sum(Y_test == T_test)\n",
    "print(\"aciertos = \", aciertos)\n",
    "\n",
    "nAciertos = sum(Y_test == T_test)\n",
    "print(\"%% de aciertos = %.2f %%\" % (100*nAciertos/X_test.shape[0]))\n"
   ]
  },
  {
   "cell_type": "code",
   "execution_count": 73,
   "id": "74959cf4-fa45-40bd-b5fe-0b7956b3a27d",
   "metadata": {},
   "outputs": [
    {
     "name": "stdout",
     "output_type": "stream",
     "text": [
      "Pesos finales:\n",
      "[-0.31939786  0.10123299 -0.31446962 -0.16199152  0.02124897  0.11615491\n",
      " -0.03408242 -0.26618033 -0.23861075  0.19500116 -0.33023639 -0.18379527\n",
      " -0.01877377  0.42280952  0.20662229 -0.12884644]\n",
      "Sesgo (intercepto):\n",
      "0.018466389299105164\n",
      "Importancia de las características:\n",
      "   Característica      Peso  Peso Absoluto\n",
      "13     Tiene_Cola  0.422810       0.422810\n",
      "10       Venenoso -0.330236       0.330236\n",
      "0      Tiene_Pelo -0.319398       0.319398\n",
      "2   Nace_de_huevo -0.314470       0.314470\n",
      "7         Dentado -0.266180       0.266180\n",
      "8      Vertebrado -0.238611       0.238611\n",
      "14      Domestico  0.206622       0.206622\n",
      "9         Respira  0.195001       0.195001\n",
      "11   Tiene_Aletas -0.183795       0.183795\n",
      "3      Toma_Leche -0.161992       0.161992\n",
      "15    Tamano_Gato -0.128846       0.128846\n",
      "5        Acuatico  0.116155       0.116155\n",
      "1    Tiene_Plumas  0.101233       0.101233\n",
      "6      Depredador -0.034082       0.034082\n",
      "4           Vuela  0.021249       0.021249\n",
      "12     Cant_Patas -0.018774       0.018774\n"
     ]
    }
   ],
   "source": [
    "# Mostrar los pesos del perceptrón\n",
    "print(\"Pesos finales:\")\n",
    "print(ppn.w_)\n",
    "\n",
    "# Mostrar el sesgo (intercepto) del perceptrón\n",
    "print(\"Sesgo (intercepto):\")\n",
    "print(ppn.b_)\n",
    "\n",
    "#  visualizar la importancia de cada característica:\n",
    "\n",
    "# Crear un DataFrame para las características y sus pesos\n",
    "\n",
    "weights_df = pd.DataFrame({\n",
    "    #'Característica': df.columns\n",
    "    'Característica': df_sin_nombres.columns[:-1],  # Todas las columnas menos la última (Clase)\n",
    "    'Peso': ppn.w_.flatten()  # Aplanar el array de pesos\n",
    "})\n",
    "\n",
    "# Ordenar las características por peso absoluto (más relevante primero)\n",
    "weights_df['Peso Absoluto'] = weights_df['Peso'].abs()\n",
    "weights_df = weights_df.sort_values(by='Peso Absoluto', ascending=False)\n",
    "\n",
    "print(\"Importancia de las características:\")\n",
    "print(weights_df)\n"
   ]
  },
  {
   "cell_type": "markdown",
   "id": "b2bf6a5f-ae88-490f-979e-26dd844fddee",
   "metadata": {},
   "source": [
    "### Los pesos más altos en valor absoluto indican características más importantes para la decisión del modelo\n",
    "### Para decidir si es un Ave, la caracteristicas mas importantes son: Tiene_Cola y Venenoso"
   ]
  },
  {
   "cell_type": "markdown",
   "id": "36f1b73c-bc7d-46ae-a118-2f6c0ac6bf68",
   "metadata": {},
   "source": [
    "# Inciso (e) - Prediccion de Reptiles"
   ]
  },
  {
   "cell_type": "code",
   "execution_count": 87,
   "id": "ff13d114-9cb1-4956-91c1-3d32020f7a4a",
   "metadata": {},
   "outputs": [],
   "source": [
    "## ANTES de comenzar el entrenamiento, elimino la columna 'animal' (nombre del animal) porque no aporta no aporta información útil para entrenar \n",
    "## el perceptrón, ya que los nombres son datos categóricos que no tienen una relación directa con las características que el modelo debe aprender a clasificar.\n",
    "\n",
    "df_sin_nombres = df.drop(columns=['animal'])"
   ]
  },
  {
   "cell_type": "code",
   "execution_count": 89,
   "id": "332ae245-b64f-4ef1-a703-436d8ce87a66",
   "metadata": {},
   "outputs": [],
   "source": [
    "#--- DATOS DE ENTRENAMIENTO ---\n",
    "X = np.array(df_sin_nombres.iloc[:,:-1])   ## datos de entrada: todas las columnas menos 'Clase'\n",
    "T = np.array((df_sin_nombres['Clase'] == 'Reptil') * 1)  \n",
    "                                         \n",
    "nColum = ['Otra', 'Reptil']\n",
    "\n",
    "#--- CONJUNTOS DE ENTRENAMIENTO Y TESTEO ---\n",
    "X_train, X_test, T_train, T_test = model_selection.train_test_split(     #Se dividen los datos en conjuntos de entrenamiento y testeo.\n",
    "        X, T, test_size=0.30, random_state=42)                           #El 30% de los datos se reserva para testear el modelo, mientras que el 70% restante se usa para entrenar.\n",
    "\n",
    "normalizarEntrada = 1  # 1 si normaliza; 0 si no      \n",
    "if normalizarEntrada:\n",
    "    #--- Normalización lineal entre 0 y 1 ---\n",
    "    normalizador = preprocessing.MinMaxScaler()\n",
    "\n",
    "    # Normaliza utilizando la media y el desvio\n",
    "    # normalizador= preprocessing.StandardScaler()\n",
    "    \n",
    "    X_train = normalizador.fit_transform(X_train)\n",
    "    X_test  = normalizador.transform(X_test)"
   ]
  },
  {
   "cell_type": "code",
   "execution_count": 91,
   "id": "86d41e64-8ba6-43e6-be6a-e7e50f486825",
   "metadata": {},
   "outputs": [
    {
     "data": {
      "image/png": "[encoded data removed]",
      "text/plain": [
       "<Figure size 640x480 with 1 Axes>"
      ]
     },
     "metadata": {},
     "output_type": "display_data"
    }
   ],
   "source": [
    "ppn = Perceptron(alpha=0.01, n_iter=650, random_state=None)\n",
    "# alpha=0.01 --> tasa de aprendizaje\n",
    "# n_iter=65 --> es cuántas veces el algoritmo pasa por todo el conjunto de entrenamiento para ajustar los pesos\n",
    "# random_state=None --> Esto controla la inicialización aleatoria del modelo. Si es None, la inicialización será diferente cada vez que corras el script.\n",
    "\n",
    "ppn.fit(X_train, T_train) #  Esta línea entrena el perceptrón utilizando los datos de entrenamiento (X_train) y las etiquetas (T_train).   \n",
    "                          # Durante este proceso, el perceptrón ajusta sus pesos para minimizar los errores en la predicción.\n",
    "\n",
    "plt.plot(range(1, len(ppn.errors_) + 1), ppn.errors_, marker='o')\n",
    "plt.xlabel('Iteraciones')\n",
    "plt.ylabel('Cantidad de actualizaciones')\n",
    "plt.show()\n",
    "\n",
    "# ppn.errors_: Durante el entrenamiento, el perceptrón guarda en esta lista la cantidad de errores de clasificación o actualizaciones de pesos que ocurrieron en cada iteración.\n",
    "# plt.plot(...): Esta línea genera un gráfico de la cantidad de errores en función del número de iteraciones.\n",
    "#Idealmente, deberías ver que la cantidad de errores disminuye a medida que el modelo aprende, lo que indicaría que el perceptrón está convergiendo hacia una solución óptima."
   ]
  },
  {
   "cell_type": "code",
   "execution_count": 93,
   "id": "31360d33-29ef-456a-8a46-2b7366a5f054",
   "metadata": {},
   "outputs": [
    {
     "name": "stdout",
     "output_type": "stream",
     "text": [
      "aciertos =  30\n",
      "% de aciertos = 96.77 %\n"
     ]
    }
   ],
   "source": [
    "Y_test = ppn.predict(X_test)\n",
    "\n",
    "aciertos = sum(Y_test == T_test)\n",
    "print(\"aciertos = \", aciertos)\n",
    "\n",
    "nAciertos = sum(Y_test == T_test)\n",
    "print(\"%% de aciertos = %.2f %%\" % (100*nAciertos/X_test.shape[0]))\n"
   ]
  },
  {
   "cell_type": "code",
   "execution_count": 95,
   "id": "29339987-8fd0-4eee-9d48-cd7f1f4bcbbd",
   "metadata": {},
   "outputs": [
    {
     "name": "stdout",
     "output_type": "stream",
     "text": [
      "Pesos finales:\n",
      "[-0.39803241 -0.29920787  0.00376376 -0.00425439  0.116859   -0.51855399\n",
      " -0.0012608   0.09301446  0.16576901  0.16792671  0.09020599  0.30016518\n",
      " -0.18571394  0.0283665   0.00832693 -0.08297833]\n",
      "Sesgo (intercepto):\n",
      "-0.17223165561730314\n",
      "Importancia de las características:\n",
      "   Característica      Peso  Peso Absoluto\n",
      "5        Acuatico -0.518554       0.518554\n",
      "0      Tiene_Pelo -0.398032       0.398032\n",
      "11   Tiene_Aletas  0.300165       0.300165\n",
      "1    Tiene_Plumas -0.299208       0.299208\n",
      "12     Cant_Patas -0.185714       0.185714\n",
      "9         Respira  0.167927       0.167927\n",
      "8      Vertebrado  0.165769       0.165769\n",
      "4           Vuela  0.116859       0.116859\n",
      "7         Dentado  0.093014       0.093014\n",
      "10       Venenoso  0.090206       0.090206\n",
      "15    Tamano_Gato -0.082978       0.082978\n",
      "13     Tiene_Cola  0.028367       0.028367\n",
      "14      Domestico  0.008327       0.008327\n",
      "3      Toma_Leche -0.004254       0.004254\n",
      "2   Nace_de_huevo  0.003764       0.003764\n",
      "6      Depredador -0.001261       0.001261\n"
     ]
    }
   ],
   "source": [
    "# Mostrar los pesos del perceptrón\n",
    "print(\"Pesos finales:\")\n",
    "print(ppn.w_)\n",
    "\n",
    "# Mostrar el sesgo (intercepto) del perceptrón\n",
    "print(\"Sesgo (intercepto):\")\n",
    "print(ppn.b_)\n",
    "\n",
    "#  visualizar la importancia de cada característica:\n",
    "\n",
    "# Crear un DataFrame para las características y sus pesos\n",
    "\n",
    "weights_df = pd.DataFrame({\n",
    "    #'Característica': df.columns\n",
    "    'Característica': df_sin_nombres.columns[:-1],  # Todas las columnas menos la última (Clase)\n",
    "    'Peso': ppn.w_.flatten()  # Aplanar el array de pesos\n",
    "})\n",
    "\n",
    "# Ordenar las características por peso absoluto (más relevante primero)\n",
    "weights_df['Peso Absoluto'] = weights_df['Peso'].abs()\n",
    "weights_df = weights_df.sort_values(by='Peso Absoluto', ascending=False)\n",
    "\n",
    "print(\"Importancia de las características:\")\n",
    "print(weights_df)\n"
   ]
  },
  {
   "cell_type": "markdown",
   "id": "da8fe374-6ed8-4980-b664-b53189bd233f",
   "metadata": {},
   "source": [
    "## La caracteristica mas importante para la prediccion de Reptiles es si es acuatico"
   ]
  },
  {
   "cell_type": "code",
   "execution_count": null,
   "id": "836ae836-af48-49bb-9dea-c8b590f9e1cd",
   "metadata": {},
   "outputs": [],
   "source": []
  }
 ],
 "metadata": {
  "kernelspec": {
   "display_name": "Python 3 (ipykernel)",
   "language": "python",
   "name": "python3"
  },
  "language_info": {
   "codemirror_mode": {
    "name": "ipython",
    "version": 3
   },
   "file_extension": ".py",
   "mimetype": "text/x-python",
   "name": "python",
   "nbconvert_exporter": "python",
   "pygments_lexer": "ipython3",
   "version": "3.12.4"
  }
 },
 "nbformat": 4,
 "nbformat_minor": 5
}
