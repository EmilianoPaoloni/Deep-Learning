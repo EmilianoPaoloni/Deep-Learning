{
 "cells": [
  {
   "cell_type": "markdown",
   "id": "52c52f2d-95b3-4d12-bb65-f652e2ed5701",
   "metadata": {},
   "source": [
    "# EJERCICIO 1 - PRACTICA 2"
   ]
  },
  {
   "cell_type": "markdown",
   "id": "af9caa5f-399a-4810-80a4-d53e6c9d2495",
   "metadata": {},
   "source": [
    "#### Hawks.csv:\n",
    "#### ● Epecies. Es la etiqueta de clase e indica la especie de cada gavilán: gavilanes de Cooper (CH), gavilanes colirrojos (RT) y gavilanes rastreros (SS). \n",
    "#### ● Año. Indica el año en que se avistó el ave. \n",
    "#### ● Hallux. Indica la medida en milímetros del hallux (el dedo posterior del pie, que poseen todas las aves cazadoras para sujetar mejor a sus  presas). \n",
    "#### ● Ala. Indica la longitud en milímetros de la pluma más larga del ala.\n",
    "#### ● Peso. Indica el peso del ave en gramos. \n",
    "#### ● Cola. Indica la longitud de la cola del ave en milímetros. \n"
   ]
  },
  {
   "cell_type": "code",
   "execution_count": 13,
   "id": "eab62269-e76f-4d33-8fb5-90a6343668ce",
   "metadata": {},
   "outputs": [],
   "source": [
    " # configuración para notebook con instalación LOCAL\n",
    "FUENTES_DIR  = '../Fuentes'     # carpeta donde se encuentran archivos .py auxiliares\n",
    "DATOS_DIR    = '../Datos/'      # carpeta donde se encuentran los datasets\n",
    "MODELOS_DIR  = '../Modelos/'    # carpeta donde se encuentran los modelos\n",
    "ARCHIVOs_DIR = '../Archivos/'   # carpeta recuperar o copiar archivos\n",
    "\n",
    "# agrega ruta de busqueda donde tenemos archivos .py\n",
    "import sys\n",
    "sys.path.append(FUENTES_DIR)"
   ]
  },
  {
   "cell_type": "code",
   "execution_count": 15,
   "id": "299be94e-8930-4553-be80-0dbdc4cf08f1",
   "metadata": {},
   "outputs": [
    {
     "data": {
      "text/html": [
       "<div>\n",
       "<style scoped>\n",
       "    .dataframe tbody tr th:only-of-type {\n",
       "        vertical-align: middle;\n",
       "    }\n",
       "\n",
       "    .dataframe tbody tr th {\n",
       "        vertical-align: top;\n",
       "    }\n",
       "\n",
       "    .dataframe thead th {\n",
       "        text-align: right;\n",
       "    }\n",
       "</style>\n",
       "<table border=\"1\" class=\"dataframe\">\n",
       "  <thead>\n",
       "    <tr style=\"text-align: right;\">\n",
       "      <th></th>\n",
       "      <th>Year</th>\n",
       "      <th>Species</th>\n",
       "      <th>Wing</th>\n",
       "      <th>Weight</th>\n",
       "      <th>Tail</th>\n",
       "      <th>Hallux</th>\n",
       "      <th>Coopers?</th>\n",
       "      <th>Red-tailed?</th>\n",
       "      <th>Sharp-shinned?</th>\n",
       "    </tr>\n",
       "  </thead>\n",
       "  <tbody>\n",
       "    <tr>\n",
       "      <th>0</th>\n",
       "      <td>1992</td>\n",
       "      <td>RT</td>\n",
       "      <td>385.0</td>\n",
       "      <td>920.0</td>\n",
       "      <td>219</td>\n",
       "      <td>30.1</td>\n",
       "      <td>0</td>\n",
       "      <td>1</td>\n",
       "      <td>0</td>\n",
       "    </tr>\n",
       "    <tr>\n",
       "      <th>1</th>\n",
       "      <td>1992</td>\n",
       "      <td>RT</td>\n",
       "      <td>381.0</td>\n",
       "      <td>990.0</td>\n",
       "      <td>235</td>\n",
       "      <td>31.3</td>\n",
       "      <td>0</td>\n",
       "      <td>1</td>\n",
       "      <td>0</td>\n",
       "    </tr>\n",
       "    <tr>\n",
       "      <th>2</th>\n",
       "      <td>1992</td>\n",
       "      <td>CH</td>\n",
       "      <td>265.0</td>\n",
       "      <td>470.0</td>\n",
       "      <td>220</td>\n",
       "      <td>23.5</td>\n",
       "      <td>1</td>\n",
       "      <td>0</td>\n",
       "      <td>0</td>\n",
       "    </tr>\n",
       "    <tr>\n",
       "      <th>3</th>\n",
       "      <td>1992</td>\n",
       "      <td>RT</td>\n",
       "      <td>370.0</td>\n",
       "      <td>960.0</td>\n",
       "      <td>212</td>\n",
       "      <td>30.1</td>\n",
       "      <td>0</td>\n",
       "      <td>1</td>\n",
       "      <td>0</td>\n",
       "    </tr>\n",
       "    <tr>\n",
       "      <th>4</th>\n",
       "      <td>1992</td>\n",
       "      <td>RT</td>\n",
       "      <td>405.0</td>\n",
       "      <td>1120.0</td>\n",
       "      <td>238</td>\n",
       "      <td>30.2</td>\n",
       "      <td>0</td>\n",
       "      <td>1</td>\n",
       "      <td>0</td>\n",
       "    </tr>\n",
       "    <tr>\n",
       "      <th>...</th>\n",
       "      <td>...</td>\n",
       "      <td>...</td>\n",
       "      <td>...</td>\n",
       "      <td>...</td>\n",
       "      <td>...</td>\n",
       "      <td>...</td>\n",
       "      <td>...</td>\n",
       "      <td>...</td>\n",
       "      <td>...</td>\n",
       "    </tr>\n",
       "    <tr>\n",
       "      <th>442</th>\n",
       "      <td>2003</td>\n",
       "      <td>RT</td>\n",
       "      <td>362.0</td>\n",
       "      <td>840.0</td>\n",
       "      <td>206</td>\n",
       "      <td>26.1</td>\n",
       "      <td>0</td>\n",
       "      <td>1</td>\n",
       "      <td>0</td>\n",
       "    </tr>\n",
       "    <tr>\n",
       "      <th>443</th>\n",
       "      <td>2003</td>\n",
       "      <td>SS</td>\n",
       "      <td>190.0</td>\n",
       "      <td>200.0</td>\n",
       "      <td>157</td>\n",
       "      <td>15.0</td>\n",
       "      <td>0</td>\n",
       "      <td>0</td>\n",
       "      <td>1</td>\n",
       "    </tr>\n",
       "    <tr>\n",
       "      <th>444</th>\n",
       "      <td>2003</td>\n",
       "      <td>SS</td>\n",
       "      <td>197.0</td>\n",
       "      <td>185.0</td>\n",
       "      <td>157</td>\n",
       "      <td>15.6</td>\n",
       "      <td>0</td>\n",
       "      <td>0</td>\n",
       "      <td>1</td>\n",
       "    </tr>\n",
       "    <tr>\n",
       "      <th>445</th>\n",
       "      <td>2003</td>\n",
       "      <td>RT</td>\n",
       "      <td>360.0</td>\n",
       "      <td>1325.0</td>\n",
       "      <td>224</td>\n",
       "      <td>30.6</td>\n",
       "      <td>0</td>\n",
       "      <td>1</td>\n",
       "      <td>0</td>\n",
       "    </tr>\n",
       "    <tr>\n",
       "      <th>446</th>\n",
       "      <td>2003</td>\n",
       "      <td>RT</td>\n",
       "      <td>369.0</td>\n",
       "      <td>860.0</td>\n",
       "      <td>207</td>\n",
       "      <td>28.0</td>\n",
       "      <td>0</td>\n",
       "      <td>1</td>\n",
       "      <td>0</td>\n",
       "    </tr>\n",
       "  </tbody>\n",
       "</table>\n",
       "<p>447 rows × 9 columns</p>\n",
       "</div>"
      ],
      "text/plain": [
       "     Year Species   Wing  Weight  Tail  Hallux  Coopers?  Red-tailed?  \\\n",
       "0    1992      RT  385.0   920.0   219    30.1         0            1   \n",
       "1    1992      RT  381.0   990.0   235    31.3         0            1   \n",
       "2    1992      CH  265.0   470.0   220    23.5         1            0   \n",
       "3    1992      RT  370.0   960.0   212    30.1         0            1   \n",
       "4    1992      RT  405.0  1120.0   238    30.2         0            1   \n",
       "..    ...     ...    ...     ...   ...     ...       ...          ...   \n",
       "442  2003      RT  362.0   840.0   206    26.1         0            1   \n",
       "443  2003      SS  190.0   200.0   157    15.0         0            0   \n",
       "444  2003      SS  197.0   185.0   157    15.6         0            0   \n",
       "445  2003      RT  360.0  1325.0   224    30.6         0            1   \n",
       "446  2003      RT  369.0   860.0   207    28.0         0            1   \n",
       "\n",
       "     Sharp-shinned?  \n",
       "0                 0  \n",
       "1                 0  \n",
       "2                 0  \n",
       "3                 0  \n",
       "4                 0  \n",
       "..              ...  \n",
       "442               0  \n",
       "443               1  \n",
       "444               1  \n",
       "445               0  \n",
       "446               0  \n",
       "\n",
       "[447 rows x 9 columns]"
      ]
     },
     "metadata": {},
     "output_type": "display_data"
    }
   ],
   "source": [
    "import pandas as pd      # para trabajar con archivos de datos csv, excel, etc: https://pandas.pydata.org/docs/getting_started/tutorials.html\n",
    "import chardet           # para detectar la codificación de texto en archivos\n",
    "\n",
    "\n",
    "nombre_archivo = DATOS_DIR + 'Hawks.csv' # archivo de globos\n",
    "\n",
    "#-- detectando la codificación de caracteres usada ----\n",
    "with open(nombre_archivo, 'rb') as f:\n",
    "    result = chardet.detect(f.read())  # or readline if the file is large\n",
    "\n",
    "# recupera el archivo en un objeto dataframe de pandas utilizando la codificación detectada\n",
    "df = pd.read_csv(nombre_archivo, encoding=result['encoding'])\n",
    "\n",
    "# visualiza el dataframe\n",
    "# print(df)\n",
    "display(df)"
   ]
  },
  {
   "cell_type": "markdown",
   "id": "89536efa-328b-46f7-9d08-f3134d5bfabf",
   "metadata": {},
   "source": [
    "## Calcule la correlación lineal entre los atributos Ala y Cola"
   ]
  },
  {
   "cell_type": "code",
   "execution_count": 18,
   "id": "96b6c1b8-d7da-499b-9f6e-a997932e6702",
   "metadata": {},
   "outputs": [
    {
     "name": "stdout",
     "output_type": "stream",
     "text": [
      "La correlación entre \"Ala\" y \"Cola\" es: 0.91\n"
     ]
    }
   ],
   "source": [
    "import pandas as pd\n",
    "\n",
    "\n",
    "correlation = df['Wing'].corr(df['Tail'])\n",
    "\n",
    "print(f'La correlación entre \"Ala\" y \"Cola\" es: {correlation:.2f}')"
   ]
  },
  {
   "cell_type": "markdown",
   "id": "9068f69b-2802-47a0-b331-0cbe63b3ae13",
   "metadata": {},
   "source": [
    "## Calcule la correlación lineal entre los atributos Ala y Peso"
   ]
  },
  {
   "cell_type": "code",
   "execution_count": 21,
   "id": "b22fc54f-7d35-41a1-9066-c59c3d8abab6",
   "metadata": {},
   "outputs": [
    {
     "name": "stdout",
     "output_type": "stream",
     "text": [
      "La correlación entre \"Ala\" y \"Peso\" es: 0.94\n"
     ]
    }
   ],
   "source": [
    "import pandas as pd\n",
    "\n",
    "\n",
    "correlation = df['Wing'].corr(df['Weight'])\n",
    "\n",
    "print(f'La correlación entre \"Ala\" y \"Peso\" es: {correlation:.2f}')"
   ]
  },
  {
   "cell_type": "markdown",
   "id": "c52178a3-7c47-40e6-9300-bcd231378287",
   "metadata": {},
   "source": [
    "## Se podria decir que la correlacion lineal entre Ala y Cola es fuerte, (0.91) porque es un valor cercano a 1. Esto quiere decir que los atributos Ala y Cola estan linealmente relacionados. Y como el coef corr es positivo, quiere decir que cuando el atributo Ala crece, el atributo Cola tambien y viceversa."
   ]
  },
  {
   "cell_type": "markdown",
   "id": "bcf0c71e-cffd-4d24-b54c-c66d18696901",
   "metadata": {},
   "source": [
    "# Inciso (b) - antes de normalizar"
   ]
  },
  {
   "cell_type": "code",
   "execution_count": 20,
   "id": "3dd106d3-f80e-4c86-8c0b-269cbae235a2",
   "metadata": {},
   "outputs": [
    {
     "name": "stdout",
     "output_type": "stream",
     "text": [
      "Media: 25.80\n",
      "Desvío Estándar: 10.60\n",
      "Mínimo: 9.60\n",
      "Q1: 15.15\n",
      "Mediana (Q2): 29.50\n",
      "Q3: 31.50\n",
      "RIC: 16.35\n",
      "Máximo: 130.00\n",
      "Bigote Inferior: 9.60\n",
      "Bigote Superior: 56.03\n"
     ]
    }
   ],
   "source": [
    "\n",
    "columna = df['Hallux']\n",
    "\n",
    "# Media\n",
    "media = columna.mean()\n",
    "\n",
    "# Desvío estándar\n",
    "desvio = columna.std()\n",
    "\n",
    "# Mínimo\n",
    "minimo = columna.min()\n",
    "\n",
    "# Máximo\n",
    "maximo = columna.max()\n",
    "\n",
    "# Cuartiles\n",
    "q1 = columna.quantile(0.25)\n",
    "q2 = columna.median()  # o columna.quantile(0.50)\n",
    "q3 = columna.quantile(0.75)\n",
    "\n",
    "# Rango intercuartil (Q3 - Q1)\n",
    "ric = q3 - q1\n",
    "\n",
    "# Bigote inferior\n",
    "bigote_inferior = max(minimo, q1 - 1.5 * ric)\n",
    "\n",
    "# Bigote superior\n",
    "bigote_superior = min(maximo, q3 + 1.5 * ric)\n",
    "\n",
    "print(f\"Media: {media:.2f}\")\n",
    "print(f\"Desvío Estándar: {desvio:.2f}\")\n",
    "print(f\"Mínimo: {minimo:.2f}\")\n",
    "print(f\"Q1: {q1:.2f}\")\n",
    "print(f\"Mediana (Q2): {q2:.2f}\")\n",
    "print(f\"Q3: {q3:.2f}\")\n",
    "print(f\"RIC: {ric:.2f}\")\n",
    "print(f\"Máximo: {maximo:.2f}\")\n",
    "print(f\"Bigote Inferior: {bigote_inferior:.2f}\")\n",
    "print(f\"Bigote Superior: {bigote_superior:.2f}\")"
   ]
  },
  {
   "cell_type": "markdown",
   "id": "546e1048-49bd-4354-a79e-93a336094c25",
   "metadata": {},
   "source": [
    "# Normalizo la columna Hallux:"
   ]
  },
  {
   "cell_type": "code",
   "execution_count": 26,
   "id": "4c53e28c-fa09-4b42-91f2-a85beef11fb4",
   "metadata": {},
   "outputs": [
    {
     "name": "stdout",
     "output_type": "stream",
     "text": [
      "0      0.405653\n",
      "1      0.518843\n",
      "2     -0.216896\n",
      "3      0.405653\n",
      "4      0.415085\n",
      "         ...   \n",
      "442    0.028350\n",
      "443   -1.018663\n",
      "444   -0.962068\n",
      "445    0.452815\n",
      "446    0.207569\n",
      "Name: Hallux, Length: 447, dtype: float64\n"
     ]
    }
   ],
   "source": [
    "# -- Estandarización --\n",
    "# **Normalización usando media y desvío**\n",
    "\n",
    "media = df['Hallux'].mean()\n",
    "desvio = df['Hallux'].std()\n",
    "df['Hallux']= (df['Hallux']-media)/desvio\n",
    "\n",
    "print(df['Hallux'])"
   ]
  },
  {
   "cell_type": "markdown",
   "id": "1a9e5e28-e731-4fa2-8de4-9668b4c24b94",
   "metadata": {},
   "source": [
    "# Inciso (b) - despues de normalizar"
   ]
  },
  {
   "cell_type": "code",
   "execution_count": 28,
   "id": "ec4056c1-2c40-4628-a9f2-ed59c8539254",
   "metadata": {},
   "outputs": [
    {
     "name": "stdout",
     "output_type": "stream",
     "text": [
      "Media: 0.00\n",
      "Desvío Estándar: 1.00\n",
      "Mínimo: -1.53\n",
      "Q1: -1.00\n",
      "Mediana (Q2): 0.35\n",
      "Q3: 0.54\n",
      "RIC: 1.54\n",
      "Máximo: 9.83\n",
      "Bigote Inferior: -1.53\n",
      "Bigote Superior: 2.85\n"
     ]
    }
   ],
   "source": [
    "\n",
    "columna = df['Hallux']\n",
    "\n",
    "# Media\n",
    "media = columna.mean()\n",
    "\n",
    "# Desvío estándar\n",
    "desvio = columna.std()\n",
    "\n",
    "# Mínimo\n",
    "minimo = columna.min()\n",
    "\n",
    "# Máximo\n",
    "maximo = columna.max()\n",
    "\n",
    "# Cuartiles\n",
    "q1 = columna.quantile(0.25)\n",
    "q2 = columna.median()  # o columna.quantile(0.50)\n",
    "q3 = columna.quantile(0.75)\n",
    "\n",
    "# Rango intercuartil (Q3 - Q1)\n",
    "ric = q3 - q1\n",
    "\n",
    "# Bigote inferior\n",
    "bigote_inferior = max(minimo, q1 - 1.5 * ric)\n",
    "\n",
    "# Bigote superior\n",
    "bigote_superior = min(maximo, q3 + 1.5 * ric)\n",
    "\n",
    "print(f\"Media: {media:.2f}\")\n",
    "print(f\"Desvío Estándar: {desvio:.2f}\")\n",
    "print(f\"Mínimo: {minimo:.2f}\")\n",
    "print(f\"Q1: {q1:.2f}\")\n",
    "print(f\"Mediana (Q2): {q2:.2f}\")\n",
    "print(f\"Q3: {q3:.2f}\")\n",
    "print(f\"RIC: {ric:.2f}\")\n",
    "print(f\"Máximo: {maximo:.2f}\")\n",
    "print(f\"Bigote Inferior: {bigote_inferior:.2f}\")\n",
    "print(f\"Bigote Superior: {bigote_superior:.2f}\")"
   ]
  },
  {
   "cell_type": "code",
   "execution_count": null,
   "id": "daee9de5-483f-4bf6-9a75-9ed6b4fa5bb6",
   "metadata": {},
   "outputs": [],
   "source": []
  }
 ],
 "metadata": {
  "kernelspec": {
   "display_name": "Python 3 (ipykernel)",
   "language": "python",
   "name": "python3"
  },
  "language_info": {
   "codemirror_mode": {
    "name": "ipython",
    "version": 3
   },
   "file_extension": ".py",
   "mimetype": "text/x-python",
   "name": "python",
   "nbconvert_exporter": "python",
   "pygments_lexer": "ipython3",
   "version": "3.12.4"
  }
 },
 "nbformat": 4,
 "nbformat_minor": 5
}
