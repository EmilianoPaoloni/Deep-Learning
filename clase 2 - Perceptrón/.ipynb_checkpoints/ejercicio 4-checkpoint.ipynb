{
 "cells": [
  {
   "cell_type": "markdown",
   "id": "96015b50-62ac-407b-bbdd-5b102eb032d7",
   "metadata": {},
   "source": [
    "# EJERCICIO 4 - PRACTICA 2"
   ]
  },
  {
   "cell_type": "markdown",
   "id": "c3545790-7735-4821-aafc-c74b83773465",
   "metadata": {},
   "source": [
    "#### Se busca predecir si el tipo de fármaco que se debe administrar a un paciente afectado de rinitis alérgica es \n",
    "el habitual o no. Se dispone de información correspondiente a las historias clínicas de pacientes atendidos\r\n",
    "previamente."
   ]
  },
  {
   "cell_type": "code",
   "execution_count": 27,
   "id": "086279c6-f891-4255-81cd-22f442a211ec",
   "metadata": {},
   "outputs": [],
   "source": [
    "\n",
    " # configuración para notebook con instalación LOCAL\n",
    "FUENTES_DIR  = '../Fuentes'     # carpeta donde se encuentran archivos .py auxiliares\n",
    "DATOS_DIR    = '../Datos/'      # carpeta donde se encuentran los datasets\n",
    "MODELOS_DIR  = '../Modelos/'    # carpeta donde se encuentran los modelos\n",
    "ARCHIVOs_DIR = '../Archivos/'   # carpeta recuperar o copiar archivos\n",
    "\n",
    "# agrega ruta de busqueda donde tenemos archivos .py\n",
    "import sys\n",
    "sys.path.append(FUENTES_DIR)\n"
   ]
  },
  {
   "cell_type": "code",
   "execution_count": 29,
   "id": "a505d8fb-67b6-4f74-bf1a-8f04efdc6143",
   "metadata": {},
   "outputs": [],
   "source": [
    "import pandas as pd\n",
    "import numpy as np\n",
    "from matplotlib import pylab as plt\n",
    "\n",
    "from sklearn import model_selection,preprocessing\n",
    "\n",
    "from ClassPerceptron import Perceptron"
   ]
  },
  {
   "cell_type": "code",
   "execution_count": 30,
   "id": "8d64ec88-d7f8-4308-96e5-8e3374f90a87",
   "metadata": {},
   "outputs": [
    {
     "data": {
      "text/html": [
       "<div>\n",
       "<style scoped>\n",
       "    .dataframe tbody tr th:only-of-type {\n",
       "        vertical-align: middle;\n",
       "    }\n",
       "\n",
       "    .dataframe tbody tr th {\n",
       "        vertical-align: top;\n",
       "    }\n",
       "\n",
       "    .dataframe thead th {\n",
       "        text-align: right;\n",
       "    }\n",
       "</style>\n",
       "<table border=\"1\" class=\"dataframe\">\n",
       "  <thead>\n",
       "    <tr style=\"text-align: right;\">\n",
       "      <th></th>\n",
       "      <th>Age</th>\n",
       "      <th>Sex</th>\n",
       "      <th>BP</th>\n",
       "      <th>Cholesterol</th>\n",
       "      <th>Na</th>\n",
       "      <th>K</th>\n",
       "      <th>Drug</th>\n",
       "    </tr>\n",
       "  </thead>\n",
       "  <tbody>\n",
       "    <tr>\n",
       "      <th>0</th>\n",
       "      <td>23</td>\n",
       "      <td>F</td>\n",
       "      <td>HIGH</td>\n",
       "      <td>HIGH</td>\n",
       "      <td>0.792535</td>\n",
       "      <td>0.031258</td>\n",
       "      <td>drugY</td>\n",
       "    </tr>\n",
       "    <tr>\n",
       "      <th>1</th>\n",
       "      <td>47</td>\n",
       "      <td>M</td>\n",
       "      <td>LOW</td>\n",
       "      <td>HIGH</td>\n",
       "      <td>0.739309</td>\n",
       "      <td>0.056468</td>\n",
       "      <td>drugC</td>\n",
       "    </tr>\n",
       "    <tr>\n",
       "      <th>2</th>\n",
       "      <td>47</td>\n",
       "      <td>M</td>\n",
       "      <td>LOW</td>\n",
       "      <td>HIGH</td>\n",
       "      <td>0.697269</td>\n",
       "      <td>0.068944</td>\n",
       "      <td>drugC</td>\n",
       "    </tr>\n",
       "    <tr>\n",
       "      <th>3</th>\n",
       "      <td>28</td>\n",
       "      <td>F</td>\n",
       "      <td>NORMAL</td>\n",
       "      <td>HIGH</td>\n",
       "      <td>0.563682</td>\n",
       "      <td>0.072289</td>\n",
       "      <td>drugX</td>\n",
       "    </tr>\n",
       "    <tr>\n",
       "      <th>4</th>\n",
       "      <td>61</td>\n",
       "      <td>F</td>\n",
       "      <td>LOW</td>\n",
       "      <td>HIGH</td>\n",
       "      <td>0.559294</td>\n",
       "      <td>0.030998</td>\n",
       "      <td>drugY</td>\n",
       "    </tr>\n",
       "    <tr>\n",
       "      <th>...</th>\n",
       "      <td>...</td>\n",
       "      <td>...</td>\n",
       "      <td>...</td>\n",
       "      <td>...</td>\n",
       "      <td>...</td>\n",
       "      <td>...</td>\n",
       "      <td>...</td>\n",
       "    </tr>\n",
       "    <tr>\n",
       "      <th>195</th>\n",
       "      <td>56</td>\n",
       "      <td>F</td>\n",
       "      <td>LOW</td>\n",
       "      <td>HIGH</td>\n",
       "      <td>0.848774</td>\n",
       "      <td>0.073380</td>\n",
       "      <td>drugC</td>\n",
       "    </tr>\n",
       "    <tr>\n",
       "      <th>196</th>\n",
       "      <td>16</td>\n",
       "      <td>M</td>\n",
       "      <td>LOW</td>\n",
       "      <td>HIGH</td>\n",
       "      <td>0.743021</td>\n",
       "      <td>0.061886</td>\n",
       "      <td>drugC</td>\n",
       "    </tr>\n",
       "    <tr>\n",
       "      <th>197</th>\n",
       "      <td>52</td>\n",
       "      <td>M</td>\n",
       "      <td>NORMAL</td>\n",
       "      <td>HIGH</td>\n",
       "      <td>0.549945</td>\n",
       "      <td>0.055581</td>\n",
       "      <td>drugX</td>\n",
       "    </tr>\n",
       "    <tr>\n",
       "      <th>198</th>\n",
       "      <td>23</td>\n",
       "      <td>M</td>\n",
       "      <td>NORMAL</td>\n",
       "      <td>NORMAL</td>\n",
       "      <td>0.784520</td>\n",
       "      <td>0.055959</td>\n",
       "      <td>drugX</td>\n",
       "    </tr>\n",
       "    <tr>\n",
       "      <th>199</th>\n",
       "      <td>40</td>\n",
       "      <td>F</td>\n",
       "      <td>LOW</td>\n",
       "      <td>NORMAL</td>\n",
       "      <td>0.683503</td>\n",
       "      <td>0.060226</td>\n",
       "      <td>drugX</td>\n",
       "    </tr>\n",
       "  </tbody>\n",
       "</table>\n",
       "<p>200 rows × 7 columns</p>\n",
       "</div>"
      ],
      "text/plain": [
       "     Age Sex      BP Cholesterol        Na         K   Drug\n",
       "0     23   F    HIGH        HIGH  0.792535  0.031258  drugY\n",
       "1     47   M     LOW        HIGH  0.739309  0.056468  drugC\n",
       "2     47   M     LOW        HIGH  0.697269  0.068944  drugC\n",
       "3     28   F  NORMAL        HIGH  0.563682  0.072289  drugX\n",
       "4     61   F     LOW        HIGH  0.559294  0.030998  drugY\n",
       "..   ...  ..     ...         ...       ...       ...    ...\n",
       "195   56   F     LOW        HIGH  0.848774  0.073380  drugC\n",
       "196   16   M     LOW        HIGH  0.743021  0.061886  drugC\n",
       "197   52   M  NORMAL        HIGH  0.549945  0.055581  drugX\n",
       "198   23   M  NORMAL      NORMAL  0.784520  0.055959  drugX\n",
       "199   40   F     LOW      NORMAL  0.683503  0.060226  drugX\n",
       "\n",
       "[200 rows x 7 columns]"
      ]
     },
     "metadata": {},
     "output_type": "display_data"
    }
   ],
   "source": [
    "\n",
    "import chardet           # para detectar la codificación de texto en archivos\n",
    "\n",
    "\n",
    "nombre_archivo = DATOS_DIR + 'Drug5.csv' # archivo drugs\n",
    "\n",
    "#-- detectando la codificación de caracteres usada ----\n",
    "with open(nombre_archivo, 'rb') as f:\n",
    "    result = chardet.detect(f.read())  # or readline if the file is large\n",
    "\n",
    "# recupera el archivo en un objeto dataframe de pandas utilizando la codificación detectada\n",
    "df = pd.read_csv(nombre_archivo, encoding=result['encoding'])\n",
    "\n",
    "# visualiza el dataframe\n",
    "# print(df)\n",
    "display(df)"
   ]
  },
  {
   "cell_type": "markdown",
   "id": "1da084b1-4646-4a6f-b6bd-8d0221888f22",
   "metadata": {},
   "source": [
    "### Numerizacion de atributos ordinales (Sex, BP, Cholesterol)"
   ]
  },
  {
   "cell_type": "code",
   "execution_count": 33,
   "id": "9ea12be9-4119-49f6-bd22-d3ba138b2ecb",
   "metadata": {},
   "outputs": [
    {
     "name": "stdout",
     "output_type": "stream",
     "text": [
      "     Age  Sex  BP  Cholesterol        Na         K   Drug\n",
      "0     23    1   2            1  0.792535  0.031258  drugY\n",
      "1     47    0   0            1  0.739309  0.056468  drugC\n",
      "2     47    0   0            1  0.697269  0.068944  drugC\n",
      "3     28    1   1            1  0.563682  0.072289  drugX\n",
      "4     61    1   0            1  0.559294  0.030998  drugY\n",
      "..   ...  ...  ..          ...       ...       ...    ...\n",
      "195   56    1   0            1  0.848774  0.073380  drugC\n",
      "196   16    0   0            1  0.743021  0.061886  drugC\n",
      "197   52    0   1            1  0.549945  0.055581  drugX\n",
      "198   23    0   1            0  0.784520  0.055959  drugX\n",
      "199   40    1   0            0  0.683503  0.060226  drugX\n",
      "\n",
      "[200 rows x 7 columns]\n"
     ]
    },
    {
     "name": "stderr",
     "output_type": "stream",
     "text": [
      "C:\\Users\\W10\\AppData\\Local\\Temp\\ipykernel_7532\\295256908.py:5: FutureWarning: Downcasting behavior in `replace` is deprecated and will be removed in a future version. To retain the old behavior, explicitly call `result.infer_objects(copy=False)`. To opt-in to the future behavior, set `pd.set_option('future.no_silent_downcasting', True)`\n",
      "  df.replace(mapeo, inplace=True)\n"
     ]
    }
   ],
   "source": [
    "mapeo = {'Sex': {'F':1, 'M':0},\n",
    "          'BP':{'HIGH':2, 'NORMAL':1, 'LOW':0},\n",
    "          'Cholesterol':{'NORMAL':0, 'HIGH':1}}\n",
    "\n",
    "df.replace(mapeo, inplace=True)\n",
    "print(df)"
   ]
  },
  {
   "cell_type": "code",
   "execution_count": 48,
   "id": "202bca46-6cc6-4d22-9ba9-f968c0721fa4",
   "metadata": {},
   "outputs": [],
   "source": [
    "#--- DATOS DE ENTRENAMIENTO ---\n",
    "X = np.array(df.iloc[:,:-1])   # X contiene todas las columnas menos la columna 'Drug' --> variables de entrada\n",
    "T = np.array((df['Drug'] == 'drugY') * 1)  # T es la variable objetivo que se intenta predecir. se está transformando la columna Drug en un array \n",
    "                                           # binario donde 1 indica que el fármaco es drugY y 0 indica que es cualquier otro fármaco. \n",
    "                                           # Esto se hace para poder predecir si el fármaco es drugY o no.\n",
    "nColum = ['Otra', 'drugY']\n",
    "\n",
    "#--- CONJUNTOS DE ENTRENAMIENTO Y TESTEO ---\n",
    "X_train, X_test, T_train, T_test = model_selection.train_test_split(     #Se dividen los datos en conjuntos de entrenamiento y testeo.\n",
    "        X, T, test_size=0.30, random_state=42)                           #El 30% de los datos se reserva para testear el modelo, mientras que el 70% restante se usa para entrenar.\n",
    "\n",
    "normalizarEntrada = 1  # 1 si normaliza; 0 si no                   #se normalizan los datos\n",
    "if normalizarEntrada:\n",
    "    #--- Normalización lineal entre 0 y 1 ---\n",
    "    normalizador = preprocessing.MinMaxScaler()\n",
    "\n",
    "    # Normaliza utilizando la media y el desvio\n",
    "    # normalizador= preprocessing.StandardScaler()\n",
    "    \n",
    "    X_train = normalizador.fit_transform(X_train)\n",
    "    X_test  = normalizador.transform(X_test)"
   ]
  },
  {
   "cell_type": "code",
   "execution_count": 42,
   "id": "d229a945-1732-4801-9e77-59076f26227c",
   "metadata": {},
   "outputs": [
    {
     "data": {
      "image/png": "[encoded data removed]",
      "text/plain": [
       "<Figure size 640x480 with 1 Axes>"
      ]
     },
     "metadata": {},
     "output_type": "display_data"
    }
   ],
   "source": [
    "ppn = Perceptron(alpha=0.01, n_iter=650, random_state=None)\n",
    "# alpha=0.01 --> tasa de aprendizaje\n",
    "# n_iter=65 --> es cuántas veces el algoritmo pasa por todo el conjunto de entrenamiento para ajustar los pesos\n",
    "# random_state=None --> Esto controla la inicialización aleatoria del modelo. Si es None, la inicialización será diferente cada vez que corras el script.\n",
    "\n",
    "ppn.fit(X_train, T_train) #  Esta línea entrena el perceptrón utilizando los datos de entrenamiento (X_train) y las etiquetas (T_train).   \n",
    "                          # Durante este proceso, el perceptrón ajusta sus pesos para minimizar los errores en la predicción.\n",
    "\n",
    "plt.plot(range(1, len(ppn.errors_) + 1), ppn.errors_, marker='o')\n",
    "plt.xlabel('Iteraciones')\n",
    "plt.ylabel('Cantidad de actualizaciones')\n",
    "plt.show()\n",
    "\n",
    "# ppn.errors_: Durante el entrenamiento, el perceptrón guarda en esta lista la cantidad de errores de clasificación o actualizaciones de pesos que ocurrieron en cada iteración.\n",
    "# plt.plot(...): Esta línea genera un gráfico de la cantidad de errores en función del número de iteraciones.\n",
    "#Idealmente, deberías ver que la cantidad de errores disminuye a medida que el modelo aprende, lo que indicaría que el perceptrón está convergiendo hacia una solución óptima."
   ]
  },
  {
   "cell_type": "code",
   "execution_count": 44,
   "id": "aba10024-13c9-48ec-9df7-3e92d32d82a9",
   "metadata": {},
   "outputs": [
    {
     "name": "stdout",
     "output_type": "stream",
     "text": [
      "aciertos =  59\n",
      "% de aciertos = 98.33 %\n"
     ]
    }
   ],
   "source": [
    "Y_test = ppn.predict(X_test)\n",
    "\n",
    "aciertos = sum(Y_test == T_test)\n",
    "print(\"aciertos = \", aciertos)\n",
    "\n",
    "nAciertos = sum(Y_test == T_test)\n",
    "print(\"%% de aciertos = %.2f %%\" % (100*nAciertos/X_test.shape[0]))\n"
   ]
  },
  {
   "cell_type": "code",
   "execution_count": null,
   "id": "8709a690-46c5-44da-a775-e4d2b8b0aeb9",
   "metadata": {},
   "outputs": [],
   "source": []
  }
 ],
 "metadata": {
  "kernelspec": {
   "display_name": "Python 3 (ipykernel)",
   "language": "python",
   "name": "python3"
  },
  "language_info": {
   "codemirror_mode": {
    "name": "ipython",
    "version": 3
   },
   "file_extension": ".py",
   "mimetype": "text/x-python",
   "name": "python",
   "nbconvert_exporter": "python",
   "pygments_lexer": "ipython3",
   "version": "3.12.4"
  }
 },
 "nbformat": 4,
 "nbformat_minor": 5
}
