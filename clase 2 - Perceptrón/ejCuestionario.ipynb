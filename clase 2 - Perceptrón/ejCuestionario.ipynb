{
 "cells": [
  {
   "cell_type": "markdown",
   "id": "4babe753-affc-4f69-9446-d0e21cf44a51",
   "metadata": {},
   "source": [
    "# Ejercicio cuestionario"
   ]
  },
  {
   "cell_type": "markdown",
   "id": "3ed8841f-3ff7-41a9-b4dd-3244d6b4abda",
   "metadata": {},
   "source": [
    "## En el siguiente link encontrará un conjunto de datos conformado por 24 diagnósticos de uso de lentes de contactos: http://archive.ics.uci.edu/ml/datasets/Lenses. Los atributos son:\n",
    "## ID : nro. de registro (valor correlativo entre 1 y 24)\n",
    "## Edad del paciente: 1= joven; 2 = pre-presbicia; 3 = presbicia (o vista cansada)\n",
    "## Expectativa de prescripción: 1=miopía; 2=hipermetropía\n",
    "## Astigmatismo : 1= no; 2= si\n",
    "## Producción de lágrimas: 1=reducida; 2=normal\n",
    "\n",
    "## Diagnóstico:\n",
    "## el paciente debería utilizar lentes de contacto duros (1) .\n",
    "## el paciente debería utilizar lentes de contacto blandos (2) .\n",
    "## el paciente no debería utilizar lentes de contacto (3) .\n",
    "\n",
    "### Indique si es posible entrenar, utilizando los 24 ejemplos, un perceptrón capaz de separar los casos que deben utilizar lentes blandos (Diagnóstico=2) del resto.\n",
    "\n"
   ]
  },
  {
   "cell_type": "code",
   "execution_count": 73,
   "id": "d337579b-c514-4130-8038-89c79d2c8fff",
   "metadata": {},
   "outputs": [],
   "source": [
    "\n",
    " # configuración para notebook con instalación LOCAL\n",
    "FUENTES_DIR  = '../Fuentes'     # carpeta donde se encuentran archivos .py auxiliares\n",
    "DATOS_DIR    = '../Datos/'      # carpeta donde se encuentran los datasets\n",
    "MODELOS_DIR  = '../Modelos/'    # carpeta donde se encuentran los modelos\n",
    "ARCHIVOs_DIR = '../Archivos/'   # carpeta recuperar o copiar archivos\n",
    "\n",
    "# agrega ruta de busqueda donde tenemos archivos .py\n",
    "import sys\n",
    "sys.path.append(FUENTES_DIR)\n"
   ]
  },
  {
   "cell_type": "code",
   "execution_count": 75,
   "id": "98800c8a-53c9-4190-b3ef-d96a5269e660",
   "metadata": {},
   "outputs": [],
   "source": [
    "import pandas as pd\n",
    "import numpy as np\n",
    "from matplotlib import pylab as plt\n",
    "\n",
    "from sklearn import model_selection,preprocessing\n",
    "\n",
    "from ClassPerceptron import Perceptron"
   ]
  },
  {
   "cell_type": "code",
   "execution_count": 77,
   "id": "45daff7f-7be0-4d58-b8cb-756befcc7619",
   "metadata": {},
   "outputs": [
    {
     "name": "stdout",
     "output_type": "stream",
     "text": [
      "    1  1  1  1  1  3\n",
      "0   2  1  1  1  2  2\n",
      "1   3  1  1  2  1  3\n",
      "2   4  1  1  2  2  1\n",
      "3   5  1  2  1  1  3\n",
      "4   6  1  2  1  2  2\n",
      "5   7  1  2  2  1  3\n",
      "6   8  1  2  2  2  1\n",
      "7   9  2  1  1  1  3\n",
      "8   10 2  1  1  2  2\n",
      "9   11 2  1  2  1  3\n",
      "10  12 2  1  2  2  1\n",
      "11  13 2  2  1  1  3\n",
      "12  14 2  2  1  2  2\n",
      "13  15 2  2  2  1  3\n",
      "14  16 2  2  2  2  3\n",
      "15  17 3  1  1  1  3\n",
      "16  18 3  1  1  2  3\n",
      "17  19 3  1  2  1  3\n",
      "18  20 3  1  2  2  1\n",
      "19  21 3  2  1  1  3\n",
      "20  22 3  2  1  2  2\n",
      "21  23 3  2  2  1  3\n",
      "22  24 3  2  2  2  3\n"
     ]
    }
   ],
   "source": [
    "\n",
    "import chardet           # para detectar la codificación de texto en archivos\n",
    "\n",
    "\n",
    "nombre_archivo = DATOS_DIR + 'lenses.data' # archivo de semillas\n",
    "\n",
    "#-- detectando la codificación de caracteres usada ----\n",
    "with open(nombre_archivo, 'rb') as f:\n",
    "    result = chardet.detect(f.read())  # or readline if the file is large\n",
    "\n",
    "# recupera el archivo en un objeto dataframe de pandas utilizando la codificación detectada\n",
    "df = pd.read_csv(nombre_archivo, encoding=result['encoding'])\n",
    "\n",
    "# visualiza el dataframe\n",
    "print(df)\n",
    "#display(df)\n"
   ]
  },
  {
   "cell_type": "code",
   "execution_count": 87,
   "id": "5081c8e1-2f8d-44d5-bf72-76fdb757f53c",
   "metadata": {},
   "outputs": [
    {
     "name": "stdout",
     "output_type": "stream",
     "text": [
      "    ID  edad  expectativa  astigmatismo  lagrimas  diagnostico\n",
      "0    1     1            1             1         1            3\n",
      "1    2     1            1             1         1            2\n",
      "2    3     1            1             2         2            3\n",
      "3    4     1            1             2         2            1\n",
      "4    5     1            2             1         1            3\n",
      "5    6     1            2             2         2            2\n",
      "6    7     2            1             1         1            3\n",
      "7    8     2            1             1         2            2\n",
      "8    9     2            1             2         1            3\n",
      "9   10     2            1             2         2            1\n",
      "10  11     2            2             1         1            3\n",
      "11  12     2            2             1         2            2\n",
      "12  13     3            1             2         1            3\n",
      "13  14     3            1             2         2            3\n",
      "14  15     3            2             1         1            3\n",
      "15  16     3            2             2         2            3\n",
      "16  17     3            1             1         1            3\n",
      "17  18     3            1             2         2            1\n",
      "18  19     3            2             1         1            3\n",
      "19  20     3            2             2         2            2\n",
      "20  21     3            1             1         1            3\n",
      "21  22     3            1             2         2            2\n",
      "22  23     3            2             1         1            3\n",
      "23  24     3            2             2         2            3\n"
     ]
    }
   ],
   "source": [
    "# vuelvo a crear el dataframe porque me da error en el anterior y le quiero agregar nombre a las columnas:\n",
    "data = {\n",
    "    0: [1, 2, 3, 4, 5, 6, 7, 8, 9, 10, 11, 12, 13, 14, 15, 16, 17, 18, 19, 20, 21, 22, 23, 24],\n",
    "    1: [1, 1, 1, 1, 1, 1, 2, 2, 2, 2, 2, 2, 3, 3, 3, 3, 3, 3, 3, 3, 3, 3, 3, 3],\n",
    "    2: [1, 1, 1, 1, 2, 2, 1, 1, 1, 1, 2, 2, 1, 1, 2, 2, 1, 1, 2, 2, 1, 1, 2, 2],\n",
    "    3: [1, 1, 2, 2, 1, 2, 1, 1, 2, 2, 1, 1, 2, 2, 1, 2, 1, 2, 1, 2, 1, 2, 1, 2],\n",
    "    4: [1, 1, 2, 2, 1, 2, 1, 2, 1, 2, 1, 2, 1, 2, 1, 2, 1, 2, 1, 2, 1, 2, 1, 2],\n",
    "    5: [3, 2, 3, 1, 3, 2, 3, 2, 3, 1, 3, 2, 3, 3, 3, 3, 3, 1, 3, 2, 3, 2, 3, 3]\n",
    "}\n",
    "\n",
    "df1 = pd.DataFrame(data)\n",
    "\n",
    "# Asignar nombres a las columnas\n",
    "df1.columns = ['ID', 'edad', 'expectativa', 'astigmatismo', 'lagrimas', 'diagnostico']\n",
    "\n",
    "print(df1)"
   ]
  },
  {
   "cell_type": "code",
   "execution_count": 89,
   "id": "86ff4342-72ac-4af3-bd89-3c3bfb422bd1",
   "metadata": {},
   "outputs": [],
   "source": [
    "# aplico NORMALIZACION LINEAL UNIFORME  a todas las columnas\n",
    "# -- Escala los valores entre 0 y 1 --\n",
    "\n",
    "min1 = df1['edad'].min()\n",
    "max1 = df1['edad'].max()\n",
    "df1['edad']= (df1['edad']-min1)/(max1-min1)\n",
    "\n",
    "min2 = df1['expectativa'].min()\n",
    "max2 = df1['expectativa'].max()\n",
    "df1['expectativa']= (df1['expectativa']-min2)/(max2-min2)\n",
    "\n",
    "min3 = df1['astigmatismo'].min()\n",
    "max3 = df1['astigmatismo'].max()\n",
    "df1['astigmatismo']= (df1['astigmatismo']-min3)/(max3-min3)\n",
    "\n",
    "min4 = df1['lagrimas'].min()\n",
    "max4 = df1['lagrimas'].max()\n",
    "df1['lagrimas']= (df1['lagrimas']-min4)/(max4-min4)\n",
    "\n",
    "min5 = df1['diagnostico'].min()\n",
    "max5 = df1['diagnostico'].max()\n",
    "df1['diagnostico']= (df1['diagnostico']-min5)/(max5-min5)\n"
   ]
  },
  {
   "cell_type": "code",
   "execution_count": 91,
   "id": "23e34dbb-836b-46d4-a24f-b2053f426296",
   "metadata": {},
   "outputs": [
    {
     "name": "stdout",
     "output_type": "stream",
     "text": [
      "    edad  expectativa  astigmatismo  lagrimas  diagnostico\n",
      "0    0.0          0.0           0.0       0.0          1.0\n",
      "1    0.0          0.0           0.0       0.0          0.5\n",
      "2    0.0          0.0           1.0       1.0          1.0\n",
      "3    0.0          0.0           1.0       1.0          0.0\n",
      "4    0.0          1.0           0.0       0.0          1.0\n",
      "5    0.0          1.0           1.0       1.0          0.5\n",
      "6    0.5          0.0           0.0       0.0          1.0\n",
      "7    0.5          0.0           0.0       1.0          0.5\n",
      "8    0.5          0.0           1.0       0.0          1.0\n",
      "9    0.5          0.0           1.0       1.0          0.0\n",
      "10   0.5          1.0           0.0       0.0          1.0\n",
      "11   0.5          1.0           0.0       1.0          0.5\n",
      "12   1.0          0.0           1.0       0.0          1.0\n",
      "13   1.0          0.0           1.0       1.0          1.0\n",
      "14   1.0          1.0           0.0       0.0          1.0\n",
      "15   1.0          1.0           1.0       1.0          1.0\n",
      "16   1.0          0.0           0.0       0.0          1.0\n",
      "17   1.0          0.0           1.0       1.0          0.0\n",
      "18   1.0          1.0           0.0       0.0          1.0\n",
      "19   1.0          1.0           1.0       1.0          0.5\n",
      "20   1.0          0.0           0.0       0.0          1.0\n",
      "21   1.0          0.0           1.0       1.0          0.5\n",
      "22   1.0          1.0           0.0       0.0          1.0\n",
      "23   1.0          1.0           1.0       1.0          1.0\n"
     ]
    }
   ],
   "source": [
    "# elimino columna ID (porque no aporta datos a la prediccion)\n",
    "\n",
    "df1 = df1.drop('ID', axis=1)\n",
    "print(df1)"
   ]
  },
  {
   "cell_type": "markdown",
   "id": "e37d33de-6627-465c-8493-2d6b6f143861",
   "metadata": {},
   "source": [
    "# entrenamiento de perceptron"
   ]
  },
  {
   "cell_type": "code",
   "execution_count": 94,
   "id": "c1f1a3c0-cd22-4f79-8ad2-406755d30b6d",
   "metadata": {},
   "outputs": [
    {
     "ename": "KeyError",
     "evalue": "'lentes-blandos'",
     "output_type": "error",
     "traceback": [
      "\u001b[1;31m---------------------------------------------------------------------------\u001b[0m",
      "\u001b[1;31mKeyError\u001b[0m                                  Traceback (most recent call last)",
      "File \u001b[1;32m~\\anaconda3\\Lib\\site-packages\\pandas\\core\\indexes\\base.py:3805\u001b[0m, in \u001b[0;36mIndex.get_loc\u001b[1;34m(self, key)\u001b[0m\n\u001b[0;32m   3804\u001b[0m \u001b[38;5;28;01mtry\u001b[39;00m:\n\u001b[1;32m-> 3805\u001b[0m     \u001b[38;5;28;01mreturn\u001b[39;00m \u001b[38;5;28mself\u001b[39m\u001b[38;5;241m.\u001b[39m_engine\u001b[38;5;241m.\u001b[39mget_loc(casted_key)\n\u001b[0;32m   3806\u001b[0m \u001b[38;5;28;01mexcept\u001b[39;00m \u001b[38;5;167;01mKeyError\u001b[39;00m \u001b[38;5;28;01mas\u001b[39;00m err:\n",
      "File \u001b[1;32mindex.pyx:167\u001b[0m, in \u001b[0;36mpandas._libs.index.IndexEngine.get_loc\u001b[1;34m()\u001b[0m\n",
      "File \u001b[1;32mindex.pyx:196\u001b[0m, in \u001b[0;36mpandas._libs.index.IndexEngine.get_loc\u001b[1;34m()\u001b[0m\n",
      "File \u001b[1;32mpandas\\\\_libs\\\\hashtable_class_helper.pxi:7081\u001b[0m, in \u001b[0;36mpandas._libs.hashtable.PyObjectHashTable.get_item\u001b[1;34m()\u001b[0m\n",
      "File \u001b[1;32mpandas\\\\_libs\\\\hashtable_class_helper.pxi:7089\u001b[0m, in \u001b[0;36mpandas._libs.hashtable.PyObjectHashTable.get_item\u001b[1;34m()\u001b[0m\n",
      "\u001b[1;31mKeyError\u001b[0m: 'lentes-blandos'",
      "\nThe above exception was the direct cause of the following exception:\n",
      "\u001b[1;31mKeyError\u001b[0m                                  Traceback (most recent call last)",
      "Cell \u001b[1;32mIn[94], line 3\u001b[0m\n\u001b[0;32m      1\u001b[0m \u001b[38;5;66;03m#--- DATOS DE ENTRENAMIENTO ---\u001b[39;00m\n\u001b[0;32m      2\u001b[0m X \u001b[38;5;241m=\u001b[39m np\u001b[38;5;241m.\u001b[39marray(df1\u001b[38;5;241m.\u001b[39miloc[:,:\u001b[38;5;241m-\u001b[39m\u001b[38;5;241m1\u001b[39m])   \u001b[38;5;66;03m# X contiene todas las columnas menos la columna 'Clase' --> variables de entrada\u001b[39;00m\n\u001b[1;32m----> 3\u001b[0m T \u001b[38;5;241m=\u001b[39m np\u001b[38;5;241m.\u001b[39marray((df1[\u001b[38;5;124m'\u001b[39m\u001b[38;5;124mlentes-blandos\u001b[39m\u001b[38;5;124m'\u001b[39m] \u001b[38;5;241m==\u001b[39m \u001b[38;5;124m'\u001b[39m\u001b[38;5;124m0.5\u001b[39m\u001b[38;5;124m'\u001b[39m) \u001b[38;5;241m*\u001b[39m \u001b[38;5;241m1\u001b[39m)  \u001b[38;5;66;03m# T es la variable objetivo que se intenta predecir. se está transformando la columna Clase en un array \u001b[39;00m\n\u001b[0;32m      4\u001b[0m                                            \u001b[38;5;66;03m# binario donde 1 indica que el tipo de semilla es Tipo2 y 0 indica que es cualquier otro tipo. \u001b[39;00m\n\u001b[0;32m      5\u001b[0m                                            \u001b[38;5;66;03m# Esto se hace para poder predecir si la semilla es de Tipo2 o no.\u001b[39;00m\n\u001b[0;32m      6\u001b[0m nColum \u001b[38;5;241m=\u001b[39m [\u001b[38;5;124m'\u001b[39m\u001b[38;5;124mlentes-blandos\u001b[39m\u001b[38;5;124m'\u001b[39m, \u001b[38;5;124m'\u001b[39m\u001b[38;5;124m0.5\u001b[39m\u001b[38;5;124m'\u001b[39m]\n",
      "File \u001b[1;32m~\\anaconda3\\Lib\\site-packages\\pandas\\core\\frame.py:4102\u001b[0m, in \u001b[0;36mDataFrame.__getitem__\u001b[1;34m(self, key)\u001b[0m\n\u001b[0;32m   4100\u001b[0m \u001b[38;5;28;01mif\u001b[39;00m \u001b[38;5;28mself\u001b[39m\u001b[38;5;241m.\u001b[39mcolumns\u001b[38;5;241m.\u001b[39mnlevels \u001b[38;5;241m>\u001b[39m \u001b[38;5;241m1\u001b[39m:\n\u001b[0;32m   4101\u001b[0m     \u001b[38;5;28;01mreturn\u001b[39;00m \u001b[38;5;28mself\u001b[39m\u001b[38;5;241m.\u001b[39m_getitem_multilevel(key)\n\u001b[1;32m-> 4102\u001b[0m indexer \u001b[38;5;241m=\u001b[39m \u001b[38;5;28mself\u001b[39m\u001b[38;5;241m.\u001b[39mcolumns\u001b[38;5;241m.\u001b[39mget_loc(key)\n\u001b[0;32m   4103\u001b[0m \u001b[38;5;28;01mif\u001b[39;00m is_integer(indexer):\n\u001b[0;32m   4104\u001b[0m     indexer \u001b[38;5;241m=\u001b[39m [indexer]\n",
      "File \u001b[1;32m~\\anaconda3\\Lib\\site-packages\\pandas\\core\\indexes\\base.py:3812\u001b[0m, in \u001b[0;36mIndex.get_loc\u001b[1;34m(self, key)\u001b[0m\n\u001b[0;32m   3807\u001b[0m     \u001b[38;5;28;01mif\u001b[39;00m \u001b[38;5;28misinstance\u001b[39m(casted_key, \u001b[38;5;28mslice\u001b[39m) \u001b[38;5;129;01mor\u001b[39;00m (\n\u001b[0;32m   3808\u001b[0m         \u001b[38;5;28misinstance\u001b[39m(casted_key, abc\u001b[38;5;241m.\u001b[39mIterable)\n\u001b[0;32m   3809\u001b[0m         \u001b[38;5;129;01mand\u001b[39;00m \u001b[38;5;28many\u001b[39m(\u001b[38;5;28misinstance\u001b[39m(x, \u001b[38;5;28mslice\u001b[39m) \u001b[38;5;28;01mfor\u001b[39;00m x \u001b[38;5;129;01min\u001b[39;00m casted_key)\n\u001b[0;32m   3810\u001b[0m     ):\n\u001b[0;32m   3811\u001b[0m         \u001b[38;5;28;01mraise\u001b[39;00m InvalidIndexError(key)\n\u001b[1;32m-> 3812\u001b[0m     \u001b[38;5;28;01mraise\u001b[39;00m \u001b[38;5;167;01mKeyError\u001b[39;00m(key) \u001b[38;5;28;01mfrom\u001b[39;00m \u001b[38;5;21;01merr\u001b[39;00m\n\u001b[0;32m   3813\u001b[0m \u001b[38;5;28;01mexcept\u001b[39;00m \u001b[38;5;167;01mTypeError\u001b[39;00m:\n\u001b[0;32m   3814\u001b[0m     \u001b[38;5;66;03m# If we have a listlike key, _check_indexing_error will raise\u001b[39;00m\n\u001b[0;32m   3815\u001b[0m     \u001b[38;5;66;03m#  InvalidIndexError. Otherwise we fall through and re-raise\u001b[39;00m\n\u001b[0;32m   3816\u001b[0m     \u001b[38;5;66;03m#  the TypeError.\u001b[39;00m\n\u001b[0;32m   3817\u001b[0m     \u001b[38;5;28mself\u001b[39m\u001b[38;5;241m.\u001b[39m_check_indexing_error(key)\n",
      "\u001b[1;31mKeyError\u001b[0m: 'lentes-blandos'"
     ]
    }
   ],
   "source": [
    "#--- DATOS DE ENTRENAMIENTO ---\n",
    "X = np.array(df1.iloc[:,:-1])   # X contiene todas las columnas menos la columna 'Clase' --> variables de entrada\n",
    "T = np.array((df1['lentes-blandos'] == '0.5') * 1)  # T es la variable objetivo que se intenta predecir. se está transformando la columna Clase en un array \n",
    "                                           # binario donde 1 indica que el tipo de semilla es Tipo2 y 0 indica que es cualquier otro tipo. \n",
    "                                           # Esto se hace para poder predecir si la semilla es de Tipo2 o no.\n",
    "nColum = ['lentes-blandos', '0.5']\n",
    "\n",
    "#--- CONJUNTOS DE ENTRENAMIENTO Y TESTEO ---\n",
    "X_train, X_test, T_train, T_test = model_selection.train_test_split(     #Se dividen los datos en conjuntos de entrenamiento y testeo.\n",
    "        X, T, test_size=0.30, random_state=42)                           #El 30% de los datos se reserva para testear el modelo, mientras que el 70% restante se usa para entrenar.\n",
    "\n",
    "#normalizarEntrada = 1  # 1 si normaliza; 0 si no                   #se normalizan los datos\n",
    "#if normalizarEntrada:\n",
    "    #--- Normalización lineal entre 0 y 1 ---\n",
    " #   normalizador = preprocessing.MinMaxScaler()\n",
    "\n",
    "    # Normaliza utilizando la media y el desvio\n",
    "    # normalizador= preprocessing.StandardScaler()\n",
    "    \n",
    "   # X_train = normalizador.fit_transform(X_train)\n",
    "   # X_test  = normalizador.transform(X_test)"
   ]
  },
  {
   "cell_type": "code",
   "execution_count": 96,
   "id": "7832438e-6cae-4dc7-8449-69ae536c3567",
   "metadata": {},
   "outputs": [
    {
     "data": {
      "image/png": "[encoded data removed]",
      "text/plain": [
       "<Figure size 640x480 with 1 Axes>"
      ]
     },
     "metadata": {},
     "output_type": "display_data"
    }
   ],
   "source": [
    "ppn = Perceptron(alpha=0.05, n_iter=100, random_state=None)\n",
    "# alpha=0.01 --> tasa de aprendizaje\n",
    "# n_iter=65 --> es cuántas veces el algoritmo pasa por todo el conjunto de entrenamiento para ajustar los pesos\n",
    "# random_state=None --> Esto controla la inicialización aleatoria del modelo. Si es None, la inicialización será diferente cada vez que corras el script.\n",
    "\n",
    "ppn.fit(X_train, T_train) #  Esta línea entrena el perceptrón utilizando los datos de entrenamiento (X_train) y las etiquetas (T_train).   \n",
    "                          # Durante este proceso, el perceptrón ajusta sus pesos para minimizar los errores en la predicción.\n",
    "\n",
    "plt.plot(range(1, len(ppn.errors_) + 1), ppn.errors_, marker='o')\n",
    "plt.xlabel('Iteraciones')\n",
    "plt.ylabel('Cantidad de actualizaciones')\n",
    "plt.show()\n",
    "\n",
    "# ppn.errors_: Durante el entrenamiento, el perceptrón guarda en esta lista la cantidad de errores de clasificación o actualizaciones de pesos que ocurrieron en cada iteración.\n",
    "# plt.plot(...): Esta línea genera un gráfico de la cantidad de errores en función del número de iteraciones.\n",
    "#Idealmente, deberías ver que la cantidad de errores disminuye a medida que el modelo aprende, lo que indicaría que el perceptrón está convergiendo hacia una solución óptima."
   ]
  },
  {
   "cell_type": "code",
   "execution_count": 98,
   "id": "bdad3a0a-5d6b-4ca2-819f-9f4655f8667a",
   "metadata": {},
   "outputs": [
    {
     "name": "stdout",
     "output_type": "stream",
     "text": [
      "aciertos =  6\n",
      "% de aciertos = 75.00 %\n"
     ]
    }
   ],
   "source": [
    "Y_test = ppn.predict(X_test)\n",
    "\n",
    "aciertos = sum(Y_test == T_test)\n",
    "print(\"aciertos = \", aciertos)\n",
    "\n",
    "nAciertos = sum(Y_test == T_test)\n",
    "print(\"%% de aciertos = %.2f %%\" % (100*nAciertos/X_test.shape[0]))\n"
   ]
  },
  {
   "cell_type": "code",
   "execution_count": null,
   "id": "830b0e80-9001-4fe3-b29a-929f5006e36e",
   "metadata": {},
   "outputs": [],
   "source": []
  }
 ],
 "metadata": {
  "kernelspec": {
   "display_name": "Python 3 (ipykernel)",
   "language": "python",
   "name": "python3"
  },
  "language_info": {
   "codemirror_mode": {
    "name": "ipython",
    "version": 3
   },
   "file_extension": ".py",
   "mimetype": "text/x-python",
   "name": "python",
   "nbconvert_exporter": "python",
   "pygments_lexer": "ipython3",
   "version": "3.12.4"
  }
 },
 "nbformat": 4,
 "nbformat_minor": 5
}
