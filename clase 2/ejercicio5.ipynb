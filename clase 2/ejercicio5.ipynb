{
 "cells": [
  {
   "cell_type": "markdown",
   "id": "b03544ef-4e44-4152-802b-79410ba1be0f",
   "metadata": {},
   "source": [
    "# EJERCICIO 5 - PRACTICA 2\n"
   ]
  },
  {
   "cell_type": "markdown",
   "id": "3ed52f3a-f61d-4e70-bdd7-d6c2c72c44ea",
   "metadata": {},
   "source": [
    "#### SEMILLAS.csv contiene información de granos que pertenecen a tres variedades diferentes de trigo: Kama, Rosa y Canadiense."
   ]
  },
  {
   "cell_type": "code",
   "execution_count": 16,
   "id": "c920d838-d5d8-4251-b2ef-ddda005d63a5",
   "metadata": {},
   "outputs": [],
   "source": [
    "\n",
    " # configuración para notebook con instalación LOCAL\n",
    "FUENTES_DIR  = '../Fuentes'     # carpeta donde se encuentran archivos .py auxiliares\n",
    "DATOS_DIR    = '../Datos/'      # carpeta donde se encuentran los datasets\n",
    "MODELOS_DIR  = '../Modelos/'    # carpeta donde se encuentran los modelos\n",
    "ARCHIVOs_DIR = '../Archivos/'   # carpeta recuperar o copiar archivos\n",
    "\n",
    "# agrega ruta de busqueda donde tenemos archivos .py\n",
    "import sys\n",
    "sys.path.append(FUENTES_DIR)\n"
   ]
  },
  {
   "cell_type": "code",
   "execution_count": 18,
   "id": "79878d59-7bfc-41cf-afc4-ca8bf23b1c7d",
   "metadata": {},
   "outputs": [],
   "source": [
    "import pandas as pd\n",
    "import numpy as np\n",
    "from matplotlib import pylab as plt\n",
    "\n",
    "from sklearn import model_selection,preprocessing\n",
    "\n",
    "from ClassPerceptron import Perceptron"
   ]
  },
  {
   "cell_type": "code",
   "execution_count": 20,
   "id": "f7f2b8d9-3dfd-4681-8bb4-ba8c9834d4a0",
   "metadata": {},
   "outputs": [
    {
     "data": {
      "text/html": [
       "<div>\n",
       "<style scoped>\n",
       "    .dataframe tbody tr th:only-of-type {\n",
       "        vertical-align: middle;\n",
       "    }\n",
       "\n",
       "    .dataframe tbody tr th {\n",
       "        vertical-align: top;\n",
       "    }\n",
       "\n",
       "    .dataframe thead th {\n",
       "        text-align: right;\n",
       "    }\n",
       "</style>\n",
       "<table border=\"1\" class=\"dataframe\">\n",
       "  <thead>\n",
       "    <tr style=\"text-align: right;\">\n",
       "      <th></th>\n",
       "      <th>Area</th>\n",
       "      <th>Perimetro</th>\n",
       "      <th>Compacidad</th>\n",
       "      <th>LongNucleo</th>\n",
       "      <th>AnchoNucleo</th>\n",
       "      <th>Asimetria</th>\n",
       "      <th>LongSurco</th>\n",
       "      <th>Clase</th>\n",
       "    </tr>\n",
       "  </thead>\n",
       "  <tbody>\n",
       "    <tr>\n",
       "      <th>0</th>\n",
       "      <td>15.26</td>\n",
       "      <td>14.84</td>\n",
       "      <td>0.8710</td>\n",
       "      <td>5.763</td>\n",
       "      <td>3.312</td>\n",
       "      <td>2.221</td>\n",
       "      <td>5.220</td>\n",
       "      <td>Tipo1</td>\n",
       "    </tr>\n",
       "    <tr>\n",
       "      <th>1</th>\n",
       "      <td>14.88</td>\n",
       "      <td>14.57</td>\n",
       "      <td>0.8811</td>\n",
       "      <td>5.554</td>\n",
       "      <td>3.333</td>\n",
       "      <td>1.018</td>\n",
       "      <td>4.956</td>\n",
       "      <td>Tipo1</td>\n",
       "    </tr>\n",
       "    <tr>\n",
       "      <th>2</th>\n",
       "      <td>14.29</td>\n",
       "      <td>14.09</td>\n",
       "      <td>0.9050</td>\n",
       "      <td>5.291</td>\n",
       "      <td>3.337</td>\n",
       "      <td>2.699</td>\n",
       "      <td>4.825</td>\n",
       "      <td>Tipo1</td>\n",
       "    </tr>\n",
       "    <tr>\n",
       "      <th>3</th>\n",
       "      <td>13.84</td>\n",
       "      <td>13.94</td>\n",
       "      <td>0.8955</td>\n",
       "      <td>5.324</td>\n",
       "      <td>3.379</td>\n",
       "      <td>2.259</td>\n",
       "      <td>4.805</td>\n",
       "      <td>Tipo1</td>\n",
       "    </tr>\n",
       "    <tr>\n",
       "      <th>4</th>\n",
       "      <td>16.14</td>\n",
       "      <td>14.99</td>\n",
       "      <td>0.9034</td>\n",
       "      <td>5.658</td>\n",
       "      <td>3.562</td>\n",
       "      <td>1.355</td>\n",
       "      <td>5.175</td>\n",
       "      <td>Tipo1</td>\n",
       "    </tr>\n",
       "    <tr>\n",
       "      <th>...</th>\n",
       "      <td>...</td>\n",
       "      <td>...</td>\n",
       "      <td>...</td>\n",
       "      <td>...</td>\n",
       "      <td>...</td>\n",
       "      <td>...</td>\n",
       "      <td>...</td>\n",
       "      <td>...</td>\n",
       "    </tr>\n",
       "    <tr>\n",
       "      <th>205</th>\n",
       "      <td>12.19</td>\n",
       "      <td>13.20</td>\n",
       "      <td>0.8783</td>\n",
       "      <td>5.137</td>\n",
       "      <td>2.981</td>\n",
       "      <td>3.631</td>\n",
       "      <td>4.870</td>\n",
       "      <td>Tipo3</td>\n",
       "    </tr>\n",
       "    <tr>\n",
       "      <th>206</th>\n",
       "      <td>11.23</td>\n",
       "      <td>12.88</td>\n",
       "      <td>0.8511</td>\n",
       "      <td>5.140</td>\n",
       "      <td>2.795</td>\n",
       "      <td>4.325</td>\n",
       "      <td>5.003</td>\n",
       "      <td>Tipo3</td>\n",
       "    </tr>\n",
       "    <tr>\n",
       "      <th>207</th>\n",
       "      <td>13.20</td>\n",
       "      <td>13.66</td>\n",
       "      <td>0.8883</td>\n",
       "      <td>5.236</td>\n",
       "      <td>3.232</td>\n",
       "      <td>8.315</td>\n",
       "      <td>5.056</td>\n",
       "      <td>Tipo3</td>\n",
       "    </tr>\n",
       "    <tr>\n",
       "      <th>208</th>\n",
       "      <td>11.84</td>\n",
       "      <td>13.21</td>\n",
       "      <td>0.8521</td>\n",
       "      <td>5.175</td>\n",
       "      <td>2.836</td>\n",
       "      <td>3.598</td>\n",
       "      <td>5.044</td>\n",
       "      <td>Tipo3</td>\n",
       "    </tr>\n",
       "    <tr>\n",
       "      <th>209</th>\n",
       "      <td>12.30</td>\n",
       "      <td>13.34</td>\n",
       "      <td>0.8684</td>\n",
       "      <td>5.243</td>\n",
       "      <td>2.974</td>\n",
       "      <td>5.637</td>\n",
       "      <td>5.063</td>\n",
       "      <td>Tipo3</td>\n",
       "    </tr>\n",
       "  </tbody>\n",
       "</table>\n",
       "<p>210 rows × 8 columns</p>\n",
       "</div>"
      ],
      "text/plain": [
       "      Area  Perimetro  Compacidad  LongNucleo  AnchoNucleo  Asimetria  \\\n",
       "0    15.26      14.84      0.8710       5.763        3.312      2.221   \n",
       "1    14.88      14.57      0.8811       5.554        3.333      1.018   \n",
       "2    14.29      14.09      0.9050       5.291        3.337      2.699   \n",
       "3    13.84      13.94      0.8955       5.324        3.379      2.259   \n",
       "4    16.14      14.99      0.9034       5.658        3.562      1.355   \n",
       "..     ...        ...         ...         ...          ...        ...   \n",
       "205  12.19      13.20      0.8783       5.137        2.981      3.631   \n",
       "206  11.23      12.88      0.8511       5.140        2.795      4.325   \n",
       "207  13.20      13.66      0.8883       5.236        3.232      8.315   \n",
       "208  11.84      13.21      0.8521       5.175        2.836      3.598   \n",
       "209  12.30      13.34      0.8684       5.243        2.974      5.637   \n",
       "\n",
       "     LongSurco  Clase  \n",
       "0        5.220  Tipo1  \n",
       "1        4.956  Tipo1  \n",
       "2        4.825  Tipo1  \n",
       "3        4.805  Tipo1  \n",
       "4        5.175  Tipo1  \n",
       "..         ...    ...  \n",
       "205      4.870  Tipo3  \n",
       "206      5.003  Tipo3  \n",
       "207      5.056  Tipo3  \n",
       "208      5.044  Tipo3  \n",
       "209      5.063  Tipo3  \n",
       "\n",
       "[210 rows x 8 columns]"
      ]
     },
     "metadata": {},
     "output_type": "display_data"
    }
   ],
   "source": [
    "\n",
    "import chardet           # para detectar la codificación de texto en archivos\n",
    "\n",
    "\n",
    "nombre_archivo = DATOS_DIR + 'Semillas.csv' # archivo de semillas\n",
    "\n",
    "#-- detectando la codificación de caracteres usada ----\n",
    "with open(nombre_archivo, 'rb') as f:\n",
    "    result = chardet.detect(f.read())  # or readline if the file is large\n",
    "\n",
    "# recupera el archivo en un objeto dataframe de pandas utilizando la codificación detectada\n",
    "df = pd.read_csv(nombre_archivo, encoding=result['encoding'])\n",
    "\n",
    "# visualiza el dataframe\n",
    "# print(df)\n",
    "display(df)"
   ]
  },
  {
   "cell_type": "markdown",
   "id": "935e0073-29a3-421c-9ea7-d6d5923ebdc6",
   "metadata": {},
   "source": [
    "### Normalizacion usando media y desvio"
   ]
  },
  {
   "cell_type": "code",
   "execution_count": 23,
   "id": "ac780ca5-d8be-40c8-b0f2-ac7ae253d43f",
   "metadata": {},
   "outputs": [
    {
     "name": "stdout",
     "output_type": "stream",
     "text": [
      "         Area  Perimetro  Compacidad  LongNucleo  AnchoNucleo  Asimetria  \\\n",
      "0    0.141759   0.214949    0.000060    0.303493     0.141364  -0.983801   \n",
      "1    0.011161   0.008204    0.427494   -0.168223     0.196962  -1.783904   \n",
      "2   -0.191609  -0.359342    1.438945   -0.761817     0.207552  -0.665888   \n",
      "3   -0.346264  -0.474200    1.036904   -0.687336     0.318747  -0.958528   \n",
      "4    0.444196   0.329807    1.371233    0.066507     0.803240  -1.559768   \n",
      "..        ...        ...         ...         ...          ...        ...   \n",
      "205 -0.913333  -1.040834    0.308997   -1.109397    -0.734959  -0.046025   \n",
      "206 -1.243264  -1.285864   -0.842110   -1.102626    -1.227395   0.415547   \n",
      "207 -0.566218  -0.688602    0.732199   -0.885953    -0.070436   3.069254   \n",
      "208 -1.033620  -1.033176   -0.799790   -1.023631    -1.118847  -0.067973   \n",
      "209 -0.875528  -0.933633   -0.109972   -0.870154    -0.753492   1.288145   \n",
      "\n",
      "     LongSurco  Clase  \n",
      "0    -0.382663  Tipo1  \n",
      "1    -0.919816  Tipo1  \n",
      "2    -1.186357  Tipo1  \n",
      "3    -1.227051  Tipo1  \n",
      "4    -0.474223  Tipo1  \n",
      "..         ...    ...  \n",
      "205  -1.094797  Tipo3  \n",
      "206  -0.824186  Tipo3  \n",
      "207  -0.716349  Tipo3  \n",
      "208  -0.740765  Tipo3  \n",
      "209  -0.702106  Tipo3  \n",
      "\n",
      "[210 rows x 8 columns]\n"
     ]
    }
   ],
   "source": [
    "# -- Columna Area --\n",
    "media = df['Area'].mean()\n",
    "desvio = df['Area'].std()\n",
    "df['Area']= (df['Area']-media)/desvio\n",
    "\n",
    "# -- Columna Perimetro --\n",
    "media = df['Perimetro'].mean()\n",
    "desvio = df['Perimetro'].std()\n",
    "df['Perimetro']= (df['Perimetro']-media)/desvio\n",
    "\n",
    "# -- Columna Compacidad --\n",
    "media = df['Compacidad'].mean()\n",
    "desvio = df['Compacidad'].std()\n",
    "df['Compacidad']= (df['Compacidad']-media)/desvio\n",
    "\n",
    "# -- Columna LongNucleo --\n",
    "media = df['LongNucleo'].mean()\n",
    "desvio = df['LongNucleo'].std()\n",
    "df['LongNucleo']= (df['LongNucleo']-media)/desvio\n",
    "\n",
    "# -- Columna Asimetria --\n",
    "media = df['Asimetria'].mean()\n",
    "desvio = df['Asimetria'].std()\n",
    "df['Asimetria']= (df['Asimetria']-media)/desvio\n",
    "\n",
    "# -- Columna AnchoNucleo --\n",
    "media = df['AnchoNucleo'].mean()\n",
    "desvio = df['AnchoNucleo'].std()\n",
    "df['AnchoNucleo']= (df['AnchoNucleo']-media)/desvio\n",
    "\n",
    "# -- Columna LongSurco --\n",
    "media = df['LongSurco'].mean()\n",
    "desvio = df['LongSurco'].std()\n",
    "df['LongSurco']= (df['LongSurco']-media)/desvio\n",
    "\n",
    "print(df)\n",
    "\n",
    "#round(df[['Age', 'AgeLineal', 'AgeNorm']].describe(),4)"
   ]
  },
  {
   "cell_type": "markdown",
   "id": "ee0ab3ee-137f-469d-84cc-19830983b377",
   "metadata": {},
   "source": [
    "## Entrenamiento"
   ]
  },
  {
   "cell_type": "code",
   "execution_count": 26,
   "id": "50067892-be69-4253-bf45-520e39c3c0c4",
   "metadata": {},
   "outputs": [],
   "source": [
    "#--- DATOS DE ENTRENAMIENTO ---\n",
    "X = np.array(df.iloc[:,:-1])   # X contiene todas las columnas menos la columna 'Clase' --> variables de entrada\n",
    "T = np.array((df['Clase'] == 'Tipo2') * 1)  # T es la variable objetivo que se intenta predecir. se está transformando la columna Clase en un array \n",
    "                                           # binario donde 1 indica que el tipo de semilla es Tipo2 y 0 indica que es cualquier otro tipo. \n",
    "                                           # Esto se hace para poder predecir si la semilla es de Tipo2 o no.\n",
    "nColum = ['Otra', 'tipo2']\n",
    "\n",
    "#--- CONJUNTOS DE ENTRENAMIENTO Y TESTEO ---\n",
    "X_train, X_test, T_train, T_test = model_selection.train_test_split(     #Se dividen los datos en conjuntos de entrenamiento y testeo.\n",
    "        X, T, test_size=0.30, random_state=42)                           #El 30% de los datos se reserva para testear el modelo, mientras que el 70% restante se usa para entrenar.\n",
    "\n",
    "#normalizarEntrada = 1  # 1 si normaliza; 0 si no                   #se normalizan los datos\n",
    "#if normalizarEntrada:\n",
    "    #--- Normalización lineal entre 0 y 1 ---\n",
    " #   normalizador = preprocessing.MinMaxScaler()\n",
    "\n",
    "    # Normaliza utilizando la media y el desvio\n",
    "    # normalizador= preprocessing.StandardScaler()\n",
    "    \n",
    "   # X_train = normalizador.fit_transform(X_train)\n",
    "   # X_test  = normalizador.transform(X_test)"
   ]
  },
  {
   "cell_type": "code",
   "execution_count": 28,
   "id": "7a05f95b-85d2-4505-858d-2417c654afc9",
   "metadata": {},
   "outputs": [
    {
     "data": {
      "image/png": "[encoded data removed]",
      "text/plain": [
       "<Figure size 640x480 with 1 Axes>"
      ]
     },
     "metadata": {},
     "output_type": "display_data"
    }
   ],
   "source": [
    "ppn = Perceptron(alpha=0.05, n_iter=200, random_state=None)\n",
    "# alpha=0.01 --> tasa de aprendizaje\n",
    "# n_iter=65 --> es cuántas veces el algoritmo pasa por todo el conjunto de entrenamiento para ajustar los pesos\n",
    "# random_state=None --> Esto controla la inicialización aleatoria del modelo. Si es None, la inicialización será diferente cada vez que corras el script.\n",
    "\n",
    "ppn.fit(X_train, T_train) #  Esta línea entrena el perceptrón utilizando los datos de entrenamiento (X_train) y las etiquetas (T_train).   \n",
    "                          # Durante este proceso, el perceptrón ajusta sus pesos para minimizar los errores en la predicción.\n",
    "\n",
    "plt.plot(range(1, len(ppn.errors_) + 1), ppn.errors_, marker='o')\n",
    "plt.xlabel('Iteraciones')\n",
    "plt.ylabel('Cantidad de actualizaciones')\n",
    "plt.show()\n",
    "\n",
    "# ppn.errors_: Durante el entrenamiento, el perceptrón guarda en esta lista la cantidad de errores de clasificación o actualizaciones de pesos que ocurrieron en cada iteración.\n",
    "# plt.plot(...): Esta línea genera un gráfico de la cantidad de errores en función del número de iteraciones.\n",
    "#Idealmente, deberías ver que la cantidad de errores disminuye a medida que el modelo aprende, lo que indicaría que el perceptrón está convergiendo hacia una solución óptima."
   ]
  },
  {
   "cell_type": "code",
   "execution_count": 30,
   "id": "22aad648-2a7a-41cc-9bb5-1161e79dc4af",
   "metadata": {},
   "outputs": [
    {
     "name": "stdout",
     "output_type": "stream",
     "text": [
      "aciertos =  62\n",
      "% de aciertos = 98.41 %\n"
     ]
    }
   ],
   "source": [
    "Y_test = ppn.predict(X_test)\n",
    "\n",
    "aciertos = sum(Y_test == T_test)\n",
    "print(\"aciertos = \", aciertos)\n",
    "\n",
    "nAciertos = sum(Y_test == T_test)\n",
    "print(\"%% de aciertos = %.2f %%\" % (100*nAciertos/X_test.shape[0]))\n"
   ]
  },
  {
   "cell_type": "markdown",
   "id": "0c8d91c8-d530-44d7-a1a7-68ae6fb094e4",
   "metadata": {},
   "source": [
    "### Conclusion: el tipo de clase de semilla que el perceptron predice con una precision mas cercana al 100% es el tipo 2"
   ]
  },
  {
   "cell_type": "markdown",
   "id": "956e2631-99bd-453d-b217-aa6e362a0cfe",
   "metadata": {},
   "source": [
    "### con una precision del 98.41 %"
   ]
  },
  {
   "cell_type": "markdown",
   "id": "9984ced5-ca4a-4919-b6e3-4a89f697a403",
   "metadata": {},
   "source": [
    "### Que el preceptron pueda predecir con casi 100% de precision a un solo tipo de semilla, significa que este tipo tiene características que lo hacen linealmente separable de las otras semillas, entonces el perceptrón podría encontrar una solución perfecta para ese caso."
   ]
  },
  {
   "cell_type": "markdown",
   "id": "bd682362-ccee-4797-b086-8e4daa2de23b",
   "metadata": {},
   "source": [
    "# ---- cuestionario"
   ]
  },
  {
   "cell_type": "markdown",
   "id": "96a8d1aa-e676-4d50-922a-6e73534adf63",
   "metadata": {},
   "source": [
    "### analizar si eliminando columnas area y perimetro, el perceptron obtiene el mismo resultado de entrenamiento"
   ]
  },
  {
   "cell_type": "code",
   "execution_count": 36,
   "id": "f3f8d74b-acda-43ec-87eb-9a14bb023ac0",
   "metadata": {},
   "outputs": [],
   "source": [
    "# elimino columnas AREA y PERIMETRO"
   ]
  },
  {
   "cell_type": "code",
   "execution_count": 40,
   "id": "5594bd34-41d9-40e9-a493-fda8dae44cfb",
   "metadata": {},
   "outputs": [
    {
     "name": "stdout",
     "output_type": "stream",
     "text": [
      "     Compacidad  LongNucleo  AnchoNucleo  Asimetria  LongSurco  Clase\n",
      "0      0.000060    0.303493     0.141364  -0.983801  -0.382663  Tipo1\n",
      "1      0.427494   -0.168223     0.196962  -1.783904  -0.919816  Tipo1\n",
      "2      1.438945   -0.761817     0.207552  -0.665888  -1.186357  Tipo1\n",
      "3      1.036904   -0.687336     0.318747  -0.958528  -1.227051  Tipo1\n",
      "4      1.371233    0.066507     0.803240  -1.559768  -0.474223  Tipo1\n",
      "..          ...         ...          ...        ...        ...    ...\n",
      "205    0.308997   -1.109397    -0.734959  -0.046025  -1.094797  Tipo3\n",
      "206   -0.842110   -1.102626    -1.227395   0.415547  -0.824186  Tipo3\n",
      "207    0.732199   -0.885953    -0.070436   3.069254  -0.716349  Tipo3\n",
      "208   -0.799790   -1.023631    -1.118847  -0.067973  -0.740765  Tipo3\n",
      "209   -0.109972   -0.870154    -0.753492   1.288145  -0.702106  Tipo3\n",
      "\n",
      "[210 rows x 6 columns]\n"
     ]
    }
   ],
   "source": [
    "df = df.drop(columns=['Area'] )\n",
    "df = df.drop(columns=['Perimetro'] )\n",
    "print(df)\n"
   ]
  },
  {
   "cell_type": "markdown",
   "id": "2702ca03-8fe2-4ae8-a238-4360dc1c5bbc",
   "metadata": {},
   "source": [
    "## Entrenamiento"
   ]
  },
  {
   "cell_type": "code",
   "execution_count": 44,
   "id": "0ac60f03-ceea-43b4-9847-325b8d199a68",
   "metadata": {},
   "outputs": [],
   "source": [
    "#--- DATOS DE ENTRENAMIENTO ---\n",
    "X = np.array(df.iloc[:,:-1])   # X contiene todas las columnas menos la columna 'Clase' --> variables de entrada\n",
    "T = np.array((df['Clase'] == 'Tipo2') * 1)  # T es la variable objetivo que se intenta predecir. se está transformando la columna Clase en un array \n",
    "                                           # binario donde 1 indica que el tipo de semilla es Tipo2 y 0 indica que es cualquier otro tipo. \n",
    "                                           # Esto se hace para poder predecir si la semilla es de Tipo2 o no.\n",
    "nColum = ['Otra', 'tipo2']\n",
    "\n",
    "#--- CONJUNTOS DE ENTRENAMIENTO Y TESTEO ---\n",
    "X_train, X_test, T_train, T_test = model_selection.train_test_split(     #Se dividen los datos en conjuntos de entrenamiento y testeo.\n",
    "        X, T, test_size=0.30, random_state=42)                           #El 30% de los datos se reserva para testear el modelo, mientras que el 70% restante se usa para entrenar.\n",
    "\n",
    "#normalizarEntrada = 1  # 1 si normaliza; 0 si no                   #se normalizan los datos\n",
    "#if normalizarEntrada:\n",
    "    #--- Normalización lineal entre 0 y 1 ---\n",
    " #   normalizador = preprocessing.MinMaxScaler()\n",
    "\n",
    "    # Normaliza utilizando la media y el desvio\n",
    "    # normalizador= preprocessing.StandardScaler()\n",
    "    \n",
    "   # X_train = normalizador.fit_transform(X_train)\n",
    "   # X_test  = normalizador.transform(X_test)"
   ]
  },
  {
   "cell_type": "code",
   "execution_count": 46,
   "id": "064a509e-e4f6-4e22-bf9b-4b48dc1411d5",
   "metadata": {},
   "outputs": [
    {
     "data": {
      "image/png": "[encoded data removed]",
      "text/plain": [
       "<Figure size 640x480 with 1 Axes>"
      ]
     },
     "metadata": {},
     "output_type": "display_data"
    }
   ],
   "source": [
    "ppn = Perceptron(alpha=0.05, n_iter=200, random_state=None)\n",
    "# alpha=0.01 --> tasa de aprendizaje\n",
    "# n_iter=65 --> es cuántas veces el algoritmo pasa por todo el conjunto de entrenamiento para ajustar los pesos\n",
    "# random_state=None --> Esto controla la inicialización aleatoria del modelo. Si es None, la inicialización será diferente cada vez que corras el script.\n",
    "\n",
    "ppn.fit(X_train, T_train) #  Esta línea entrena el perceptrón utilizando los datos de entrenamiento (X_train) y las etiquetas (T_train).   \n",
    "                          # Durante este proceso, el perceptrón ajusta sus pesos para minimizar los errores en la predicción.\n",
    "\n",
    "plt.plot(range(1, len(ppn.errors_) + 1), ppn.errors_, marker='o')\n",
    "plt.xlabel('Iteraciones')\n",
    "plt.ylabel('Cantidad de actualizaciones')\n",
    "plt.show()\n",
    "\n",
    "# ppn.errors_: Durante el entrenamiento, el perceptrón guarda en esta lista la cantidad de errores de clasificación o actualizaciones de pesos que ocurrieron en cada iteración.\n",
    "# plt.plot(...): Esta línea genera un gráfico de la cantidad de errores en función del número de iteraciones.\n",
    "#Idealmente, deberías ver que la cantidad de errores disminuye a medida que el modelo aprende, lo que indicaría que el perceptrón está convergiendo hacia una solución óptima."
   ]
  },
  {
   "cell_type": "code",
   "execution_count": 48,
   "id": "57fef34c-66fe-443f-9ff6-846abb5b4539",
   "metadata": {},
   "outputs": [
    {
     "name": "stdout",
     "output_type": "stream",
     "text": [
      "aciertos =  61\n",
      "% de aciertos = 96.83 %\n"
     ]
    }
   ],
   "source": [
    "Y_test = ppn.predict(X_test)\n",
    "\n",
    "aciertos = sum(Y_test == T_test)\n",
    "print(\"aciertos = \", aciertos)\n",
    "\n",
    "nAciertos = sum(Y_test == T_test)\n",
    "print(\"%% de aciertos = %.2f %%\" % (100*nAciertos/X_test.shape[0]))\n"
   ]
  },
  {
   "cell_type": "code",
   "execution_count": null,
   "id": "d109cdea-bfb8-4eff-ad26-55863ab4109b",
   "metadata": {},
   "outputs": [],
   "source": []
  }
 ],
 "metadata": {
  "kernelspec": {
   "display_name": "Python 3 (ipykernel)",
   "language": "python",
   "name": "python3"
  },
  "language_info": {
   "codemirror_mode": {
    "name": "ipython",
    "version": 3
   },
   "file_extension": ".py",
   "mimetype": "text/x-python",
   "name": "python",
   "nbconvert_exporter": "python",
   "pygments_lexer": "ipython3",
   "version": "3.12.4"
  }
 },
 "nbformat": 4,
 "nbformat_minor": 5
}
