{
 "cells": [
  {
   "cell_type": "code",
   "execution_count": 1,
   "id": "80a37258",
   "metadata": {},
   "outputs": [],
   "source": [
    "ColabNotebook = 'google.colab' in str(get_ipython())\n",
    "\n",
    "if ColabNotebook:\n",
    "    # monta G-drive en entorno COLAB\n",
    "    from google.colab import drive\n",
    "    drive.mount('/content/drive/')\n",
    "\n",
    "    # carpeta donde se encuentran archivos .py auxiliares\n",
    "    FUENTES_DIR = '/content/drive/MyDrive/Colab Notebooks/FUENTES/'\n",
    "    DATOS_DIR = '/content/drive/MyDrive/Colab Notebooks/DATOS/'      # carpeta donde se encuentran los datasets\n",
    "else:\n",
    "    # configuración para notebook con instalación LOCAL\n",
    "    FUENTES_DIR = '../Fuentes'         # carpeta donde se encuentran archivos .py auxiliares\n",
    "    DATOS_DIR   = '../Datos/' # carpeta donde se encuentran los datasets\n",
    "\n",
    "# agrega ruta de busqueda donde tenemos archivos .py\n",
    "import sys\n",
    "sys.path.append(FUENTES_DIR)"
   ]
  },
  {
   "cell_type": "code",
   "execution_count": 7,
   "id": "f3fbf3c3",
   "metadata": {},
   "outputs": [
    {
     "ename": "ModuleNotFoundError",
     "evalue": "No module named 'grafica'",
     "output_type": "error",
     "traceback": [
      "\u001b[1;31m---------------------------------------------------------------------------\u001b[0m",
      "\u001b[1;31mModuleNotFoundError\u001b[0m                       Traceback (most recent call last)",
      "Cell \u001b[1;32mIn[7], line 8\u001b[0m\n\u001b[0;32m      5\u001b[0m \u001b[38;5;28;01mfrom\u001b[39;00m \u001b[38;5;21;01mmatplotlib\u001b[39;00m \u001b[38;5;28;01mimport\u001b[39;00m pylab \u001b[38;5;28;01mas\u001b[39;00m plt\n\u001b[0;32m      6\u001b[0m \u001b[38;5;28;01mfrom\u001b[39;00m \u001b[38;5;21;01mIPython\u001b[39;00m \u001b[38;5;28;01mimport\u001b[39;00m display\n\u001b[1;32m----> 8\u001b[0m \u001b[38;5;28;01mfrom\u001b[39;00m \u001b[38;5;21;01mgrafica\u001b[39;00m \u001b[38;5;28;01mimport\u001b[39;00m \u001b[38;5;241m*\u001b[39m\n\u001b[0;32m      9\u001b[0m \u001b[38;5;66;03m# Ajustar el tamaño predeterminado de las figuras\u001b[39;00m\n\u001b[0;32m     10\u001b[0m plt\u001b[38;5;241m.\u001b[39mrcParams[\u001b[38;5;124m'\u001b[39m\u001b[38;5;124mfigure.figsize\u001b[39m\u001b[38;5;124m'\u001b[39m] \u001b[38;5;241m=\u001b[39m [\u001b[38;5;241m4\u001b[39m,\u001b[38;5;241m3\u001b[39m]\n",
      "\u001b[1;31mModuleNotFoundError\u001b[0m: No module named 'grafica'"
     ]
    }
   ],
   "source": [
    "%matplotlib inline\n",
    "import numpy as np\n",
    "import time\n",
    "#from matplotlib import pyplot as plt\n",
    "from matplotlib import pylab as plt\n",
    "from IPython import display\n",
    "\n",
    "from grafica import *\n",
    "# Ajustar el tamaño predeterminado de las figuras\n",
    "plt.rcParams['figure.figsize'] = [4,3]"
   ]
  },
  {
   "cell_type": "code",
   "execution_count": 9,
   "id": "b6b4b05f",
   "metadata": {},
   "outputs": [],
   "source": [
    "# Ejemplos de entrada de la función AND\n",
    "X = np.array([[0,0], [0,1],[1,0],[1,1]])\n",
    "\n",
    "#-- Respuesta esperada para cada ejemplo\n",
    "T = np.array([0,0,0,1])"
   ]
  },
  {
   "cell_type": "code",
   "execution_count": 11,
   "id": "5414ca49",
   "metadata": {},
   "outputs": [
    {
     "name": "stdout",
     "output_type": "stream",
     "text": [
      "W =  [-1.  1.]\n",
      "b =  0.2\n"
     ]
    },
    {
     "ename": "NameError",
     "evalue": "name 'dibuPtosRecta' is not defined",
     "output_type": "error",
     "traceback": [
      "\u001b[1;31m---------------------------------------------------------------------------\u001b[0m",
      "\u001b[1;31mNameError\u001b[0m                                 Traceback (most recent call last)",
      "Cell \u001b[1;32mIn[11], line 8\u001b[0m\n\u001b[0;32m      5\u001b[0m \u001b[38;5;28mprint\u001b[39m(\u001b[38;5;124m\"\u001b[39m\u001b[38;5;124mW = \u001b[39m\u001b[38;5;124m\"\u001b[39m, W)\n\u001b[0;32m      6\u001b[0m \u001b[38;5;28mprint\u001b[39m(\u001b[38;5;124m\"\u001b[39m\u001b[38;5;124mb = \u001b[39m\u001b[38;5;124m\"\u001b[39m, b)\n\u001b[1;32m----> 8\u001b[0m dibuPtosRecta(X,T, W, b)\n",
      "\u001b[1;31mNameError\u001b[0m: name 'dibuPtosRecta' is not defined"
     ]
    }
   ],
   "source": [
    "# -- PESOS INICIALES - Determinan la ubicación de la recta\n",
    "W = np.array([-1.0, 1.0])\n",
    "b = 0.2\n",
    "\n",
    "print(\"W = \", W)\n",
    "print(\"b = \", b)\n",
    "\n",
    "dibuPtosRecta(X,T, W, b)"
   ]
  },
  {
   "cell_type": "code",
   "execution_count": 13,
   "id": "4626dfc3",
   "metadata": {},
   "outputs": [
    {
     "ename": "NameError",
     "evalue": "name 'dibuPtosRecta' is not defined",
     "output_type": "error",
     "traceback": [
      "\u001b[1;31m---------------------------------------------------------------------------\u001b[0m",
      "\u001b[1;31mNameError\u001b[0m                                 Traceback (most recent call last)",
      "Cell \u001b[1;32mIn[13], line 40\u001b[0m\n\u001b[0;32m     38\u001b[0m errores\u001b[38;5;241m.\u001b[39mappend(N_errores)\n\u001b[0;32m     39\u001b[0m \u001b[38;5;66;03m# graficar la recta\u001b[39;00m\n\u001b[1;32m---> 40\u001b[0m ph \u001b[38;5;241m=\u001b[39m dibuPtosRecta(X,T, W, b, titulos, ph)\n\u001b[0;32m     42\u001b[0m ite \u001b[38;5;241m=\u001b[39m ite \u001b[38;5;241m+\u001b[39m \u001b[38;5;241m1\u001b[39m\n\u001b[0;32m     43\u001b[0m \u001b[38;5;28mprint\u001b[39m(\u001b[38;5;124m\"\u001b[39m\u001b[38;5;124mite \u001b[39m\u001b[38;5;132;01m%d\u001b[39;00m\u001b[38;5;124m\"\u001b[39m \u001b[38;5;241m%\u001b[39m ite)\n",
      "\u001b[1;31mNameError\u001b[0m: name 'dibuPtosRecta' is not defined"
     ]
    }
   ],
   "source": [
    "# --- titulos y ph se utilizan sólo para dibujar ---\n",
    "titulos = ['X1', 'X2']\n",
    "ph=0\n",
    "\n",
    "#--- parámetros del PERCEPTRON ---\n",
    "MAX_ITE = 100\n",
    "alfa = 0.1\n",
    "\n",
    "#--- Los pesos iniciales son aleatorios\n",
    "W = np.array(np.random.uniform(-0.5, 0.5, size=2))\n",
    "b = np.random.uniform(-0.5, 0.5)\n",
    "\n",
    "#--- al finalizar ERRORES debe contener la cantidad de cambios realizados en c/iteración ---\n",
    "errores = []\n",
    "\n",
    "# --- Entrenamiento del PERCEPTRON ---\n",
    "nCantEjemplos = X.shape[0]  # nro. de filas\n",
    "nAtrib = X.shape[1]         #nro. de columnas\n",
    "\n",
    "ite = 0\n",
    "N_errores = 1\n",
    "\n",
    "while (ite < MAX_ITE) and (N_errores>0):\n",
    "    N_errores = 0\n",
    "    for e in range(nCantEjemplos):\n",
    "        # Calcular y  (la salida del perceptron)\n",
    "        neta = W[0]*X[e,0] + W[1]*X[e,1] + b\n",
    "        \n",
    "        y = (neta>0)*1\n",
    "\n",
    "        # Si no es correcta, corregir  W y b\n",
    "        if (T[e]!=y):\n",
    "            N_errores = N_errores + 1\n",
    "            W[0]= W[0]+ alfa*(T[e]-y)*X[e,0]\n",
    "            W[1]= W[1]+ alfa*(T[e]-y)*X[e,1]\n",
    "            b= b + alfa*(T[e]-y)\n",
    "    \n",
    "    errores.append(N_errores)\n",
    "    # graficar la recta\n",
    "    ph = dibuPtosRecta(X,T, W, b, titulos, ph)\n",
    "      \n",
    "    ite = ite + 1\n",
    "    print(\"ite %d\" % ite)"
   ]
  },
  {
   "cell_type": "code",
   "execution_count": 15,
   "id": "93a5e363",
   "metadata": {},
   "outputs": [
    {
     "name": "stdout",
     "output_type": "stream",
     "text": [
      "W =  [0.28441649 0.30641048]\n",
      "b =  0.18217572027668757\n"
     ]
    }
   ],
   "source": [
    "print(\"W = \", W)\n",
    "print(\"b = \", b)"
   ]
  },
  {
   "cell_type": "code",
   "execution_count": 17,
   "id": "afa0029f",
   "metadata": {},
   "outputs": [
    {
     "data": {
      "image/png": "[encoded data removed]",
      "text/plain": [
       "<Figure size 640x480 with 1 Axes>"
      ]
     },
     "metadata": {},
     "output_type": "display_data"
    }
   ],
   "source": [
    "plt.plot(range(1, len(errores) + 1), errores, marker='o')\n",
    "plt.xlabel('Iteraciones')\n",
    "plt.ylabel('Cantidad de actualizaciones')\n",
    "plt.show()"
   ]
  },
  {
   "cell_type": "code",
   "execution_count": null,
   "id": "0d730ec1",
   "metadata": {},
   "outputs": [],
   "source": []
  },
  {
   "cell_type": "code",
   "execution_count": null,
   "id": "6c911f35-d541-4eb4-bec4-0b572566a1e9",
   "metadata": {},
   "outputs": [],
   "source": []
  },
  {
   "cell_type": "code",
   "execution_count": null,
   "id": "c63632b9-be20-411e-bfc5-184dddca977d",
   "metadata": {},
   "outputs": [],
   "source": []
  }
 ],
 "metadata": {
  "kernelspec": {
   "display_name": "Python 3 (ipykernel)",
   "language": "python",
   "name": "python3"
  },
  "language_info": {
   "codemirror_mode": {
    "name": "ipython",
    "version": 3
   },
   "file_extension": ".py",
   "mimetype": "text/x-python",
   "name": "python",
   "nbconvert_exporter": "python",
   "pygments_lexer": "ipython3",
   "version": "3.12.4"
  }
 },
 "nbformat": 4,
 "nbformat_minor": 5
}
