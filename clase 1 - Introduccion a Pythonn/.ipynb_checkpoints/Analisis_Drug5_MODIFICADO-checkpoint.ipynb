{
 "cells": [
  {
   "cell_type": "code",
   "execution_count": 18,
   "id": "bf1478de",
   "metadata": {},
   "outputs": [],
   "source": [
    "\n",
    "   # DATOS_DIR   = 'd:\\\\Users\\\\W10\\\\Documents\\\\Ingenieria UNLP\\\\DEEP LEARNING\\\\datos' # carpeta LOCAL donde se encuentran los datasets\n"
   ]
  },
  {
   "cell_type": "markdown",
   "id": "70cfae07",
   "metadata": {},
   "source": [
    "Importamos las librerías y abrimos el archivo"
   ]
  },
  {
   "cell_type": "code",
   "execution_count": 26,
   "id": "c6130439",
   "metadata": {},
   "outputs": [],
   "source": [
    "import pandas as pd\n",
    "import numpy as np\n",
    "import matplotlib.pyplot as plt\n",
    "\n",
    "datos = pd.read_csv(r'd:\\Users\\W10\\Documents\\Ingenieria UNLP\\DEEP LEARNING\\datos\\Drug5.csv')\n",
    "#datos = pd.read_csv(DATOS_DIR + 'Drug5_atipicos.csv')"
   ]
  },
  {
   "cell_type": "markdown",
   "id": "ffae2ae5",
   "metadata": {},
   "source": [
    "Accediendo a los datos"
   ]
  },
  {
   "cell_type": "code",
   "execution_count": 29,
   "id": "6a351d38",
   "metadata": {},
   "outputs": [
    {
     "name": "stdout",
     "output_type": "stream",
     "text": [
      "Age              int64\n",
      "Sex             object\n",
      "BP              object\n",
      "Cholesterol     object\n",
      "Na             float64\n",
      "K              float64\n",
      "Drug            object\n",
      "dtype: object\n",
      "\n",
      "\n"
     ]
    }
   ],
   "source": [
    "# dtypes visualiza los tipos de datos del DataFrame\n",
    "print(datos.dtypes)\n",
    "print('\\n')"
   ]
  },
  {
   "cell_type": "code",
   "execution_count": 31,
   "id": "44ef7d28",
   "metadata": {},
   "outputs": [
    {
     "data": {
      "text/html": [
       "<div>\n",
       "<style scoped>\n",
       "    .dataframe tbody tr th:only-of-type {\n",
       "        vertical-align: middle;\n",
       "    }\n",
       "\n",
       "    .dataframe tbody tr th {\n",
       "        vertical-align: top;\n",
       "    }\n",
       "\n",
       "    .dataframe thead th {\n",
       "        text-align: right;\n",
       "    }\n",
       "</style>\n",
       "<table border=\"1\" class=\"dataframe\">\n",
       "  <thead>\n",
       "    <tr style=\"text-align: right;\">\n",
       "      <th></th>\n",
       "      <th>Age</th>\n",
       "      <th>Sex</th>\n",
       "      <th>BP</th>\n",
       "      <th>Cholesterol</th>\n",
       "      <th>Na</th>\n",
       "      <th>K</th>\n",
       "      <th>Drug</th>\n",
       "    </tr>\n",
       "  </thead>\n",
       "  <tbody>\n",
       "    <tr>\n",
       "      <th>0</th>\n",
       "      <td>23</td>\n",
       "      <td>F</td>\n",
       "      <td>HIGH</td>\n",
       "      <td>HIGH</td>\n",
       "      <td>0.792535</td>\n",
       "      <td>0.031258</td>\n",
       "      <td>drugY</td>\n",
       "    </tr>\n",
       "    <tr>\n",
       "      <th>1</th>\n",
       "      <td>47</td>\n",
       "      <td>M</td>\n",
       "      <td>LOW</td>\n",
       "      <td>HIGH</td>\n",
       "      <td>0.739309</td>\n",
       "      <td>0.056468</td>\n",
       "      <td>drugC</td>\n",
       "    </tr>\n",
       "    <tr>\n",
       "      <th>2</th>\n",
       "      <td>47</td>\n",
       "      <td>M</td>\n",
       "      <td>LOW</td>\n",
       "      <td>HIGH</td>\n",
       "      <td>0.697269</td>\n",
       "      <td>0.068944</td>\n",
       "      <td>drugC</td>\n",
       "    </tr>\n",
       "    <tr>\n",
       "      <th>3</th>\n",
       "      <td>28</td>\n",
       "      <td>F</td>\n",
       "      <td>NORMAL</td>\n",
       "      <td>HIGH</td>\n",
       "      <td>0.563682</td>\n",
       "      <td>0.072289</td>\n",
       "      <td>drugX</td>\n",
       "    </tr>\n",
       "    <tr>\n",
       "      <th>4</th>\n",
       "      <td>61</td>\n",
       "      <td>F</td>\n",
       "      <td>LOW</td>\n",
       "      <td>HIGH</td>\n",
       "      <td>0.559294</td>\n",
       "      <td>0.030998</td>\n",
       "      <td>drugY</td>\n",
       "    </tr>\n",
       "  </tbody>\n",
       "</table>\n",
       "</div>"
      ],
      "text/plain": [
       "   Age Sex      BP Cholesterol        Na         K   Drug\n",
       "0   23   F    HIGH        HIGH  0.792535  0.031258  drugY\n",
       "1   47   M     LOW        HIGH  0.739309  0.056468  drugC\n",
       "2   47   M     LOW        HIGH  0.697269  0.068944  drugC\n",
       "3   28   F  NORMAL        HIGH  0.563682  0.072289  drugX\n",
       "4   61   F     LOW        HIGH  0.559294  0.030998  drugY"
      ]
     },
     "execution_count": 31,
     "metadata": {},
     "output_type": "execute_result"
    }
   ],
   "source": [
    "# Primeras 5 filas del dataframe\n",
    "datos.head()"
   ]
  },
  {
   "cell_type": "code",
   "execution_count": 33,
   "id": "b191b955",
   "metadata": {},
   "outputs": [
    {
     "data": {
      "text/html": [
       "<div>\n",
       "<style scoped>\n",
       "    .dataframe tbody tr th:only-of-type {\n",
       "        vertical-align: middle;\n",
       "    }\n",
       "\n",
       "    .dataframe tbody tr th {\n",
       "        vertical-align: top;\n",
       "    }\n",
       "\n",
       "    .dataframe thead th {\n",
       "        text-align: right;\n",
       "    }\n",
       "</style>\n",
       "<table border=\"1\" class=\"dataframe\">\n",
       "  <thead>\n",
       "    <tr style=\"text-align: right;\">\n",
       "      <th></th>\n",
       "      <th>Age</th>\n",
       "      <th>Sex</th>\n",
       "      <th>BP</th>\n",
       "      <th>Cholesterol</th>\n",
       "      <th>Na</th>\n",
       "      <th>K</th>\n",
       "      <th>Drug</th>\n",
       "    </tr>\n",
       "  </thead>\n",
       "  <tbody>\n",
       "    <tr>\n",
       "      <th>0</th>\n",
       "      <td>23</td>\n",
       "      <td>F</td>\n",
       "      <td>HIGH</td>\n",
       "      <td>HIGH</td>\n",
       "      <td>0.792535</td>\n",
       "      <td>0.031258</td>\n",
       "      <td>drugY</td>\n",
       "    </tr>\n",
       "    <tr>\n",
       "      <th>1</th>\n",
       "      <td>47</td>\n",
       "      <td>M</td>\n",
       "      <td>LOW</td>\n",
       "      <td>HIGH</td>\n",
       "      <td>0.739309</td>\n",
       "      <td>0.056468</td>\n",
       "      <td>drugC</td>\n",
       "    </tr>\n",
       "    <tr>\n",
       "      <th>2</th>\n",
       "      <td>47</td>\n",
       "      <td>M</td>\n",
       "      <td>LOW</td>\n",
       "      <td>HIGH</td>\n",
       "      <td>0.697269</td>\n",
       "      <td>0.068944</td>\n",
       "      <td>drugC</td>\n",
       "    </tr>\n",
       "    <tr>\n",
       "      <th>3</th>\n",
       "      <td>28</td>\n",
       "      <td>F</td>\n",
       "      <td>NORMAL</td>\n",
       "      <td>HIGH</td>\n",
       "      <td>0.563682</td>\n",
       "      <td>0.072289</td>\n",
       "      <td>drugX</td>\n",
       "    </tr>\n",
       "    <tr>\n",
       "      <th>4</th>\n",
       "      <td>61</td>\n",
       "      <td>F</td>\n",
       "      <td>LOW</td>\n",
       "      <td>HIGH</td>\n",
       "      <td>0.559294</td>\n",
       "      <td>0.030998</td>\n",
       "      <td>drugY</td>\n",
       "    </tr>\n",
       "    <tr>\n",
       "      <th>...</th>\n",
       "      <td>...</td>\n",
       "      <td>...</td>\n",
       "      <td>...</td>\n",
       "      <td>...</td>\n",
       "      <td>...</td>\n",
       "      <td>...</td>\n",
       "      <td>...</td>\n",
       "    </tr>\n",
       "    <tr>\n",
       "      <th>195</th>\n",
       "      <td>56</td>\n",
       "      <td>F</td>\n",
       "      <td>LOW</td>\n",
       "      <td>HIGH</td>\n",
       "      <td>0.848774</td>\n",
       "      <td>0.073380</td>\n",
       "      <td>drugC</td>\n",
       "    </tr>\n",
       "    <tr>\n",
       "      <th>196</th>\n",
       "      <td>16</td>\n",
       "      <td>M</td>\n",
       "      <td>LOW</td>\n",
       "      <td>HIGH</td>\n",
       "      <td>0.743021</td>\n",
       "      <td>0.061886</td>\n",
       "      <td>drugC</td>\n",
       "    </tr>\n",
       "    <tr>\n",
       "      <th>197</th>\n",
       "      <td>52</td>\n",
       "      <td>M</td>\n",
       "      <td>NORMAL</td>\n",
       "      <td>HIGH</td>\n",
       "      <td>0.549945</td>\n",
       "      <td>0.055581</td>\n",
       "      <td>drugX</td>\n",
       "    </tr>\n",
       "    <tr>\n",
       "      <th>198</th>\n",
       "      <td>23</td>\n",
       "      <td>M</td>\n",
       "      <td>NORMAL</td>\n",
       "      <td>NORMAL</td>\n",
       "      <td>0.784520</td>\n",
       "      <td>0.055959</td>\n",
       "      <td>drugX</td>\n",
       "    </tr>\n",
       "    <tr>\n",
       "      <th>199</th>\n",
       "      <td>40</td>\n",
       "      <td>F</td>\n",
       "      <td>LOW</td>\n",
       "      <td>NORMAL</td>\n",
       "      <td>0.683503</td>\n",
       "      <td>0.060226</td>\n",
       "      <td>drugX</td>\n",
       "    </tr>\n",
       "  </tbody>\n",
       "</table>\n",
       "<p>200 rows × 7 columns</p>\n",
       "</div>"
      ],
      "text/plain": [
       "     Age Sex      BP Cholesterol        Na         K   Drug\n",
       "0     23   F    HIGH        HIGH  0.792535  0.031258  drugY\n",
       "1     47   M     LOW        HIGH  0.739309  0.056468  drugC\n",
       "2     47   M     LOW        HIGH  0.697269  0.068944  drugC\n",
       "3     28   F  NORMAL        HIGH  0.563682  0.072289  drugX\n",
       "4     61   F     LOW        HIGH  0.559294  0.030998  drugY\n",
       "..   ...  ..     ...         ...       ...       ...    ...\n",
       "195   56   F     LOW        HIGH  0.848774  0.073380  drugC\n",
       "196   16   M     LOW        HIGH  0.743021  0.061886  drugC\n",
       "197   52   M  NORMAL        HIGH  0.549945  0.055581  drugX\n",
       "198   23   M  NORMAL      NORMAL  0.784520  0.055959  drugX\n",
       "199   40   F     LOW      NORMAL  0.683503  0.060226  drugX\n",
       "\n",
       "[200 rows x 7 columns]"
      ]
     },
     "execution_count": 33,
     "metadata": {},
     "output_type": "execute_result"
    }
   ],
   "source": [
    "datos"
   ]
  },
  {
   "cell_type": "code",
   "execution_count": 35,
   "id": "8bcc6b8f",
   "metadata": {},
   "outputs": [
    {
     "data": {
      "text/html": [
       "<div>\n",
       "<style scoped>\n",
       "    .dataframe tbody tr th:only-of-type {\n",
       "        vertical-align: middle;\n",
       "    }\n",
       "\n",
       "    .dataframe tbody tr th {\n",
       "        vertical-align: top;\n",
       "    }\n",
       "\n",
       "    .dataframe thead th {\n",
       "        text-align: right;\n",
       "    }\n",
       "</style>\n",
       "<table border=\"1\" class=\"dataframe\">\n",
       "  <thead>\n",
       "    <tr style=\"text-align: right;\">\n",
       "      <th></th>\n",
       "      <th>Age</th>\n",
       "      <th>Na</th>\n",
       "      <th>K</th>\n",
       "    </tr>\n",
       "  </thead>\n",
       "  <tbody>\n",
       "    <tr>\n",
       "      <th>count</th>\n",
       "      <td>200.000000</td>\n",
       "      <td>200.000000</td>\n",
       "      <td>200.000000</td>\n",
       "    </tr>\n",
       "    <tr>\n",
       "      <th>mean</th>\n",
       "      <td>44.315000</td>\n",
       "      <td>0.697095</td>\n",
       "      <td>0.050174</td>\n",
       "    </tr>\n",
       "    <tr>\n",
       "      <th>std</th>\n",
       "      <td>16.544315</td>\n",
       "      <td>0.118907</td>\n",
       "      <td>0.017611</td>\n",
       "    </tr>\n",
       "    <tr>\n",
       "      <th>min</th>\n",
       "      <td>15.000000</td>\n",
       "      <td>0.500169</td>\n",
       "      <td>0.020022</td>\n",
       "    </tr>\n",
       "    <tr>\n",
       "      <th>25%</th>\n",
       "      <td>31.000000</td>\n",
       "      <td>0.583887</td>\n",
       "      <td>0.035054</td>\n",
       "    </tr>\n",
       "    <tr>\n",
       "      <th>50%</th>\n",
       "      <td>45.000000</td>\n",
       "      <td>0.721853</td>\n",
       "      <td>0.049663</td>\n",
       "    </tr>\n",
       "    <tr>\n",
       "      <th>75%</th>\n",
       "      <td>58.000000</td>\n",
       "      <td>0.801494</td>\n",
       "      <td>0.066000</td>\n",
       "    </tr>\n",
       "    <tr>\n",
       "      <th>max</th>\n",
       "      <td>74.000000</td>\n",
       "      <td>0.896056</td>\n",
       "      <td>0.079788</td>\n",
       "    </tr>\n",
       "  </tbody>\n",
       "</table>\n",
       "</div>"
      ],
      "text/plain": [
       "              Age          Na           K\n",
       "count  200.000000  200.000000  200.000000\n",
       "mean    44.315000    0.697095    0.050174\n",
       "std     16.544315    0.118907    0.017611\n",
       "min     15.000000    0.500169    0.020022\n",
       "25%     31.000000    0.583887    0.035054\n",
       "50%     45.000000    0.721853    0.049663\n",
       "75%     58.000000    0.801494    0.066000\n",
       "max     74.000000    0.896056    0.079788"
      ]
     },
     "execution_count": 35,
     "metadata": {},
     "output_type": "execute_result"
    }
   ],
   "source": [
    "# -- METADATOS –\n",
    "datos.describe()"
   ]
  },
  {
   "cell_type": "code",
   "execution_count": 37,
   "id": "5905ce0b",
   "metadata": {},
   "outputs": [
    {
     "data": {
      "text/html": [
       "<div>\n",
       "<style scoped>\n",
       "    .dataframe tbody tr th:only-of-type {\n",
       "        vertical-align: middle;\n",
       "    }\n",
       "\n",
       "    .dataframe tbody tr th {\n",
       "        vertical-align: top;\n",
       "    }\n",
       "\n",
       "    .dataframe thead th {\n",
       "        text-align: right;\n",
       "    }\n",
       "</style>\n",
       "<table border=\"1\" class=\"dataframe\">\n",
       "  <thead>\n",
       "    <tr style=\"text-align: right;\">\n",
       "      <th></th>\n",
       "      <th>Sex</th>\n",
       "      <th>BP</th>\n",
       "      <th>Cholesterol</th>\n",
       "      <th>Drug</th>\n",
       "    </tr>\n",
       "  </thead>\n",
       "  <tbody>\n",
       "    <tr>\n",
       "      <th>count</th>\n",
       "      <td>200</td>\n",
       "      <td>200</td>\n",
       "      <td>200</td>\n",
       "      <td>200</td>\n",
       "    </tr>\n",
       "    <tr>\n",
       "      <th>unique</th>\n",
       "      <td>2</td>\n",
       "      <td>3</td>\n",
       "      <td>2</td>\n",
       "      <td>5</td>\n",
       "    </tr>\n",
       "    <tr>\n",
       "      <th>top</th>\n",
       "      <td>M</td>\n",
       "      <td>HIGH</td>\n",
       "      <td>HIGH</td>\n",
       "      <td>drugY</td>\n",
       "    </tr>\n",
       "    <tr>\n",
       "      <th>freq</th>\n",
       "      <td>104</td>\n",
       "      <td>77</td>\n",
       "      <td>103</td>\n",
       "      <td>91</td>\n",
       "    </tr>\n",
       "  </tbody>\n",
       "</table>\n",
       "</div>"
      ],
      "text/plain": [
       "        Sex    BP Cholesterol   Drug\n",
       "count   200   200         200    200\n",
       "unique    2     3           2      5\n",
       "top       M  HIGH        HIGH  drugY\n",
       "freq    104    77         103     91"
      ]
     },
     "execution_count": 37,
     "metadata": {},
     "output_type": "execute_result"
    }
   ],
   "source": [
    "# Sólo los atributos categóricos\n",
    "datos.describe(include=[object])\n",
    "\n",
    "# Todos los atributos\n",
    "# datos.describe(include='all')"
   ]
  },
  {
   "cell_type": "markdown",
   "id": "371eb21c",
   "metadata": {},
   "source": [
    "### MEDIDAS ESTADISTICAS"
   ]
  },
  {
   "cell_type": "code",
   "execution_count": 44,
   "id": "d0c93b99",
   "metadata": {},
   "outputs": [
    {
     "name": "stdout",
     "output_type": "stream",
     "text": [
      "Datos de columna \"Age\" :\n",
      "Media 44.3\n",
      "Mediana: 45.0 \n",
      "Moda: 47.0\n"
     ]
    },
    {
     "name": "stderr",
     "output_type": "stream",
     "text": [
      "C:\\Users\\W10\\AppData\\Local\\Temp\\ipykernel_6872\\613578270.py:8: FutureWarning: Calling float on a single element Series is deprecated and will raise a TypeError in the future. Use float(ser.iloc[0]) instead\n",
      "  print(\"Mediana: %.1f \\nModa: %.1f\" % (mediana,moda))\n"
     ]
    }
   ],
   "source": [
    "# Media, mediana y moda del atributo AGE\n",
    "print('Datos de columna \"Age\" :')\n",
    "media = datos[\"Age\"].mean()\n",
    "mediana = datos[\"Age\"].median()\n",
    "moda = datos[\"Age\"].mode()\n",
    "\n",
    "print(\"Media %.1f\" % media)\n",
    "print(\"Mediana: %.1f \\nModa: %.1f\" % (mediana,moda))"
   ]
  },
  {
   "cell_type": "code",
   "execution_count": 46,
   "id": "2c10b8b6",
   "metadata": {},
   "outputs": [
    {
     "ename": "TypeError",
     "evalue": "Could not convert ['FMMFFFFMMMFFMFFFMMMFMMMFFFMFFMFMMFMMMMFMFFMMFFFMMFFMMFFFMMMMFMMMFFMMMFMFFFMMFFFFMMFFFMFMFFMMFFMMFFMFMFFMMMMMMMMFMFFMMFFFMMMFFFMMMFFMMMFMFFMFMFMMMMFFFMMMMFMMMMFFFFMFMMFFFFFMFFMFMMMFFFFFFFMMMMMMMMFFMMMF'\n 'HIGHLOWLOWNORMALLOWNORMALNORMALLOWNORMALLOWLOWHIGHLOWLOWNORMALHIGHLOWHIGHLOWHIGHLOWNORMALLOWLOWLOWHIGHHIGHNORMALLOWLOWNORMALHIGHLOWHIGHNORMALNORMALHIGHLOWNORMALNORMALNORMALHIGHNORMALNORMALNORMALNORMALHIGHLOWNORMALLOWHIGHNORMALLOWHIGHHIGHLOWHIGHHIGHNORMALHIGHLOWHIGHLOWLOWHIGHNORMALHIGHNORMALNORMALHIGHHIGHNORMALNORMALNORMALHIGHLOWHIGHHIGHHIGHLOWHIGHNORMALLOWHIGHLOWHIGHNORMALLOWHIGHNORMALNORMALHIGHHIGHLOWLOWLOWLOWHIGHHIGHHIGHHIGHHIGHLOWNORMALHIGHLOWNORMALLOWHIGHNORMALHIGHNORMALLOWLOWNORMALHIGHNORMALNORMALHIGHHIGHNORMALHIGHNORMALNORMALHIGHHIGHHIGHNORMALLOWNORMALNORMALLOWLOWNORMALHIGHLOWHIGHHIGHHIGHNORMALHIGHLOWHIGHHIGHHIGHNORMALLOWHIGHLOWLOWHIGHHIGHNORMALLOWLOWLOWHIGHLOWLOWLOWNORMALHIGHNORMALHIGHHIGHLOWLOWNORMALLOWHIGHNORMALLOWNORMALLOWHIGHHIGHHIGHNORMALNORMALNORMALHIGHNORMALLOWHIGHHIGHNORMALHIGHHIGHHIGHHIGHHIGHHIGHLOWLOWHIGHLOWLOWNORMALNORMALLOW'\n 'HIGHHIGHHIGHHIGHHIGHHIGHHIGHHIGHHIGHNORMALHIGHNORMALHIGHHIGHHIGHNORMALNORMALHIGHHIGHNORMALNORMALHIGHNORMALHIGHHIGHNORMALHIGHNORMALNORMALHIGHNORMALHIGHNORMALNORMALHIGHNORMALNORMALNORMALNORMALHIGHHIGHNORMALNORMALHIGHNORMALNORMALHIGHHIGHHIGHHIGHHIGHNORMALNORMALNORMALNORMALHIGHNORMALHIGHNORMALHIGHNORMALNORMALNORMALNORMALHIGHNORMALHIGHNORMALHIGHNORMALHIGHHIGHHIGHNORMALNORMALNORMALHIGHNORMALHIGHNORMALHIGHHIGHHIGHNORMALHIGHHIGHHIGHHIGHNORMALNORMALHIGHNORMALHIGHNORMALHIGHNORMALHIGHHIGHNORMALNORMALNORMALHIGHHIGHHIGHNORMALNORMALHIGHHIGHNORMALHIGHHIGHNORMALNORMALNORMALNORMALHIGHNORMALHIGHNORMALHIGHHIGHNORMALHIGHHIGHNORMALNORMALHIGHNORMALNORMALHIGHHIGHNORMALNORMALHIGHHIGHNORMALHIGHHIGHNORMALHIGHNORMALNORMALNORMALNORMALHIGHHIGHNORMALNORMALNORMALHIGHNORMALHIGHNORMALNORMALNORMALHIGHNORMALHIGHHIGHNORMALHIGHNORMALNORMALNORMALNORMALHIGHHIGHHIGHNORMALHIGHHIGHNORMALNORMALNORMALNORMALHIGHNORMALHIGHHIGHHIGHNORMALHIGHNORMALNORMALHIGHNORMALHIGHHIGHNORMALNORMALHIGHHIGHHIGHHIGHHIGHHIGHHIGHHIGHNORMALNORMAL'\n 'drugYdrugCdrugCdrugXdrugYdrugXdrugYdrugCdrugYdrugYdrugCdrugYdrugYdrugYdrugXdrugYdrugXdrugAdrugCdrugYdrugYdrugYdrugYdrugYdrugYdrugYdrugYdrugXdrugYdrugYdrugXdrugBdrugXdrugYdrugXdrugXdrugAdrugXdrugXdrugXdrugYdrugBdrugYdrugXdrugXdrugXdrugAdrugCdrugYdrugYdrugYdrugXdrugYdrugYdrugBdrugCdrugBdrugYdrugXdrugYdrugYdrugAdrugYdrugXdrugBdrugYdrugAdrugXdrugYdrugYdrugBdrugYdrugXdrugYdrugYdrugYdrugAdrugYdrugAdrugXdrugBdrugXdrugCdrugAdrugCdrugBdrugXdrugYdrugYdrugYdrugYdrugYdrugYdrugYdrugYdrugXdrugYdrugYdrugYdrugYdrugAdrugAdrugCdrugXdrugYdrugXdrugXdrugYdrugBdrugYdrugAdrugXdrugXdrugXdrugXdrugYdrugXdrugXdrugAdrugYdrugYdrugYdrugYdrugYdrugBdrugYdrugYdrugXdrugYdrugXdrugYdrugYdrugXdrugYdrugYdrugXdrugBdrugAdrugBdrugXdrugAdrugYdrugBdrugYdrugAdrugXdrugXdrugAdrugXdrugCdrugAdrugBdrugXdrugXdrugYdrugCdrugAdrugYdrugCdrugXdrugXdrugBdrugXdrugYdrugYdrugYdrugYdrugXdrugYdrugAdrugXdrugXdrugYdrugYdrugAdrugYdrugAdrugYdrugYdrugYdrugYdrugXdrugXdrugYdrugYdrugYdrugBdrugAdrugYdrugYdrugYdrugAdrugYdrugCdrugYdrugCdrugCdrugXdrugXdrugX'] to numeric",
     "output_type": "error",
     "traceback": [
      "\u001b[1;31m---------------------------------------------------------------------------\u001b[0m",
      "\u001b[1;31mTypeError\u001b[0m                                 Traceback (most recent call last)",
      "Cell \u001b[1;32mIn[46], line 3\u001b[0m\n\u001b[0;32m      1\u001b[0m \u001b[38;5;66;03m# Calculando la media de cada atributo numérico\u001b[39;00m\n\u001b[1;32m----> 3\u001b[0m medias \u001b[38;5;241m=\u001b[39m datos\u001b[38;5;241m.\u001b[39mmean()\n\u001b[0;32m      4\u001b[0m \u001b[38;5;28mprint\u001b[39m(medias)\n\u001b[0;32m      5\u001b[0m \u001b[38;5;28mprint\u001b[39m(\u001b[38;5;124m\"\u001b[39m\u001b[38;5;130;01m\\n\u001b[39;00m\u001b[38;5;124mEdad promedio :\u001b[39m\u001b[38;5;124m\"\u001b[39m, medias[\u001b[38;5;241m0\u001b[39m])\n",
      "File \u001b[1;32m~\\anaconda3\\Lib\\site-packages\\pandas\\core\\frame.py:11693\u001b[0m, in \u001b[0;36mDataFrame.mean\u001b[1;34m(self, axis, skipna, numeric_only, **kwargs)\u001b[0m\n\u001b[0;32m  11685\u001b[0m \u001b[38;5;129m@doc\u001b[39m(make_doc(\u001b[38;5;124m\"\u001b[39m\u001b[38;5;124mmean\u001b[39m\u001b[38;5;124m\"\u001b[39m, ndim\u001b[38;5;241m=\u001b[39m\u001b[38;5;241m2\u001b[39m))\n\u001b[0;32m  11686\u001b[0m \u001b[38;5;28;01mdef\u001b[39;00m \u001b[38;5;21mmean\u001b[39m(\n\u001b[0;32m  11687\u001b[0m     \u001b[38;5;28mself\u001b[39m,\n\u001b[1;32m   (...)\u001b[0m\n\u001b[0;32m  11691\u001b[0m     \u001b[38;5;241m*\u001b[39m\u001b[38;5;241m*\u001b[39mkwargs,\n\u001b[0;32m  11692\u001b[0m ):\n\u001b[1;32m> 11693\u001b[0m     result \u001b[38;5;241m=\u001b[39m \u001b[38;5;28msuper\u001b[39m()\u001b[38;5;241m.\u001b[39mmean(axis, skipna, numeric_only, \u001b[38;5;241m*\u001b[39m\u001b[38;5;241m*\u001b[39mkwargs)\n\u001b[0;32m  11694\u001b[0m     \u001b[38;5;28;01mif\u001b[39;00m \u001b[38;5;28misinstance\u001b[39m(result, Series):\n\u001b[0;32m  11695\u001b[0m         result \u001b[38;5;241m=\u001b[39m result\u001b[38;5;241m.\u001b[39m__finalize__(\u001b[38;5;28mself\u001b[39m, method\u001b[38;5;241m=\u001b[39m\u001b[38;5;124m\"\u001b[39m\u001b[38;5;124mmean\u001b[39m\u001b[38;5;124m\"\u001b[39m)\n",
      "File \u001b[1;32m~\\anaconda3\\Lib\\site-packages\\pandas\\core\\generic.py:12420\u001b[0m, in \u001b[0;36mNDFrame.mean\u001b[1;34m(self, axis, skipna, numeric_only, **kwargs)\u001b[0m\n\u001b[0;32m  12413\u001b[0m \u001b[38;5;28;01mdef\u001b[39;00m \u001b[38;5;21mmean\u001b[39m(\n\u001b[0;32m  12414\u001b[0m     \u001b[38;5;28mself\u001b[39m,\n\u001b[0;32m  12415\u001b[0m     axis: Axis \u001b[38;5;241m|\u001b[39m \u001b[38;5;28;01mNone\u001b[39;00m \u001b[38;5;241m=\u001b[39m \u001b[38;5;241m0\u001b[39m,\n\u001b[1;32m   (...)\u001b[0m\n\u001b[0;32m  12418\u001b[0m     \u001b[38;5;241m*\u001b[39m\u001b[38;5;241m*\u001b[39mkwargs,\n\u001b[0;32m  12419\u001b[0m ) \u001b[38;5;241m-\u001b[39m\u001b[38;5;241m>\u001b[39m Series \u001b[38;5;241m|\u001b[39m \u001b[38;5;28mfloat\u001b[39m:\n\u001b[1;32m> 12420\u001b[0m     \u001b[38;5;28;01mreturn\u001b[39;00m \u001b[38;5;28mself\u001b[39m\u001b[38;5;241m.\u001b[39m_stat_function(\n\u001b[0;32m  12421\u001b[0m         \u001b[38;5;124m\"\u001b[39m\u001b[38;5;124mmean\u001b[39m\u001b[38;5;124m\"\u001b[39m, nanops\u001b[38;5;241m.\u001b[39mnanmean, axis, skipna, numeric_only, \u001b[38;5;241m*\u001b[39m\u001b[38;5;241m*\u001b[39mkwargs\n\u001b[0;32m  12422\u001b[0m     )\n",
      "File \u001b[1;32m~\\anaconda3\\Lib\\site-packages\\pandas\\core\\generic.py:12377\u001b[0m, in \u001b[0;36mNDFrame._stat_function\u001b[1;34m(self, name, func, axis, skipna, numeric_only, **kwargs)\u001b[0m\n\u001b[0;32m  12373\u001b[0m nv\u001b[38;5;241m.\u001b[39mvalidate_func(name, (), kwargs)\n\u001b[0;32m  12375\u001b[0m validate_bool_kwarg(skipna, \u001b[38;5;124m\"\u001b[39m\u001b[38;5;124mskipna\u001b[39m\u001b[38;5;124m\"\u001b[39m, none_allowed\u001b[38;5;241m=\u001b[39m\u001b[38;5;28;01mFalse\u001b[39;00m)\n\u001b[1;32m> 12377\u001b[0m \u001b[38;5;28;01mreturn\u001b[39;00m \u001b[38;5;28mself\u001b[39m\u001b[38;5;241m.\u001b[39m_reduce(\n\u001b[0;32m  12378\u001b[0m     func, name\u001b[38;5;241m=\u001b[39mname, axis\u001b[38;5;241m=\u001b[39maxis, skipna\u001b[38;5;241m=\u001b[39mskipna, numeric_only\u001b[38;5;241m=\u001b[39mnumeric_only\n\u001b[0;32m  12379\u001b[0m )\n",
      "File \u001b[1;32m~\\anaconda3\\Lib\\site-packages\\pandas\\core\\frame.py:11562\u001b[0m, in \u001b[0;36mDataFrame._reduce\u001b[1;34m(self, op, name, axis, skipna, numeric_only, filter_type, **kwds)\u001b[0m\n\u001b[0;32m  11558\u001b[0m     df \u001b[38;5;241m=\u001b[39m df\u001b[38;5;241m.\u001b[39mT\n\u001b[0;32m  11560\u001b[0m \u001b[38;5;66;03m# After possibly _get_data and transposing, we are now in the\u001b[39;00m\n\u001b[0;32m  11561\u001b[0m \u001b[38;5;66;03m#  simple case where we can use BlockManager.reduce\u001b[39;00m\n\u001b[1;32m> 11562\u001b[0m res \u001b[38;5;241m=\u001b[39m df\u001b[38;5;241m.\u001b[39m_mgr\u001b[38;5;241m.\u001b[39mreduce(blk_func)\n\u001b[0;32m  11563\u001b[0m out \u001b[38;5;241m=\u001b[39m df\u001b[38;5;241m.\u001b[39m_constructor_from_mgr(res, axes\u001b[38;5;241m=\u001b[39mres\u001b[38;5;241m.\u001b[39maxes)\u001b[38;5;241m.\u001b[39miloc[\u001b[38;5;241m0\u001b[39m]\n\u001b[0;32m  11564\u001b[0m \u001b[38;5;28;01mif\u001b[39;00m out_dtype \u001b[38;5;129;01mis\u001b[39;00m \u001b[38;5;129;01mnot\u001b[39;00m \u001b[38;5;28;01mNone\u001b[39;00m \u001b[38;5;129;01mand\u001b[39;00m out\u001b[38;5;241m.\u001b[39mdtype \u001b[38;5;241m!=\u001b[39m \u001b[38;5;124m\"\u001b[39m\u001b[38;5;124mboolean\u001b[39m\u001b[38;5;124m\"\u001b[39m:\n",
      "File \u001b[1;32m~\\anaconda3\\Lib\\site-packages\\pandas\\core\\internals\\managers.py:1500\u001b[0m, in \u001b[0;36mBlockManager.reduce\u001b[1;34m(self, func)\u001b[0m\n\u001b[0;32m   1498\u001b[0m res_blocks: \u001b[38;5;28mlist\u001b[39m[Block] \u001b[38;5;241m=\u001b[39m []\n\u001b[0;32m   1499\u001b[0m \u001b[38;5;28;01mfor\u001b[39;00m blk \u001b[38;5;129;01min\u001b[39;00m \u001b[38;5;28mself\u001b[39m\u001b[38;5;241m.\u001b[39mblocks:\n\u001b[1;32m-> 1500\u001b[0m     nbs \u001b[38;5;241m=\u001b[39m blk\u001b[38;5;241m.\u001b[39mreduce(func)\n\u001b[0;32m   1501\u001b[0m     res_blocks\u001b[38;5;241m.\u001b[39mextend(nbs)\n\u001b[0;32m   1503\u001b[0m index \u001b[38;5;241m=\u001b[39m Index([\u001b[38;5;28;01mNone\u001b[39;00m])  \u001b[38;5;66;03m# placeholder\u001b[39;00m\n",
      "File \u001b[1;32m~\\anaconda3\\Lib\\site-packages\\pandas\\core\\internals\\blocks.py:404\u001b[0m, in \u001b[0;36mBlock.reduce\u001b[1;34m(self, func)\u001b[0m\n\u001b[0;32m    398\u001b[0m \u001b[38;5;129m@final\u001b[39m\n\u001b[0;32m    399\u001b[0m \u001b[38;5;28;01mdef\u001b[39;00m \u001b[38;5;21mreduce\u001b[39m(\u001b[38;5;28mself\u001b[39m, func) \u001b[38;5;241m-\u001b[39m\u001b[38;5;241m>\u001b[39m \u001b[38;5;28mlist\u001b[39m[Block]:\n\u001b[0;32m    400\u001b[0m     \u001b[38;5;66;03m# We will apply the function and reshape the result into a single-row\u001b[39;00m\n\u001b[0;32m    401\u001b[0m     \u001b[38;5;66;03m#  Block with the same mgr_locs; squeezing will be done at a higher level\u001b[39;00m\n\u001b[0;32m    402\u001b[0m     \u001b[38;5;28;01massert\u001b[39;00m \u001b[38;5;28mself\u001b[39m\u001b[38;5;241m.\u001b[39mndim \u001b[38;5;241m==\u001b[39m \u001b[38;5;241m2\u001b[39m\n\u001b[1;32m--> 404\u001b[0m     result \u001b[38;5;241m=\u001b[39m func(\u001b[38;5;28mself\u001b[39m\u001b[38;5;241m.\u001b[39mvalues)\n\u001b[0;32m    406\u001b[0m     \u001b[38;5;28;01mif\u001b[39;00m \u001b[38;5;28mself\u001b[39m\u001b[38;5;241m.\u001b[39mvalues\u001b[38;5;241m.\u001b[39mndim \u001b[38;5;241m==\u001b[39m \u001b[38;5;241m1\u001b[39m:\n\u001b[0;32m    407\u001b[0m         res_values \u001b[38;5;241m=\u001b[39m result\n",
      "File \u001b[1;32m~\\anaconda3\\Lib\\site-packages\\pandas\\core\\frame.py:11481\u001b[0m, in \u001b[0;36mDataFrame._reduce.<locals>.blk_func\u001b[1;34m(values, axis)\u001b[0m\n\u001b[0;32m  11479\u001b[0m         \u001b[38;5;28;01mreturn\u001b[39;00m np\u001b[38;5;241m.\u001b[39marray([result])\n\u001b[0;32m  11480\u001b[0m \u001b[38;5;28;01melse\u001b[39;00m:\n\u001b[1;32m> 11481\u001b[0m     \u001b[38;5;28;01mreturn\u001b[39;00m op(values, axis\u001b[38;5;241m=\u001b[39maxis, skipna\u001b[38;5;241m=\u001b[39mskipna, \u001b[38;5;241m*\u001b[39m\u001b[38;5;241m*\u001b[39mkwds)\n",
      "File \u001b[1;32m~\\anaconda3\\Lib\\site-packages\\pandas\\core\\nanops.py:147\u001b[0m, in \u001b[0;36mbottleneck_switch.__call__.<locals>.f\u001b[1;34m(values, axis, skipna, **kwds)\u001b[0m\n\u001b[0;32m    145\u001b[0m         result \u001b[38;5;241m=\u001b[39m alt(values, axis\u001b[38;5;241m=\u001b[39maxis, skipna\u001b[38;5;241m=\u001b[39mskipna, \u001b[38;5;241m*\u001b[39m\u001b[38;5;241m*\u001b[39mkwds)\n\u001b[0;32m    146\u001b[0m \u001b[38;5;28;01melse\u001b[39;00m:\n\u001b[1;32m--> 147\u001b[0m     result \u001b[38;5;241m=\u001b[39m alt(values, axis\u001b[38;5;241m=\u001b[39maxis, skipna\u001b[38;5;241m=\u001b[39mskipna, \u001b[38;5;241m*\u001b[39m\u001b[38;5;241m*\u001b[39mkwds)\n\u001b[0;32m    149\u001b[0m \u001b[38;5;28;01mreturn\u001b[39;00m result\n",
      "File \u001b[1;32m~\\anaconda3\\Lib\\site-packages\\pandas\\core\\nanops.py:404\u001b[0m, in \u001b[0;36m_datetimelike_compat.<locals>.new_func\u001b[1;34m(values, axis, skipna, mask, **kwargs)\u001b[0m\n\u001b[0;32m    401\u001b[0m \u001b[38;5;28;01mif\u001b[39;00m datetimelike \u001b[38;5;129;01mand\u001b[39;00m mask \u001b[38;5;129;01mis\u001b[39;00m \u001b[38;5;28;01mNone\u001b[39;00m:\n\u001b[0;32m    402\u001b[0m     mask \u001b[38;5;241m=\u001b[39m isna(values)\n\u001b[1;32m--> 404\u001b[0m result \u001b[38;5;241m=\u001b[39m func(values, axis\u001b[38;5;241m=\u001b[39maxis, skipna\u001b[38;5;241m=\u001b[39mskipna, mask\u001b[38;5;241m=\u001b[39mmask, \u001b[38;5;241m*\u001b[39m\u001b[38;5;241m*\u001b[39mkwargs)\n\u001b[0;32m    406\u001b[0m \u001b[38;5;28;01mif\u001b[39;00m datetimelike:\n\u001b[0;32m    407\u001b[0m     result \u001b[38;5;241m=\u001b[39m _wrap_results(result, orig_values\u001b[38;5;241m.\u001b[39mdtype, fill_value\u001b[38;5;241m=\u001b[39miNaT)\n",
      "File \u001b[1;32m~\\anaconda3\\Lib\\site-packages\\pandas\\core\\nanops.py:720\u001b[0m, in \u001b[0;36mnanmean\u001b[1;34m(values, axis, skipna, mask)\u001b[0m\n\u001b[0;32m    718\u001b[0m count \u001b[38;5;241m=\u001b[39m _get_counts(values\u001b[38;5;241m.\u001b[39mshape, mask, axis, dtype\u001b[38;5;241m=\u001b[39mdtype_count)\n\u001b[0;32m    719\u001b[0m the_sum \u001b[38;5;241m=\u001b[39m values\u001b[38;5;241m.\u001b[39msum(axis, dtype\u001b[38;5;241m=\u001b[39mdtype_sum)\n\u001b[1;32m--> 720\u001b[0m the_sum \u001b[38;5;241m=\u001b[39m _ensure_numeric(the_sum)\n\u001b[0;32m    722\u001b[0m \u001b[38;5;28;01mif\u001b[39;00m axis \u001b[38;5;129;01mis\u001b[39;00m \u001b[38;5;129;01mnot\u001b[39;00m \u001b[38;5;28;01mNone\u001b[39;00m \u001b[38;5;129;01mand\u001b[39;00m \u001b[38;5;28mgetattr\u001b[39m(the_sum, \u001b[38;5;124m\"\u001b[39m\u001b[38;5;124mndim\u001b[39m\u001b[38;5;124m\"\u001b[39m, \u001b[38;5;28;01mFalse\u001b[39;00m):\n\u001b[0;32m    723\u001b[0m     count \u001b[38;5;241m=\u001b[39m cast(np\u001b[38;5;241m.\u001b[39mndarray, count)\n",
      "File \u001b[1;32m~\\anaconda3\\Lib\\site-packages\\pandas\\core\\nanops.py:1686\u001b[0m, in \u001b[0;36m_ensure_numeric\u001b[1;34m(x)\u001b[0m\n\u001b[0;32m   1683\u001b[0m inferred \u001b[38;5;241m=\u001b[39m lib\u001b[38;5;241m.\u001b[39minfer_dtype(x)\n\u001b[0;32m   1684\u001b[0m \u001b[38;5;28;01mif\u001b[39;00m inferred \u001b[38;5;129;01min\u001b[39;00m [\u001b[38;5;124m\"\u001b[39m\u001b[38;5;124mstring\u001b[39m\u001b[38;5;124m\"\u001b[39m, \u001b[38;5;124m\"\u001b[39m\u001b[38;5;124mmixed\u001b[39m\u001b[38;5;124m\"\u001b[39m]:\n\u001b[0;32m   1685\u001b[0m     \u001b[38;5;66;03m# GH#44008, GH#36703 avoid casting e.g. strings to numeric\u001b[39;00m\n\u001b[1;32m-> 1686\u001b[0m     \u001b[38;5;28;01mraise\u001b[39;00m \u001b[38;5;167;01mTypeError\u001b[39;00m(\u001b[38;5;124mf\u001b[39m\u001b[38;5;124m\"\u001b[39m\u001b[38;5;124mCould not convert \u001b[39m\u001b[38;5;132;01m{\u001b[39;00mx\u001b[38;5;132;01m}\u001b[39;00m\u001b[38;5;124m to numeric\u001b[39m\u001b[38;5;124m\"\u001b[39m)\n\u001b[0;32m   1687\u001b[0m \u001b[38;5;28;01mtry\u001b[39;00m:\n\u001b[0;32m   1688\u001b[0m     x \u001b[38;5;241m=\u001b[39m x\u001b[38;5;241m.\u001b[39mastype(np\u001b[38;5;241m.\u001b[39mcomplex128)\n",
      "\u001b[1;31mTypeError\u001b[0m: Could not convert ['FMMFFFFMMMFFMFFFMMMFMMMFFFMFFMFMMFMMMMFMFFMMFFFMMFFMMFFFMMMMFMMMFFMMMFMFFFMMFFFFMMFFFMFMFFMMFFMMFFMFMFFMMMMMMMMFMFFMMFFFMMMFFFMMMFFMMMFMFFMFMFMMMMFFFMMMMFMMMMFFFFMFMMFFFFFMFFMFMMMFFFFFFFMMMMMMMMFFMMMF'\n 'HIGHLOWLOWNORMALLOWNORMALNORMALLOWNORMALLOWLOWHIGHLOWLOWNORMALHIGHLOWHIGHLOWHIGHLOWNORMALLOWLOWLOWHIGHHIGHNORMALLOWLOWNORMALHIGHLOWHIGHNORMALNORMALHIGHLOWNORMALNORMALNORMALHIGHNORMALNORMALNORMALNORMALHIGHLOWNORMALLOWHIGHNORMALLOWHIGHHIGHLOWHIGHHIGHNORMALHIGHLOWHIGHLOWLOWHIGHNORMALHIGHNORMALNORMALHIGHHIGHNORMALNORMALNORMALHIGHLOWHIGHHIGHHIGHLOWHIGHNORMALLOWHIGHLOWHIGHNORMALLOWHIGHNORMALNORMALHIGHHIGHLOWLOWLOWLOWHIGHHIGHHIGHHIGHHIGHLOWNORMALHIGHLOWNORMALLOWHIGHNORMALHIGHNORMALLOWLOWNORMALHIGHNORMALNORMALHIGHHIGHNORMALHIGHNORMALNORMALHIGHHIGHHIGHNORMALLOWNORMALNORMALLOWLOWNORMALHIGHLOWHIGHHIGHHIGHNORMALHIGHLOWHIGHHIGHHIGHNORMALLOWHIGHLOWLOWHIGHHIGHNORMALLOWLOWLOWHIGHLOWLOWLOWNORMALHIGHNORMALHIGHHIGHLOWLOWNORMALLOWHIGHNORMALLOWNORMALLOWHIGHHIGHHIGHNORMALNORMALNORMALHIGHNORMALLOWHIGHHIGHNORMALHIGHHIGHHIGHHIGHHIGHHIGHLOWLOWHIGHLOWLOWNORMALNORMALLOW'\n 'HIGHHIGHHIGHHIGHHIGHHIGHHIGHHIGHHIGHNORMALHIGHNORMALHIGHHIGHHIGHNORMALNORMALHIGHHIGHNORMALNORMALHIGHNORMALHIGHHIGHNORMALHIGHNORMALNORMALHIGHNORMALHIGHNORMALNORMALHIGHNORMALNORMALNORMALNORMALHIGHHIGHNORMALNORMALHIGHNORMALNORMALHIGHHIGHHIGHHIGHHIGHNORMALNORMALNORMALNORMALHIGHNORMALHIGHNORMALHIGHNORMALNORMALNORMALNORMALHIGHNORMALHIGHNORMALHIGHNORMALHIGHHIGHHIGHNORMALNORMALNORMALHIGHNORMALHIGHNORMALHIGHHIGHHIGHNORMALHIGHHIGHHIGHHIGHNORMALNORMALHIGHNORMALHIGHNORMALHIGHNORMALHIGHHIGHNORMALNORMALNORMALHIGHHIGHHIGHNORMALNORMALHIGHHIGHNORMALHIGHHIGHNORMALNORMALNORMALNORMALHIGHNORMALHIGHNORMALHIGHHIGHNORMALHIGHHIGHNORMALNORMALHIGHNORMALNORMALHIGHHIGHNORMALNORMALHIGHHIGHNORMALHIGHHIGHNORMALHIGHNORMALNORMALNORMALNORMALHIGHHIGHNORMALNORMALNORMALHIGHNORMALHIGHNORMALNORMALNORMALHIGHNORMALHIGHHIGHNORMALHIGHNORMALNORMALNORMALNORMALHIGHHIGHHIGHNORMALHIGHHIGHNORMALNORMALNORMALNORMALHIGHNORMALHIGHHIGHHIGHNORMALHIGHNORMALNORMALHIGHNORMALHIGHHIGHNORMALNORMALHIGHHIGHHIGHHIGHHIGHHIGHHIGHHIGHNORMALNORMAL'\n 'drugYdrugCdrugCdrugXdrugYdrugXdrugYdrugCdrugYdrugYdrugCdrugYdrugYdrugYdrugXdrugYdrugXdrugAdrugCdrugYdrugYdrugYdrugYdrugYdrugYdrugYdrugYdrugXdrugYdrugYdrugXdrugBdrugXdrugYdrugXdrugXdrugAdrugXdrugXdrugXdrugYdrugBdrugYdrugXdrugXdrugXdrugAdrugCdrugYdrugYdrugYdrugXdrugYdrugYdrugBdrugCdrugBdrugYdrugXdrugYdrugYdrugAdrugYdrugXdrugBdrugYdrugAdrugXdrugYdrugYdrugBdrugYdrugXdrugYdrugYdrugYdrugAdrugYdrugAdrugXdrugBdrugXdrugCdrugAdrugCdrugBdrugXdrugYdrugYdrugYdrugYdrugYdrugYdrugYdrugYdrugXdrugYdrugYdrugYdrugYdrugAdrugAdrugCdrugXdrugYdrugXdrugXdrugYdrugBdrugYdrugAdrugXdrugXdrugXdrugXdrugYdrugXdrugXdrugAdrugYdrugYdrugYdrugYdrugYdrugBdrugYdrugYdrugXdrugYdrugXdrugYdrugYdrugXdrugYdrugYdrugXdrugBdrugAdrugBdrugXdrugAdrugYdrugBdrugYdrugAdrugXdrugXdrugAdrugXdrugCdrugAdrugBdrugXdrugXdrugYdrugCdrugAdrugYdrugCdrugXdrugXdrugBdrugXdrugYdrugYdrugYdrugYdrugXdrugYdrugAdrugXdrugXdrugYdrugYdrugAdrugYdrugAdrugYdrugYdrugYdrugYdrugXdrugXdrugYdrugYdrugYdrugBdrugAdrugYdrugYdrugYdrugAdrugYdrugCdrugYdrugCdrugCdrugXdrugXdrugX'] to numeric"
     ]
    }
   ],
   "source": [
    "# Calculando la media de cada atributo numérico\n",
    "\n",
    "medias = datos.mean()\n",
    "print(medias)\n",
    "print(\"\\nEdad promedio :\", medias[0])"
   ]
  },
  {
   "cell_type": "markdown",
   "id": "3a6d5f14",
   "metadata": {},
   "source": [
    "## Gráficos\n",
    "\n",
    "### Diagrama de Barras"
   ]
  },
  {
   "cell_type": "code",
   "execution_count": 49,
   "id": "6be51f22",
   "metadata": {},
   "outputs": [
    {
     "name": "stderr",
     "output_type": "stream",
     "text": [
      "C:\\Users\\W10\\AppData\\Local\\Temp\\ipykernel_6872\\914675034.py:1: FutureWarning: pandas.value_counts is deprecated and will be removed in a future version. Use pd.Series(obj).value_counts() instead.\n",
      "  barras = pd.value_counts(datos['Drug'])\n"
     ]
    },
    {
     "name": "stdout",
     "output_type": "stream",
     "text": [
      "Drug\n",
      "drugY    91\n",
      "drugX    54\n",
      "drugA    23\n",
      "drugC    16\n",
      "drugB    16\n",
      "Name: count, dtype: int64\n"
     ]
    },
    {
     "data": {
      "image/png": "[encoded data removed]",
      "text/plain": [
       "<Figure size 640x480 with 1 Axes>"
      ]
     },
     "metadata": {},
     "output_type": "display_data"
    }
   ],
   "source": [
    "barras = pd.value_counts(datos['Drug'])\n",
    "print(barras)\n",
    "\n",
    "plt.figure()\n",
    "N = len(barras)\n",
    "plt.bar(np.arange( N ), barras)  # Gráfico de barras\n",
    "plt.title('Drug')      # Colocamos el título\n",
    "plt.ylabel('Frecuencia')\n",
    "# Colocamos las etiquetas del eje x\n",
    "plt.xticks(np.arange( N ), barras.index)\n",
    "plt.show()\n"
   ]
  },
  {
   "cell_type": "markdown",
   "id": "0ec03c45",
   "metadata": {},
   "source": [
    "### Gráfico de torta"
   ]
  },
  {
   "cell_type": "code",
   "execution_count": 52,
   "id": "5fa6be8c",
   "metadata": {},
   "outputs": [
    {
     "name": "stderr",
     "output_type": "stream",
     "text": [
      "C:\\Users\\W10\\AppData\\Local\\Temp\\ipykernel_6872\\48898042.py:2: FutureWarning: pandas.value_counts is deprecated and will be removed in a future version. Use pd.Series(obj).value_counts() instead.\n",
      "  barras = pd.value_counts(datos['Drug'])\n"
     ]
    },
    {
     "data": {
      "image/png": "[encoded data removed]",
      "text/plain": [
       "<Figure size 640x480 with 1 Axes>"
      ]
     },
     "metadata": {},
     "output_type": "display_data"
    }
   ],
   "source": [
    "plt.figure()\n",
    "barras = pd.value_counts(datos['Drug'])\n",
    "plt.pie(barras,labels=barras.index, autopct=\"%0.1f %%\")\n",
    "plt.title('Drug')\n",
    "plt.show()\n"
   ]
  },
  {
   "cell_type": "markdown",
   "id": "ffa9abd3",
   "metadata": {},
   "source": [
    "### Histograma"
   ]
  },
  {
   "cell_type": "code",
   "execution_count": 55,
   "id": "19b8fb4d",
   "metadata": {},
   "outputs": [
    {
     "data": {
      "image/png": "[encoded data removed]",
      "text/plain": [
       "<Figure size 640x480 with 1 Axes>"
      ]
     },
     "metadata": {},
     "output_type": "display_data"
    }
   ],
   "source": [
    "plt.figure()\n",
    "plt.hist(datos['Age'], bins = 10, edgecolor = 'black', \\\n",
    "         linewidth=1)\n",
    "plt.xlabel('AGE')\n",
    "plt.ylabel('Frecuencia')\n",
    "plt.title('Histograma del atributo \"Age\"')\n",
    "plt.show()\n"
   ]
  },
  {
   "cell_type": "markdown",
   "id": "86afd612",
   "metadata": {},
   "source": [
    "### Diagrama de Caja"
   ]
  },
  {
   "cell_type": "code",
   "execution_count": 58,
   "id": "b9c7b385",
   "metadata": {},
   "outputs": [
    {
     "name": "stdout",
     "output_type": "stream",
     "text": [
      "CUARTILES - atributo AGE =  [31. 45. 58.]\n"
     ]
    },
    {
     "data": {
      "text/plain": [
       "<Axes: >"
      ]
     },
     "execution_count": 58,
     "metadata": {},
     "output_type": "execute_result"
    },
    {
     "data": {
      "image/png": "[encoded data removed]",
      "text/plain": [
       "<Figure size 640x480 with 1 Axes>"
      ]
     },
     "metadata": {},
     "output_type": "display_data"
    }
   ],
   "source": [
    "# Cuartiles\n",
    "Q = datos[\"Age\"].quantile([0.25, 0.5, 0.75]).values\n",
    "print(\"CUARTILES - atributo AGE = \", Q)\n",
    "\n",
    "# Diagram de caja de Tukey del atributo AGE\n",
    "\n",
    "datos.boxplot(column=['Age'], vert=False)"
   ]
  },
  {
   "cell_type": "code",
   "execution_count": 60,
   "id": "c1938f10",
   "metadata": {},
   "outputs": [
    {
     "data": {
      "text/plain": [
       "<Axes: title={'center': 'Age'}, ylabel='Cholesterol'>"
      ]
     },
     "execution_count": 60,
     "metadata": {},
     "output_type": "execute_result"
    },
    {
     "data": {
      "image/png": "[encoded data removed]",
      "text/plain": [
       "<Figure size 640x480 with 1 Axes>"
      ]
     },
     "metadata": {},
     "output_type": "display_data"
    }
   ],
   "source": [
    "# Diagrma de AGE agrupado por el nivel de colesterol\n",
    "datos.boxplot(column=['Age'], by='Cholesterol', vert=False)"
   ]
  },
  {
   "cell_type": "code",
   "execution_count": 62,
   "id": "be063928",
   "metadata": {},
   "outputs": [
    {
     "name": "stdout",
     "output_type": "stream",
     "text": [
      "CUARTILES - Edades c/Colesterol NORMAL\n",
      "[32. 42. 57.]\n",
      "CUARTILES - Edades c/Colesterol HIGH\n",
      "[29.5 47.  59. ]\n"
     ]
    }
   ],
   "source": [
    "dfNormal = datos.Age[datos.Cholesterol=='NORMAL']\n",
    "QNormal = dfNormal.quantile([0.25, 0.5, 0.75]).values\n",
    "print(\"CUARTILES - Edades c/Colesterol NORMAL\")\n",
    "print(QNormal)\n",
    "\n",
    "dfHigh =  datos.Age[datos.Cholesterol=='HIGH']\n",
    "QHigh = dfHigh.quantile([0.25, 0.5, 0.75]).values\n",
    "print(\"CUARTILES - Edades c/Colesterol HIGH\")\n",
    "print(QHigh)"
   ]
  },
  {
   "cell_type": "markdown",
   "id": "32dde4be",
   "metadata": {},
   "source": [
    "### Diagrama de dispersión"
   ]
  },
  {
   "cell_type": "code",
   "execution_count": 65,
   "id": "fecc3ad4",
   "metadata": {},
   "outputs": [
    {
     "data": {
      "image/png": "[encoded data removed]",
      "text/plain": [
       "<Figure size 640x480 with 1 Axes>"
      ]
     },
     "metadata": {},
     "output_type": "display_data"
    }
   ],
   "source": [
    "plt.figure()\n",
    "plt.plot(datos.Na[datos.Drug==\"drugY\"], datos.K[datos.Drug==\"drugY\"], 'or')\n",
    "plt.plot(datos.Na[datos.Drug!=\"drugY\"], datos.K[datos.Drug!=\"drugY\"], 'ob')\n",
    "plt.xlabel('Na')\n",
    "plt.ylabel('K')\n",
    "plt.title('Diagrama de dispersión')\n",
    "plt.show()"
   ]
  },
  {
   "cell_type": "code",
   "execution_count": null,
   "id": "89a3cd11-7a40-4915-b0f5-5a00f238c85d",
   "metadata": {},
   "outputs": [],
   "source": []
  }
 ],
 "metadata": {
  "kernelspec": {
   "display_name": "Python 3 (ipykernel)",
   "language": "python",
   "name": "python3"
  },
  "language_info": {
   "codemirror_mode": {
    "name": "ipython",
    "version": 3
   },
   "file_extension": ".py",
   "mimetype": "text/x-python",
   "name": "python",
   "nbconvert_exporter": "python",
   "pygments_lexer": "ipython3",
   "version": "3.12.4"
  }
 },
 "nbformat": 4,
 "nbformat_minor": 5
}
